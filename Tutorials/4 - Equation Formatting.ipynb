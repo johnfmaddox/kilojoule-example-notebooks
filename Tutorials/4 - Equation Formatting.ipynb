{
 "cells": [
  {
   "cell_type": "markdown",
   "metadata": {
    "collapsed": false
   },
   "source": [
    "<span style='font-size:xx-large'>**Equation Formatting**</span>\n"
   ]
  },
  {
   "cell_type": "markdown",
   "metadata": {
    "collapsed": false
   },
   "source": [
    "Simply arriving at the correct answer for a problem is only half the battle.  You then need to be able to communicate your methods and results to a range of audiences (in this class your instructor).  This should be done following technical writing conventions with a narrative discussion of your process including properly formatted equations and sample calculations.  It is not sufficient to simply submit your code and a final numerical answer or a long list of equations without any explanation.\n",
    "\n",
    "Throughout your academic career you have learned many different conventions (shorthand) for writing down mathematical concepts, i.e. to show a variable is being raised to a power we put that power in the superscript $x^2$.  However, there is no key on your keyboard to make that 2 shrink in size and move above the variable.  You'll also notice that the $x$ was not written in the same font as the rest of the text.  It is convention for variables to be written in italics rather than normal font because it helps the reader quickly distinguish them from regular text (you probably already do this in your head without realizing it).\n",
    "\n",
    "There are a few ways to create properly formatted equations.  While the Microsoft equation editor has improved greatly in recent years, the most powerful tool is the formatting language $\\LaTeX$.  $\\LaTeX$ has been around for many decades and it was developed to represent complex mathematical expressions using plain text (just the keys on a regular keyboard).  While there is a bit of a learning curve if you choose to start using $\\LaTeX$, your efforts will pay off many times over as you will find that most scientific/mathematical software has $\\LaTeX$ support built in.  In fact, learning $\\LaTeX$ will even make you faster when you do need to use Microsoft Equation editor (in Word or PowerPoint) because it includes support for many $\\LaTeX$ symbol names.\n",
    "\n",
    "The Jupyter notebook this document is being created in has built-in $\\LaTeX$ support.  In some of the earlier examples you may have noticed special symbols in some of the output, such as $\\Delta^\\circ\\text{C}$.  Those were created using $\\LaTeX$ formatting and the special symbols in this explanation were also created using $\\LaTeX$ formatting (if you are reading this in a live notebook, double-click on this cell to see the source code written in Markdown syntax).  You can include inline math, $f(x)=5x^2-3x+2$, or you can include \"display\" math \n",
    "$$f(x) = \\int_0^\\infty\\frac{3}{2}x\\ dx$$\n",
    "\n",
    "To help you convert your calculations into technical writing format, the `kilojoule` library provides a few convenience functions in its `display` module to automate the $\\LaTeX$ creation process.  The `%%showcalc` iPython magic command will trigger a process that attempts to convert the code in the current cell to $\\LaTeX$ and show the progression of the calculations from symbolic to final numerical form.\n",
    "\n",
    "To demonstrate the use of `%%showcalc` we'll step through the evaluation and display of the function $\\psi=ax-cx^2+\\frac{b}{x}$.  We'll start by defining values for `a`, `b`, and `x`\n",
    "\n"
   ]
  },
  {
   "cell_type": "code",
   "execution_count": 1,
   "metadata": {
    "collapsed": false,
    "jupyter": {}
   },
   "outputs": [],
   "source": [
    "# load the showcalc magic library\n",
    "# Note: this step is not required if you load one of the modules from kilojoule.templates\n",
    "#       or if you import the full kilojoule library\n",
    "from kilojoule.magics import ShowCalcMagics\n",
    "from kilojoule.units import Quantity"
   ]
  },
  {
   "cell_type": "code",
   "execution_count": 3,
   "metadata": {
    "collapsed": false,
    "jupyter": {}
   },
   "outputs": [
    {
     "data": {
      "text/latex": [
       "\\begin{align}\n",
       "  a &=  3.2\\ \\mathrm{psi} \n",
       "\\end{align}\n"
      ],
      "text/plain": [
       "<IPython.core.display.Latex object>"
      ]
     },
     "execution_count": 3,
     "metadata": {},
     "output_type": "execute_result"
    },
    {
     "data": {
      "text/latex": [
       "\\begin{align}\n",
       "  b &=  1\\ \\mathrm{kPa} \n",
       "\\end{align}\n"
      ],
      "text/plain": [
       "<IPython.core.display.Latex object>"
      ]
     },
     "execution_count": 3,
     "metadata": {},
     "output_type": "execute_result"
    },
    {
     "data": {
      "text/latex": [
       "\\begin{align}\n",
       "  x &=  2 \n",
       "\\end{align}\n"
      ],
      "text/plain": [
       "<IPython.core.display.Latex object>"
      ]
     },
     "execution_count": 3,
     "metadata": {},
     "output_type": "execute_result"
    }
   ],
   "source": [
    "%%showcalc\n",
    "a = Quantity(3.2,'psi')\n",
    "b = Quantity(1,'kPa')\n",
    "x = 2"
   ]
  },
  {
   "cell_type": "markdown",
   "metadata": {
    "collapsed": false
   },
   "source": [
    "In this example, the lines defining `a`, `b`, and `x` were simple definitions involving no mathematical operations, so they are shown in simple form.  By placing the line `%%showcalc` at the beginning of the cell, we trigger a sequence where the code in the cell is parsed for strings of letters resembling equations and displays them with $\\LaTeX$ formatting.  \n",
    "\n",
    "In the next cell we will define `c` as being equal to `a`. "
   ]
  },
  {
   "cell_type": "code",
   "execution_count": 3,
   "metadata": {
    "collapsed": false,
    "jupyter": {}
   },
   "outputs": [
    {
     "data": {
      "text/latex": [
       "\\begin{align}\n",
       "  c &=  a  = 3.2\\ \\mathrm{psi} \n",
       "\\end{align}\n"
      ],
      "text/plain": [
       "<IPython.core.display.Latex object>"
      ]
     },
     "execution_count": 3,
     "metadata": {},
     "output_type": "execute_result"
    }
   ],
   "source": [
    "%%showcalc\n",
    "c = a"
   ]
  },
  {
   "cell_type": "markdown",
   "metadata": {
    "collapsed": false
   },
   "source": [
    "In this example, we see 3 terms rather than two.  This line still has no mathematical operations, but there is a train of logic where we are setting $c$ equal to $a$.  While it is important to show the numerical value of $c$ as being $3.2\\ \\mathrm{psi}$, it is also important (possibly more important) to show the process that led to $c$ having that value, so we show the symbolic form of the expression $c=a$ as well.\n",
    "\n",
    "Let's now evaluate a full equation with mathematical operations."
   ]
  },
  {
   "cell_type": "code",
   "execution_count": 4,
   "metadata": {
    "collapsed": false,
    "jupyter": {}
   },
   "outputs": [
    {
     "data": {
      "text/latex": [
       "\\begin{align}\n",
       "  \\psi &=    a  \\cdot  x  -  c  \\cdot  {x}^{2}   + \\frac{ b }{ x } \\\\\n",
       "    &=   3.2\\ \\mathrm{psi}  \\cdot   2   -  3.2\\ \\mathrm{psi}  \\cdot  { 2 }^{2}   + \\frac{ 1\\ \\mathrm{kPa} }{  2  }\\\\\n",
       "    &= -6.3275\\ \\mathrm{psi}\n",
       "\\end{align}\n"
      ],
      "text/plain": [
       "<IPython.core.display.Latex object>"
      ]
     },
     "execution_count": 4,
     "metadata": {},
     "output_type": "execute_result"
    }
   ],
   "source": [
    "%%showcalc\n",
    "psi = a*x - c*x**2 + b/x "
   ]
  },
  {
   "cell_type": "markdown",
   "metadata": {
    "collapsed": false
   },
   "source": [
    "In this example the equation is expressed in 3 lines.  The first line shows the symbolic form of the equation, which shows the reader the process or logic that is being applied.  The second line shows numerical values in place of each symbol, which shows the propagation of information from earlier calculations.  Finally the third line shows the numerical value resulting from the calculation.  *Note: this is the form you should use when writing out calculations by hand as well.*  Also, notice that the variable name `psi` was recognized as being a Greek letter and converted to the $\\LaTeX$ equivalent of `\\psi`.  This will work for most cases if you define your variable names carefully.\n",
    "\n",
    "Using the `%%showcalc` command will allow you to properly format your calculations, but you will still need to provide a narrative discussion to describe your process to the reader.  You can do this in a Jupyter notebook by interspersing `Markdown` cells like this one between your equations, or you can place your narrative in your code as strings or comments that will be shown in your output using the `--comments` flag to `%%showcalc`."
   ]
  },
  {
   "cell_type": "code",
   "execution_count": 5,
   "metadata": {
    "collapsed": false,
    "jupyter": {}
   },
   "outputs": [
    {
     "data": {
      "text/markdown": [
       "Strings that are executed without assignment will be printed in the output as `Markdown` text"
      ],
      "text/plain": [
       "<IPython.core.display.Markdown object>"
      ]
     },
     "execution_count": 5,
     "metadata": {},
     "output_type": "execute_result"
    },
    {
     "data": {
      "text/markdown": [
       " You can place comments in your code to describe your process and:"
      ],
      "text/plain": [
       "<IPython.core.display.Markdown object>"
      ]
     },
     "execution_count": 5,
     "metadata": {},
     "output_type": "execute_result"
    },
    {
     "data": {
      "text/markdown": [
       " * Show them as `Markdown` text if the `--comments` option is supplied to the `%%showcalc` command"
      ],
      "text/plain": [
       "<IPython.core.display.Markdown object>"
      ]
     },
     "execution_count": 5,
     "metadata": {},
     "output_type": "execute_result"
    },
    {
     "data": {
      "text/markdown": [
       " * or hide them in the output if the `--no-comments` option is supplied to the  `%%showcalc` command"
      ],
      "text/plain": [
       "<IPython.core.display.Markdown object>"
      ]
     },
     "execution_count": 5,
     "metadata": {},
     "output_type": "execute_result"
    },
    {
     "data": {
      "text/markdown": [
       " The comments will be processed as `Markdown` so you can apply **formatting** if desired"
      ],
      "text/plain": [
       "<IPython.core.display.Markdown object>"
      ]
     },
     "execution_count": 5,
     "metadata": {},
     "output_type": "execute_result"
    },
    {
     "data": {
      "text/markdown": [
       "For instance, let's calculate the amount of heat transfer required to decrease the temperature of air from 400 K to 300 K in a constant pressure process assuming constant specific heat.  We can start by defining some known parameters,"
      ],
      "text/plain": [
       "<IPython.core.display.Markdown object>"
      ]
     },
     "execution_count": 5,
     "metadata": {},
     "output_type": "execute_result"
    },
    {
     "data": {
      "text/latex": [
       "\\begin{align}\n",
       "  T_{1} &=  400\\ \\mathrm{K} \n",
       "\\end{align}\n"
      ],
      "text/plain": [
       "<IPython.core.display.Latex object>"
      ]
     },
     "execution_count": 5,
     "metadata": {},
     "output_type": "execute_result"
    },
    {
     "data": {
      "text/latex": [
       "\\begin{align}\n",
       "  T_{2} &=  300\\ \\mathrm{K} \n",
       "\\end{align}\n"
      ],
      "text/plain": [
       "<IPython.core.display.Latex object>"
      ]
     },
     "execution_count": 5,
     "metadata": {},
     "output_type": "execute_result"
    },
    {
     "data": {
      "text/latex": [
       "\\begin{align}\n",
       "  c_{p} &=  1.005\\ \\frac{\\mathrm{kJ}}{\\left(\\mathrm{K} \\cdot \\mathrm{kg}\\right)} \n",
       "\\end{align}\n"
      ],
      "text/plain": [
       "<IPython.core.display.Latex object>"
      ]
     },
     "execution_count": 5,
     "metadata": {},
     "output_type": "execute_result"
    },
    {
     "data": {
      "text/markdown": [
       "We can then solve the first law for $Q$ and substitute $c_p\\Delta T$ for $\\Delta h$"
      ],
      "text/plain": [
       "<IPython.core.display.Markdown object>"
      ]
     },
     "execution_count": 5,
     "metadata": {},
     "output_type": "execute_result"
    },
    {
     "data": {
      "text/latex": [
       "\\begin{align}\n",
       "  Q_{1\\to{}2} &=   c_{p}  \\cdot  \\left(  T_{2} - T_{1}  \\right)  \\\\\n",
       "    &=  1.005\\ \\frac{\\mathrm{kJ}}{\\left(\\mathrm{K} \\cdot \\mathrm{kg}\\right)}  \\cdot  \\left(  300\\ \\mathrm{K} - 400\\ \\mathrm{K}  \\right) \\\\\n",
       "    &= -100.5\\ \\frac{\\mathrm{kJ}}{\\mathrm{kg}}\n",
       "\\end{align}\n"
      ],
      "text/plain": [
       "<IPython.core.display.Latex object>"
      ]
     },
     "execution_count": 5,
     "metadata": {},
     "output_type": "execute_result"
    }
   ],
   "source": [
    "%%showcalc --comments\n",
    "\n",
    "\"Strings that are executed without assignment will be printed in the output as `Markdown` text\"\n",
    "# You can place comments in your code to describe your process and:\n",
    "# * Show them as `Markdown` text if the `--comments` option is supplied to the `%%showcalc` command\n",
    "# * or hide them in the output if the `--no-comments` option is supplied to the  `%%showcalc` command\n",
    "# The comments will be processed as `Markdown` so you can apply **formatting** if desired\n",
    "\"For instance, let's calculate the amount of heat transfer required to decrease the temperature of air from 400 K to 300 K in a constant pressure process assuming constant specific heat.  We can start by defining some known parameters,\"\n",
    "T_1 = Quantity(400,'K')\n",
    "T_2 = Quantity(300,'K')\n",
    "c_p = Quantity(1.005,'kJ/kg/K')\n",
    "\n",
    "\"We can then solve the first law for $Q$ and substitute $c_p\\Delta T$ for $\\Delta h$\"\n",
    "Q_1_to_2 = c_p*(T_2-T_1)"
   ]
  },
  {
   "cell_type": "markdown",
   "metadata": {
    "collapsed": false
   },
   "source": [
    "The `kilojoule` library also provides a quick way to show the current value of all the quantities and property tables defined in the local namespace using the `display.Summary()` class, just the quantities using `display.Quantities()`, or just the property tables using `display.QuantityTables()`"
   ]
  },
  {
   "cell_type": "code",
   "execution_count": null,
   "metadata": {
    "collapsed": false,
    "jupyter": {}
   },
   "outputs": [
    {
     "data": {
      "text/latex": [
       "\\begin{align}{ Q_{1\\to{}2} }&={ -100.5\\ \\frac{\\mathrm{kJ}}{\\mathrm{kg}} }&{ T_{1} }&={ 400\\ \\mathrm{K} }&{ T_{2} }&={ 300\\ \\mathrm{K} }&{ a }&={ 3.2\\ \\mathrm{psi} }\\\\{ b }&={ 1\\ \\mathrm{kPa} }&{ c }&={ 3.2\\ \\mathrm{psi} }&{ c_{p} }&={ 1.005\\ \\frac{\\mathrm{kJ}}{\\left(\\mathrm{K} \\cdot \\mathrm{kg}\\right)} }&{ \\psi }&={ -6.3275\\ \\mathrm{psi} }\\end{align}"
      ],
      "text/plain": [
       "<IPython.core.display.Latex object>"
      ]
     },
     "execution_count": 6,
     "metadata": {},
     "output_type": "execute_result"
    }
   ],
   "source": [
    "import kilojoule as kj\n",
    "\n",
    "kj.Summary(n_col=4);"
   ]
  }
 ],
 "metadata": {
  "kernelspec": {
   "display_name": "Python 3 (system-wide)",
   "language": "python",
   "metadata": {
    "cocalc": {
     "description": "Python 3 programming language",
     "priority": 100,
     "url": "https://www.python.org/"
    }
   },
   "name": "python3",
   "resource_dir": "/ext/jupyter/kernels/python3"
  },
  "language_info": {
   "codemirror_mode": {
    "name": "ipython",
    "version": 3
   },
   "file_extension": ".py",
   "mimetype": "text/x-python",
   "name": "python",
   "nbconvert_exporter": "python",
   "pygments_lexer": "ipython3",
   "version": "3.8.10"
  }
 },
 "nbformat": 4,
 "nbformat_minor": 4
}
