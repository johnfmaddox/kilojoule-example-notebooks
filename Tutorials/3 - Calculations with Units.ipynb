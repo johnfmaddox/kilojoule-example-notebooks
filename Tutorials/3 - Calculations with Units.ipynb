{
 "cells": [
  {
   "cell_type": "markdown",
   "metadata": {
    "collapsed": false
   },
   "source": [
    "<span style='font-size:xx-large'>**Using Units in Calculations**</span>"
   ]
  },
  {
   "cell_type": "markdown",
   "metadata": {
    "collapsed": false
   },
   "source": [
    "## Units\n",
    "The `kilojoule` library is designed to make use of dimensional \"quantities\" rather than simply doing calculations with numbers.  In engineering, all your calculations use numbers to represent physical quantities and your calculations have no meaning without connection to appropriate units.  By including the physical units as an integral part of the calculation process, we keep the physical significance of our calculation in focus and will avoid costly mistakes from unit conversion errors.  To do this we will make use of the third-party library `pint` for managing units.  By executing the code in the block before this one, you have already loaded this library in the background; it is accessible through the `units` and `Quantity` objects.\n",
    "\n",
    "We will first define a few property values, i.e. temperature and pressure"
   ]
  },
  {
   "cell_type": "code",
   "execution_count": 5,
   "metadata": {
    "collapsed": false
   },
   "outputs": [
    {
     "name": "stdout",
     "output_type": "stream",
     "text": [
      "300.0 K\n",
      "T = 300.0 K = 26.85 °C = 80.33 °F = 540.0 °R\n"
     ]
    }
   ],
   "source": [
    "from kilojoule.templates.fluids import * # <- this line loads the library that handles units\n",
    "\n",
    "# The Quantity(value,'units') notation defines a physical quantity with a magnitude associated with a type of unit\n",
    "T = Quantity(300.0,'K')\n",
    "print(T)\n",
    "print(f'T = {T} = {T.to(\"degC\")} = {T.to(\"degF\")} = {T.to(\"degR\")}')"
   ]
  },
  {
   "cell_type": "code",
   "execution_count": 6,
   "metadata": {
    "collapsed": false
   },
   "outputs": [
    {
     "name": "stdout",
     "output_type": "stream",
     "text": [
      "1.0 atm\n",
      "p = 1.0 atm = 101.33 kPa = 1.0132×10⁵ Pa = 14.696 psi = 1.0133 bar\n"
     ]
    }
   ],
   "source": [
    "p = Quantity(1.0,'atm')\n",
    "print(p)\n",
    "print(f'p = {p} = {p.to(\"kPa\")} = {p.to(\"Pa\")} = {p.to(\"psi\")} = {p.to(\"bar\")}')"
   ]
  },
  {
   "cell_type": "code",
   "execution_count": 7,
   "metadata": {
    "collapsed": false,
    "jupyter": {
    }
   },
   "outputs": [
    {
     "name": "stdout",
     "output_type": "stream",
     "text": [
      "101.33 kPa\n"
     ]
    }
   ],
   "source": [
    "p.ito('kPa')\n",
    "print(p)"
   ]
  },
  {
   "cell_type": "markdown",
   "metadata": {
    "collapsed": false
   },
   "source": [
    "We were able to access the quantities stored in the variables `T` and `p` in any unit system by using the notation `var.to(\"desired units\")`, which temporarily converts the units to the specified form, or we can permanently convert a variable to a different unit system using the notation `var.ito(\"desired units\")`. We defined temperature in metric units, then displayed it in both alternate metric and English units.  Whereas we defined pressure in English units, then displayed it in both alternate English and metric units.  This system allows us to quickly switch back and forth between unit systems as needed."
   ]
  },
  {
   "cell_type": "markdown",
   "metadata": {
    "collapsed": false
   },
   "source": [
    "## Calculations with Units"
   ]
  },
  {
   "cell_type": "markdown",
   "metadata": {
    "collapsed": false
   },
   "source": [
    "The real benefit of this system is most evident when we start performing calculations with combined units.  In the following code we will calculate the change in energy of a mass that is changing temperature, velocity, and elevation.\n",
    "\\begin{align}\\Delta E_{CV} &= m(\\Delta u + \\Delta ke + \\Delta pe) \\\\&= m\\left(u_2-u_1 + \\frac{V_2^2}{2}-\\frac{V_1^2}{2} + g(z_2-z_1)\\right)\\end{align}"
   ]
  },
  {
   "cell_type": "code",
   "execution_count": 8,
   "metadata": {
    "collapsed": false
   },
   "outputs": [
    {
     "data": {
      "text/latex": [
       "\\begin{align}{ T }&={ 300.0\\ \\mathrm{K} }&{ Vel_{1} }&={ 20.0\\ \\mathrm{mph} }&{ Vel_{2} }&={ 30.5\\ \\frac{\\mathrm{m}}{\\mathrm{s}} }\\\\{ g }&={ 9.8\\ \\frac{\\mathrm{m}}{\\mathrm{s}^{2}} }&{ m }&={ 10.0\\ \\mathrm{kg} }&{ p }&={ 101.33\\ \\mathrm{kPa} }\\\\{ u_{1} }&={ 300.0\\ \\frac{\\mathrm{kJ}}{\\mathrm{kg}} }&{ u_{2} }&={ 200.0\\ \\frac{\\mathrm{kJ}}{\\mathrm{kg}} }&{ z_{1} }&={ 1.2\\ \\mathrm{m} }\\\\{ z_{2} }&={ 30.1\\ \\mathrm{ft} }&{  }\\end{align}"
      ],
      "text/plain": [
       "<IPython.core.display.Latex object>"
      ]
     },
     "execution_count": 8,
     "metadata": {
     },
     "output_type": "execute_result"
    }
   ],
   "source": [
    "# Define variables containing quantities\n",
    "m = Quantity(10.0,'kg')       # mass: metric\n",
    "u_1 = Quantity(300.0,'kJ/kg') # internal energy: metric\n",
    "u_2 = Quantity(200.0,'kJ/kg') # internal energy: metric\n",
    "Vel_1 = Quantity(20.0,'mph')  # velocity: English\n",
    "Vel_2 = Quantity(30.5,'m/s')  # velocity: metric\n",
    "g = Quantity(9.8,'m/s^2')     # gravity: metric\n",
    "z_2 = Quantity(30.1,'ft')     # elevation: English\n",
    "z_1 = Quantity(1.2,'m')       # elevation: metric\n",
    "\n",
    "Summary();"
   ]
  },
  {
   "cell_type": "code",
   "execution_count": 9,
   "metadata": {
    "collapsed": false
   },
   "outputs": [
    {
     "data": {
      "text/markdown": [
       "Change in internal energy\n",
       "\\begin{align}\n",
       "  \\Delta{}u &=   u_{2} - u_{1}  \\\\\n",
       "    &=  200.0\\ \\frac{\\mathrm{kJ}}{\\mathrm{kg}} - 300.0\\ \\frac{\\mathrm{kJ}}{\\mathrm{kg}} \\\\\n",
       "    &= -100.0\\ \\frac{\\mathrm{kJ}}{\\mathrm{kg}}\n",
       "\\end{align}\n",
       "\n"
      ],
      "text/plain": [
       "<IPython.core.display.Markdown object>"
      ]
     },
     "execution_count": 9,
     "metadata": {
     },
     "output_type": "execute_result"
    }
   ],
   "source": [
    "%%showcalc\n",
    "\"Change in internal energy\"\n",
    "\n",
    "Delta_u = u_2-u_1"
   ]
  },
  {
   "cell_type": "code",
   "execution_count": 10,
   "metadata": {
    "collapsed": false
   },
   "outputs": [
    {
     "data": {
      "text/markdown": [
       "Change in kinetic energy\n",
       "\\begin{align}\n",
       "  \\Delta{}ke &=  \\frac{  {Vel_{2}}^{2} - {Vel_{1}}^{2}  }{ 2 } \\\\\n",
       "    &= \\frac{  {\\left(30.5\\ \\frac{\\mathrm{m}}{\\mathrm{s}} \\right)}^{2} - {\\left(20.0\\ \\mathrm{mph} \\right)}^{2}  }{ 2 }\\\\\n",
       "    &= 425.16\\ \\frac{\\mathrm{m}^{2}}{\\mathrm{s}^{2}}\n",
       "\\end{align}\n",
       "\n"
      ],
      "text/plain": [
       "<IPython.core.display.Markdown object>"
      ]
     },
     "execution_count": 10,
     "metadata": {
     },
     "output_type": "execute_result"
    }
   ],
   "source": [
    "%%showcalc\n",
    "\"Change in kinetic energy\"\n",
    "\n",
    "Delta_ke = (Vel_2**2-Vel_1**2)/2"
   ]
  },
  {
   "cell_type": "code",
   "execution_count": 11,
   "metadata": {
    "collapsed": false
   },
   "outputs": [
    {
     "data": {
      "text/markdown": [
       "Change in potential energy\n",
       "\\begin{align}\n",
       "  \\Delta{}pe &=   g  \\cdot  \\left(  z_{2} - z_{1}  \\right)  \\\\\n",
       "    &=  9.8\\ \\frac{\\mathrm{m}}{\\mathrm{s}^{2}}  \\cdot  \\left(  30.1\\ \\mathrm{ft} - 1.2\\ \\mathrm{m}  \\right) \\\\\n",
       "    &= 256.4\\ \\frac{\\mathrm{ft} \\cdot \\mathrm{m}}{\\mathrm{s}^{2}}\n",
       "\\end{align}\n",
       "\n"
      ],
      "text/plain": [
       "<IPython.core.display.Markdown object>"
      ]
     },
     "execution_count": 11,
     "metadata": {
     },
     "output_type": "execute_result"
    }
   ],
   "source": [
    "%%showcalc\n",
    "\"Change in potential energy\"\n",
    "\n",
    "Delta_pe = g*(z_2-z_1)"
   ]
  },
  {
   "cell_type": "code",
   "execution_count": 12,
   "metadata": {
    "collapsed": false,
    "jupyter": {
    }
   },
   "outputs": [
    {
     "data": {
      "text/markdown": [
       "Change in energy of the control volume\n",
       "\\begin{align}\n",
       "  \\Delta{}E_{CV} &=   m  \\cdot  \\left(  u_{2} - u_{1}  + \\frac{  {Vel_{2}}^{2} - {Vel_{1}}^{2}  }{ 2 } +  g  \\cdot  \\left(  z_{2} - z_{1}  \\right)  \\right)  \\\\\n",
       "    &=  10.0\\ \\mathrm{kg}  \\cdot  \\left(  200.0\\ \\frac{\\mathrm{kJ}}{\\mathrm{kg}} - 300.0\\ \\frac{\\mathrm{kJ}}{\\mathrm{kg}}  + \\frac{  {\\left(30.5\\ \\frac{\\mathrm{m}}{\\mathrm{s}} \\right)}^{2} - {\\left(20.0\\ \\mathrm{mph} \\right)}^{2}  }{ 2 } +  9.8\\ \\frac{\\mathrm{m}}{\\mathrm{s}^{2}}  \\cdot  \\left(  30.1\\ \\mathrm{ft} - 1.2\\ \\mathrm{m}  \\right)  \\right) \\\\\n",
       "    &= -994.97\\ \\mathrm{kJ}\n",
       "\\end{align}\n",
       "\n"
      ],
      "text/plain": [
       "<IPython.core.display.Markdown object>"
      ]
     },
     "execution_count": 12,
     "metadata": {
     },
     "output_type": "execute_result"
    }
   ],
   "source": [
    "%%showcalc\n",
    "\"Change in energy of the control volume\"\n",
    "\n",
    "Delta_E_CV = m*(u_2-u_1 + (Vel_2**2-Vel_1**2)/2 + g*(z_2-z_1))"
   ]
  },
  {
   "cell_type": "markdown",
   "metadata": {
    "collapsed": false
   },
   "source": [
    "Notice that in the above example, the units for each of the terms were in different systems until they were combined.  "
   ]
  },
  {
   "cell_type": "markdown",
   "metadata": {
    "collapsed": false
   },
   "source": [
    "## Propagation of Uncertainty\n",
    "\n",
    "[Measurement](https://pint.readthedocs.io/en/stable/advanced/measurement.html?highlight=uncertainty) uncertainty can be [propagated](https://en.wikipedia.org/wiki/Propagation_of_uncertainty) through linear calculations.  Consider the example shown above, except the initial velocity and final elevation aren't know exactly.\n",
    "\n"
   ]
  },
  {
   "cell_type": "code",
   "execution_count": 13,
   "metadata": {
    "collapsed": false
   },
   "outputs": [
    {
     "data": {
      "text/markdown": [
       "Set initial velocity uncertainty to have an uncertainty of $\\pm 2.5\\ \\mathrm{mph}$\n",
       "\\begin{align}\n",
       "  Vel_{1} &=  \\left( 20.0 \\pm 2.5 \\right)\\ \\mathrm{mph} \n",
       "\\end{align}\n",
       "\n"
      ],
      "text/plain": [
       "<IPython.core.display.Markdown object>"
      ]
     },
     "execution_count": 13,
     "metadata": {
     },
     "output_type": "execute_result"
    }
   ],
   "source": [
    "%%showcalc\n",
    "\"Set initial velocity uncertainty to have an uncertainty of $\\pm 2.5\\ \\mathrm{mph}$\"\n",
    "\n",
    "Vel_1 = Quantity(20.0,'mph').plus_minus(2.5)"
   ]
  },
  {
   "cell_type": "code",
   "execution_count": 14,
   "metadata": {
    "collapsed": false
   },
   "outputs": [
    {
     "data": {
      "text/markdown": [
       "Set final elevation to have an uncertainty of $\\pm 2.5\\%$ of the measured value\n",
       "\\begin{align}\n",
       "  z_{2} &=  \\left( 30.1 \\pm 2.5\\% \\right)\\ \\mathrm{ft}  = \\left(30.1 \\pm 0.8\\right)\\ \\mathrm{ft} \n",
       "\\end{align}\n",
       "\n"
      ],
      "text/plain": [
       "<IPython.core.display.Markdown object>"
      ]
     },
     "execution_count": 14,
     "metadata": {
     },
     "output_type": "execute_result"
    }
   ],
   "source": [
    "%%showcalc\n",
    "\"Set final elevation to have an uncertainty of $\\pm 2.5\\%$ of the measured value\"\n",
    "\n",
    "z_2 = Quantity(30.1,'ft').plus_minus(0.025, relative=True)"
   ]
  },
  {
   "cell_type": "code",
   "execution_count": 15,
   "metadata": {
    "collapsed": false
   },
   "outputs": [
    {
     "data": {
      "text/markdown": [
       "Change in energy of the control volume\n",
       "\\begin{align}\n",
       "  \\Delta{}E_{CV} &=   m  \\cdot  \\left(  u_{2} - u_{1}  + \\frac{  {Vel_{2}}^{2} - {Vel_{1}}^{2}  }{ 2 } +  g  \\cdot  \\left(  z_{2} - z_{1}  \\right)  \\right)  \\\\\n",
       "    &=  10.0\\ \\mathrm{kg}  \\cdot  \\left(  200.0\\ \\frac{\\mathrm{kJ}}{\\mathrm{kg}} - 300.0\\ \\frac{\\mathrm{kJ}}{\\mathrm{kg}}  + \\frac{  {\\left(30.5\\ \\frac{\\mathrm{m}}{\\mathrm{s}} \\right)}^{2} - {\\left(\\left(20.0 \\pm 2.5\\right)\\ \\mathrm{mph} \\right)}^{2}  }{ 2 } +  9.8\\ \\frac{\\mathrm{m}}{\\mathrm{s}^{2}}  \\cdot  \\left(  \\left(30.1 \\pm 0.8\\right)\\ \\mathrm{ft} - 1.2\\ \\mathrm{m}  \\right)  \\right) \\\\\n",
       "    &= -994.97+/-0.10\\ \\mathrm{kJ}\n",
       "\\end{align}\n",
       "\n"
      ],
      "text/plain": [
       "<IPython.core.display.Markdown object>"
      ]
     },
     "execution_count": 15,
     "metadata": {
     },
     "output_type": "execute_result"
    }
   ],
   "source": [
    "%%showcalc\n",
    "\"Change in energy of the control volume\"\n",
    "\n",
    "Delta_E_CV = m*(u_2-u_1 + (Vel_2**2-Vel_1**2)/2 + g*(z_2-z_1))"
   ]
  },
  {
   "cell_type": "markdown",
   "metadata": {
    "collapsed": false
   },
   "source": [
    "## Calculations with Temperatures\n",
    "\n",
    "Additional details [here](https://pint.readthedocs.io/en/stable/user/nonmult.html?highlight=temperature)\n",
    "\n",
    "Temperatures are support for both Metric and USCS units: $\\mathrm{K}$, $^\\circ\\mathrm{C}$, $^\\circ\\mathrm{R}$, $^\\circ\\mathrm{F}$,"
   ]
  },
  {
   "cell_type": "code",
   "execution_count": 16,
   "metadata": {
    "collapsed": false
   },
   "outputs": [
    {
     "data": {
      "text/markdown": [
       "\\begin{align}\n",
       "  T_{1} &=  300\\ \\mathrm{K} \n",
       "\\end{align}\n",
       "\n",
       "\\begin{align}\n",
       "  T_{2} &=  20\\ \\mathrm{°C} \n",
       "\\end{align}\n",
       "\n",
       "\\begin{align}\n",
       "  T_{3} &=  75\\ \\mathrm{°F} \n",
       "\\end{align}\n",
       "\n",
       "\\begin{align}\n",
       "  T_{4} &=  600\\ \\mathrm{°R} \n",
       "\\end{align}\n",
       "\n"
      ],
      "text/plain": [
       "<IPython.core.display.Markdown object>"
      ]
     },
     "execution_count": 16,
     "metadata": {
     },
     "output_type": "execute_result"
    }
   ],
   "source": [
    "%%showcalc\n",
    "\n",
    "T_1 = Quantity(300,'K')\n",
    "T_2 = Quantity(20,'degC')\n",
    "T_3 = Quantity(75,'degF')\n",
    "T_4 = Quantity(600,'degR')"
   ]
  },
  {
   "cell_type": "markdown",
   "metadata": {
    "collapsed": false
   },
   "source": [
    "Because $^\\circ\\mathrm{C}$ and $^\\circ\\mathrm{F}$ use relative temperature scales (rather than absolute), we often need to convert them to absolute scales when performing calculations.  For instance, if you were to see the following expression\n",
    "\\begin{equation}\n",
    "\t300\\ \\mathrm{K} + 20\\ ^\\circ\\mathrm{C}\n",
    "\\end{equation}\n",
    "you would know that you need to convert the two numbers to consistent units, but it is unclear whether you should convert $20\\ ^\\circ\\mathrm{C}$ to $293.15\\ \\mathrm{K}$ before the addition or treat $20\\ ^\\circ\\mathrm{C}$ as a temperature difference.\n",
    "\\begin{gather}\n",
    "\t\t300\\ \\mathrm{K} + (20+273.15)\\ \\mathrm{K}=593.15\\ \\mathrm{K}\\ ?\\\\\n",
    "        \\mathrm{or}\\\\\n",
    "        300\\ \\mathrm{K} + 20\\ \\Delta^\\circ\\mathrm{C}=320\\ \\mathrm{K}\\ ?\n",
    "\\end{gather}\n",
    "Therefore, if you try to perform this operation, it will raise an `OffsetUnitCalculusError` becasue of the ambiguous unit description."
   ]
  },
  {
   "cell_type": "code",
   "execution_count": 17,
   "metadata": {
    "collapsed": false
   },
   "outputs": [
    {
     "ename": "OffsetUnitCalculusError",
     "evalue": "Ambiguous operation with offset unit (kelvin, degree_Celsius). See https://pint.readthedocs.io/en/latest/nonmult.html for guidance.",
     "output_type": "error",
     "traceback": [
      "\u001b[0;31m---------------------------------------------------------------------------\u001b[0m",
      "\u001b[0;31mOffsetUnitCalculusError\u001b[0m                   Traceback (most recent call last)",
      "\u001b[0;32m/tmp/ipykernel_228/3951861130.py\u001b[0m in \u001b[0;36m<cell line: 1>\u001b[0;34m()\u001b[0m\n\u001b[0;32m----> 1\u001b[0;31m \u001b[0mT_1\u001b[0m \u001b[0;34m+\u001b[0m \u001b[0mT_2\u001b[0m\u001b[0;34m\u001b[0m\u001b[0;34m\u001b[0m\u001b[0m\n\u001b[0m",
      "\u001b[0;32m~/.local/lib/python3.10/site-packages/pint/facets/plain/quantity.py\u001b[0m in \u001b[0;36m__add__\u001b[0;34m(self, other)\u001b[0m\n\u001b[1;32m    958\u001b[0m             \u001b[0;32mreturn\u001b[0m \u001b[0mself\u001b[0m\u001b[0;34m.\u001b[0m\u001b[0mto_timedelta\u001b[0m\u001b[0;34m(\u001b[0m\u001b[0;34m)\u001b[0m \u001b[0;34m+\u001b[0m \u001b[0mother\u001b[0m\u001b[0;34m\u001b[0m\u001b[0;34m\u001b[0m\u001b[0m\n\u001b[1;32m    959\u001b[0m         \u001b[0;32melse\u001b[0m\u001b[0;34m:\u001b[0m\u001b[0;34m\u001b[0m\u001b[0;34m\u001b[0m\u001b[0m\n\u001b[0;32m--> 960\u001b[0;31m             \u001b[0;32mreturn\u001b[0m \u001b[0mself\u001b[0m\u001b[0;34m.\u001b[0m\u001b[0m_add_sub\u001b[0m\u001b[0;34m(\u001b[0m\u001b[0mother\u001b[0m\u001b[0;34m,\u001b[0m \u001b[0moperator\u001b[0m\u001b[0;34m.\u001b[0m\u001b[0madd\u001b[0m\u001b[0;34m)\u001b[0m\u001b[0;34m\u001b[0m\u001b[0;34m\u001b[0m\u001b[0m\n\u001b[0m\u001b[1;32m    961\u001b[0m \u001b[0;34m\u001b[0m\u001b[0m\n\u001b[1;32m    962\u001b[0m     \u001b[0m__radd__\u001b[0m \u001b[0;34m=\u001b[0m \u001b[0m__add__\u001b[0m\u001b[0;34m\u001b[0m\u001b[0;34m\u001b[0m\u001b[0m\n",
      "\u001b[0;32m~/.local/lib/python3.10/site-packages/pint/facets/plain/quantity.py\u001b[0m in \u001b[0;36mwrapped\u001b[0;34m(self, *args, **kwargs)\u001b[0m\n\u001b[1;32m    100\u001b[0m         \u001b[0;32melif\u001b[0m \u001b[0misinstance\u001b[0m\u001b[0;34m(\u001b[0m\u001b[0mother\u001b[0m\u001b[0;34m,\u001b[0m \u001b[0mlist\u001b[0m\u001b[0;34m)\u001b[0m \u001b[0;32mand\u001b[0m \u001b[0mother\u001b[0m \u001b[0;32mand\u001b[0m \u001b[0misinstance\u001b[0m\u001b[0;34m(\u001b[0m\u001b[0mother\u001b[0m\u001b[0;34m[\u001b[0m\u001b[0;36m0\u001b[0m\u001b[0;34m]\u001b[0m\u001b[0;34m,\u001b[0m \u001b[0mtype\u001b[0m\u001b[0;34m(\u001b[0m\u001b[0mself\u001b[0m\u001b[0;34m)\u001b[0m\u001b[0;34m)\u001b[0m\u001b[0;34m:\u001b[0m\u001b[0;34m\u001b[0m\u001b[0;34m\u001b[0m\u001b[0m\n\u001b[1;32m    101\u001b[0m             \u001b[0;32mreturn\u001b[0m \u001b[0mNotImplemented\u001b[0m\u001b[0;34m\u001b[0m\u001b[0;34m\u001b[0m\u001b[0m\n\u001b[0;32m--> 102\u001b[0;31m         \u001b[0;32mreturn\u001b[0m \u001b[0mf\u001b[0m\u001b[0;34m(\u001b[0m\u001b[0mself\u001b[0m\u001b[0;34m,\u001b[0m \u001b[0;34m*\u001b[0m\u001b[0margs\u001b[0m\u001b[0;34m,\u001b[0m \u001b[0;34m**\u001b[0m\u001b[0mkwargs\u001b[0m\u001b[0;34m)\u001b[0m\u001b[0;34m\u001b[0m\u001b[0;34m\u001b[0m\u001b[0m\n\u001b[0m\u001b[1;32m    103\u001b[0m \u001b[0;34m\u001b[0m\u001b[0m\n\u001b[1;32m    104\u001b[0m     \u001b[0;32mreturn\u001b[0m \u001b[0mwrapped\u001b[0m\u001b[0;34m\u001b[0m\u001b[0;34m\u001b[0m\u001b[0m\n",
      "\u001b[0;32m~/.local/lib/python3.10/site-packages/pint/facets/plain/quantity.py\u001b[0m in \u001b[0;36m_add_sub\u001b[0;34m(self, other, op)\u001b[0m\n\u001b[1;32m    934\u001b[0m             \u001b[0munits\u001b[0m \u001b[0;34m=\u001b[0m \u001b[0mother\u001b[0m\u001b[0;34m.\u001b[0m\u001b[0m_units\u001b[0m\u001b[0;34m\u001b[0m\u001b[0;34m\u001b[0m\u001b[0m\n\u001b[1;32m    935\u001b[0m         \u001b[0;32melse\u001b[0m\u001b[0;34m:\u001b[0m\u001b[0;34m\u001b[0m\u001b[0;34m\u001b[0m\u001b[0m\n\u001b[0;32m--> 936\u001b[0;31m             \u001b[0;32mraise\u001b[0m \u001b[0mOffsetUnitCalculusError\u001b[0m\u001b[0;34m(\u001b[0m\u001b[0mself\u001b[0m\u001b[0;34m.\u001b[0m\u001b[0m_units\u001b[0m\u001b[0;34m,\u001b[0m \u001b[0mother\u001b[0m\u001b[0;34m.\u001b[0m\u001b[0m_units\u001b[0m\u001b[0;34m)\u001b[0m\u001b[0;34m\u001b[0m\u001b[0;34m\u001b[0m\u001b[0m\n\u001b[0m\u001b[1;32m    937\u001b[0m \u001b[0;34m\u001b[0m\u001b[0m\n\u001b[1;32m    938\u001b[0m         \u001b[0;32mreturn\u001b[0m \u001b[0mself\u001b[0m\u001b[0;34m.\u001b[0m\u001b[0m__class__\u001b[0m\u001b[0;34m(\u001b[0m\u001b[0mmagnitude\u001b[0m\u001b[0;34m,\u001b[0m \u001b[0munits\u001b[0m\u001b[0;34m)\u001b[0m\u001b[0;34m\u001b[0m\u001b[0;34m\u001b[0m\u001b[0m\n",
      "\u001b[0;31mOffsetUnitCalculusError\u001b[0m: Ambiguous operation with offset unit (kelvin, degree_Celsius). See https://pint.readthedocs.io/en/latest/nonmult.html for guidance."
     ]
    }
   ],
   "source": [
    "T_1 + T_2"
   ]
  },
  {
   "cell_type": "markdown",
   "metadata": {
    "collapsed": false
   },
   "source": [
    "To work around this, you can convert the relative temperature value to an absolute temperature or you can define it as a temperature difference"
   ]
  },
  {
   "cell_type": "code",
   "execution_count": 18,
   "metadata": {
    "collapsed": false
   },
   "outputs": [
    {
     "data": {
      "text/markdown": [
       "\\begin{align}\n",
       "  T_{5} &=  T_{2}  = 20\\ \\mathrm{°C} = 293.15\\ \\mathrm{K}\n",
       "\\end{align}\n",
       "\n",
       "\\begin{align}\n",
       "  T_{6} &=  T_{1} + T_{5} \\\\\n",
       "    &= 300\\ \\mathrm{K} + 293.15\\ \\mathrm{K}\\\\\n",
       "    &= 593.15\\ \\mathrm{K}\n",
       "\\end{align}\n",
       "\n"
      ],
      "text/plain": [
       "<IPython.core.display.Markdown object>"
      ]
     },
     "execution_count": 18,
     "metadata": {
     },
     "output_type": "execute_result"
    }
   ],
   "source": [
    "%%showcalc\n",
    "\n",
    "T_5 = T_2.to('K')\n",
    "T_6 = T_1 + T_5"
   ]
  },
  {
   "cell_type": "code",
   "execution_count": 19,
   "metadata": {
    "collapsed": false
   },
   "outputs": [
    {
     "data": {
      "text/markdown": [
       "\\begin{align}\n",
       "  T_{7} &=  20\\ \\mathrm{Δ°C} \n",
       "\\end{align}\n",
       "\n",
       "\\begin{align}\n",
       "  T_{8} &=  T_{1} + T_{7} \\\\\n",
       "    &= 300\\ \\mathrm{K} + 20\\ \\mathrm{Δ°C}\\\\\n",
       "    &= 320\\ \\mathrm{K}\n",
       "\\end{align}\n",
       "\n"
      ],
      "text/plain": [
       "<IPython.core.display.Markdown object>"
      ]
     },
     "execution_count": 19,
     "metadata": {
     },
     "output_type": "execute_result"
    }
   ],
   "source": [
    "%%showcalc\n",
    "\n",
    "T_7 = Quantity(20,'delta_degC')\n",
    "T_8 = T_1 + T_7"
   ]
  },
  {
   "cell_type": "code",
   "execution_count": 0,
   "metadata": {
    "collapsed": false
   },
   "outputs": [
   ],
   "source": [
   ]
  }
 ],
 "metadata": {
  "kernelspec": {
   "argv": [
    "/usr/bin/python3",
    "-m",
    "ipykernel",
    "--HistoryManager.enabled=False",
    "--matplotlib=inline",
    "-c",
    "%config InlineBackend.figure_formats = set(['retina'])\nimport matplotlib; matplotlib.rcParams['figure.figsize'] = (12, 7)",
    "-f",
    "{connection_file}"
   ],
   "display_name": "Python 3 (system-wide)",
   "env": {
   },
   "language": "python",
   "metadata": {
    "cocalc": {
     "description": "Python 3 programming language",
     "priority": 100,
     "url": "https://www.python.org/"
    }
   },
   "name": "python3",
   "resource_dir": "/ext/jupyter/kernels/python3"
  },
  "language_info": {
   "codemirror_mode": {
    "name": "ipython",
    "version": 3
   },
   "file_extension": ".py",
   "mimetype": "text/x-python",
   "name": "python",
   "nbconvert_exporter": "python",
   "pygments_lexer": "ipython3",
   "version": "3.10.12"
  }
 },
 "nbformat": 4,
 "nbformat_minor": 4
}