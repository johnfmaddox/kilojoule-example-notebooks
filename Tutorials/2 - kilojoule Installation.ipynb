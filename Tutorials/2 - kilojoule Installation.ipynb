{
 "cells": [
  {
   "cell_type": "markdown",
   "metadata": {
    "collapsed": false
   },
   "source": [
    "# kiloJoule Library\n",
    "`kilojoule` is a python library to simplify for use in thermal/fluid calculations.  The main advantage to this approach is the nomenclature for the functions you will be using in Python will be consistent with the nomenclature from your textbook. \n",
    "\n",
    "Prior to using this library, it needs to be installed to a location where the Python interpreter can find it.  If you are using CoClac, this will have already been done for you.  If you are using a local installation of Python you can install the library from the Python Package Index (PyPi) using the command \n",
    "\n",
    "\tpip install kilojoule\n",
    "\n",
    "\n",
    "For the following command to work, you will need to have `git` installed on your computer.  If you are using the Anaconda python distribution, you can install `git` in the `Anaconda Prompt` with \n",
    "> conda install git\n",
    "\n",
    "\tpip install git+http://github.com/johnfmaddox/kilojoule.git\n",
    "\n",
    "or to install the **development** version:\n",
    "\n",
    "\tpip install git+http://github.com/johnfmaddox/kilojoule.git@devel\n",
    "\n",
    "The **development** version is under continuous development and does not have formal releases. You can update to the most recent development version with\n",
    "    pip install --force-reinstall --no-deps git+https://github.com/johnfmaddox/kilojoule@devel\n",
    "\n",
    "After installing the library, you will need to import it into each notebook where you intend to use it.  If you are referring back to this document and want a quick import template for starting a new file, you can use the following code. "
   ]
  },
  {
   "cell_type": "code",
   "execution_count": 1,
   "metadata": {
    "collapsed": false,
    "jupyter": {}
   },
   "outputs": [],
   "source": [
    "from kilojoule import *\n",
    "\n",
    "# Initialize an interface to evaluate fluid properties\n",
    "# You can create multiple interfaces to differenct fluids as long as they are stored in different variables\n",
    "air = idealgas.Properties('Air') # Treat air as an ideal gas\n",
    "water = realfluid.Properties('Water') # Treat water as a real fluid"
   ]
  }
 ],
 "metadata": {
  "kernelspec": {
   "argv": [
    "/usr/bin/python3",
    "-m",
    "ipykernel",
    "--HistoryManager.enabled=False",
    "--matplotlib=inline",
    "-c",
    "%config InlineBackend.figure_formats = set(['retina'])\nimport matplotlib; matplotlib.rcParams['figure.figsize'] = (12, 7)",
    "-f",
    "{connection_file}"
   ],
   "display_name": "Python 3 (system-wide)",
   "env": {},
   "language": "python",
   "metadata": {
    "cocalc": {
     "description": "Python 3 programming language",
     "priority": 100,
     "url": "https://www.python.org/"
    }
   },
   "name": "python3",
   "resource_dir": "/ext/jupyter/kernels/python3"
  },
  "language_info": {
   "codemirror_mode": {
    "name": "ipython",
    "version": 3
   },
   "file_extension": ".py",
   "mimetype": "text/x-python",
   "name": "python",
   "nbconvert_exporter": "python",
   "pygments_lexer": "ipython3",
   "version": "3.10.12"
  }
 },
 "nbformat": 4,
 "nbformat_minor": 4
}
