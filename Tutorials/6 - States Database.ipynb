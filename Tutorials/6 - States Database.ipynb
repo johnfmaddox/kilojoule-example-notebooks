{
 "cells": [
  {
   "cell_type": "markdown",
   "metadata": {
    "collapsed": false
   },
   "source": [
    "<span style='font-size:xx-large'>**States Database**</span>\n"
   ]
  },
  {
   "cell_type": "markdown",
   "metadata": {
    "collapsed": false
   },
   "source": [
    "Many of the thermal/fluid systems we analyze will have many states with multiple properties of interest at each state.  Keeping track of these states and properties in a consistent, organized manner will make your code cleaner and easier to maintain.  To aid in this, the `kilojoule` library provides a data structure designed specifically for this purpose.  The `QuantityTable` behaves similarly to a nested Python dictionary.  You can view the data structure as a table with columns representing properties and rows representing states.  Each property column has a defined unit that will apply to all it's values, i.e. all temperatures stored in $^\\circ\\text{C}$.  We first need to import the `QuantityTable` class from the `kilojoule.organization` module. *(Note: you will not need to perform this step for most cases if you use one of the predefined templates.)*"
   ]
  },
  {
   "cell_type": "code",
   "execution_count": 5,
   "metadata": {
    "collapsed": false,
    "jupyter": {
    }
   },
   "outputs": [
   ],
   "source": [
    "from kilojoule.organization import QuantityTable"
   ]
  },
  {
   "cell_type": "markdown",
   "metadata": {
    "collapsed": false
   },
   "source": [
    "We can now initialize our states database (`QuantityTable(...)`) and store it in a variable where we can easily access it (`states = ...`).  There are a few ways to fill out the table columns with properties and units, but the most straight forward way is to make a dictionary with the desired properties as keys associated with the appropriate units (`properties_dict = {'property symbol':'units', ...}`).  Note: a few templates, provide pre-built tables for common variables used in this different courses to make this process easier. *(Note: again, you will not need to perform this step for most cases if you use one of the predefined templates.)*"
   ]
  },
  {
   "cell_type": "code",
   "execution_count": 6,
   "metadata": {
    "collapsed": false,
    "jupyter": {
    }
   },
   "outputs": [
    {
     "name": "stdout",
     "output_type": "stream",
     "text": [
      "Empty DataFrame\n",
      "Columns: []\n",
      "Index: []\n"
     ]
    }
   ],
   "source": [
    "# Make a dictionary with the types of properties you want to track and units for each property\n",
    "properties_dict = {\n",
    "    'T':'degC',         # Temperature: unit options ('K','degC','degF','degR')\n",
    "    'p':'kPa',          # pressure: unit options ('kPa','bar','psi','atm',etc.)\n",
    "    'v':'m^3/kg',       # specific volume\n",
    "    'u':'kJ/kg',        # specific internal energy\n",
    "    'h':'kJ/kg',        # specific enthalpy\n",
    "    's':'kJ/kg/K',      # specific entropy\n",
    "    'x':'',             # quality: dimensionless units enter as an empty string\n",
    "}\n",
    "\n",
    "# Make a database to hold the property values for each state and store in the variable name `states`\n",
    "states = QuantityTable(properties=properties_dict)\n",
    "\n",
    "# The states container is initially empty\n",
    "print(states)"
   ]
  },
  {
   "cell_type": "markdown",
   "metadata": {
    "collapsed": false
   },
   "source": [
    "The table will initially be empty, be we can add property values for different states to it on the fly.  Recall that we defined preferred units for each of the property columns.  In the example below we will define some temperatures and pressures in consistent units, inconsistent units, and with missing units."
   ]
  },
  {
   "cell_type": "code",
   "execution_count": 7,
   "metadata": {
    "collapsed": false,
    "jupyter": {
    }
   },
   "outputs": [
    {
     "name": "stdout",
     "output_type": "stream",
     "text": [
      "       T        p\n",
      "1   30.0        -\n",
      "2      -  101.325\n",
      "3  100.0    200.0\n"
     ]
    }
   ],
   "source": [
    "states[1,'T'] = Quantity(30,'degC') # consistent units\n",
    "states[2,'p'] = Quantity(1,'atm')   # inconsistent units (will be converted kPa)\n",
    "states[3,'T'] = 100                 # missing units (assumed to be degC)\n",
    "states[3,'p'] = 200                 # missing units (assumed to be kPa)\n",
    "\n",
    "print(states)"
   ]
  },
  {
   "cell_type": "markdown",
   "metadata": {
    "collapsed": false
   },
   "source": [
    "Notice that we originally defined the temperature column to have units of $^\\circ\\text{C}$, then we explicitly defined a temperature quantity with units of $^\\circ\\text{C}$ and placed it in state 1 in the temperature column (`states[state, property] = value`).  We then defined a pressure for state 2, but we used an inconsistent unit, i.e. we defined it in $\\text{atm}$ when the column expected $\\text{kPa}$.  When we view the contents of the states database (`print(states)`) we see that the pressure value at state 2 was automatically converted to $\\text{kPa}$.  Finally we defined a temperature and pressure for state 3 without explicitly stating the units.  When this happens, it will be assumed that the values are already in the preferred units.  While this makes the syntax shorter, it is not a good practice since changes in other parts of the code could have unexpected consequences."
   ]
  },
  {
   "cell_type": "markdown",
   "metadata": {
    "collapsed": false
   },
   "source": [
    "An alternate (shorter) syntax for working with the values in the table can be enabled by assigning each column in the table to a variable in the local namespace.  After executing the code below, we will be able to set the quality at state 2 to 50% with the code `x[2] = 0.5` rather than needing to type `states[1,'x'] = 0.5`. Note: this step will also be performed for you if you import one of the pre-built templates."
   ]
  },
  {
   "cell_type": "code",
   "execution_count": 8,
   "metadata": {
    "collapsed": false,
    "scrolled": true
   },
   "outputs": [
    {
     "name": "stdout",
     "output_type": "stream",
     "text": [
      "           T        p    x\n",
      "1       30.0        -    -\n",
      "2          -  101.325  0.5\n",
      "3      100.0    200.0    -\n",
      "inlet   25.0        -    -\n"
     ]
    }
   ],
   "source": [
    "# The following lines will define (overwrite) convenience variables in the local name space for each of the properties in the states container\n",
    "# This allows you to add values to (or pull values from) the database using the nomenclature T[1], T[2], p[3], etc.\n",
    "for property in states.properties:\n",
    "    globals()[property] = states.dict[property]\n",
    "\n",
    "x[2] = 0.5\n",
    "T['inlet'] = Quantity(25,'degC')\n",
    "print(states)"
   ]
  },
  {
   "cell_type": "markdown",
   "metadata": {
    "collapsed": false
   },
   "source": [
    "The preferred units for each property column can be changed at any time using the `.set_units()` method and all values in that column will be automatically converted to the new units"
   ]
  },
  {
   "cell_type": "code",
   "execution_count": 9,
   "metadata": {
    "collapsed": false,
    "jupyter": {
    }
   },
   "outputs": [
    {
     "data": {
      "text/html": [
       "<table border=\"1\" class=\"dataframe\">\n",
       "  <thead>\n",
       "    <tr style=\"text-align: right;\">\n",
       "      <th></th>\n",
       "      <th>$T$ [°F]</th>\n",
       "      <th>$p$ [psi]</th>\n",
       "      <th>$x$ []</th>\n",
       "    </tr>\n",
       "  </thead>\n",
       "  <tbody>\n",
       "    <tr>\n",
       "      <th>1</th>\n",
       "      <td>86.0</td>\n",
       "      <td>-</td>\n",
       "      <td>-</td>\n",
       "    </tr>\n",
       "    <tr>\n",
       "      <th>2</th>\n",
       "      <td>-</td>\n",
       "      <td>14.695949</td>\n",
       "      <td>0.5</td>\n",
       "    </tr>\n",
       "    <tr>\n",
       "      <th>3</th>\n",
       "      <td>212.0</td>\n",
       "      <td>29.007548</td>\n",
       "      <td>-</td>\n",
       "    </tr>\n",
       "    <tr>\n",
       "      <th>inlet</th>\n",
       "      <td>77.0</td>\n",
       "      <td>-</td>\n",
       "      <td>-</td>\n",
       "    </tr>\n",
       "  </tbody>\n",
       "</table>"
      ],
      "text/plain": [
       "<IPython.core.display.HTML object>"
      ]
     },
     "execution_count": 9,
     "metadata": {
     },
     "output_type": "execute_result"
    },
    {
     "data": {
      "text/html": [
       "<table border=\"1\" class=\"dataframe\">\n",
       "  <thead>\n",
       "    <tr style=\"text-align: right;\">\n",
       "      <th></th>\n",
       "      <th>$T$ [K]</th>\n",
       "      <th>$p$ [Pa]</th>\n",
       "      <th>$x$ []</th>\n",
       "    </tr>\n",
       "  </thead>\n",
       "  <tbody>\n",
       "    <tr>\n",
       "      <th>1</th>\n",
       "      <td>303.15</td>\n",
       "      <td>-</td>\n",
       "      <td>-</td>\n",
       "    </tr>\n",
       "    <tr>\n",
       "      <th>2</th>\n",
       "      <td>-</td>\n",
       "      <td>101325.0</td>\n",
       "      <td>0.5</td>\n",
       "    </tr>\n",
       "    <tr>\n",
       "      <th>3</th>\n",
       "      <td>373.15</td>\n",
       "      <td>200000.0</td>\n",
       "      <td>-</td>\n",
       "    </tr>\n",
       "    <tr>\n",
       "      <th>inlet</th>\n",
       "      <td>298.15</td>\n",
       "      <td>-</td>\n",
       "      <td>-</td>\n",
       "    </tr>\n",
       "  </tbody>\n",
       "</table>"
      ],
      "text/plain": [
       "<IPython.core.display.HTML object>"
      ]
     },
     "execution_count": 9,
     "metadata": {
     },
     "output_type": "execute_result"
    },
    {
     "data": {
      "text/html": [
       "<table border=\"1\" class=\"dataframe\">\n",
       "  <thead>\n",
       "    <tr style=\"text-align: right;\">\n",
       "      <th></th>\n",
       "      <th>$T$ [°C]</th>\n",
       "      <th>$p$ [kPa]</th>\n",
       "      <th>$x$ []</th>\n",
       "    </tr>\n",
       "  </thead>\n",
       "  <tbody>\n",
       "    <tr>\n",
       "      <th>1</th>\n",
       "      <td>30.0</td>\n",
       "      <td>-</td>\n",
       "      <td>-</td>\n",
       "    </tr>\n",
       "    <tr>\n",
       "      <th>2</th>\n",
       "      <td>-</td>\n",
       "      <td>101.325</td>\n",
       "      <td>0.5</td>\n",
       "    </tr>\n",
       "    <tr>\n",
       "      <th>3</th>\n",
       "      <td>100.0</td>\n",
       "      <td>200.0</td>\n",
       "      <td>-</td>\n",
       "    </tr>\n",
       "    <tr>\n",
       "      <th>inlet</th>\n",
       "      <td>25.0</td>\n",
       "      <td>-</td>\n",
       "      <td>-</td>\n",
       "    </tr>\n",
       "  </tbody>\n",
       "</table>"
      ],
      "text/plain": [
       "<IPython.core.display.HTML object>"
      ]
     },
     "execution_count": 9,
     "metadata": {
     },
     "output_type": "execute_result"
    }
   ],
   "source": [
    "T.set_units('degF')\n",
    "p.set_units('psi')\n",
    "states.display()\n",
    "\n",
    "T.set_units('K')\n",
    "p.set_units('Pa')\n",
    "states.display()\n",
    "\n",
    "T.set_units('degC')\n",
    "p.set_units('kPa')\n",
    "states.display()"
   ]
  }
 ],
 "metadata": {
  "kernelspec": {
   "display_name": "Python 3 (system-wide)",
   "language": "python",
   "metadata": {
    "cocalc": {
     "description": "Python 3 programming language",
     "priority": 100,
     "url": "https://www.python.org/"
    }
   },
   "name": "python3",
   "resource_dir": "/ext/jupyter/kernels/python3"
  },
  "language_info": {
   "codemirror_mode": {
    "name": "ipython",
    "version": 3
   },
   "file_extension": ".py",
   "mimetype": "text/x-python",
   "name": "python",
   "nbconvert_exporter": "python",
   "pygments_lexer": "ipython3",
   "version": "3.8.10"
  }
 },
 "nbformat": 4,
 "nbformat_minor": 4
}