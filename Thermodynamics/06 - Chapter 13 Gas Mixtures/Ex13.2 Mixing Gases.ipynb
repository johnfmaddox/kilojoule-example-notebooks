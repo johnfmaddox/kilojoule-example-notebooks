{
 "cells": [
  {
   "cell_type": "markdown",
   "metadata": {
    "collapsed": false,
    "pycharm": {
     "name": "#%% md\n"
    }
   },
   "source": [
    "# Example 13.2: Mixing Gases\n",
    "\n",
    "*John F. Maddox, Ph.D., P.E.<br>\n",
    "University of Kentucky - Paducah Campus<br>\n",
    "ME 321: Engineering Thermodynamics II<br>*"
   ]
  },
  {
   "cell_type": "markdown",
   "metadata": {
    "collapsed": false,
    "pycharm": {
     "name": "#%% md\n"
    }
   },
   "source": [
    "## Problem Statement\n",
    "A rigid insulated tank has two compartments.  One is filled with 5 lbmol of Ar at $100^\\circ\\mathrm{F}$ and $20\\ \\mathrm{psia}$.  The other is filled with 10 lbmol of He at $200^\\circ\\mathrm{F}$ and 30 psia.  The gases mix and reach equilibrium.  Determine the final temperature, final pressure and the amount of entropy produced."
   ]
  },
  {
   "cell_type": "code",
   "execution_count": 3,
   "metadata": {
    "collapsed": false
   },
   "outputs": [
    {
     "data": {
      "image/png": "[encoded data removed]",
      "image/svg+xml": "<?xml version=\"1.0\" encoding=\"utf-8\" standalone=\"no\"?>\n<!DOCTYPE svg PUBLIC \"-//W3C//DTD SVG 1.1//EN\"\n  \"http://www.w3.org/Graphics/SVG/1.1/DTD/svg11.dtd\">\n<svg xmlns:xlink=\"http://www.w3.org/1999/xlink\" width=\"296.7258pt\" height=\"142.92pt\" viewBox=\"0 0 296.7258 142.92\" xmlns=\"http://www.w3.org/2000/svg\" version=\"1.1\">\n <metadata>\n  <rdf:RDF xmlns:dc=\"http://purl.org/dc/elements/1.1/\" xmlns:cc=\"http://creativecommons.org/ns#\" xmlns:rdf=\"http://www.w3.org/1999/02/22-rdf-syntax-ns#\">\n   <cc:Work>\n    <dc:type rdf:resource=\"http://purl.org/dc/dcmitype/StillImage\"/>\n    <dc:date>2023-06-09T16:16:00.752591</dc:date>\n    <dc:format>image/svg+xml</dc:format>\n    <dc:creator>\n     <cc:Agent>\n      <dc:title>Matplotlib v3.6.3, https://matplotlib.org/</dc:title>\n     </cc:Agent>\n    </dc:creator>\n   </cc:Work>\n  </rdf:RDF>\n </metadata>\n <defs>\n  <style type=\"text/css\">*{stroke-linejoin: round; stroke-linecap: butt}</style>\n </defs>\n <g id=\"figure_1\">\n  <g id=\"patch_1\">\n   <path d=\"M 0 142.92 \nL 296.7258 142.92 \nL 296.7258 0 \nL 0 0 \nz\n\" style=\"fill: #ffffff\"/>\n  </g>\n  <g id=\"axes_1\">\n   <g id=\"line2d_1\">\n    <path d=\"M 22.9029 132.66 \nL 22.9029 71.46 \nL 22.9029 10.26 \n\" clip-path=\"url(#p246c3d183a)\" style=\"fill: none; stroke: #000000; stroke-width: 2; stroke-linecap: round\"/>\n   </g>\n   <g id=\"line2d_2\">\n    <path d=\"M 22.9029 10.26 \nL 145.3029 10.26 \nL 267.7029 10.26 \n\" clip-path=\"url(#p246c3d183a)\" style=\"fill: none; stroke: #000000; stroke-width: 2; stroke-linecap: round\"/>\n   </g>\n   <g id=\"line2d_3\">\n    <path d=\"M 267.7029 10.26 \nL 267.7029 71.46 \nL 267.7029 132.66 \n\" clip-path=\"url(#p246c3d183a)\" style=\"fill: none; stroke: #000000; stroke-width: 2; stroke-linecap: round\"/>\n   </g>\n   <g id=\"line2d_4\">\n    <path d=\"M 267.7029 132.66 \nL 145.3029 132.66 \nL 22.9029 132.66 \n\" clip-path=\"url(#p246c3d183a)\" style=\"fill: none; stroke: #000000; stroke-width: 2; stroke-linecap: round\"/>\n   </g>\n   <g id=\"line2d_5\">\n    <path d=\"M 145.3029 132.66 \nL 145.3029 71.46 \nL 145.3029 10.26 \n\" clip-path=\"url(#p246c3d183a)\" style=\"fill: none; stroke: #000000; stroke-width: 2; stroke-linecap: round\"/>\n   </g>\n   <g id=\"text_1\">\n    <g clip-path=\"url(#p246c3d183a)\">\n     <!-- Argon -->\n     <g transform=\"translate(67.426142 54.215859) scale(0.125 -0.125)\">\n      <defs>\n       <path id=\"LiberationSans-41\" d=\"M 3647 0 \nL 3144 1288 \nL 1138 1288 \nL 631 0 \nL 13 0 \nL 1809 4403 \nL 2488 4403 \nL 4256 0 \nL 3647 0 \nz\nM 2400 3206 \nQ 2350 3331 2304 3459 \nQ 2259 3588 2225 3692 \nQ 2191 3797 2167 3867 \nQ 2144 3938 2141 3953 \nQ 2134 3938 2112 3866 \nQ 2091 3794 2055 3687 \nQ 2019 3581 1973 3453 \nQ 1928 3325 1881 3200 \nL 1319 1753 \nL 2966 1753 \nL 2400 3206 \nz\n\" transform=\"scale(0.015625)\"/>\n       <path id=\"LiberationSans-72\" d=\"M 444 0 \nL 444 2594 \nQ 444 2700 442 2811 \nQ 441 2922 437 3025 \nQ 434 3128 431 3218 \nQ 428 3309 425 3381 \nL 956 3381 \nQ 959 3309 964 3217 \nQ 969 3125 973 3028 \nQ 978 2931 979 2842 \nQ 981 2753 981 2691 \nL 994 2691 \nQ 1053 2884 1120 3026 \nQ 1188 3169 1278 3261 \nQ 1369 3353 1494 3398 \nQ 1619 3444 1797 3444 \nQ 1866 3444 1928 3433 \nQ 1991 3422 2025 3413 \nL 2025 2897 \nQ 1969 2913 1894 2920 \nQ 1819 2928 1725 2928 \nQ 1531 2928 1395 2840 \nQ 1259 2753 1173 2598 \nQ 1088 2444 1047 2230 \nQ 1006 2016 1006 1763 \nL 1006 0 \nL 444 0 \nz\n\" transform=\"scale(0.015625)\"/>\n       <path id=\"LiberationSans-67\" d=\"M 1713 -1328 \nQ 1422 -1328 1197 -1268 \nQ 972 -1209 812 -1098 \nQ 653 -988 553 -834 \nQ 453 -681 409 -494 \nL 975 -413 \nQ 1031 -647 1223 -773 \nQ 1416 -900 1728 -900 \nQ 1919 -900 2075 -847 \nQ 2231 -794 2340 -676 \nQ 2450 -559 2509 -371 \nQ 2569 -184 2569 84 \nL 2569 628 \nL 2563 628 \nQ 2500 500 2408 383 \nQ 2316 266 2183 175 \nQ 2050 84 1875 29 \nQ 1700 -25 1475 -25 \nQ 1153 -25 923 83 \nQ 694 191 548 406 \nQ 403 622 336 942 \nQ 269 1263 269 1684 \nQ 269 2091 336 2416 \nQ 403 2741 554 2967 \nQ 706 3194 948 3314 \nQ 1191 3434 1538 3434 \nQ 1897 3434 2161 3270 \nQ 2425 3106 2569 2803 \nL 2575 2803 \nQ 2575 2881 2579 2978 \nQ 2584 3075 2589 3161 \nQ 2594 3247 2600 3309 \nQ 2606 3372 2613 3381 \nL 3147 3381 \nQ 3144 3353 3141 3286 \nQ 3138 3219 3134 3125 \nQ 3131 3031 3129 2917 \nQ 3128 2803 3128 2681 \nL 3128 97 \nQ 3128 -613 2779 -970 \nQ 2431 -1328 1713 -1328 \nz\nM 2569 1691 \nQ 2569 2044 2492 2295 \nQ 2416 2547 2291 2706 \nQ 2166 2866 2005 2941 \nQ 1844 3016 1675 3016 \nQ 1459 3016 1304 2941 \nQ 1150 2866 1048 2705 \nQ 947 2544 898 2292 \nQ 850 2041 850 1691 \nQ 850 1325 898 1076 \nQ 947 828 1047 675 \nQ 1147 522 1300 456 \nQ 1453 391 1666 391 \nQ 1834 391 1995 462 \nQ 2156 534 2284 690 \nQ 2413 847 2491 1094 \nQ 2569 1341 2569 1691 \nz\n\" transform=\"scale(0.015625)\"/>\n       <path id=\"LiberationSans-6f\" d=\"M 3291 1694 \nQ 3291 806 2900 371 \nQ 2509 -63 1766 -63 \nQ 1413 -63 1134 43 \nQ 856 150 664 369 \nQ 472 588 370 917 \nQ 269 1247 269 1694 \nQ 269 3444 1784 3444 \nQ 2178 3444 2464 3334 \nQ 2750 3225 2933 3006 \nQ 3116 2788 3203 2459 \nQ 3291 2131 3291 1694 \nz\nM 2700 1694 \nQ 2700 2088 2639 2344 \nQ 2578 2600 2461 2753 \nQ 2344 2906 2175 2967 \nQ 2006 3028 1794 3028 \nQ 1578 3028 1404 2964 \nQ 1231 2900 1109 2745 \nQ 988 2591 923 2334 \nQ 859 2078 859 1694 \nQ 859 1300 928 1042 \nQ 997 784 1117 631 \nQ 1238 478 1402 415 \nQ 1566 353 1759 353 \nQ 1975 353 2150 414 \nQ 2325 475 2447 628 \nQ 2569 781 2634 1040 \nQ 2700 1300 2700 1694 \nz\n\" transform=\"scale(0.015625)\"/>\n       <path id=\"LiberationSans-6e\" d=\"M 2578 0 \nL 2578 2144 \nQ 2578 2391 2542 2556 \nQ 2506 2722 2425 2823 \nQ 2344 2925 2211 2967 \nQ 2078 3009 1881 3009 \nQ 1681 3009 1520 2939 \nQ 1359 2869 1245 2736 \nQ 1131 2603 1068 2408 \nQ 1006 2213 1006 1959 \nL 1006 0 \nL 444 0 \nL 444 2659 \nQ 444 2766 442 2883 \nQ 441 3000 437 3104 \nQ 434 3209 431 3284 \nQ 428 3359 425 3381 \nL 956 3381 \nQ 959 3366 962 3297 \nQ 966 3228 970 3139 \nQ 975 3050 978 2958 \nQ 981 2866 981 2803 \nL 991 2803 \nQ 1072 2950 1169 3069 \nQ 1266 3188 1394 3270 \nQ 1522 3353 1687 3398 \nQ 1853 3444 2072 3444 \nQ 2353 3444 2556 3375 \nQ 2759 3306 2890 3162 \nQ 3022 3019 3083 2792 \nQ 3144 2566 3144 2253 \nL 3144 0 \nL 2578 0 \nz\n\" transform=\"scale(0.015625)\"/>\n      </defs>\n      <use xlink:href=\"#LiberationSans-41\"/>\n      <use xlink:href=\"#LiberationSans-72\" x=\"66.699219\"/>\n      <use xlink:href=\"#LiberationSans-67\" x=\"100\"/>\n      <use xlink:href=\"#LiberationSans-6f\" x=\"155.615234\"/>\n      <use xlink:href=\"#LiberationSans-6e\" x=\"211.230469\"/>\n     </g>\n    </g>\n    <g clip-path=\"url(#p246c3d183a)\">\n     <!-- $m_A=5\\ \\mathrm{lbmol}$ -->\n     <g transform=\"translate(43.7904 67.679922) scale(0.125 -0.125)\">\n      <defs>\n       <path id=\"DejaVuSans-Oblique-6d\" d=\"M 5747 2113 \nL 5338 0 \nL 4763 0 \nL 5166 2094 \nQ 5191 2228 5203 2325 \nQ 5216 2422 5216 2491 \nQ 5216 2772 5059 2928 \nQ 4903 3084 4622 3084 \nQ 4203 3084 3875 2770 \nQ 3547 2456 3450 1953 \nL 3066 0 \nL 2491 0 \nL 2900 2094 \nQ 2925 2209 2937 2307 \nQ 2950 2406 2950 2484 \nQ 2950 2769 2794 2926 \nQ 2638 3084 2363 3084 \nQ 1938 3084 1609 2770 \nQ 1281 2456 1184 1953 \nL 800 0 \nL 225 0 \nL 909 3500 \nL 1484 3500 \nL 1375 2956 \nQ 1609 3263 1923 3423 \nQ 2238 3584 2597 3584 \nQ 2978 3584 3223 3384 \nQ 3469 3184 3519 2828 \nQ 3781 3197 4126 3390 \nQ 4472 3584 4856 3584 \nQ 5306 3584 5551 3325 \nQ 5797 3066 5797 2591 \nQ 5797 2488 5784 2364 \nQ 5772 2241 5747 2113 \nz\n\" transform=\"scale(0.015625)\"/>\n       <path id=\"DejaVuSans-Oblique-41\" d=\"M 2356 4666 \nL 3072 4666 \nL 3938 0 \nL 3278 0 \nL 3084 1197 \nL 984 1197 \nL 325 0 \nL -341 0 \nL 2356 4666 \nz\nM 2584 4044 \nL 1275 1722 \nL 2988 1722 \nL 2584 4044 \nz\n\" transform=\"scale(0.015625)\"/>\n       <path id=\"DejaVuSans-3d\" d=\"M 678 2906 \nL 4684 2906 \nL 4684 2381 \nL 678 2381 \nL 678 2906 \nz\nM 678 1631 \nL 4684 1631 \nL 4684 1100 \nL 678 1100 \nL 678 1631 \nz\n\" transform=\"scale(0.015625)\"/>\n       <path id=\"DejaVuSans-35\" d=\"M 691 4666 \nL 3169 4666 \nL 3169 4134 \nL 1269 4134 \nL 1269 2991 \nQ 1406 3038 1543 3061 \nQ 1681 3084 1819 3084 \nQ 2600 3084 3056 2656 \nQ 3513 2228 3513 1497 \nQ 3513 744 3044 326 \nQ 2575 -91 1722 -91 \nQ 1428 -91 1123 -41 \nQ 819 9 494 109 \nL 494 744 \nQ 775 591 1075 516 \nQ 1375 441 1709 441 \nQ 2250 441 2565 725 \nQ 2881 1009 2881 1497 \nQ 2881 1984 2565 2268 \nQ 2250 2553 1709 2553 \nQ 1456 2553 1204 2497 \nQ 953 2441 691 2322 \nL 691 4666 \nz\n\" transform=\"scale(0.015625)\"/>\n       <path id=\"DejaVuSans-6c\" d=\"M 603 4863 \nL 1178 4863 \nL 1178 0 \nL 603 0 \nL 603 4863 \nz\n\" transform=\"scale(0.015625)\"/>\n       <path id=\"DejaVuSans-62\" d=\"M 3116 1747 \nQ 3116 2381 2855 2742 \nQ 2594 3103 2138 3103 \nQ 1681 3103 1420 2742 \nQ 1159 2381 1159 1747 \nQ 1159 1113 1420 752 \nQ 1681 391 2138 391 \nQ 2594 391 2855 752 \nQ 3116 1113 3116 1747 \nz\nM 1159 2969 \nQ 1341 3281 1617 3432 \nQ 1894 3584 2278 3584 \nQ 2916 3584 3314 3078 \nQ 3713 2572 3713 1747 \nQ 3713 922 3314 415 \nQ 2916 -91 2278 -91 \nQ 1894 -91 1617 61 \nQ 1341 213 1159 525 \nL 1159 0 \nL 581 0 \nL 581 4863 \nL 1159 4863 \nL 1159 2969 \nz\n\" transform=\"scale(0.015625)\"/>\n       <path id=\"DejaVuSans-6d\" d=\"M 3328 2828 \nQ 3544 3216 3844 3400 \nQ 4144 3584 4550 3584 \nQ 5097 3584 5394 3201 \nQ 5691 2819 5691 2113 \nL 5691 0 \nL 5113 0 \nL 5113 2094 \nQ 5113 2597 4934 2840 \nQ 4756 3084 4391 3084 \nQ 3944 3084 3684 2787 \nQ 3425 2491 3425 1978 \nL 3425 0 \nL 2847 0 \nL 2847 2094 \nQ 2847 2600 2669 2842 \nQ 2491 3084 2119 3084 \nQ 1678 3084 1418 2786 \nQ 1159 2488 1159 1978 \nL 1159 0 \nL 581 0 \nL 581 3500 \nL 1159 3500 \nL 1159 2956 \nQ 1356 3278 1631 3431 \nQ 1906 3584 2284 3584 \nQ 2666 3584 2933 3390 \nQ 3200 3197 3328 2828 \nz\n\" transform=\"scale(0.015625)\"/>\n       <path id=\"DejaVuSans-6f\" d=\"M 1959 3097 \nQ 1497 3097 1228 2736 \nQ 959 2375 959 1747 \nQ 959 1119 1226 758 \nQ 1494 397 1959 397 \nQ 2419 397 2687 759 \nQ 2956 1122 2956 1747 \nQ 2956 2369 2687 2733 \nQ 2419 3097 1959 3097 \nz\nM 1959 3584 \nQ 2709 3584 3137 3096 \nQ 3566 2609 3566 1747 \nQ 3566 888 3137 398 \nQ 2709 -91 1959 -91 \nQ 1206 -91 779 398 \nQ 353 888 353 1747 \nQ 353 2609 779 3096 \nQ 1206 3584 1959 3584 \nz\n\" transform=\"scale(0.015625)\"/>\n      </defs>\n      <use xlink:href=\"#DejaVuSans-Oblique-6d\" transform=\"translate(0 0.015625)\"/>\n      <use xlink:href=\"#DejaVuSans-Oblique-41\" transform=\"translate(97.412109 -16.390625) scale(0.7)\"/>\n      <use xlink:href=\"#DejaVuSans-3d\" transform=\"translate(167.514648 0.015625)\"/>\n      <use xlink:href=\"#DejaVuSans-35\" transform=\"translate(270.786133 0.015625)\"/>\n      <use xlink:href=\"#DejaVuSans-6c\" transform=\"translate(366.879558 0.015625)\"/>\n      <use xlink:href=\"#DejaVuSans-62\" transform=\"translate(394.662761 0.015625)\"/>\n      <use xlink:href=\"#DejaVuSans-6d\" transform=\"translate(458.139324 0.015625)\"/>\n      <use xlink:href=\"#DejaVuSans-6f\" transform=\"translate(555.551433 0.015625)\"/>\n      <use xlink:href=\"#DejaVuSans-6c\" transform=\"translate(616.733074 0.015625)\"/>\n     </g>\n    </g>\n    <g clip-path=\"url(#p246c3d183a)\">\n     <!-- $T_A=100^\\circ\\mathrm{F}$ -->\n     <g transform=\"translate(49.2279 81.143984) scale(0.125 -0.125)\">\n      <defs>\n       <path id=\"DejaVuSans-Oblique-54\" d=\"M 378 4666 \nL 4325 4666 \nL 4225 4134 \nL 2559 4134 \nL 1759 0 \nL 1125 0 \nL 1925 4134 \nL 275 4134 \nL 378 4666 \nz\n\" transform=\"scale(0.015625)\"/>\n       <path id=\"DejaVuSans-31\" d=\"M 794 531 \nL 1825 531 \nL 1825 4091 \nL 703 3866 \nL 703 4441 \nL 1819 4666 \nL 2450 4666 \nL 2450 531 \nL 3481 531 \nL 3481 0 \nL 794 0 \nL 794 531 \nz\n\" transform=\"scale(0.015625)\"/>\n       <path id=\"DejaVuSans-30\" d=\"M 2034 4250 \nQ 1547 4250 1301 3770 \nQ 1056 3291 1056 2328 \nQ 1056 1369 1301 889 \nQ 1547 409 2034 409 \nQ 2525 409 2770 889 \nQ 3016 1369 3016 2328 \nQ 3016 3291 2770 3770 \nQ 2525 4250 2034 4250 \nz\nM 2034 4750 \nQ 2819 4750 3233 4129 \nQ 3647 3509 3647 2328 \nQ 3647 1150 3233 529 \nQ 2819 -91 2034 -91 \nQ 1250 -91 836 529 \nQ 422 1150 422 2328 \nQ 422 3509 836 4129 \nQ 1250 4750 2034 4750 \nz\n\" transform=\"scale(0.015625)\"/>\n       <path id=\"DejaVuSans-2218\" d=\"M 2000 2619 \nQ 1750 2619 1578 2445 \nQ 1406 2272 1406 2022 \nQ 1406 1775 1578 1605 \nQ 1750 1435 2000 1435 \nQ 2250 1435 2422 1605 \nQ 2594 1775 2594 2022 \nQ 2594 2269 2420 2444 \nQ 2247 2619 2000 2619 \nz\nM 2000 3022 \nQ 2200 3022 2384 2945 \nQ 2569 2869 2703 2725 \nQ 2847 2585 2919 2406 \nQ 2991 2228 2991 2022 \nQ 2991 1610 2702 1324 \nQ 2413 1038 1994 1038 \nQ 1572 1038 1290 1319 \nQ 1009 1600 1009 2022 \nQ 1009 2441 1296 2731 \nQ 1584 3022 2000 3022 \nz\n\" transform=\"scale(0.015625)\"/>\n       <path id=\"DejaVuSans-46\" d=\"M 628 4666 \nL 3309 4666 \nL 3309 4134 \nL 1259 4134 \nL 1259 2759 \nL 3109 2759 \nL 3109 2228 \nL 1259 2228 \nL 1259 0 \nL 628 0 \nL 628 4666 \nz\n\" transform=\"scale(0.015625)\"/>\n      </defs>\n      <use xlink:href=\"#DejaVuSans-Oblique-54\" transform=\"translate(0 0.78125)\"/>\n      <use xlink:href=\"#DejaVuSans-Oblique-41\" transform=\"translate(61.083984 -15.625) scale(0.7)\"/>\n      <use xlink:href=\"#DejaVuSans-3d\" transform=\"translate(131.186523 0.78125)\"/>\n      <use xlink:href=\"#DejaVuSans-31\" transform=\"translate(234.458008 0.78125)\"/>\n      <use xlink:href=\"#DejaVuSans-30\" transform=\"translate(298.081055 0.78125)\"/>\n      <use xlink:href=\"#DejaVuSans-30\" transform=\"translate(361.704102 0.78125)\"/>\n      <use xlink:href=\"#DejaVuSans-2218\" transform=\"translate(439.921875 39.0625) scale(0.7)\"/>\n      <use xlink:href=\"#DejaVuSans-46\" transform=\"translate(500.112305 0.78125)\"/>\n     </g>\n    </g>\n    <g clip-path=\"url(#p246c3d183a)\">\n     <!-- $p_A=20\\ \\mathrm{psia}$ -->\n     <g transform=\"translate(46.4779 95.137734) scale(0.125 -0.125)\">\n      <defs>\n       <path id=\"DejaVuSans-Oblique-70\" d=\"M 3175 2156 \nQ 3175 2616 2975 2859 \nQ 2775 3103 2400 3103 \nQ 2144 3103 1911 2972 \nQ 1678 2841 1497 2591 \nQ 1319 2344 1212 1994 \nQ 1106 1644 1106 1300 \nQ 1106 863 1306 627 \nQ 1506 391 1875 391 \nQ 2147 391 2380 519 \nQ 2613 647 2778 891 \nQ 2956 1147 3065 1494 \nQ 3175 1841 3175 2156 \nz\nM 1394 2969 \nQ 1625 3272 1939 3428 \nQ 2253 3584 2638 3584 \nQ 3175 3584 3472 3232 \nQ 3769 2881 3769 2247 \nQ 3769 1728 3584 1258 \nQ 3400 788 3053 416 \nQ 2822 169 2531 39 \nQ 2241 -91 1919 -91 \nQ 1547 -91 1294 64 \nQ 1041 219 916 525 \nL 556 -1331 \nL -19 -1331 \nL 922 3500 \nL 1497 3500 \nL 1394 2969 \nz\n\" transform=\"scale(0.015625)\"/>\n       <path id=\"DejaVuSans-32\" d=\"M 1228 531 \nL 3431 531 \nL 3431 0 \nL 469 0 \nL 469 531 \nQ 828 903 1448 1529 \nQ 2069 2156 2228 2338 \nQ 2531 2678 2651 2914 \nQ 2772 3150 2772 3378 \nQ 2772 3750 2511 3984 \nQ 2250 4219 1831 4219 \nQ 1534 4219 1204 4116 \nQ 875 4013 500 3803 \nL 500 4441 \nQ 881 4594 1212 4672 \nQ 1544 4750 1819 4750 \nQ 2544 4750 2975 4387 \nQ 3406 4025 3406 3419 \nQ 3406 3131 3298 2873 \nQ 3191 2616 2906 2266 \nQ 2828 2175 2409 1742 \nQ 1991 1309 1228 531 \nz\n\" transform=\"scale(0.015625)\"/>\n       <path id=\"DejaVuSans-70\" d=\"M 1159 525 \nL 1159 -1331 \nL 581 -1331 \nL 581 3500 \nL 1159 3500 \nL 1159 2969 \nQ 1341 3281 1617 3432 \nQ 1894 3584 2278 3584 \nQ 2916 3584 3314 3078 \nQ 3713 2572 3713 1747 \nQ 3713 922 3314 415 \nQ 2916 -91 2278 -91 \nQ 1894 -91 1617 61 \nQ 1341 213 1159 525 \nz\nM 3116 1747 \nQ 3116 2381 2855 2742 \nQ 2594 3103 2138 3103 \nQ 1681 3103 1420 2742 \nQ 1159 2381 1159 1747 \nQ 1159 1113 1420 752 \nQ 1681 391 2138 391 \nQ 2594 391 2855 752 \nQ 3116 1113 3116 1747 \nz\n\" transform=\"scale(0.015625)\"/>\n       <path id=\"DejaVuSans-73\" d=\"M 2834 3397 \nL 2834 2853 \nQ 2591 2978 2328 3040 \nQ 2066 3103 1784 3103 \nQ 1356 3103 1142 2972 \nQ 928 2841 928 2578 \nQ 928 2378 1081 2264 \nQ 1234 2150 1697 2047 \nL 1894 2003 \nQ 2506 1872 2764 1633 \nQ 3022 1394 3022 966 \nQ 3022 478 2636 193 \nQ 2250 -91 1575 -91 \nQ 1294 -91 989 -36 \nQ 684 19 347 128 \nL 347 722 \nQ 666 556 975 473 \nQ 1284 391 1588 391 \nQ 1994 391 2212 530 \nQ 2431 669 2431 922 \nQ 2431 1156 2273 1281 \nQ 2116 1406 1581 1522 \nL 1381 1569 \nQ 847 1681 609 1914 \nQ 372 2147 372 2553 \nQ 372 3047 722 3315 \nQ 1072 3584 1716 3584 \nQ 2034 3584 2315 3537 \nQ 2597 3491 2834 3397 \nz\n\" transform=\"scale(0.015625)\"/>\n       <path id=\"DejaVuSans-69\" d=\"M 603 3500 \nL 1178 3500 \nL 1178 0 \nL 603 0 \nL 603 3500 \nz\nM 603 4863 \nL 1178 4863 \nL 1178 4134 \nL 603 4134 \nL 603 4863 \nz\n\" transform=\"scale(0.015625)\"/>\n       <path id=\"DejaVuSans-61\" d=\"M 2194 1759 \nQ 1497 1759 1228 1600 \nQ 959 1441 959 1056 \nQ 959 750 1161 570 \nQ 1363 391 1709 391 \nQ 2188 391 2477 730 \nQ 2766 1069 2766 1631 \nL 2766 1759 \nL 2194 1759 \nz\nM 3341 1997 \nL 3341 0 \nL 2766 0 \nL 2766 531 \nQ 2569 213 2275 61 \nQ 1981 -91 1556 -91 \nQ 1019 -91 701 211 \nQ 384 513 384 1019 \nQ 384 1609 779 1909 \nQ 1175 2209 1959 2209 \nL 2766 2209 \nL 2766 2266 \nQ 2766 2663 2505 2880 \nQ 2244 3097 1772 3097 \nQ 1472 3097 1187 3025 \nQ 903 2953 641 2809 \nL 641 3341 \nQ 956 3463 1253 3523 \nQ 1550 3584 1831 3584 \nQ 2591 3584 2966 3190 \nQ 3341 2797 3341 1997 \nz\n\" transform=\"scale(0.015625)\"/>\n      </defs>\n      <use xlink:href=\"#DejaVuSans-Oblique-70\" transform=\"translate(0 0.015625)\"/>\n      <use xlink:href=\"#DejaVuSans-Oblique-41\" transform=\"translate(63.476562 -16.390625) scale(0.7)\"/>\n      <use xlink:href=\"#DejaVuSans-3d\" transform=\"translate(133.579102 0.015625)\"/>\n      <use xlink:href=\"#DejaVuSans-32\" transform=\"translate(236.850586 0.015625)\"/>\n      <use xlink:href=\"#DejaVuSans-30\" transform=\"translate(300.473633 0.015625)\"/>\n      <use xlink:href=\"#DejaVuSans-70\" transform=\"translate(396.567058 0.015625)\"/>\n      <use xlink:href=\"#DejaVuSans-73\" transform=\"translate(460.043621 0.015625)\"/>\n      <use xlink:href=\"#DejaVuSans-69\" transform=\"translate(512.14323 0.015625)\"/>\n      <use xlink:href=\"#DejaVuSans-61\" transform=\"translate(539.926433 0.015625)\"/>\n     </g>\n    </g>\n   </g>\n   <g id=\"text_2\">\n    <g clip-path=\"url(#p246c3d183a)\">\n     <!-- Helium -->\n     <g transform=\"translate(187.054658 54.215859) scale(0.125 -0.125)\">\n      <defs>\n       <path id=\"LiberationSans-48\" d=\"M 3503 0 \nL 3503 2041 \nL 1122 2041 \nL 1122 0 \nL 525 0 \nL 525 4403 \nL 1122 4403 \nL 1122 2541 \nL 3503 2541 \nL 3503 4403 \nL 4100 4403 \nL 4100 0 \nL 3503 0 \nz\n\" transform=\"scale(0.015625)\"/>\n       <path id=\"LiberationSans-65\" d=\"M 863 1572 \nQ 863 1306 917 1082 \nQ 972 859 1086 698 \nQ 1200 538 1378 448 \nQ 1556 359 1806 359 \nQ 2172 359 2392 506 \nQ 2613 653 2691 878 \nL 3184 738 \nQ 3131 597 3036 455 \nQ 2941 313 2781 198 \nQ 2622 84 2383 10 \nQ 2144 -63 1806 -63 \nQ 1056 -63 664 384 \nQ 272 831 272 1713 \nQ 272 2188 390 2517 \nQ 509 2847 715 3053 \nQ 922 3259 1197 3351 \nQ 1472 3444 1784 3444 \nQ 2209 3444 2495 3306 \nQ 2781 3169 2954 2926 \nQ 3128 2684 3201 2356 \nQ 3275 2028 3275 1647 \nL 3275 1572 \nL 863 1572 \nz\nM 2694 2003 \nQ 2647 2538 2422 2783 \nQ 2197 3028 1775 3028 \nQ 1634 3028 1479 2983 \nQ 1325 2938 1194 2822 \nQ 1063 2706 972 2507 \nQ 881 2309 869 2003 \nL 2694 2003 \nz\n\" transform=\"scale(0.015625)\"/>\n       <path id=\"LiberationSans-6c\" d=\"M 431 0 \nL 431 4638 \nL 994 4638 \nL 994 0 \nL 431 0 \nz\n\" transform=\"scale(0.015625)\"/>\n       <path id=\"LiberationSans-69\" d=\"M 428 4100 \nL 428 4638 \nL 991 4638 \nL 991 4100 \nL 428 4100 \nz\nM 428 0 \nL 428 3381 \nL 991 3381 \nL 991 0 \nL 428 0 \nz\n\" transform=\"scale(0.015625)\"/>\n       <path id=\"LiberationSans-75\" d=\"M 981 3381 \nL 981 1238 \nQ 981 991 1017 825 \nQ 1053 659 1134 557 \nQ 1216 456 1348 414 \nQ 1481 372 1678 372 \nQ 1878 372 2039 442 \nQ 2200 513 2314 645 \nQ 2428 778 2490 973 \nQ 2553 1169 2553 1422 \nL 2553 3381 \nL 3116 3381 \nL 3116 722 \nQ 3116 616 3117 498 \nQ 3119 381 3122 276 \nQ 3125 172 3128 97 \nQ 3131 22 3134 0 \nL 2603 0 \nQ 2600 16 2597 84 \nQ 2594 153 2589 242 \nQ 2584 331 2581 423 \nQ 2578 516 2578 578 \nL 2569 578 \nQ 2488 431 2391 312 \nQ 2294 194 2166 111 \nQ 2038 28 1872 -17 \nQ 1706 -63 1488 -63 \nQ 1206 -63 1003 6 \nQ 800 75 669 219 \nQ 538 363 477 588 \nQ 416 813 416 1128 \nL 416 3381 \nL 981 3381 \nz\n\" transform=\"scale(0.015625)\"/>\n       <path id=\"LiberationSans-6d\" d=\"M 2400 0 \nL 2400 2144 \nQ 2400 2391 2369 2556 \nQ 2338 2722 2264 2823 \nQ 2191 2925 2072 2967 \nQ 1953 3009 1781 3009 \nQ 1603 3009 1459 2939 \nQ 1316 2869 1214 2736 \nQ 1113 2603 1058 2408 \nQ 1003 2213 1003 1959 \nL 1003 0 \nL 444 0 \nL 444 2659 \nQ 444 2766 442 2883 \nQ 441 3000 437 3104 \nQ 434 3209 431 3284 \nQ 428 3359 425 3381 \nL 956 3381 \nQ 959 3366 962 3297 \nQ 966 3228 970 3139 \nQ 975 3050 978 2958 \nQ 981 2866 981 2803 \nL 991 2803 \nQ 1066 2950 1153 3069 \nQ 1241 3188 1358 3270 \nQ 1475 3353 1626 3398 \nQ 1778 3444 1978 3444 \nQ 2363 3444 2586 3291 \nQ 2809 3138 2897 2803 \nL 2906 2803 \nQ 2981 2950 3075 3069 \nQ 3169 3188 3294 3270 \nQ 3419 3353 3575 3398 \nQ 3731 3444 3931 3444 \nQ 4188 3444 4373 3375 \nQ 4559 3306 4678 3162 \nQ 4797 3019 4853 2792 \nQ 4909 2566 4909 2253 \nL 4909 0 \nL 4353 0 \nL 4353 2144 \nQ 4353 2391 4322 2556 \nQ 4291 2722 4217 2823 \nQ 4144 2925 4025 2967 \nQ 3906 3009 3734 3009 \nQ 3556 3009 3412 2942 \nQ 3269 2875 3167 2744 \nQ 3066 2613 3011 2416 \nQ 2956 2219 2956 1959 \nL 2956 0 \nL 2400 0 \nz\n\" transform=\"scale(0.015625)\"/>\n      </defs>\n      <use xlink:href=\"#LiberationSans-48\"/>\n      <use xlink:href=\"#LiberationSans-65\" x=\"72.216797\"/>\n      <use xlink:href=\"#LiberationSans-6c\" x=\"127.832031\"/>\n      <use xlink:href=\"#LiberationSans-69\" x=\"150.048828\"/>\n      <use xlink:href=\"#LiberationSans-75\" x=\"172.265625\"/>\n      <use xlink:href=\"#LiberationSans-6d\" x=\"227.880859\"/>\n     </g>\n    </g>\n    <g clip-path=\"url(#p246c3d183a)\">\n     <!-- $m_B=10\\ \\mathrm{lbmol}$ -->\n     <g transform=\"translate(162.1904 67.679922) scale(0.125 -0.125)\">\n      <defs>\n       <path id=\"DejaVuSans-Oblique-42\" d=\"M 1081 4666 \nL 2694 4666 \nQ 3350 4666 3675 4422 \nQ 4000 4178 4000 3688 \nQ 4000 3238 3720 2911 \nQ 3441 2584 2988 2516 \nQ 3375 2428 3569 2181 \nQ 3763 1934 3763 1522 \nQ 3763 819 3242 409 \nQ 2722 0 1819 0 \nL 172 0 \nL 1081 4666 \nz\nM 1234 2228 \nL 903 519 \nL 1919 519 \nQ 2491 519 2800 781 \nQ 3109 1044 3109 1522 \nQ 3109 1891 2904 2059 \nQ 2700 2228 2247 2228 \nL 1234 2228 \nz\nM 1606 4147 \nL 1331 2741 \nL 2272 2741 \nQ 2775 2741 3058 2959 \nQ 3341 3178 3341 3566 \nQ 3341 3869 3150 4008 \nQ 2959 4147 2541 4147 \nL 1606 4147 \nz\n\" transform=\"scale(0.015625)\"/>\n      </defs>\n      <use xlink:href=\"#DejaVuSans-Oblique-6d\" transform=\"translate(0 0.015625)\"/>\n      <use xlink:href=\"#DejaVuSans-Oblique-42\" transform=\"translate(97.412109 -16.390625) scale(0.7)\"/>\n      <use xlink:href=\"#DejaVuSans-3d\" transform=\"translate(167.651367 0.015625)\"/>\n      <use xlink:href=\"#DejaVuSans-31\" transform=\"translate(270.922852 0.015625)\"/>\n      <use xlink:href=\"#DejaVuSans-30\" transform=\"translate(334.545898 0.015625)\"/>\n      <use xlink:href=\"#DejaVuSans-6c\" transform=\"translate(430.639324 0.015625)\"/>\n      <use xlink:href=\"#DejaVuSans-62\" transform=\"translate(458.422527 0.015625)\"/>\n      <use xlink:href=\"#DejaVuSans-6d\" transform=\"translate(521.899089 0.015625)\"/>\n      <use xlink:href=\"#DejaVuSans-6f\" transform=\"translate(619.311199 0.015625)\"/>\n      <use xlink:href=\"#DejaVuSans-6c\" transform=\"translate(680.492839 0.015625)\"/>\n     </g>\n    </g>\n    <g clip-path=\"url(#p246c3d183a)\">\n     <!-- $T_B=200^\\circ\\mathrm{F}$ -->\n     <g transform=\"translate(171.6279 81.143984) scale(0.125 -0.125)\">\n      <use xlink:href=\"#DejaVuSans-Oblique-54\" transform=\"translate(0 0.78125)\"/>\n      <use xlink:href=\"#DejaVuSans-Oblique-42\" transform=\"translate(61.083984 -15.625) scale(0.7)\"/>\n      <use xlink:href=\"#DejaVuSans-3d\" transform=\"translate(131.323242 0.78125)\"/>\n      <use xlink:href=\"#DejaVuSans-32\" transform=\"translate(234.594727 0.78125)\"/>\n      <use xlink:href=\"#DejaVuSans-30\" transform=\"translate(298.217773 0.78125)\"/>\n      <use xlink:href=\"#DejaVuSans-30\" transform=\"translate(361.84082 0.78125)\"/>\n      <use xlink:href=\"#DejaVuSans-2218\" transform=\"translate(440.058594 39.0625) scale(0.7)\"/>\n      <use xlink:href=\"#DejaVuSans-46\" transform=\"translate(500.249023 0.78125)\"/>\n     </g>\n    </g>\n    <g clip-path=\"url(#p246c3d183a)\">\n     <!-- $p_B=30\\ \\mathrm{psia}$ -->\n     <g transform=\"translate(168.8779 95.137734) scale(0.125 -0.125)\">\n      <defs>\n       <path id=\"DejaVuSans-33\" d=\"M 2597 2516 \nQ 3050 2419 3304 2112 \nQ 3559 1806 3559 1356 \nQ 3559 666 3084 287 \nQ 2609 -91 1734 -91 \nQ 1441 -91 1130 -33 \nQ 819 25 488 141 \nL 488 750 \nQ 750 597 1062 519 \nQ 1375 441 1716 441 \nQ 2309 441 2620 675 \nQ 2931 909 2931 1356 \nQ 2931 1769 2642 2001 \nQ 2353 2234 1838 2234 \nL 1294 2234 \nL 1294 2753 \nL 1863 2753 \nQ 2328 2753 2575 2939 \nQ 2822 3125 2822 3475 \nQ 2822 3834 2567 4026 \nQ 2313 4219 1838 4219 \nQ 1578 4219 1281 4162 \nQ 984 4106 628 3988 \nL 628 4550 \nQ 988 4650 1302 4700 \nQ 1616 4750 1894 4750 \nQ 2613 4750 3031 4423 \nQ 3450 4097 3450 3541 \nQ 3450 3153 3228 2886 \nQ 3006 2619 2597 2516 \nz\n\" transform=\"scale(0.015625)\"/>\n      </defs>\n      <use xlink:href=\"#DejaVuSans-Oblique-70\" transform=\"translate(0 0.015625)\"/>\n      <use xlink:href=\"#DejaVuSans-Oblique-42\" transform=\"translate(63.476562 -16.390625) scale(0.7)\"/>\n      <use xlink:href=\"#DejaVuSans-3d\" transform=\"translate(133.71582 0.015625)\"/>\n      <use xlink:href=\"#DejaVuSans-33\" transform=\"translate(236.987305 0.015625)\"/>\n      <use xlink:href=\"#DejaVuSans-30\" transform=\"translate(300.610352 0.015625)\"/>\n      <use xlink:href=\"#DejaVuSans-70\" transform=\"translate(396.703777 0.015625)\"/>\n      <use xlink:href=\"#DejaVuSans-73\" transform=\"translate(460.180339 0.015625)\"/>\n      <use xlink:href=\"#DejaVuSans-69\" transform=\"translate(512.279949 0.015625)\"/>\n      <use xlink:href=\"#DejaVuSans-61\" transform=\"translate(540.063152 0.015625)\"/>\n     </g>\n    </g>\n   </g>\n  </g>\n </g>\n <defs>\n  <clipPath id=\"p246c3d183a\">\n   <rect x=\"7.2\" y=\"7.2\" width=\"282.3258\" height=\"128.52\"/>\n  </clipPath>\n </defs>\n</svg>\n",
      "text/plain": [
       "<schemdraw.backends.mpl.Figure object at 0x7f8000604f40>"
      ]
     },
     "execution_count": 3,
     "metadata": {
     },
     "output_type": "execute_result"
    }
   ],
   "source": [
    "from kilojoule.templates.default import *\n",
    "from kilojoule.schemdraw import *\n",
    "with schemdraw.Drawing() as d:\n",
    "    d += elm.Line().up(4)\n",
    "    d += elm.Line().right(8)\n",
    "    d += elm.Line().down(4)\n",
    "    d += elm.Line().left(8)\n",
    "    d.here = (4,0)\n",
    "    d += elm.Line().up(4)\n",
    "    d.here = (0,0)\n",
    "    d += elm.Gap().to((4,4)).label('Argon\\n$m_A=5\\\\ \\\\mathrm{lbmol}$\\n$T_A=100^\\\\circ\\mathrm{F}$\\n$p_A=20\\\\ \\\\mathrm{psia}$',valign='center')\n",
    "    d += elm.Gap().to((8,0)).label('Helium\\n$m_B=10\\\\ \\\\mathrm{lbmol}$\\n$T_B=200^\\\\circ\\\\mathrm{F}$\\n$p_B=30\\\\ \\\\mathrm{psia}$',valign='center')"
   ]
  },
  {
   "cell_type": "markdown",
   "metadata": {
    "collapsed": false,
    "pycharm": {
     "name": "#%% md\n"
    }
   },
   "source": [
    "## Solution\n",
    "\n",
    "__[Video Explanation](https://uky.yuja.com/V/Video?v=3074204&node=10465104&a=130117961&autoplay=1)__"
   ]
  },
  {
   "cell_type": "markdown",
   "metadata": {
    "collapsed": false,
    "pycharm": {
     "name": "#%% md\n"
    }
   },
   "source": [
    "### Python Initialization\n",
    "We'll start by importing the libraries we will use for our analysis and initializing dictionaries to hold the properties we will be usings."
   ]
  },
  {
   "cell_type": "code",
   "execution_count": 3,
   "metadata": {
    "collapsed": false,
    "jupyter": {
    },
    "pycharm": {
     "name": "#%%\n"
    }
   },
   "outputs": [
   ],
   "source": [
    "from kilojoule.templates.USCS_R import *\n",
    "set_latex({'N':'N'})\n",
    "   \n",
    "He = idealgas.Properties('He')\n",
    "Ar = idealgas.Properties('Ar')\n",
    "\n",
    "# Universal gas constant\n",
    "Rbar = Quantity(1.986,'Btu/lbmol/degR')\n",
    "\n",
    "# Add columns to states table\n",
    "V = Vol\n",
    "y = states.add_property('y','')\n",
    "M = states.add_property('M','lb/lbmol')\n",
    "mf = states.add_property('mf','')\n",
    "N = states.add_property('N','lbmol')\n",
    "c_v = states.add_property('cv','Btu/lb/degR')\n",
    "R = states.add_property('R','Btu/lb/degR')"
   ]
  },
  {
   "cell_type": "markdown",
   "metadata": {
    "collapsed": false,
    "pycharm": {
     "name": "#%% md\n"
    }
   },
   "source": [
    "### Given"
   ]
  },
  {
   "cell_type": "code",
   "execution_count": 4,
   "metadata": {
    "collapsed": false,
    "pycharm": {
     "name": "#%%\n"
    }
   },
   "outputs": [
    {
     "data": {
      "text/latex": [
       "\\begin{align}{ \\overline{R} }&={ 1.986\\ \\frac{\\mathrm{Btu}}{\\left(\\mathrm{lbmol} \\cdot \\mathrm{°R}\\right)} }&{ T_{room} }&={ 80\\ \\mathrm{°F} }&{  }\\end{align}"
      ],
      "text/plain": [
       "<IPython.core.display.Latex object>"
      ]
     },
     "execution_count": 4,
     "metadata": {
     },
     "output_type": "execute_result"
    },
    {
     "data": {
      "text/html": [
       "<table border=\"1\" class=\"dataframe\">\n",
       "  <thead>\n",
       "    <tr style=\"text-align: right;\">\n",
       "      <th></th>\n",
       "      <th>$T$ [°R]</th>\n",
       "      <th>$p$ [psi]</th>\n",
       "      <th>$N$ [lbmol]</th>\n",
       "    </tr>\n",
       "  </thead>\n",
       "  <tbody>\n",
       "    <tr>\n",
       "      <th>A</th>\n",
       "      <td>559.67</td>\n",
       "      <td>20.0</td>\n",
       "      <td>-</td>\n",
       "    </tr>\n",
       "    <tr>\n",
       "      <th>Ar</th>\n",
       "      <td>-</td>\n",
       "      <td>-</td>\n",
       "      <td>5.0</td>\n",
       "    </tr>\n",
       "    <tr>\n",
       "      <th>B</th>\n",
       "      <td>659.67</td>\n",
       "      <td>30.0</td>\n",
       "      <td>-</td>\n",
       "    </tr>\n",
       "    <tr>\n",
       "      <th>He</th>\n",
       "      <td>-</td>\n",
       "      <td>-</td>\n",
       "      <td>10.0</td>\n",
       "    </tr>\n",
       "  </tbody>\n",
       "</table>"
      ],
      "text/plain": [
       "<IPython.core.display.HTML object>"
      ]
     },
     "execution_count": 4,
     "metadata": {
     },
     "output_type": "execute_result"
    }
   ],
   "source": [
    "T_room = Quantity(80,'degF')\n",
    "T['B'] = Quantity(200,'degF')\n",
    "T['A'] = Quantity(100,'degF')\n",
    "p['B'] = Quantity(30,'psi')\n",
    "p['A'] = Quantity(20,'psi')\n",
    "N['He'] = Quantity(10,'lbmol')\n",
    "N['Ar'] = Quantity(5,'lbmol')\n",
    "Summary();"
   ]
  },
  {
   "cell_type": "code",
   "execution_count": 5,
   "metadata": {
    "collapsed": false,
    "pycharm": {
     "name": "#%%\n"
    }
   },
   "outputs": [
    {
     "data": {
      "text/html": [
       "<table border=\"1\" class=\"dataframe\">\n",
       "  <thead>\n",
       "    <tr style=\"text-align: right;\">\n",
       "      <th></th>\n",
       "      <th>$T$ [°R]</th>\n",
       "      <th>$p$ [psi]</th>\n",
       "      <th>$m$ [lb]</th>\n",
       "      <th>$M$ [lb/lbmol]</th>\n",
       "      <th>$N$ [lbmol]</th>\n",
       "      <th>$R$ [Btu/lb/°R]</th>\n",
       "      <th>$cv$ [Btu/lb/°R]</th>\n",
       "    </tr>\n",
       "  </thead>\n",
       "  <tbody>\n",
       "    <tr>\n",
       "      <th>A</th>\n",
       "      <td>559.67</td>\n",
       "      <td>20.0</td>\n",
       "      <td>-</td>\n",
       "      <td>-</td>\n",
       "      <td>-</td>\n",
       "      <td>-</td>\n",
       "      <td>-</td>\n",
       "    </tr>\n",
       "    <tr>\n",
       "      <th>Ar</th>\n",
       "      <td>-</td>\n",
       "      <td>-</td>\n",
       "      <td>199.74</td>\n",
       "      <td>39.948</td>\n",
       "      <td>5.0</td>\n",
       "      <td>0.049715</td>\n",
       "      <td>0.074567</td>\n",
       "    </tr>\n",
       "    <tr>\n",
       "      <th>B</th>\n",
       "      <td>659.67</td>\n",
       "      <td>30.0</td>\n",
       "      <td>-</td>\n",
       "      <td>-</td>\n",
       "      <td>-</td>\n",
       "      <td>-</td>\n",
       "      <td>-</td>\n",
       "    </tr>\n",
       "    <tr>\n",
       "      <th>He</th>\n",
       "      <td>-</td>\n",
       "      <td>-</td>\n",
       "      <td>40.026</td>\n",
       "      <td>4.0026</td>\n",
       "      <td>10.0</td>\n",
       "      <td>0.496177</td>\n",
       "      <td>0.744219</td>\n",
       "    </tr>\n",
       "  </tbody>\n",
       "</table>"
      ],
      "text/plain": [
       "<IPython.core.display.HTML object>"
      ]
     },
     "execution_count": 5,
     "metadata": {
     },
     "output_type": "execute_result"
    },
    {
     "data": {
      "text/markdown": [
       " Mass\n",
       "\\begin{align}\n",
       "  {M}_{ {{Ar}} } &=  \\underset{ Ar }{ mm }  = 39.948\\ \\frac{\\mathrm{kg}}{\\mathrm{kmol}} = 39.948\\ \\frac{\\mathrm{lb}}{\\mathrm{lbmol}}\n",
       "\\end{align}\n",
       "\n",
       "\n",
       "\\begin{align}\n",
       "  {m}_{ {{Ar}} } &=   {M}_{ {{Ar}} }  \\cdot  {N}_{ {{Ar}} }  \\\\\n",
       "    &=  39.948\\ \\frac{\\mathrm{lb}}{\\mathrm{lbmol}}  \\cdot  5\\ \\mathrm{lbmol} \\\\\n",
       "    &= 199.74\\ \\mathrm{lb}\n",
       "\\end{align}\n",
       "\n",
       "\n",
       "\\begin{align}\n",
       "  {M}_{ {{He}} } &=  \\underset{ He }{ mm }  = 4.0026\\ \\frac{\\mathrm{kg}}{\\mathrm{kmol}} = 4.0026\\ \\frac{\\mathrm{lb}}{\\mathrm{lbmol}}\n",
       "\\end{align}\n",
       "\n",
       "\n",
       "\\begin{align}\n",
       "  {m}_{ {{He}} } &=   {M}_{ {{He}} }  \\cdot  {N}_{ {{He}} }  \\\\\n",
       "    &=  4.0026\\ \\frac{\\mathrm{lb}}{\\mathrm{lbmol}}  \\cdot  10\\ \\mathrm{lbmol} \\\\\n",
       "    &= 40.026\\ \\mathrm{lb}\n",
       "\\end{align}\n",
       "\n",
       "\n",
       "\n",
       " Specific heat\n",
       "\\begin{align}\n",
       "  {c_{v}}_{ {{Ar}} } &=  \\mathrm{ \\underset{ Ar }{ cv } }\\left( T_{room} \\right)  = \\mathrm{ \\underset{ Ar }{ cv } }\\left( 80\\ \\mathrm{°F} \\right) = 0.074567\\ \\frac{\\mathrm{Btu}}{\\left(\\mathrm{lb} \\cdot \\mathrm{°R}\\right)}\n",
       "\\end{align}\n",
       "\n",
       "\n",
       "\\begin{align}\n",
       "  {c_{v}}_{ {{He}} } &=  \\mathrm{ \\underset{ He }{ cv } }\\left( T_{room} \\right)  = \\mathrm{ \\underset{ He }{ cv } }\\left( 80\\ \\mathrm{°F} \\right) = 0.74422\\ \\frac{\\mathrm{Btu}}{\\left(\\mathrm{lb} \\cdot \\mathrm{°R}\\right)}\n",
       "\\end{align}\n",
       "\n",
       "\n",
       "\n",
       " Specific Gas Constant\n",
       "\\begin{align}\n",
       "  {R}_{ {{Ar}} } &=  \\frac{ \\overline{R} }{ {M}_{ {{Ar}} } } \\\\\n",
       "    &= \\frac{ 1.986\\ \\frac{\\mathrm{Btu}}{\\left(\\mathrm{lbmol} \\cdot \\mathrm{°R}\\right)} }{ 39.948\\ \\frac{\\mathrm{lb}}{\\mathrm{lbmol}} }\\\\\n",
       "    &= 0.049715\\ \\frac{\\mathrm{Btu}}{\\left(\\mathrm{lb} \\cdot \\mathrm{°R}\\right)}\n",
       "\\end{align}\n",
       "\n",
       "\n",
       "\\begin{align}\n",
       "  {R}_{ {{He}} } &=  \\frac{ \\overline{R} }{ {M}_{ {{He}} } } \\\\\n",
       "    &= \\frac{ 1.986\\ \\frac{\\mathrm{Btu}}{\\left(\\mathrm{lbmol} \\cdot \\mathrm{°R}\\right)} }{ 4.0026\\ \\frac{\\mathrm{lb}}{\\mathrm{lbmol}} }\\\\\n",
       "    &= 0.49618\\ \\frac{\\mathrm{Btu}}{\\left(\\mathrm{lb} \\cdot \\mathrm{°R}\\right)}\n",
       "\\end{align}\n",
       "\n",
       "\n",
       "\n",
       "<table border=\"1\" class=\"dataframe\">\n",
       "  <thead>\n",
       "    <tr style=\"text-align: right;\">\n",
       "      <th></th>\n",
       "      <th>$T$ [°R]</th>\n",
       "      <th>$p$ [psi]</th>\n",
       "      <th>$m$ [lb]</th>\n",
       "      <th>$M$ [lb/lbmol]</th>\n",
       "      <th>$N$ [lbmol]</th>\n",
       "      <th>$R$ [Btu/lb/°R]</th>\n",
       "      <th>$cv$ [Btu/lb/°R]</th>\n",
       "    </tr>\n",
       "  </thead>\n",
       "  <tbody>\n",
       "    <tr>\n",
       "      <th>A</th>\n",
       "      <td>559.67</td>\n",
       "      <td>20.0</td>\n",
       "      <td>-</td>\n",
       "      <td>-</td>\n",
       "      <td>-</td>\n",
       "      <td>-</td>\n",
       "      <td>-</td>\n",
       "    </tr>\n",
       "    <tr>\n",
       "      <th>Ar</th>\n",
       "      <td>-</td>\n",
       "      <td>-</td>\n",
       "      <td>199.74</td>\n",
       "      <td>39.948</td>\n",
       "      <td>5.0</td>\n",
       "      <td>0.049715</td>\n",
       "      <td>0.074567</td>\n",
       "    </tr>\n",
       "    <tr>\n",
       "      <th>B</th>\n",
       "      <td>659.67</td>\n",
       "      <td>30.0</td>\n",
       "      <td>-</td>\n",
       "      <td>-</td>\n",
       "      <td>-</td>\n",
       "      <td>-</td>\n",
       "      <td>-</td>\n",
       "    </tr>\n",
       "    <tr>\n",
       "      <th>He</th>\n",
       "      <td>-</td>\n",
       "      <td>-</td>\n",
       "      <td>40.026</td>\n",
       "      <td>4.0026</td>\n",
       "      <td>10.0</td>\n",
       "      <td>0.496177</td>\n",
       "      <td>0.744219</td>\n",
       "    </tr>\n",
       "  </tbody>\n",
       "</table>\n",
       "\n"
      ],
      "text/plain": [
       "<IPython.core.display.Markdown object>"
      ]
     },
     "execution_count": 5,
     "metadata": {
     },
     "output_type": "execute_result"
    }
   ],
   "source": [
    "%%showcalc --comments\n",
    "# Mass\n",
    "M['Ar'] = Ar.mm\n",
    "m['Ar'] = M['Ar']*N['Ar']\n",
    "M['He'] = He.mm\n",
    "m['He'] = M['He']*N['He']\n",
    "\n",
    "# Specific heat\n",
    "c_v['Ar'] = Ar.cv(T_room)\n",
    "c_v['He'] = He.cv(T_room)\n",
    "\n",
    "# Specific Gas Constant\n",
    "R['Ar'] = Rbar/M['Ar']\n",
    "R['He'] = Rbar/M['He']\n",
    "\n",
    "states.display();"
   ]
  },
  {
   "cell_type": "markdown",
   "metadata": {
    "collapsed": false,
    "pycharm": {
     "name": "#%% md\n"
    }
   },
   "source": [
    "### First Law"
   ]
  },
  {
   "cell_type": "code",
   "execution_count": 8,
   "metadata": {
    "collapsed": false,
    "pycharm": {
     "name": "#%%\n"
    }
   },
   "outputs": [
    {
     "data": {
      "text/markdown": [
       "\\begin{align}\n",
       "  {T}_{ {{2}} } &=  \\frac{   {m}_{ {{Ar}} }  \\cdot  {c_{v}}_{ {{Ar}} }   \\cdot  {T}_{ {{A}} }  +   {m}_{ {{He}} }  \\cdot  {c_{v}}_{ {{He}} }   \\cdot  {T}_{ {{B}} }  }{  {m}_{ {{Ar}} }  \\cdot  {c_{v}}_{ {{Ar}} }  +  {m}_{ {{He}} }  \\cdot  {c_{v}}_{ {{He}} }  } \\\\\n",
       "    &= \\frac{   199.74\\ \\mathrm{lb}  \\cdot  0.074567\\ \\frac{\\mathrm{Btu}}{\\left(\\mathrm{lb} \\cdot \\mathrm{°R}\\right)}   \\cdot  559.67\\ \\mathrm{°R}  +   40.026\\ \\mathrm{lb}  \\cdot  0.74422\\ \\frac{\\mathrm{Btu}}{\\left(\\mathrm{lb} \\cdot \\mathrm{°R}\\right)}   \\cdot  659.67\\ \\mathrm{°R}  }{  199.74\\ \\mathrm{lb}  \\cdot  0.074567\\ \\frac{\\mathrm{Btu}}{\\left(\\mathrm{lb} \\cdot \\mathrm{°R}\\right)}  +  40.026\\ \\mathrm{lb}  \\cdot  0.74422\\ \\frac{\\mathrm{Btu}}{\\left(\\mathrm{lb} \\cdot \\mathrm{°R}\\right)}  }\\\\\n",
       "    &= 626.34\\ \\mathrm{°R}\n",
       "\\end{align}\n",
       "\n"
      ],
      "text/plain": [
       "<IPython.core.display.Markdown object>"
      ]
     },
     "execution_count": 8,
     "metadata": {
     },
     "output_type": "execute_result"
    }
   ],
   "source": [
    "%%showcalc\n",
    "T[2] = (m['Ar']*c_v['Ar']*T['A'] + m['He']*c_v['He']*T['B'])/(m['Ar']*c_v['Ar']+m['He']*c_v['He'])"
   ]
  },
  {
   "cell_type": "markdown",
   "metadata": {
    "collapsed": false,
    "pycharm": {
     "name": "#%% md\n"
    }
   },
   "source": [
    "### Final Pressure - Ideal Gas Law"
   ]
  },
  {
   "cell_type": "code",
   "execution_count": 9,
   "metadata": {
    "collapsed": false,
    "pycharm": {
     "name": "#%%\n"
    }
   },
   "outputs": [
    {
     "data": {
      "text/markdown": [
       "Volumes for each compartment\n",
       "\\begin{align}\n",
       "  {V}_{ {{A}} } &=  \\frac{   {N}_{ {{Ar}} }  \\cdot  \\overline{R}   \\cdot  {T}_{ {{A}} }  }{ {p}_{ {{A}} } } \\\\\n",
       "    &= \\frac{   5\\ \\mathrm{lbmol}  \\cdot  1.986\\ \\frac{\\mathrm{Btu}}{\\left(\\mathrm{lbmol} \\cdot \\mathrm{°R}\\right)}   \\cdot  559.67\\ \\mathrm{°R}  }{ 20\\ \\mathrm{psi} }\\\\\n",
       "    &= 1501.6\\ \\mathrm{ft}^{3}\n",
       "\\end{align}\n",
       "\n",
       "\\begin{align}\n",
       "  {V}_{ {{B}} } &=  \\frac{   {N}_{ {{He}} }  \\cdot  \\overline{R}   \\cdot  {T}_{ {{B}} }  }{ {p}_{ {{B}} } } \\\\\n",
       "    &= \\frac{   10\\ \\mathrm{lbmol}  \\cdot  1.986\\ \\frac{\\mathrm{Btu}}{\\left(\\mathrm{lbmol} \\cdot \\mathrm{°R}\\right)}   \\cdot  659.67\\ \\mathrm{°R}  }{ 30\\ \\mathrm{psi} }\\\\\n",
       "    &= 2359.9\\ \\mathrm{ft}^{3}\n",
       "\\end{align}\n",
       "\n",
       "Total volume\n",
       "\\begin{align}\n",
       "  {V}_{ {{2}} } &=  {V}_{ {{A}} } + {V}_{ {{B}} } \\\\\n",
       "    &= 1501.6\\ \\mathrm{ft}^{3} + 2359.9\\ \\mathrm{ft}^{3}\\\\\n",
       "    &= 3861.5\\ \\mathrm{ft}^{3}\n",
       "\\end{align}\n",
       "\n",
       "Final Pressure\n",
       "\\begin{align}\n",
       "  {N}_{ {{mix}} } &=  {N}_{ {{Ar}} } + {N}_{ {{He}} } \\\\\n",
       "    &= 5\\ \\mathrm{lbmol} + 10\\ \\mathrm{lbmol}\\\\\n",
       "    &= 15\\ \\mathrm{lbmol}\n",
       "\\end{align}\n",
       "\n",
       "\\begin{align}\n",
       "  {p}_{ {{2}} } &=  \\frac{   {N}_{ {{mix}} }  \\cdot  \\overline{R}   \\cdot  {T}_{ {{2}} }  }{ {V}_{ {{2}} } } \\\\\n",
       "    &= \\frac{   15\\ \\mathrm{lbmol}  \\cdot  1.986\\ \\frac{\\mathrm{Btu}}{\\left(\\mathrm{lbmol} \\cdot \\mathrm{°R}\\right)}   \\cdot  626.34\\ \\mathrm{°R}  }{ 3861.5\\ \\mathrm{ft}^{3} }\\\\\n",
       "    &= 26.111\\ \\mathrm{psi}\n",
       "\\end{align}\n",
       "\n"
      ],
      "text/plain": [
       "<IPython.core.display.Markdown object>"
      ]
     },
     "execution_count": 9,
     "metadata": {
     },
     "output_type": "execute_result"
    }
   ],
   "source": [
    "%%showcalc\n",
    "\"Volumes for each compartment\"\n",
    "V['A'] = (N['Ar']*Rbar*T['A'])/p['A']\n",
    "V['B'] = (N['He']*Rbar*T['B'])/p['B']\n",
    "\n",
    "\"Total volume\"\n",
    "V[2] = V['A'] + V['B']\n",
    "\n",
    "\"Final Pressure\"\n",
    "N['mix'] = N['Ar'] + N['He']\n",
    "p['2'] = N['mix']*Rbar*T['2']/(V[2])"
   ]
  },
  {
   "cell_type": "markdown",
   "metadata": {
    "collapsed": false,
    "pycharm": {
     "name": "#%% md\n"
    }
   },
   "source": [
    "### Entropy Generation"
   ]
  },
  {
   "cell_type": "code",
   "execution_count": 10,
   "metadata": {
    "collapsed": false,
    "pycharm": {
     "name": "#%%\n"
    }
   },
   "outputs": [
    {
     "data": {
      "text/markdown": [
       "2nd Law\n",
       "\\begin{align}\n",
       "  S_{gen} &=   {m}_{ {{Ar}} }  \\cdot  \\left(  {c_{v}}_{ {{Ar}} }  \\cdot  \\mathrm{ log }\\left( \\frac{ {T}_{ {{2}} } }{ {T}_{ {{A}} } } \\right)  +  {R}_{ {{Ar}} }  \\cdot  \\mathrm{ log }\\left( \\frac{ {V}_{ {{2}} } }{ {V}_{ {{A}} } } \\right)  \\right)  +  {m}_{ {{He}} }  \\cdot  \\left(  {c_{v}}_{ {{He}} }  \\cdot  \\mathrm{ log }\\left( \\frac{ {T}_{ {{2}} } }{ {T}_{ {{B}} } } \\right)  +  {R}_{ {{He}} }  \\cdot  \\mathrm{ log }\\left( \\frac{ {V}_{ {{2}} } }{ {V}_{ {{B}} } } \\right)  \\right)  \\\\\n",
       "    &=  199.74\\ \\mathrm{lb}  \\cdot  \\left(  0.074567\\ \\frac{\\mathrm{Btu}}{\\left(\\mathrm{lb} \\cdot \\mathrm{°R}\\right)}  \\cdot  \\mathrm{ log }\\left( \\frac{ 626.34\\ \\mathrm{°R} }{ 559.67\\ \\mathrm{°R} } \\right)  +  0.049715\\ \\frac{\\mathrm{Btu}}{\\left(\\mathrm{lb} \\cdot \\mathrm{°R}\\right)}  \\cdot  \\mathrm{ log }\\left( \\frac{ 3861.5\\ \\mathrm{ft}^{3} }{ 1501.6\\ \\mathrm{ft}^{3} } \\right)  \\right)  +  40.026\\ \\mathrm{lb}  \\cdot  \\left(  0.74422\\ \\frac{\\mathrm{Btu}}{\\left(\\mathrm{lb} \\cdot \\mathrm{°R}\\right)}  \\cdot  \\mathrm{ log }\\left( \\frac{ 626.34\\ \\mathrm{°R} }{ 659.67\\ \\mathrm{°R} } \\right)  +  0.49618\\ \\frac{\\mathrm{Btu}}{\\left(\\mathrm{lb} \\cdot \\mathrm{°R}\\right)}  \\cdot  \\mathrm{ log }\\left( \\frac{ 3861.5\\ \\mathrm{ft}^{3} }{ 2359.9\\ \\mathrm{ft}^{3} } \\right)  \\right) \\\\\n",
       "    &= 19.291\\ \\frac{\\mathrm{Btu}}{\\mathrm{°R}}\n",
       "\\end{align}\n",
       "\n"
      ],
      "text/plain": [
       "<IPython.core.display.Markdown object>"
      ]
     },
     "execution_count": 10,
     "metadata": {
     },
     "output_type": "execute_result"
    }
   ],
   "source": [
    "%%showcalc\n",
    "\"2nd Law\"\n",
    "S_gen = m['Ar']*( c_v['Ar']*log(T[2]/T['A']) + R['Ar']*log(V['2']/V['A']) ) + m['He']*( c_v['He']*log(T[2]/T['B']) + R['He']*log(V[2]/V['B']) )"
   ]
  },
  {
   "cell_type": "code",
   "execution_count": 12,
   "metadata": {
    "collapsed": false,
    "pycharm": {
     "name": "#%%\n"
    }
   },
   "outputs": [
   ],
   "source": [
    "#!jupyter nbconvert --to html_embed --no-input --no-prompt \"Ex13.2 Mixing Gases.ipynb\""
   ]
  }
 ],
 "metadata": {
  "kernelspec": {
   "argv": [
    "/usr/bin/python3",
    "-m",
    "ipykernel",
    "--HistoryManager.enabled=False",
    "--matplotlib=inline",
    "-c",
    "%config InlineBackend.figure_formats = set(['retina'])\nimport matplotlib; matplotlib.rcParams['figure.figsize'] = (12, 7)",
    "-f",
    "{connection_file}"
   ],
   "display_name": "Python 3 (system-wide)",
   "env": {
   },
   "language": "python",
   "metadata": {
    "cocalc": {
     "description": "Python 3 programming language",
     "priority": 100,
     "url": "https://www.python.org/"
    }
   },
   "name": "python3",
   "resource_dir": "/ext/jupyter/kernels/python3"
  },
  "language_info": {
   "codemirror_mode": {
    "name": "ipython",
    "version": 3
   },
   "file_extension": ".py",
   "mimetype": "text/x-python",
   "name": "python",
   "nbconvert_exporter": "python",
   "pygments_lexer": "ipython3",
   "version": "3.8.10"
  }
 },
 "nbformat": 4,
 "nbformat_minor": 4
}