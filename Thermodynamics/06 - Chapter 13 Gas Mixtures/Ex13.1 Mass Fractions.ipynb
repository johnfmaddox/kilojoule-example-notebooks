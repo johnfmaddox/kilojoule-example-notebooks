{
 "cells": [
  {
   "cell_type": "markdown",
   "metadata": {
    "collapsed": false
   },
   "source": [
    "# Example 13.1: Mass Fractions\n",
    "\n",
    "*John F. Maddox, Ph.D., P.E.<br>\n",
    "University of Kentucky - Paducah Campus<br>\n",
    "ME 321: Engineering Thermodynamics II<br>*"
   ]
  },
  {
   "cell_type": "markdown",
   "metadata": {
    "collapsed": false
   },
   "source": [
    "## Problem Statement\n",
    "Compute the molecular weight of a mixture of 78% $\\mathrm{N}_2$, 21% $\\mathrm{O_2}$, 1% $\\mathrm{Ar}$ (by volume). Convert the mixture description to mass fractions."
   ]
  },
  {
   "cell_type": "markdown",
   "metadata": {
    "collapsed": false
   },
   "source": [
    "## Solution\n",
    "\n",
    "__[Video Explanation](https://uky.yuja.com/V/Video?v=3074202&node=10465101&a=1724602972&autoplay=1)__"
   ]
  },
  {
   "cell_type": "markdown",
   "metadata": {
    "collapsed": false
   },
   "source": [
    "### Python Initialization\n",
    "We'll start by importing the libraries we will use for our analysis and initializing dictionaries to hold the properties we will be using."
   ]
  },
  {
   "cell_type": "code",
   "execution_count": 3,
   "metadata": {
    "collapsed": false,
    "jupyter": {
    }
   },
   "outputs": [
   ],
   "source": [
    "from kilojoule.templates.default import *\n",
    "   \n",
    "N2 =idealgas.Properties('N2')\n",
    "O2 = idealgas.Properties('O2')\n",
    "Ar = idealgas.Properties('Ar')\n",
    "\n",
    "V = Vol\n",
    "y = states.add_property('y','')\n",
    "M = states.add_property('M','kg/kmol')\n",
    "mf = states.add_property('mf','')"
   ]
  },
  {
   "cell_type": "code",
   "execution_count": 4,
   "metadata": {
    "collapsed": false
   },
   "outputs": [
    {
     "data": {
      "text/markdown": [
       "## Volumes\n",
       "We can visualize this as $1\\ \\mathrm{m^3}$ filled with an ideal gas with the given \n",
       "\\begin{align}\n",
       "  {V}_{ {{N_{2}}} } &=  0.78\\ \\mathrm{m}^{3} \n",
       "\\end{align}\n",
       "\n",
       "\\begin{align}\n",
       "  {V}_{ {{O_{2}}} } &=  0.21\\ \\mathrm{m}^{3} \n",
       "\\end{align}\n",
       "\n",
       "\\begin{align}\n",
       "  {V}_{ {{Ar}} } &=  0.01\\ \\mathrm{m}^{3} \n",
       "\\end{align}\n",
       "\n",
       "\\begin{align}\n",
       "  {V}_{ {{m}} } &=  {V}_{ {{N_{2}}} } + {V}_{ {{O_{2}}} } + {V}_{ {{Ar}} } \\\\\n",
       "    &= 0.78\\ \\mathrm{m}^{3} + 0.21\\ \\mathrm{m}^{3} + 0.01\\ \\mathrm{m}^{3}\\\\\n",
       "    &= 1.0\\ \\mathrm{m}^{3}\n",
       "\\end{align}\n",
       "\n"
      ],
      "text/plain": [
       "<IPython.core.display.Markdown object>"
      ]
     },
     "execution_count": 4,
     "metadata": {
     },
     "output_type": "execute_result"
    }
   ],
   "source": [
    "%%showcalc\n",
    "\"## Volumes\"\n",
    "\"We can visualize this as $1\\ \\mathrm{m^3}$ filled with an ideal gas with the given \"\n",
    "V['N2'] = Quantity(0.78,'m^3')\n",
    "V['O2'] = Quantity(0.21,'m^3')\n",
    "V['Ar'] = Quantity(0.01,'m^3')\n",
    "V['m'] = V['N2'] + V['O2'] + V['Ar']"
   ]
  },
  {
   "cell_type": "markdown",
   "metadata": {
    "collapsed": false
   },
   "source": [
    "## Mole Fractions\n",
    "For an ideal gas, the mole fraction is equal to the volume fraction."
   ]
  },
  {
   "cell_type": "code",
   "execution_count": 7,
   "metadata": {
    "collapsed": false
   },
   "outputs": [
    {
     "data": {
      "text/markdown": [
       "\\begin{align}\n",
       "  {y}_{ {{N_{2}}} } &=  \\frac{ {V}_{ {{N_{2}}} } }{ {V}_{ {{m}} } } \\\\\n",
       "    &= \\frac{ 0.78\\ \\mathrm{m}^{3} }{ 1.0\\ \\mathrm{m}^{3} }\\\\\n",
       "    &= 0.78\n",
       "\\end{align}\n",
       "\n"
      ],
      "text/plain": [
       "<IPython.core.display.Markdown object>"
      ]
     },
     "execution_count": 7,
     "metadata": {
     },
     "output_type": "execute_result"
    },
    {
     "data": {
      "text/markdown": [
       "\\begin{align}\n",
       "  {y}_{ {{O_{2}}} } &=  \\frac{ {V}_{ {{O_{2}}} } }{ {V}_{ {{m}} } } \\\\\n",
       "    &= \\frac{ 0.21\\ \\mathrm{m}^{3} }{ 1.0\\ \\mathrm{m}^{3} }\\\\\n",
       "    &= 0.21\n",
       "\\end{align}\n",
       "\n"
      ],
      "text/plain": [
       "<IPython.core.display.Markdown object>"
      ]
     },
     "execution_count": 7,
     "metadata": {
     },
     "output_type": "execute_result"
    },
    {
     "data": {
      "text/markdown": [
       "\\begin{align}\n",
       "  {y}_{ {{Ar}} } &=  \\frac{ {V}_{ {{Ar}} } }{ {V}_{ {{m}} } } \\\\\n",
       "    &= \\frac{ 0.01\\ \\mathrm{m}^{3} }{ 1.0\\ \\mathrm{m}^{3} }\\\\\n",
       "    &= 0.01\n",
       "\\end{align}\n",
       "\n"
      ],
      "text/plain": [
       "<IPython.core.display.Markdown object>"
      ]
     },
     "execution_count": 7,
     "metadata": {
     },
     "output_type": "execute_result"
    },
    {
     "data": {
      "text/markdown": [
       "\\begin{align}\n",
       "  {y}_{ {{m}} } &=  \\frac{ {V}_{ {{m}} } }{ {V}_{ {{m}} } } \\\\\n",
       "    &= \\frac{ 1.0\\ \\mathrm{m}^{3} }{ 1.0\\ \\mathrm{m}^{3} }\\\\\n",
       "    &= 1.0\n",
       "\\end{align}\n",
       "\n"
      ],
      "text/plain": [
       "<IPython.core.display.Markdown object>"
      ]
     },
     "execution_count": 7,
     "metadata": {
     },
     "output_type": "execute_result"
    }
   ],
   "source": [
    "%%showcalc --repeat-for \"i in 'N2 O2 Ar m'.split()\"\n",
    "y[i] = V[i]/V['m']"
   ]
  },
  {
   "cell_type": "markdown",
   "metadata": {
    "collapsed": false
   },
   "source": [
    "## Apparent Molar Mass\n",
    "The apparent molar mass of the mixture can be calculated with a mole weighted average of the component molar masses."
   ]
  },
  {
   "cell_type": "code",
   "execution_count": 8,
   "metadata": {
    "collapsed": false
   },
   "outputs": [
    {
     "data": {
      "text/markdown": [
       "\\begin{align}\n",
       "  {M}_{ {{N_{2}}} } &=  \\underset{ N2 }{ mm }  = 28.013\\ \\frac{\\mathrm{kg}}{\\mathrm{kmol}} \n",
       "\\end{align}\n",
       "\n",
       "\\begin{align}\n",
       "  {M}_{ {{O_{2}}} } &=  \\underset{ O2 }{ mm }  = 31.999\\ \\frac{\\mathrm{kg}}{\\mathrm{kmol}} \n",
       "\\end{align}\n",
       "\n",
       "\\begin{align}\n",
       "  {M}_{ {{Ar}} } &=  \\underset{ Ar }{ mm }  = 39.948\\ \\frac{\\mathrm{kg}}{\\mathrm{kmol}} \n",
       "\\end{align}\n",
       "\n",
       "\\begin{align}\n",
       "  {M}_{ {{m}} } &=  \\sum_{i=[N2,O2,Ar]}{  {y}_{ {{m}} }  \\cdot  {M}_{ {{m}} }  } \\\\\n",
       "    &= { 21.851\\ \\frac{\\mathrm{kg}}{\\mathrm{kmol}}+6.7197\\ \\frac{\\mathrm{kg}}{\\mathrm{kmol}}+0.39948\\ \\frac{\\mathrm{kg}}{\\mathrm{kmol}} }\\\\\n",
       "    &= 28.97\\ \\frac{\\mathrm{kg}}{\\mathrm{kmol}}\n",
       "\\end{align}\n",
       "\n"
      ],
      "text/plain": [
       "<IPython.core.display.Markdown object>"
      ]
     },
     "execution_count": 8,
     "metadata": {
     },
     "output_type": "execute_result"
    }
   ],
   "source": [
    "%%showcalc\n",
    "M['N2'] = N2.mm\n",
    "M['O2'] = O2.mm\n",
    "M['Ar'] = Ar.mm\n",
    "M['m'] = sum([y[i]*M[i] for i in ['N2', 'O2', 'Ar']])\n"
   ]
  },
  {
   "cell_type": "markdown",
   "metadata": {
    "collapsed": false
   },
   "source": [
    "## Mass fraction composition\n",
    "The mixture composition can be expressed on a mass fraction basis using the component mole fraction, component molar mass, and mixture molar mass."
   ]
  },
  {
   "cell_type": "code",
   "execution_count": 9,
   "metadata": {
    "collapsed": false
   },
   "outputs": [
    {
     "data": {
      "text/markdown": [
       "\\begin{align}\n",
       "  {mf}_{ {{N_{2}}} } &=  \\frac{  {y}_{ {{N_{2}}} }  \\cdot  {M}_{ {{N_{2}}} }  }{ {M}_{ {{m}} } } \\\\\n",
       "    &= \\frac{  0.78  \\cdot  28.013\\ \\frac{\\mathrm{kg}}{\\mathrm{kmol}}  }{ 28.97\\ \\frac{\\mathrm{kg}}{\\mathrm{kmol}} }\\\\\n",
       "    &= 0.75425\n",
       "\\end{align}\n",
       "\n"
      ],
      "text/plain": [
       "<IPython.core.display.Markdown object>"
      ]
     },
     "execution_count": 9,
     "metadata": {
     },
     "output_type": "execute_result"
    },
    {
     "data": {
      "text/markdown": [
       "\\begin{align}\n",
       "  {mf}_{ {{O_{2}}} } &=  \\frac{  {y}_{ {{O_{2}}} }  \\cdot  {M}_{ {{O_{2}}} }  }{ {M}_{ {{m}} } } \\\\\n",
       "    &= \\frac{  0.21  \\cdot  31.999\\ \\frac{\\mathrm{kg}}{\\mathrm{kmol}}  }{ 28.97\\ \\frac{\\mathrm{kg}}{\\mathrm{kmol}} }\\\\\n",
       "    &= 0.23196\n",
       "\\end{align}\n",
       "\n"
      ],
      "text/plain": [
       "<IPython.core.display.Markdown object>"
      ]
     },
     "execution_count": 9,
     "metadata": {
     },
     "output_type": "execute_result"
    },
    {
     "data": {
      "text/markdown": [
       "\\begin{align}\n",
       "  {mf}_{ {{Ar}} } &=  \\frac{  {y}_{ {{Ar}} }  \\cdot  {M}_{ {{Ar}} }  }{ {M}_{ {{m}} } } \\\\\n",
       "    &= \\frac{  0.01  \\cdot  39.948\\ \\frac{\\mathrm{kg}}{\\mathrm{kmol}}  }{ 28.97\\ \\frac{\\mathrm{kg}}{\\mathrm{kmol}} }\\\\\n",
       "    &= 0.01379\n",
       "\\end{align}\n",
       "\n"
      ],
      "text/plain": [
       "<IPython.core.display.Markdown object>"
      ]
     },
     "execution_count": 9,
     "metadata": {
     },
     "output_type": "execute_result"
    },
    {
     "data": {
      "text/markdown": [
       "\\begin{align}\n",
       "  {mf}_{ {{m}} } &=  \\frac{  {y}_{ {{m}} }  \\cdot  {M}_{ {{m}} }  }{ {M}_{ {{m}} } } \\\\\n",
       "    &= \\frac{  1.0  \\cdot  28.97\\ \\frac{\\mathrm{kg}}{\\mathrm{kmol}}  }{ 28.97\\ \\frac{\\mathrm{kg}}{\\mathrm{kmol}} }\\\\\n",
       "    &= 1.0\n",
       "\\end{align}\n",
       "\n"
      ],
      "text/plain": [
       "<IPython.core.display.Markdown object>"
      ]
     },
     "execution_count": 9,
     "metadata": {
     },
     "output_type": "execute_result"
    }
   ],
   "source": [
    "%%showcalc --repeat-for \" i in ['N2', 'O2', 'Ar', 'm'] \"\n",
    "mf[i] = y[i]*M[i]/M['m']"
   ]
  },
  {
   "cell_type": "code",
   "execution_count": 11,
   "metadata": {
    "collapsed": false
   },
   "outputs": [
   ],
   "source": [
    "# Export your solution to submit to Canvas\n",
    "# 1) Ensure all cells above show your final solution\n",
    "# 2) Click the 'Save' button in the toolbar\n",
    "# 3) Uncomment (remove the #) from the last line in this cell\n",
    "# 4) Ensure the filename in the command below matches the filename of this notebook\n",
    "# 5) Execute this cell to create an HTML file showing only the output \n",
    "# 6) Submit the .html file located in the folder with this notebook\n",
    "\n",
    "#!jupyter nbconvert --to html --no-input --no-prompt \"Ex13.1 Mass Fractions.ipynb\""
   ]
  }
 ],
 "metadata": {
  "interpreter": {
   "hash": "5ac08260a19af6e15a40ac86f761d0cfbb39d3d0196eae74a8efbd73e99cc68e"
  },
  "kernelspec": {
   "argv": [
    "/usr/bin/python3",
    "-m",
    "ipykernel",
    "--matplotlib=inline",
    "-c",
    "%config InlineBackend.figure_formats = set(['retina'])\nimport matplotlib; matplotlib.rcParams['figure.figsize'] = (12, 7)",
    "-f",
    "{connection_file}"
   ],
   "display_name": "Python 3 (system-wide)",
   "env": {
   },
   "language": "python",
   "metadata": {
    "cocalc": {
     "description": "Python 3 programming language",
     "priority": 100,
     "url": "https://www.python.org/"
    }
   },
   "name": "python3",
   "resource_dir": "/ext/jupyter/kernels/python3"
  },
  "language_info": {
   "codemirror_mode": {
    "name": "ipython",
    "version": 3
   },
   "file_extension": ".py",
   "mimetype": "text/x-python",
   "name": "python",
   "nbconvert_exporter": "python",
   "pygments_lexer": "ipython3",
   "version": "3.8.10"
  }
 },
 "nbformat": 4,
 "nbformat_minor": 4
}