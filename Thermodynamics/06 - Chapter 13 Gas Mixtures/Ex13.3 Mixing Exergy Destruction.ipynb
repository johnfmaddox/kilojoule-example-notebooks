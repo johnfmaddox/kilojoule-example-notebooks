{
 "cells": [
  {
   "cell_type": "markdown",
   "metadata": {
    "collapsed": false,
    "pycharm": {
     "name": "#%% md\n"
    }
   },
   "source": [
    "# Example 13.3: Mixing Exergy Destruction\n",
    "\n",
    "_John F. Maddox, Ph.D., P.E.<br>\n",
    "University of Kentucky - Paducah Campus<br>\n",
    "ME 321: Engineering Thermodynamics II<br>_"
   ]
  },
  {
   "cell_type": "markdown",
   "metadata": {
    "collapsed": false,
    "pycharm": {
     "name": "#%% md\n"
    }
   },
   "source": [
    "## Problem Statement\n",
    "What is the exergy destruction when 79% nitrogen and 21% oxygen (initially separated) mix at constant temperature and pressure, $T_0=300\\ \\mathrm{K}$"
   ]
  },
  {
   "cell_type": "code",
   "execution_count": 1,
   "metadata": {
    "collapsed": false
   },
   "outputs": [
    {
     "data": {
      "image/png": "[encoded data removed]",
      "image/svg+xml": "<?xml version=\"1.0\" encoding=\"utf-8\" standalone=\"no\"?>\n<!DOCTYPE svg PUBLIC \"-//W3C//DTD SVG 1.1//EN\"\n  \"http://www.w3.org/Graphics/SVG/1.1/DTD/svg11.dtd\">\n<svg xmlns:xlink=\"http://www.w3.org/1999/xlink\" width=\"267.1968pt\" height=\"142.92pt\" viewBox=\"0 0 267.1968 142.92\" xmlns=\"http://www.w3.org/2000/svg\" version=\"1.1\">\n <metadata>\n  <rdf:RDF xmlns:dc=\"http://purl.org/dc/elements/1.1/\" xmlns:cc=\"http://creativecommons.org/ns#\" xmlns:rdf=\"http://www.w3.org/1999/02/22-rdf-syntax-ns#\">\n   <cc:Work>\n    <dc:type rdf:resource=\"http://purl.org/dc/dcmitype/StillImage\"/>\n    <dc:date>2022-06-13T20:24:43.126298</dc:date>\n    <dc:format>image/svg+xml</dc:format>\n    <dc:creator>\n     <cc:Agent>\n      <dc:title>Matplotlib v3.5.2, https://matplotlib.org/</dc:title>\n     </cc:Agent>\n    </dc:creator>\n   </cc:Work>\n  </rdf:RDF>\n </metadata>\n <defs>\n  <style type=\"text/css\">*{stroke-linejoin: round; stroke-linecap: butt}</style>\n </defs>\n <g id=\"figure_1\">\n  <g id=\"patch_1\">\n   <path d=\"M 0 142.92 \nL 267.1968 142.92 \nL 267.1968 0 \nL 0 0 \nz\n\" style=\"fill: #ffffff\"/>\n  </g>\n  <g id=\"axes_1\">\n   <g id=\"line2d_1\">\n    <path d=\"M 10.26 132.66 \nL 10.26 71.46 \nL 10.26 10.26 \n\" clip-path=\"url(#pb5bacf71c4)\" style=\"fill: none; stroke: #000000; stroke-width: 2; stroke-linecap: round\"/>\n   </g>\n   <g id=\"line2d_2\">\n    <path d=\"M 10.26 10.26 \nL 132.66 10.26 \nL 255.06 10.26 \n\" clip-path=\"url(#pb5bacf71c4)\" style=\"fill: none; stroke: #000000; stroke-width: 2; stroke-linecap: round\"/>\n   </g>\n   <g id=\"line2d_3\">\n    <path d=\"M 255.06 10.26 \nL 255.06 71.46 \nL 255.06 132.66 \n\" clip-path=\"url(#pb5bacf71c4)\" style=\"fill: none; stroke: #000000; stroke-width: 2; stroke-linecap: round\"/>\n   </g>\n   <g id=\"line2d_4\">\n    <path d=\"M 255.06 132.66 \nL 132.66 132.66 \nL 10.26 132.66 \n\" clip-path=\"url(#pb5bacf71c4)\" style=\"fill: none; stroke: #000000; stroke-width: 2; stroke-linecap: round\"/>\n   </g>\n   <g id=\"line2d_5\">\n    <path d=\"M 132.66 132.66 \nL 132.66 71.46 \nL 132.66 10.26 \n\" clip-path=\"url(#pb5bacf71c4)\" style=\"fill: none; stroke: #000000; stroke-width: 2; stroke-linecap: round\"/>\n   </g>\n   <g id=\"text_1\">\n    <g clip-path=\"url(#pb5bacf71c4)\">\n     <!-- Nitrogen -->\n     <g transform=\"translate(47.83793 61.228359)scale(0.125 -0.125)\">\n      <defs>\n       <path id=\"LiberationSans-4e\" d=\"M 3381 0 \nL 1025 3750 \nQ 1031 3597 1041 3447 \nQ 1047 3319 1051 3176 \nQ 1056 3034 1056 2925 \nL 1056 0 \nL 525 0 \nL 525 4403 \nL 1219 4403 \nL 3600 628 \nQ 3591 781 3581 934 \nQ 3575 1066 3569 1220 \nQ 3563 1375 3563 1516 \nL 3563 4403 \nL 4100 4403 \nL 4100 0 \nL 3381 0 \nz\n\" transform=\"scale(0.015625)\"/>\n       <path id=\"LiberationSans-69\" d=\"M 428 4100 \nL 428 4638 \nL 991 4638 \nL 991 4100 \nL 428 4100 \nz\nM 428 0 \nL 428 3381 \nL 991 3381 \nL 991 0 \nL 428 0 \nz\n\" transform=\"scale(0.015625)\"/>\n       <path id=\"LiberationSans-74\" d=\"M 1731 25 \nQ 1603 -9 1470 -29 \nQ 1338 -50 1163 -50 \nQ 488 -50 488 716 \nL 488 2972 \nL 97 2972 \nL 97 3381 \nL 509 3381 \nL 675 4138 \nL 1050 4138 \nL 1050 3381 \nL 1675 3381 \nL 1675 2972 \nL 1050 2972 \nL 1050 838 \nQ 1050 594 1129 495 \nQ 1209 397 1406 397 \nQ 1488 397 1564 409 \nQ 1641 422 1731 441 \nL 1731 25 \nz\n\" transform=\"scale(0.015625)\"/>\n       <path id=\"LiberationSans-72\" d=\"M 444 0 \nL 444 2594 \nQ 444 2700 442 2811 \nQ 441 2922 437 3025 \nQ 434 3128 431 3218 \nQ 428 3309 425 3381 \nL 956 3381 \nQ 959 3309 964 3217 \nQ 969 3125 973 3028 \nQ 978 2931 979 2842 \nQ 981 2753 981 2691 \nL 994 2691 \nQ 1053 2884 1120 3026 \nQ 1188 3169 1278 3261 \nQ 1369 3353 1494 3398 \nQ 1619 3444 1797 3444 \nQ 1866 3444 1928 3433 \nQ 1991 3422 2025 3413 \nL 2025 2897 \nQ 1969 2913 1894 2920 \nQ 1819 2928 1725 2928 \nQ 1531 2928 1395 2840 \nQ 1259 2753 1173 2598 \nQ 1088 2444 1047 2230 \nQ 1006 2016 1006 1763 \nL 1006 0 \nL 444 0 \nz\n\" transform=\"scale(0.015625)\"/>\n       <path id=\"LiberationSans-6f\" d=\"M 3291 1694 \nQ 3291 806 2900 371 \nQ 2509 -63 1766 -63 \nQ 1413 -63 1134 43 \nQ 856 150 664 369 \nQ 472 588 370 917 \nQ 269 1247 269 1694 \nQ 269 3444 1784 3444 \nQ 2178 3444 2464 3334 \nQ 2750 3225 2933 3006 \nQ 3116 2788 3203 2459 \nQ 3291 2131 3291 1694 \nz\nM 2700 1694 \nQ 2700 2088 2639 2344 \nQ 2578 2600 2461 2753 \nQ 2344 2906 2175 2967 \nQ 2006 3028 1794 3028 \nQ 1578 3028 1404 2964 \nQ 1231 2900 1109 2745 \nQ 988 2591 923 2334 \nQ 859 2078 859 1694 \nQ 859 1300 928 1042 \nQ 997 784 1117 631 \nQ 1238 478 1402 415 \nQ 1566 353 1759 353 \nQ 1975 353 2150 414 \nQ 2325 475 2447 628 \nQ 2569 781 2634 1040 \nQ 2700 1300 2700 1694 \nz\n\" transform=\"scale(0.015625)\"/>\n       <path id=\"LiberationSans-67\" d=\"M 1713 -1328 \nQ 1422 -1328 1197 -1268 \nQ 972 -1209 812 -1098 \nQ 653 -988 553 -834 \nQ 453 -681 409 -494 \nL 975 -413 \nQ 1031 -647 1223 -773 \nQ 1416 -900 1728 -900 \nQ 1919 -900 2075 -847 \nQ 2231 -794 2340 -676 \nQ 2450 -559 2509 -371 \nQ 2569 -184 2569 84 \nL 2569 628 \nL 2563 628 \nQ 2500 500 2408 383 \nQ 2316 266 2183 175 \nQ 2050 84 1875 29 \nQ 1700 -25 1475 -25 \nQ 1153 -25 923 83 \nQ 694 191 548 406 \nQ 403 622 336 942 \nQ 269 1263 269 1684 \nQ 269 2091 336 2416 \nQ 403 2741 554 2967 \nQ 706 3194 948 3314 \nQ 1191 3434 1538 3434 \nQ 1897 3434 2161 3270 \nQ 2425 3106 2569 2803 \nL 2575 2803 \nQ 2575 2881 2579 2978 \nQ 2584 3075 2589 3161 \nQ 2594 3247 2600 3309 \nQ 2606 3372 2613 3381 \nL 3147 3381 \nQ 3144 3353 3141 3286 \nQ 3138 3219 3134 3125 \nQ 3131 3031 3129 2917 \nQ 3128 2803 3128 2681 \nL 3128 97 \nQ 3128 -613 2779 -970 \nQ 2431 -1328 1713 -1328 \nz\nM 2569 1691 \nQ 2569 2044 2492 2295 \nQ 2416 2547 2291 2706 \nQ 2166 2866 2005 2941 \nQ 1844 3016 1675 3016 \nQ 1459 3016 1304 2941 \nQ 1150 2866 1048 2705 \nQ 947 2544 898 2292 \nQ 850 2041 850 1691 \nQ 850 1325 898 1076 \nQ 947 828 1047 675 \nQ 1147 522 1300 456 \nQ 1453 391 1666 391 \nQ 1834 391 1995 462 \nQ 2156 534 2284 690 \nQ 2413 847 2491 1094 \nQ 2569 1341 2569 1691 \nz\n\" transform=\"scale(0.015625)\"/>\n       <path id=\"LiberationSans-65\" d=\"M 863 1572 \nQ 863 1306 917 1082 \nQ 972 859 1086 698 \nQ 1200 538 1378 448 \nQ 1556 359 1806 359 \nQ 2172 359 2392 506 \nQ 2613 653 2691 878 \nL 3184 738 \nQ 3131 597 3036 455 \nQ 2941 313 2781 198 \nQ 2622 84 2383 10 \nQ 2144 -63 1806 -63 \nQ 1056 -63 664 384 \nQ 272 831 272 1713 \nQ 272 2188 390 2517 \nQ 509 2847 715 3053 \nQ 922 3259 1197 3351 \nQ 1472 3444 1784 3444 \nQ 2209 3444 2495 3306 \nQ 2781 3169 2954 2926 \nQ 3128 2684 3201 2356 \nQ 3275 2028 3275 1647 \nL 3275 1572 \nL 863 1572 \nz\nM 2694 2003 \nQ 2647 2538 2422 2783 \nQ 2197 3028 1775 3028 \nQ 1634 3028 1479 2983 \nQ 1325 2938 1194 2822 \nQ 1063 2706 972 2507 \nQ 881 2309 869 2003 \nL 2694 2003 \nz\n\" transform=\"scale(0.015625)\"/>\n       <path id=\"LiberationSans-6e\" d=\"M 2578 0 \nL 2578 2144 \nQ 2578 2391 2542 2556 \nQ 2506 2722 2425 2823 \nQ 2344 2925 2211 2967 \nQ 2078 3009 1881 3009 \nQ 1681 3009 1520 2939 \nQ 1359 2869 1245 2736 \nQ 1131 2603 1068 2408 \nQ 1006 2213 1006 1959 \nL 1006 0 \nL 444 0 \nL 444 2659 \nQ 444 2766 442 2883 \nQ 441 3000 437 3104 \nQ 434 3209 431 3284 \nQ 428 3359 425 3381 \nL 956 3381 \nQ 959 3366 962 3297 \nQ 966 3228 970 3139 \nQ 975 3050 978 2958 \nQ 981 2866 981 2803 \nL 991 2803 \nQ 1072 2950 1169 3069 \nQ 1266 3188 1394 3270 \nQ 1522 3353 1687 3398 \nQ 1853 3444 2072 3444 \nQ 2353 3444 2556 3375 \nQ 2759 3306 2890 3162 \nQ 3022 3019 3083 2792 \nQ 3144 2566 3144 2253 \nL 3144 0 \nL 2578 0 \nz\n\" transform=\"scale(0.015625)\"/>\n      </defs>\n      <use xlink:href=\"#LiberationSans-4e\"/>\n      <use xlink:href=\"#LiberationSans-69\" x=\"72.216797\"/>\n      <use xlink:href=\"#LiberationSans-74\" x=\"94.433594\"/>\n      <use xlink:href=\"#LiberationSans-72\" x=\"122.216797\"/>\n      <use xlink:href=\"#LiberationSans-6f\" x=\"155.517578\"/>\n      <use xlink:href=\"#LiberationSans-67\" x=\"211.132812\"/>\n      <use xlink:href=\"#LiberationSans-65\" x=\"266.748047\"/>\n      <use xlink:href=\"#LiberationSans-6e\" x=\"322.363281\"/>\n     </g>\n    </g>\n    <g clip-path=\"url(#pb5bacf71c4)\">\n     <!-- $T=300\\ \\mathrm{K}$ -->\n     <g transform=\"translate(41.8975 74.692422)scale(0.125 -0.125)\">\n      <defs>\n       <path id=\"DejaVuSans-Oblique-54\" d=\"M 378 4666 \nL 4325 4666 \nL 4225 4134 \nL 2559 4134 \nL 1759 0 \nL 1125 0 \nL 1925 4134 \nL 275 4134 \nL 378 4666 \nz\n\" transform=\"scale(0.015625)\"/>\n       <path id=\"DejaVuSans-3d\" d=\"M 678 2906 \nL 4684 2906 \nL 4684 2381 \nL 678 2381 \nL 678 2906 \nz\nM 678 1631 \nL 4684 1631 \nL 4684 1100 \nL 678 1100 \nL 678 1631 \nz\n\" transform=\"scale(0.015625)\"/>\n       <path id=\"DejaVuSans-33\" d=\"M 2597 2516 \nQ 3050 2419 3304 2112 \nQ 3559 1806 3559 1356 \nQ 3559 666 3084 287 \nQ 2609 -91 1734 -91 \nQ 1441 -91 1130 -33 \nQ 819 25 488 141 \nL 488 750 \nQ 750 597 1062 519 \nQ 1375 441 1716 441 \nQ 2309 441 2620 675 \nQ 2931 909 2931 1356 \nQ 2931 1769 2642 2001 \nQ 2353 2234 1838 2234 \nL 1294 2234 \nL 1294 2753 \nL 1863 2753 \nQ 2328 2753 2575 2939 \nQ 2822 3125 2822 3475 \nQ 2822 3834 2567 4026 \nQ 2313 4219 1838 4219 \nQ 1578 4219 1281 4162 \nQ 984 4106 628 3988 \nL 628 4550 \nQ 988 4650 1302 4700 \nQ 1616 4750 1894 4750 \nQ 2613 4750 3031 4423 \nQ 3450 4097 3450 3541 \nQ 3450 3153 3228 2886 \nQ 3006 2619 2597 2516 \nz\n\" transform=\"scale(0.015625)\"/>\n       <path id=\"DejaVuSans-30\" d=\"M 2034 4250 \nQ 1547 4250 1301 3770 \nQ 1056 3291 1056 2328 \nQ 1056 1369 1301 889 \nQ 1547 409 2034 409 \nQ 2525 409 2770 889 \nQ 3016 1369 3016 2328 \nQ 3016 3291 2770 3770 \nQ 2525 4250 2034 4250 \nz\nM 2034 4750 \nQ 2819 4750 3233 4129 \nQ 3647 3509 3647 2328 \nQ 3647 1150 3233 529 \nQ 2819 -91 2034 -91 \nQ 1250 -91 836 529 \nQ 422 1150 422 2328 \nQ 422 3509 836 4129 \nQ 1250 4750 2034 4750 \nz\n\" transform=\"scale(0.015625)\"/>\n       <path id=\"DejaVuSans-4b\" d=\"M 628 4666 \nL 1259 4666 \nL 1259 2694 \nL 3353 4666 \nL 4166 4666 \nL 1850 2491 \nL 4331 0 \nL 3500 0 \nL 1259 2247 \nL 1259 0 \nL 628 0 \nL 628 4666 \nz\n\" transform=\"scale(0.015625)\"/>\n      </defs>\n      <use xlink:href=\"#DejaVuSans-Oblique-54\" transform=\"translate(0 0.78125)\"/>\n      <use xlink:href=\"#DejaVuSans-3d\" transform=\"translate(80.566406 0.78125)\"/>\n      <use xlink:href=\"#DejaVuSans-33\" transform=\"translate(183.837891 0.78125)\"/>\n      <use xlink:href=\"#DejaVuSans-30\" transform=\"translate(247.460938 0.78125)\"/>\n      <use xlink:href=\"#DejaVuSans-30\" transform=\"translate(311.083984 0.78125)\"/>\n      <use xlink:href=\"#DejaVuSans-4b\" transform=\"translate(407.17741 0.78125)\"/>\n     </g>\n    </g>\n    <g clip-path=\"url(#pb5bacf71c4)\">\n     <!-- $79\\%$ -->\n     <g transform=\"translate(57.5225 88.156484)scale(0.125 -0.125)\">\n      <defs>\n       <path id=\"DejaVuSans-37\" d=\"M 525 4666 \nL 3525 4666 \nL 3525 4397 \nL 1831 0 \nL 1172 0 \nL 2766 4134 \nL 525 4134 \nL 525 4666 \nz\n\" transform=\"scale(0.015625)\"/>\n       <path id=\"DejaVuSans-39\" d=\"M 703 97 \nL 703 672 \nQ 941 559 1184 500 \nQ 1428 441 1663 441 \nQ 2288 441 2617 861 \nQ 2947 1281 2994 2138 \nQ 2813 1869 2534 1725 \nQ 2256 1581 1919 1581 \nQ 1219 1581 811 2004 \nQ 403 2428 403 3163 \nQ 403 3881 828 4315 \nQ 1253 4750 1959 4750 \nQ 2769 4750 3195 4129 \nQ 3622 3509 3622 2328 \nQ 3622 1225 3098 567 \nQ 2575 -91 1691 -91 \nQ 1453 -91 1209 -44 \nQ 966 3 703 97 \nz\nM 1959 2075 \nQ 2384 2075 2632 2365 \nQ 2881 2656 2881 3163 \nQ 2881 3666 2632 3958 \nQ 2384 4250 1959 4250 \nQ 1534 4250 1286 3958 \nQ 1038 3666 1038 3163 \nQ 1038 2656 1286 2365 \nQ 1534 2075 1959 2075 \nz\n\" transform=\"scale(0.015625)\"/>\n       <path id=\"DejaVuSans-25\" d=\"M 4653 2053 \nQ 4381 2053 4226 1822 \nQ 4072 1591 4072 1178 \nQ 4072 772 4226 539 \nQ 4381 306 4653 306 \nQ 4919 306 5073 539 \nQ 5228 772 5228 1178 \nQ 5228 1588 5073 1820 \nQ 4919 2053 4653 2053 \nz\nM 4653 2450 \nQ 5147 2450 5437 2106 \nQ 5728 1763 5728 1178 \nQ 5728 594 5436 251 \nQ 5144 -91 4653 -91 \nQ 4153 -91 3862 251 \nQ 3572 594 3572 1178 \nQ 3572 1766 3864 2108 \nQ 4156 2450 4653 2450 \nz\nM 1428 4353 \nQ 1159 4353 1004 4120 \nQ 850 3888 850 3481 \nQ 850 3069 1003 2837 \nQ 1156 2606 1428 2606 \nQ 1700 2606 1854 2837 \nQ 2009 3069 2009 3481 \nQ 2009 3884 1853 4118 \nQ 1697 4353 1428 4353 \nz\nM 4250 4750 \nL 4750 4750 \nL 1831 -91 \nL 1331 -91 \nL 4250 4750 \nz\nM 1428 4750 \nQ 1922 4750 2215 4408 \nQ 2509 4066 2509 3481 \nQ 2509 2891 2217 2550 \nQ 1925 2209 1428 2209 \nQ 931 2209 642 2551 \nQ 353 2894 353 3481 \nQ 353 4063 643 4406 \nQ 934 4750 1428 4750 \nz\n\" transform=\"scale(0.015625)\"/>\n      </defs>\n      <use xlink:href=\"#DejaVuSans-37\" transform=\"translate(0 0.78125)\"/>\n      <use xlink:href=\"#DejaVuSans-39\" transform=\"translate(63.623047 0.78125)\"/>\n      <use xlink:href=\"#DejaVuSans-25\" transform=\"translate(127.246094 0.78125)\"/>\n     </g>\n    </g>\n   </g>\n   <g id=\"text_2\">\n    <g clip-path=\"url(#pb5bacf71c4)\">\n     <!-- Oxygen -->\n     <g transform=\"translate(172.321914 61.228359)scale(0.125 -0.125)\">\n      <defs>\n       <path id=\"LiberationSans-4f\" d=\"M 4672 2222 \nQ 4672 1706 4523 1284 \nQ 4375 863 4094 563 \nQ 3813 263 3406 100 \nQ 3000 -63 2484 -63 \nQ 1941 -63 1531 107 \nQ 1122 278 850 583 \nQ 578 888 440 1306 \nQ 303 1725 303 2222 \nQ 303 2738 447 3153 \nQ 591 3569 869 3861 \nQ 1147 4153 1555 4311 \nQ 1963 4469 2491 4469 \nQ 3016 4469 3423 4309 \nQ 3831 4150 4107 3856 \nQ 4384 3563 4528 3147 \nQ 4672 2731 4672 2222 \nz\nM 4063 2222 \nQ 4063 2619 3961 2944 \nQ 3859 3269 3661 3500 \nQ 3463 3731 3169 3856 \nQ 2875 3981 2491 3981 \nQ 2097 3981 1800 3856 \nQ 1503 3731 1304 3500 \nQ 1106 3269 1007 2944 \nQ 909 2619 909 2222 \nQ 909 1825 1011 1495 \nQ 1113 1166 1311 927 \nQ 1509 688 1804 555 \nQ 2100 422 2484 422 \nQ 2897 422 3195 556 \nQ 3494 691 3686 930 \nQ 3878 1169 3970 1500 \nQ 4063 1831 4063 2222 \nz\n\" transform=\"scale(0.015625)\"/>\n       <path id=\"LiberationSans-78\" d=\"M 2503 0 \nL 1594 1388 \nL 678 0 \nL 72 0 \nL 1275 1738 \nL 128 3381 \nL 750 3381 \nL 1594 2066 \nL 2431 3381 \nL 3059 3381 \nL 1913 1744 \nL 3131 0 \nL 2503 0 \nz\n\" transform=\"scale(0.015625)\"/>\n       <path id=\"LiberationSans-79\" d=\"M 1888 0 \nQ 1769 -306 1645 -551 \nQ 1522 -797 1369 -970 \nQ 1216 -1144 1028 -1236 \nQ 841 -1328 597 -1328 \nQ 491 -1328 400 -1322 \nQ 309 -1316 209 -1294 \nL 209 -872 \nQ 269 -881 344 -886 \nQ 419 -891 472 -891 \nQ 719 -891 931 -706 \nQ 1144 -522 1303 -119 \nL 1356 16 \nL 16 3381 \nL 616 3381 \nL 1328 1513 \nQ 1359 1428 1407 1287 \nQ 1456 1147 1504 1006 \nQ 1553 866 1590 753 \nQ 1628 641 1634 613 \nQ 1644 647 1680 748 \nQ 1716 850 1761 975 \nQ 1806 1100 1853 1228 \nQ 1900 1356 1931 1450 \nL 2594 3381 \nL 3188 3381 \nL 1888 0 \nz\n\" transform=\"scale(0.015625)\"/>\n      </defs>\n      <use xlink:href=\"#LiberationSans-4f\"/>\n      <use xlink:href=\"#LiberationSans-78\" x=\"77.783203\"/>\n      <use xlink:href=\"#LiberationSans-79\" x=\"127.783203\"/>\n      <use xlink:href=\"#LiberationSans-67\" x=\"177.783203\"/>\n      <use xlink:href=\"#LiberationSans-65\" x=\"233.398438\"/>\n      <use xlink:href=\"#LiberationSans-6e\" x=\"289.013672\"/>\n     </g>\n    </g>\n    <g clip-path=\"url(#pb5bacf71c4)\">\n     <!-- $T=300\\ \\mathrm{K}$ -->\n     <g transform=\"translate(164.2975 74.692422)scale(0.125 -0.125)\">\n      <use xlink:href=\"#DejaVuSans-Oblique-54\" transform=\"translate(0 0.78125)\"/>\n      <use xlink:href=\"#DejaVuSans-3d\" transform=\"translate(80.566406 0.78125)\"/>\n      <use xlink:href=\"#DejaVuSans-33\" transform=\"translate(183.837891 0.78125)\"/>\n      <use xlink:href=\"#DejaVuSans-30\" transform=\"translate(247.460938 0.78125)\"/>\n      <use xlink:href=\"#DejaVuSans-30\" transform=\"translate(311.083984 0.78125)\"/>\n      <use xlink:href=\"#DejaVuSans-4b\" transform=\"translate(407.17741 0.78125)\"/>\n     </g>\n    </g>\n    <g clip-path=\"url(#pb5bacf71c4)\">\n     <!-- $21\\%$ -->\n     <g transform=\"translate(179.9225 88.156484)scale(0.125 -0.125)\">\n      <defs>\n       <path id=\"DejaVuSans-32\" d=\"M 1228 531 \nL 3431 531 \nL 3431 0 \nL 469 0 \nL 469 531 \nQ 828 903 1448 1529 \nQ 2069 2156 2228 2338 \nQ 2531 2678 2651 2914 \nQ 2772 3150 2772 3378 \nQ 2772 3750 2511 3984 \nQ 2250 4219 1831 4219 \nQ 1534 4219 1204 4116 \nQ 875 4013 500 3803 \nL 500 4441 \nQ 881 4594 1212 4672 \nQ 1544 4750 1819 4750 \nQ 2544 4750 2975 4387 \nQ 3406 4025 3406 3419 \nQ 3406 3131 3298 2873 \nQ 3191 2616 2906 2266 \nQ 2828 2175 2409 1742 \nQ 1991 1309 1228 531 \nz\n\" transform=\"scale(0.015625)\"/>\n       <path id=\"DejaVuSans-31\" d=\"M 794 531 \nL 1825 531 \nL 1825 4091 \nL 703 3866 \nL 703 4441 \nL 1819 4666 \nL 2450 4666 \nL 2450 531 \nL 3481 531 \nL 3481 0 \nL 794 0 \nL 794 531 \nz\n\" transform=\"scale(0.015625)\"/>\n      </defs>\n      <use xlink:href=\"#DejaVuSans-32\" transform=\"translate(0 0.78125)\"/>\n      <use xlink:href=\"#DejaVuSans-31\" transform=\"translate(63.623047 0.78125)\"/>\n      <use xlink:href=\"#DejaVuSans-25\" transform=\"translate(127.246094 0.78125)\"/>\n     </g>\n    </g>\n   </g>\n  </g>\n </g>\n <defs>\n  <clipPath id=\"pb5bacf71c4\">\n   <rect x=\"7.2\" y=\"7.2\" width=\"252.7968\" height=\"128.52\"/>\n  </clipPath>\n </defs>\n</svg>\n",
      "text/plain": [
       "<schemdraw.backends.mpl.Figure object at 0x7fa886a085e0>"
      ]
     },
     "execution_count": 1,
     "metadata": {
     },
     "output_type": "execute_result"
    }
   ],
   "source": [
    "from kilojoule.templates.default import *\n",
    "from kilojoule.schemdraw import *\n",
    "with schemdraw.Drawing() as d:\n",
    "    d += elm.Line().up(4)\n",
    "    d += elm.Line().right(8)\n",
    "    d += elm.Line().down(4)\n",
    "    d += elm.Line().left(8)\n",
    "    d.here = (4,0)\n",
    "    d += elm.Line().up(4)\n",
    "    d.here = (0,0)\n",
    "    d += elm.Gap().to((4,4)).label('Nitrogen\\n$T=300\\\\ \\\\mathrm{K}$\\n$79\\%$',valign='center')\n",
    "    d += elm.Gap().to((8,0)).label('Oxygen\\n$T=300\\\\ \\\\mathrm{K}$\\n$21\\\\%$',valign='center')"
   ]
  },
  {
   "cell_type": "markdown",
   "metadata": {
    "collapsed": false,
    "pycharm": {
     "name": "#%% md\n"
    }
   },
   "source": [
    "## Solution\n",
    "\n",
    "__[Video Explanation](https://uky.yuja.com/V/Video?v=3074206&node=10465106&a=1345575442&autoplay=1)__"
   ]
  },
  {
   "cell_type": "markdown",
   "metadata": {
    "collapsed": false,
    "pycharm": {
     "name": "#%% md\n"
    }
   },
   "source": [
    "### Python Initialization\n",
    "We'll start by importing the libraries we will use for our analysis and initializing dictionaries to hold the properties we will be usings."
   ]
  },
  {
   "cell_type": "code",
   "execution_count": 3,
   "metadata": {
    "collapsed": false,
    "jupyter": {
    },
    "pycharm": {
     "is_executing": true,
     "name": "#%%\n"
    }
   },
   "outputs": [
   ],
   "source": [
    "from kilojoule.templates.USCS_R import *\n",
    "from math import log\n",
    "   \n",
    "N2 = idealgas.Properties('N2')\n",
    "O2 = idealgas.Properties('O2')\n",
    "\n",
    "# Universal gas constant\n",
    "Rbar = Quantity(8.3145,'kJ/kmol/K')\n",
    "\n",
    "# Add columns to states table\n",
    "y = states.add_property('y','')"
   ]
  },
  {
   "cell_type": "markdown",
   "metadata": {
    "collapsed": false,
    "pycharm": {
     "name": "#%% md\n"
    }
   },
   "source": [
    "### Given"
   ]
  },
  {
   "cell_type": "code",
   "execution_count": 4,
   "metadata": {
    "collapsed": false,
    "pycharm": {
     "name": "#%%\n"
    }
   },
   "outputs": [
    {
     "data": {
      "text/latex": [
       "\\begin{align}{ \\overline{R} }&={ 8.3145\\ \\frac{\\mathrm{kJ}}{\\left(\\mathrm{K} \\cdot \\mathrm{kmol}\\right)} }&{ T_{0} }&={ 300\\ \\mathrm{K} }&{  }\\end{align}"
      ],
      "text/plain": [
       "<IPython.core.display.Latex object>"
      ]
     },
     "execution_count": 4,
     "metadata": {
     },
     "output_type": "execute_result"
    },
    {
     "data": {
      "text/html": [
       "<table border=\"1\" class=\"dataframe\">\n",
       "  <thead>\n",
       "    <tr style=\"text-align: right;\">\n",
       "      <th></th>\n",
       "      <th>$T$ [°R]</th>\n",
       "      <th>$y$ []</th>\n",
       "    </tr>\n",
       "  </thead>\n",
       "  <tbody>\n",
       "    <tr>\n",
       "      <th>1</th>\n",
       "      <td>540.0</td>\n",
       "      <td>-</td>\n",
       "    </tr>\n",
       "    <tr>\n",
       "      <th>2</th>\n",
       "      <td>540.0</td>\n",
       "      <td>-</td>\n",
       "    </tr>\n",
       "    <tr>\n",
       "      <th>N2</th>\n",
       "      <td>-</td>\n",
       "      <td>0.79</td>\n",
       "    </tr>\n",
       "    <tr>\n",
       "      <th>O2</th>\n",
       "      <td>-</td>\n",
       "      <td>0.21</td>\n",
       "    </tr>\n",
       "  </tbody>\n",
       "</table>"
      ],
      "text/plain": [
       "<IPython.core.display.HTML object>"
      ]
     },
     "execution_count": 4,
     "metadata": {
     },
     "output_type": "execute_result"
    }
   ],
   "source": [
    "T_0 = T[1] = T[2] = Quantity(300,'K')\n",
    "y['N2'] = Quantity(0.79,'')\n",
    "y['O2'] = Quantity(0.21,'')\n",
    "\n",
    "Summary();"
   ]
  },
  {
   "cell_type": "markdown",
   "metadata": {
    "collapsed": false,
    "pycharm": {
     "name": "#%% md\n"
    }
   },
   "source": [
    "### Exergy Destruction"
   ]
  },
  {
   "cell_type": "code",
   "execution_count": 8,
   "metadata": {
    "collapsed": false,
    "pycharm": {
     "name": "#%%\n"
    }
   },
   "outputs": [
    {
     "data": {
      "text/markdown": [
       "2nd Law\n",
       "\\begin{align}\n",
       "  \\overline{s}_{gen} &=   -\\overline{R}  \\cdot  \\left(  {y}_{ {{N_{2}}} }  \\cdot  \\mathrm{ ln }\\left( {y}_{ {{N_{2}}} } \\right)  +  {y}_{ {{O_{2}}} }  \\cdot  \\mathrm{ ln }\\left( {y}_{ {{O_{2}}} } \\right)  \\right)  \\\\\n",
       "    &=  -\\left( 8.3145\\ \\frac{\\mathrm{kJ}}{\\left(\\mathrm{K} \\cdot \\mathrm{kmol}\\right)} \\right)  \\cdot  \\left(  0.79  \\cdot  \\mathrm{ ln }\\left( 0.79 \\right)  +  0.21  \\cdot  \\mathrm{ ln }\\left( 0.21 \\right)  \\right) \\\\\n",
       "    &= 4.2733\\ \\frac{\\mathrm{kJ}}{\\left(\\mathrm{K} \\cdot \\mathrm{kmol}\\right)}\n",
       "\\end{align}\n",
       "\n",
       "Exergy destruction\n",
       "\\begin{align}\n",
       "  \\overline{\\phi}_{dest} &=   T_{0}  \\cdot  \\overline{s}_{gen}  \\\\\n",
       "    &=  300\\ \\mathrm{K}  \\cdot  4.2733\\ \\frac{\\mathrm{kJ}}{\\left(\\mathrm{K} \\cdot \\mathrm{kmol}\\right)} \\\\\n",
       "    &= 1282.0\\ \\frac{\\mathrm{kJ}}{\\mathrm{kmol}}\n",
       "\\end{align}\n",
       "\n"
      ],
      "text/plain": [
       "<IPython.core.display.Markdown object>"
      ]
     },
     "execution_count": 8,
     "metadata": {
     },
     "output_type": "execute_result"
    }
   ],
   "source": [
    "%%showcalc\n",
    "\"2nd Law\"\n",
    "sbar_gen = -Rbar*( y['N2']*ln(y['N2']) + y['O2']*ln(y['O2']) )\n",
    "\n",
    "\"Exergy destruction\"\n",
    "phibar_dest = T_0*sbar_gen"
   ]
  },
  {
   "cell_type": "code",
   "execution_count": 10,
   "metadata": {
    "collapsed": false,
    "pycharm": {
     "name": "#%%\n"
    }
   },
   "outputs": [
   ],
   "source": [
    "#!jupyter nbconvert --to html_embed --no-input --no-prompt \"Ex13.3 Mixing Exergy Destruction.ipynb\""
   ]
  }
 ],
 "metadata": {
  "kernelspec": {
   "argv": [
    "/usr/bin/python3",
    "-m",
    "ipykernel",
    "--HistoryManager.enabled=False",
    "--matplotlib=inline",
    "-c",
    "%config InlineBackend.figure_formats = set(['retina'])\nimport matplotlib; matplotlib.rcParams['figure.figsize'] = (12, 7)",
    "-f",
    "{connection_file}"
   ],
   "display_name": "Python 3 (system-wide)",
   "env": {
   },
   "language": "python",
   "metadata": {
    "cocalc": {
     "description": "Python 3 programming language",
     "priority": 100,
     "url": "https://www.python.org/"
    }
   },
   "name": "python3",
   "resource_dir": "/ext/jupyter/kernels/python3"
  },
  "language_info": {
   "codemirror_mode": {
    "name": "ipython",
    "version": 3
   },
   "file_extension": ".py",
   "mimetype": "text/x-python",
   "name": "python",
   "nbconvert_exporter": "python",
   "pygments_lexer": "ipython3",
   "version": "3.8.10"
  }
 },
 "nbformat": 4,
 "nbformat_minor": 4
}