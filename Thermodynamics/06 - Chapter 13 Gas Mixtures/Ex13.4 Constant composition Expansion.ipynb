{
 "cells": [
  {
   "cell_type": "markdown",
   "metadata": {
    "collapsed": false
   },
   "source": [
    "# Example 13.4: Constant Composition Expansion\n",
    "\n",
    "*John F. Maddox, Ph.D., P.E.<br>\n",
    "University of Kentucky - Paducah Campus<br>\n",
    "ME 321: Engineering Thermodynamics II<br>*"
   ]
  },
  {
   "cell_type": "markdown",
   "metadata": {
    "collapsed": false
   },
   "source": [
    "## Problem Statement\n",
    "A mixture having a molar composition of 66% $\\mathrm{N_2}$, 17% $\\mathrm{CO_2}$, 17% $\\mathrm{H_2O}$ enters a turbine at 1000 K, 8 bar with a mass flow rate of 2 kg/s.  The mixture expands isentropically to 1 bar.  Determine the exit temperature and the power output."
   ]
  },
  {
   "cell_type": "code",
   "execution_count": 3,
   "metadata": {
    "collapsed": false
   },
   "outputs": [
    {
     "data": {
      "image/png": "[encoded data removed]",
      "image/svg+xml": "<?xml version=\"1.0\" encoding=\"utf-8\" standalone=\"no\"?>\n<!DOCTYPE svg PUBLIC \"-//W3C//DTD SVG 1.1//EN\"\n  \"http://www.w3.org/Graphics/SVG/1.1/DTD/svg11.dtd\">\n<svg xmlns:xlink=\"http://www.w3.org/1999/xlink\" width=\"250.970543pt\" height=\"238.545pt\" viewBox=\"0 0 250.970543 238.545\" xmlns=\"http://www.w3.org/2000/svg\" version=\"1.1\">\n <metadata>\n  <rdf:RDF xmlns:dc=\"http://purl.org/dc/elements/1.1/\" xmlns:cc=\"http://creativecommons.org/ns#\" xmlns:rdf=\"http://www.w3.org/1999/02/22-rdf-syntax-ns#\">\n   <cc:Work>\n    <dc:type rdf:resource=\"http://purl.org/dc/dcmitype/StillImage\"/>\n    <dc:date>2023-01-27T02:02:35.737722</dc:date>\n    <dc:format>image/svg+xml</dc:format>\n    <dc:creator>\n     <cc:Agent>\n      <dc:title>Matplotlib v3.6.2, https://matplotlib.org/</dc:title>\n     </cc:Agent>\n    </dc:creator>\n   </cc:Work>\n  </rdf:RDF>\n </metadata>\n <defs>\n  <style type=\"text/css\">*{stroke-linejoin: round; stroke-linecap: butt}</style>\n </defs>\n <g id=\"figure_1\">\n  <g id=\"patch_1\">\n   <path d=\"M 0 238.545 \nL 250.970543 238.545 \nL 250.970543 0 \nL 0 0 \nz\n\" style=\"fill: #ffffff\"/>\n  </g>\n  <g id=\"axes_1\">\n   <g id=\"patch_2\">\n    <path d=\"M 56.6768 126.064 \nC 58.985128 126.064 61.199223 125.146892 62.831457 123.514657 \nC 64.463692 121.882423 65.3808 119.668328 65.3808 117.36 \nC 65.3808 115.051672 64.463692 112.837577 62.831457 111.205343 \nC 61.199223 109.573108 58.985128 108.656 56.6768 108.656 \nC 54.368472 108.656 52.154377 109.573108 50.522143 111.205343 \nC 48.889908 112.837577 47.9728 115.051672 47.9728 117.36 \nC 47.9728 119.668328 48.889908 121.882423 50.522143 123.514657 \nC 52.154377 125.146892 54.368472 126.064 56.6768 126.064 \nL 56.6768 126.064 \nz\n\" clip-path=\"url(#p3d5ce5829c)\" style=\"fill: none; stroke: #000000; stroke-linejoin: miter\"/>\n   </g>\n   <g id=\"patch_3\">\n    <path d=\"M 153.051743 148.5975 \nQ 149.226743 152.4225 153.051743 156.2475 \n\" clip-path=\"url(#p3d5ce5829c)\" style=\"fill: none; stroke: #000000; stroke-width: 2; stroke-linejoin: miter; stroke-linecap: round\"/>\n   </g>\n   <g id=\"patch_4\">\n    <path d=\"M 153.051743 148.5975 \nQ 156.876743 152.4225 153.051743 156.2475 \n\" clip-path=\"url(#p3d5ce5829c)\" style=\"fill: none; stroke: #000000; stroke-width: 2; stroke-linejoin: miter; stroke-linecap: round\"/>\n   </g>\n   <g id=\"patch_5\">\n    <path d=\"M 153.051743 163.8975 \nQ 156.876743 160.0725 153.051743 156.2475 \n\" clip-path=\"url(#p3d5ce5829c)\" style=\"fill: none; stroke: #000000; stroke-width: 2; stroke-linejoin: miter; stroke-linecap: round\"/>\n   </g>\n   <g id=\"patch_6\">\n    <path d=\"M 109.677555 221.689 \nC 111.985882 221.689 114.199978 220.771892 115.832212 219.139657 \nC 117.464446 217.507423 118.381555 215.293328 118.381555 212.985 \nC 118.381555 210.676672 117.464446 208.462577 115.832212 206.830343 \nC 114.199978 205.198108 111.985882 204.281 109.677555 204.281 \nC 107.369227 204.281 105.155132 205.198108 103.522897 206.830343 \nC 101.890663 208.462577 100.973555 210.676672 100.973555 212.985 \nC 100.973555 215.293328 101.890663 217.507423 103.522897 219.139657 \nC 105.155132 220.771892 107.369227 221.689 109.677555 221.689 \nL 109.677555 221.689 \nz\n\" clip-path=\"url(#p3d5ce5829c)\" style=\"fill: none; stroke: #000000; stroke-linejoin: miter\"/>\n   </g>\n   <g id=\"patch_7\">\n    <path d=\"M 138.741726 106.652834 \nC 143.69164 88.179502 145.401743 79.7475 168.351743 79.7475 \n\" clip-path=\"url(#p3d5ce5829c)\" style=\"fill: none; stroke: #000000; stroke-width: 2; stroke-linejoin: miter; stroke-linecap: round\"/>\n   </g>\n   <g id=\"patch_8\">\n    <path d=\"M 142.687442 103.750154 \nL 137.751743 110.3475 \nL 136.775976 102.166181 \nz\n\" clip-path=\"url(#p3d5ce5829c)\"/>\n   </g>\n   <g id=\"line2d_1\">\n    <path d=\"M 71.5008 102.06 \nL 71.5008 132.66 \n\" clip-path=\"url(#p3d5ce5829c)\" style=\"fill: none; stroke: #000000; stroke-width: 2; stroke-linecap: round\"/>\n   </g>\n   <g id=\"line2d_2\">\n    <path d=\"M 71.5008 117.359694 \nL 71.5008 108.18 \n\" clip-path=\"url(#p3d5ce5829c)\" style=\"fill: none; stroke: #000000; stroke-width: 2; stroke-linecap: round\"/>\n   </g>\n   <g id=\"patch_9\">\n    <path d=\"M 74.5608 108.18 \nL 71.5008 117.36 \nL 68.4408 108.18 \nz\n\" clip-path=\"url(#p3d5ce5829c)\"/>\n   </g>\n   <g id=\"line2d_3\">\n    <path d=\"M 71.5008 117.36 \nL 71.5008 117.360306 \n\" clip-path=\"url(#p3d5ce5829c)\" style=\"fill: none; stroke: #000000; stroke-width: 2; stroke-linecap: round\"/>\n   </g>\n   <g id=\"line2d_4\">\n    <path d=\"M 68.4408 117.36 \nL 74.5608 117.36 \n\" clip-path=\"url(#p3d5ce5829c)\" style=\"fill: none; stroke: #000000; stroke-width: 2; stroke-linecap: round\"/>\n   </g>\n   <g id=\"line2d_5\">\n    <path d=\"M 58.250611 156.2475 \nL 58.250611 137.1225 \nL 137.751743 110.3475 \nL 137.751743 202.1475 \nL 58.250611 175.3725 \nL 58.250611 156.2475 \n\" clip-path=\"url(#p3d5ce5829c)\" style=\"fill: none; stroke: #000000; stroke-width: 2; stroke-linecap: round\"/>\n   </g>\n   <g id=\"line2d_6\">\n    <path d=\"M 137.751743 148.5975 \nL 153.051743 148.5975 \nM 137.751743 163.8975 \nL 153.051743 163.8975 \nM 153.051743 156.2475 \n\" clip-path=\"url(#p3d5ce5829c)\" style=\"fill: none; stroke: #000000; stroke-width: 2; stroke-linecap: round\"/>\n   </g>\n   <g id=\"line2d_7\">\n    <path d=\"M 153.051743 156.2475 \nL 168.351743 156.2475 \nL 176.001743 156.2475 \n\" clip-path=\"url(#p3d5ce5829c)\" style=\"fill: none; stroke: #000000; stroke-width: 2; stroke-linecap: round\"/>\n   </g>\n   <g id=\"patch_10\">\n    <path d=\"M 176.001743 153.9525 \nL 183.651743 156.2475 \nL 176.001743 158.5425 \nz\n\" clip-path=\"url(#p3d5ce5829c)\"/>\n   </g>\n   <g id=\"line2d_8\">\n    <path d=\"M 124.501555 197.685 \nL 124.501555 228.285 \n\" clip-path=\"url(#p3d5ce5829c)\" style=\"fill: none; stroke: #000000; stroke-width: 2; stroke-linecap: round\"/>\n   </g>\n   <g id=\"line2d_9\">\n    <path d=\"M 124.501555 212.984694 \nL 124.501555 203.805 \n\" clip-path=\"url(#p3d5ce5829c)\" style=\"fill: none; stroke: #000000; stroke-width: 2; stroke-linecap: round\"/>\n   </g>\n   <g id=\"patch_11\">\n    <path d=\"M 127.561555 203.805 \nL 124.501555 212.985 \nL 121.441555 203.805 \nz\n\" clip-path=\"url(#p3d5ce5829c)\"/>\n   </g>\n   <g id=\"line2d_10\">\n    <path d=\"M 124.501555 212.985 \nL 124.501555 212.985306 \n\" clip-path=\"url(#p3d5ce5829c)\" style=\"fill: none; stroke: #000000; stroke-width: 2; stroke-linecap: round\"/>\n   </g>\n   <g id=\"line2d_11\">\n    <path d=\"M 121.441555 212.985 \nL 127.561555 212.985 \n\" clip-path=\"url(#p3d5ce5829c)\" style=\"fill: none; stroke: #000000; stroke-width: 2; stroke-linecap: round\"/>\n   </g>\n   <g id=\"text_1\">\n    <g clip-path=\"url(#p3d5ce5829c)\">\n     <!-- $66\\%\\ \\mathrm{N_2}$ -->\n     <g transform=\"translate(47.8758 65.218594) scale(0.125 -0.125)\">\n      <defs>\n       <path id=\"DejaVuSans-36\" d=\"M 2113 2584 \nQ 1688 2584 1439 2293 \nQ 1191 2003 1191 1497 \nQ 1191 994 1439 701 \nQ 1688 409 2113 409 \nQ 2538 409 2786 701 \nQ 3034 994 3034 1497 \nQ 3034 2003 2786 2293 \nQ 2538 2584 2113 2584 \nz\nM 3366 4563 \nL 3366 3988 \nQ 3128 4100 2886 4159 \nQ 2644 4219 2406 4219 \nQ 1781 4219 1451 3797 \nQ 1122 3375 1075 2522 \nQ 1259 2794 1537 2939 \nQ 1816 3084 2150 3084 \nQ 2853 3084 3261 2657 \nQ 3669 2231 3669 1497 \nQ 3669 778 3244 343 \nQ 2819 -91 2113 -91 \nQ 1303 -91 875 529 \nQ 447 1150 447 2328 \nQ 447 3434 972 4092 \nQ 1497 4750 2381 4750 \nQ 2619 4750 2861 4703 \nQ 3103 4656 3366 4563 \nz\n\" transform=\"scale(0.015625)\"/>\n       <path id=\"DejaVuSans-25\" d=\"M 4653 2053 \nQ 4381 2053 4226 1822 \nQ 4072 1591 4072 1178 \nQ 4072 772 4226 539 \nQ 4381 306 4653 306 \nQ 4919 306 5073 539 \nQ 5228 772 5228 1178 \nQ 5228 1588 5073 1820 \nQ 4919 2053 4653 2053 \nz\nM 4653 2450 \nQ 5147 2450 5437 2106 \nQ 5728 1763 5728 1178 \nQ 5728 594 5436 251 \nQ 5144 -91 4653 -91 \nQ 4153 -91 3862 251 \nQ 3572 594 3572 1178 \nQ 3572 1766 3864 2108 \nQ 4156 2450 4653 2450 \nz\nM 1428 4353 \nQ 1159 4353 1004 4120 \nQ 850 3888 850 3481 \nQ 850 3069 1003 2837 \nQ 1156 2606 1428 2606 \nQ 1700 2606 1854 2837 \nQ 2009 3069 2009 3481 \nQ 2009 3884 1853 4118 \nQ 1697 4353 1428 4353 \nz\nM 4250 4750 \nL 4750 4750 \nL 1831 -91 \nL 1331 -91 \nL 4250 4750 \nz\nM 1428 4750 \nQ 1922 4750 2215 4408 \nQ 2509 4066 2509 3481 \nQ 2509 2891 2217 2550 \nQ 1925 2209 1428 2209 \nQ 931 2209 642 2551 \nQ 353 2894 353 3481 \nQ 353 4063 643 4406 \nQ 934 4750 1428 4750 \nz\n\" transform=\"scale(0.015625)\"/>\n       <path id=\"DejaVuSans-4e\" d=\"M 628 4666 \nL 1478 4666 \nL 3547 763 \nL 3547 4666 \nL 4159 4666 \nL 4159 0 \nL 3309 0 \nL 1241 3903 \nL 1241 0 \nL 628 0 \nL 628 4666 \nz\n\" transform=\"scale(0.015625)\"/>\n       <path id=\"DejaVuSans-32\" d=\"M 1228 531 \nL 3431 531 \nL 3431 0 \nL 469 0 \nL 469 531 \nQ 828 903 1448 1529 \nQ 2069 2156 2228 2338 \nQ 2531 2678 2651 2914 \nQ 2772 3150 2772 3378 \nQ 2772 3750 2511 3984 \nQ 2250 4219 1831 4219 \nQ 1534 4219 1204 4116 \nQ 875 4013 500 3803 \nL 500 4441 \nQ 881 4594 1212 4672 \nQ 1544 4750 1819 4750 \nQ 2544 4750 2975 4387 \nQ 3406 4025 3406 3419 \nQ 3406 3131 3298 2873 \nQ 3191 2616 2906 2266 \nQ 2828 2175 2409 1742 \nQ 1991 1309 1228 531 \nz\n\" transform=\"scale(0.015625)\"/>\n      </defs>\n      <use xlink:href=\"#DejaVuSans-36\" transform=\"translate(0 0.78125)\"/>\n      <use xlink:href=\"#DejaVuSans-36\" transform=\"translate(63.623047 0.78125)\"/>\n      <use xlink:href=\"#DejaVuSans-25\" transform=\"translate(127.246094 0.78125)\"/>\n      <use xlink:href=\"#DejaVuSans-4e\" transform=\"translate(254.736003 0.78125)\"/>\n      <use xlink:href=\"#DejaVuSans-32\" transform=\"translate(330.497722 -15.625) scale(0.7)\"/>\n     </g>\n    </g>\n    <g clip-path=\"url(#p3d5ce5829c)\">\n     <!-- $17\\%\\ \\mathrm{CO_2}$ -->\n     <g transform=\"translate(43.2508 78.682656) scale(0.125 -0.125)\">\n      <defs>\n       <path id=\"DejaVuSans-31\" d=\"M 794 531 \nL 1825 531 \nL 1825 4091 \nL 703 3866 \nL 703 4441 \nL 1819 4666 \nL 2450 4666 \nL 2450 531 \nL 3481 531 \nL 3481 0 \nL 794 0 \nL 794 531 \nz\n\" transform=\"scale(0.015625)\"/>\n       <path id=\"DejaVuSans-37\" d=\"M 525 4666 \nL 3525 4666 \nL 3525 4397 \nL 1831 0 \nL 1172 0 \nL 2766 4134 \nL 525 4134 \nL 525 4666 \nz\n\" transform=\"scale(0.015625)\"/>\n       <path id=\"DejaVuSans-43\" d=\"M 4122 4306 \nL 4122 3641 \nQ 3803 3938 3442 4084 \nQ 3081 4231 2675 4231 \nQ 1875 4231 1450 3742 \nQ 1025 3253 1025 2328 \nQ 1025 1406 1450 917 \nQ 1875 428 2675 428 \nQ 3081 428 3442 575 \nQ 3803 722 4122 1019 \nL 4122 359 \nQ 3791 134 3420 21 \nQ 3050 -91 2638 -91 \nQ 1578 -91 968 557 \nQ 359 1206 359 2328 \nQ 359 3453 968 4101 \nQ 1578 4750 2638 4750 \nQ 3056 4750 3426 4639 \nQ 3797 4528 4122 4306 \nz\n\" transform=\"scale(0.015625)\"/>\n       <path id=\"DejaVuSans-4f\" d=\"M 2522 4238 \nQ 1834 4238 1429 3725 \nQ 1025 3213 1025 2328 \nQ 1025 1447 1429 934 \nQ 1834 422 2522 422 \nQ 3209 422 3611 934 \nQ 4013 1447 4013 2328 \nQ 4013 3213 3611 3725 \nQ 3209 4238 2522 4238 \nz\nM 2522 4750 \nQ 3503 4750 4090 4092 \nQ 4678 3434 4678 2328 \nQ 4678 1225 4090 567 \nQ 3503 -91 2522 -91 \nQ 1538 -91 948 565 \nQ 359 1222 359 2328 \nQ 359 3434 948 4092 \nQ 1538 4750 2522 4750 \nz\n\" transform=\"scale(0.015625)\"/>\n      </defs>\n      <use xlink:href=\"#DejaVuSans-31\" transform=\"translate(0 0.78125)\"/>\n      <use xlink:href=\"#DejaVuSans-37\" transform=\"translate(63.623047 0.78125)\"/>\n      <use xlink:href=\"#DejaVuSans-25\" transform=\"translate(127.246094 0.78125)\"/>\n      <use xlink:href=\"#DejaVuSans-43\" transform=\"translate(254.736003 0.78125)\"/>\n      <use xlink:href=\"#DejaVuSans-4f\" transform=\"translate(324.560222 0.78125)\"/>\n      <use xlink:href=\"#DejaVuSans-32\" transform=\"translate(404.228191 -15.625) scale(0.7)\"/>\n     </g>\n    </g>\n    <g clip-path=\"url(#p3d5ce5829c)\">\n     <!-- $17\\%\\ \\mathrm{H_2O}$ -->\n     <g transform=\"translate(42.9383 92.146719) scale(0.125 -0.125)\">\n      <defs>\n       <path id=\"DejaVuSans-48\" d=\"M 628 4666 \nL 1259 4666 \nL 1259 2753 \nL 3553 2753 \nL 3553 4666 \nL 4184 4666 \nL 4184 0 \nL 3553 0 \nL 3553 2222 \nL 1259 2222 \nL 1259 0 \nL 628 0 \nL 628 4666 \nz\n\" transform=\"scale(0.015625)\"/>\n      </defs>\n      <use xlink:href=\"#DejaVuSans-31\" transform=\"translate(0 0.78125)\"/>\n      <use xlink:href=\"#DejaVuSans-37\" transform=\"translate(63.623047 0.78125)\"/>\n      <use xlink:href=\"#DejaVuSans-25\" transform=\"translate(127.246094 0.78125)\"/>\n      <use xlink:href=\"#DejaVuSans-48\" transform=\"translate(254.736003 0.78125)\"/>\n      <use xlink:href=\"#DejaVuSans-32\" transform=\"translate(330.888347 -15.625) scale(0.7)\"/>\n      <use xlink:href=\"#DejaVuSans-4f\" transform=\"translate(378.158855 0.78125)\"/>\n     </g>\n    </g>\n   </g>\n   <g id=\"text_2\">\n    <g clip-path=\"url(#p3d5ce5829c)\">\n     <!-- 1 -->\n     <g transform=\"translate(53.201214 121.357422) scale(0.125 -0.125)\">\n      <defs>\n       <path id=\"LiberationSans-31\" d=\"M 488 0 \nL 488 478 \nL 1609 478 \nL 1609 3866 \nL 616 3156 \nL 616 3688 \nL 1656 4403 \nL 2175 4403 \nL 2175 478 \nL 3247 478 \nL 3247 0 \nL 488 0 \nz\n\" transform=\"scale(0.015625)\"/>\n      </defs>\n      <use xlink:href=\"#LiberationSans-31\"/>\n     </g>\n    </g>\n   </g>\n   <g id=\"text_3\">\n    <g clip-path=\"url(#p3d5ce5829c)\">\n     <!-- Turbine -->\n     <g transform=\"translate(77.046099 159.479922) scale(0.125 -0.125)\">\n      <defs>\n       <path id=\"LiberationSans-54\" d=\"M 2250 3916 \nL 2250 0 \nL 1656 0 \nL 1656 3916 \nL 144 3916 \nL 144 4403 \nL 3763 4403 \nL 3763 3916 \nL 2250 3916 \nz\n\" transform=\"scale(0.015625)\"/>\n       <path id=\"LiberationSans-75\" d=\"M 981 3381 \nL 981 1238 \nQ 981 991 1017 825 \nQ 1053 659 1134 557 \nQ 1216 456 1348 414 \nQ 1481 372 1678 372 \nQ 1878 372 2039 442 \nQ 2200 513 2314 645 \nQ 2428 778 2490 973 \nQ 2553 1169 2553 1422 \nL 2553 3381 \nL 3116 3381 \nL 3116 722 \nQ 3116 616 3117 498 \nQ 3119 381 3122 276 \nQ 3125 172 3128 97 \nQ 3131 22 3134 0 \nL 2603 0 \nQ 2600 16 2597 84 \nQ 2594 153 2589 242 \nQ 2584 331 2581 423 \nQ 2578 516 2578 578 \nL 2569 578 \nQ 2488 431 2391 312 \nQ 2294 194 2166 111 \nQ 2038 28 1872 -17 \nQ 1706 -63 1488 -63 \nQ 1206 -63 1003 6 \nQ 800 75 669 219 \nQ 538 363 477 588 \nQ 416 813 416 1128 \nL 416 3381 \nL 981 3381 \nz\n\" transform=\"scale(0.015625)\"/>\n       <path id=\"LiberationSans-72\" d=\"M 444 0 \nL 444 2594 \nQ 444 2700 442 2811 \nQ 441 2922 437 3025 \nQ 434 3128 431 3218 \nQ 428 3309 425 3381 \nL 956 3381 \nQ 959 3309 964 3217 \nQ 969 3125 973 3028 \nQ 978 2931 979 2842 \nQ 981 2753 981 2691 \nL 994 2691 \nQ 1053 2884 1120 3026 \nQ 1188 3169 1278 3261 \nQ 1369 3353 1494 3398 \nQ 1619 3444 1797 3444 \nQ 1866 3444 1928 3433 \nQ 1991 3422 2025 3413 \nL 2025 2897 \nQ 1969 2913 1894 2920 \nQ 1819 2928 1725 2928 \nQ 1531 2928 1395 2840 \nQ 1259 2753 1173 2598 \nQ 1088 2444 1047 2230 \nQ 1006 2016 1006 1763 \nL 1006 0 \nL 444 0 \nz\n\" transform=\"scale(0.015625)\"/>\n       <path id=\"LiberationSans-62\" d=\"M 3291 1706 \nQ 3291 -63 2047 -63 \nQ 1663 -63 1408 76 \nQ 1153 216 994 525 \nL 988 525 \nQ 988 444 983 356 \nQ 978 269 973 194 \nQ 969 119 964 66 \nQ 959 13 956 0 \nL 413 0 \nQ 416 28 419 95 \nQ 422 163 425 256 \nQ 428 350 429 462 \nQ 431 575 431 697 \nL 431 4638 \nL 994 4638 \nL 994 3316 \nQ 994 3222 992 3136 \nQ 991 3050 988 2984 \nQ 984 2906 981 2838 \nL 994 2838 \nQ 1150 3163 1408 3303 \nQ 1666 3444 2047 3444 \nQ 2688 3444 2989 3012 \nQ 3291 2581 3291 1706 \nz\nM 2700 1688 \nQ 2700 2038 2656 2288 \nQ 2613 2538 2516 2698 \nQ 2419 2859 2269 2934 \nQ 2119 3009 1903 3009 \nQ 1681 3009 1511 2937 \nQ 1341 2866 1227 2706 \nQ 1113 2547 1053 2287 \nQ 994 2028 994 1653 \nQ 994 1291 1053 1044 \nQ 1113 797 1227 642 \nQ 1341 488 1509 420 \nQ 1678 353 1897 353 \nQ 2103 353 2253 425 \nQ 2403 497 2503 656 \nQ 2603 816 2651 1070 \nQ 2700 1325 2700 1688 \nz\n\" transform=\"scale(0.015625)\"/>\n       <path id=\"LiberationSans-69\" d=\"M 428 4100 \nL 428 4638 \nL 991 4638 \nL 991 4100 \nL 428 4100 \nz\nM 428 0 \nL 428 3381 \nL 991 3381 \nL 991 0 \nL 428 0 \nz\n\" transform=\"scale(0.015625)\"/>\n       <path id=\"LiberationSans-6e\" d=\"M 2578 0 \nL 2578 2144 \nQ 2578 2391 2542 2556 \nQ 2506 2722 2425 2823 \nQ 2344 2925 2211 2967 \nQ 2078 3009 1881 3009 \nQ 1681 3009 1520 2939 \nQ 1359 2869 1245 2736 \nQ 1131 2603 1068 2408 \nQ 1006 2213 1006 1959 \nL 1006 0 \nL 444 0 \nL 444 2659 \nQ 444 2766 442 2883 \nQ 441 3000 437 3104 \nQ 434 3209 431 3284 \nQ 428 3359 425 3381 \nL 956 3381 \nQ 959 3366 962 3297 \nQ 966 3228 970 3139 \nQ 975 3050 978 2958 \nQ 981 2866 981 2803 \nL 991 2803 \nQ 1072 2950 1169 3069 \nQ 1266 3188 1394 3270 \nQ 1522 3353 1687 3398 \nQ 1853 3444 2072 3444 \nQ 2353 3444 2556 3375 \nQ 2759 3306 2890 3162 \nQ 3022 3019 3083 2792 \nQ 3144 2566 3144 2253 \nL 3144 0 \nL 2578 0 \nz\n\" transform=\"scale(0.015625)\"/>\n       <path id=\"LiberationSans-65\" d=\"M 863 1572 \nQ 863 1306 917 1082 \nQ 972 859 1086 698 \nQ 1200 538 1378 448 \nQ 1556 359 1806 359 \nQ 2172 359 2392 506 \nQ 2613 653 2691 878 \nL 3184 738 \nQ 3131 597 3036 455 \nQ 2941 313 2781 198 \nQ 2622 84 2383 10 \nQ 2144 -63 1806 -63 \nQ 1056 -63 664 384 \nQ 272 831 272 1713 \nQ 272 2188 390 2517 \nQ 509 2847 715 3053 \nQ 922 3259 1197 3351 \nQ 1472 3444 1784 3444 \nQ 2209 3444 2495 3306 \nQ 2781 3169 2954 2926 \nQ 3128 2684 3201 2356 \nQ 3275 2028 3275 1647 \nL 3275 1572 \nL 863 1572 \nz\nM 2694 2003 \nQ 2647 2538 2422 2783 \nQ 2197 3028 1775 3028 \nQ 1634 3028 1479 2983 \nQ 1325 2938 1194 2822 \nQ 1063 2706 972 2507 \nQ 881 2309 869 2003 \nL 2694 2003 \nz\n\" transform=\"scale(0.015625)\"/>\n      </defs>\n      <use xlink:href=\"#LiberationSans-54\"/>\n      <use xlink:href=\"#LiberationSans-75\" x=\"57.333984\"/>\n      <use xlink:href=\"#LiberationSans-72\" x=\"112.949219\"/>\n      <use xlink:href=\"#LiberationSans-62\" x=\"146.25\"/>\n      <use xlink:href=\"#LiberationSans-69\" x=\"201.865234\"/>\n      <use xlink:href=\"#LiberationSans-6e\" x=\"224.082031\"/>\n      <use xlink:href=\"#LiberationSans-65\" x=\"279.697266\"/>\n     </g>\n    </g>\n   </g>\n   <g id=\"text_4\">\n    <g clip-path=\"url(#p3d5ce5829c)\">\n     <!-- $\\dot{W}_{out}$ -->\n     <g transform=\"translate(168.351743 150.59375) scale(0.125 -0.125)\">\n      <defs>\n       <path id=\"DejaVuSans-307\" d=\"M -1894 4863 \nL -1319 4863 \nL -1319 4134 \nL -1894 4134 \nL -1894 4863 \nz\nM -1600 3584 \nL -1600 3584 \nz\n\" transform=\"scale(0.015625)\"/>\n       <path id=\"DejaVuSans-Oblique-57\" d=\"M 616 4666 \nL 1228 4666 \nL 1453 697 \nL 3213 4666 \nL 3916 4666 \nL 4147 697 \nL 5888 4666 \nL 6528 4666 \nL 4453 0 \nL 3659 0 \nL 3444 3891 \nL 1697 0 \nL 903 0 \nL 616 4666 \nz\n\" transform=\"scale(0.015625)\"/>\n       <path id=\"DejaVuSans-Oblique-6f\" d=\"M 1625 -91 \nQ 1009 -91 651 289 \nQ 294 669 294 1325 \nQ 294 1706 417 2101 \nQ 541 2497 738 2766 \nQ 1047 3184 1428 3384 \nQ 1809 3584 2291 3584 \nQ 2888 3584 3255 3212 \nQ 3622 2841 3622 2241 \nQ 3622 1825 3500 1412 \nQ 3378 1000 3181 728 \nQ 2875 309 2494 109 \nQ 2113 -91 1625 -91 \nz\nM 891 1344 \nQ 891 869 1089 633 \nQ 1288 397 1691 397 \nQ 2269 397 2648 901 \nQ 3028 1406 3028 2181 \nQ 3028 2634 2825 2865 \nQ 2622 3097 2228 3097 \nQ 1903 3097 1650 2945 \nQ 1397 2794 1197 2484 \nQ 1050 2253 970 1956 \nQ 891 1659 891 1344 \nz\n\" transform=\"scale(0.015625)\"/>\n       <path id=\"DejaVuSans-Oblique-75\" d=\"M 428 1388 \nL 838 3500 \nL 1416 3500 \nL 1006 1409 \nQ 975 1256 961 1147 \nQ 947 1038 947 966 \nQ 947 700 1109 554 \nQ 1272 409 1569 409 \nQ 2031 409 2368 721 \nQ 2706 1034 2809 1563 \nL 3194 3500 \nL 3769 3500 \nL 3091 0 \nL 2516 0 \nL 2631 550 \nQ 2388 244 2052 76 \nQ 1716 -91 1338 -91 \nQ 878 -91 622 161 \nQ 366 413 366 863 \nQ 366 956 381 1097 \nQ 397 1238 428 1388 \nz\n\" transform=\"scale(0.015625)\"/>\n       <path id=\"DejaVuSans-Oblique-74\" d=\"M 2706 3500 \nL 2619 3053 \nL 1472 3053 \nL 1100 1153 \nQ 1081 1047 1072 975 \nQ 1063 903 1063 863 \nQ 1063 663 1183 572 \nQ 1303 481 1569 481 \nL 2150 481 \nL 2053 0 \nL 1503 0 \nQ 991 0 739 200 \nQ 488 400 488 806 \nQ 488 878 497 964 \nQ 506 1050 525 1153 \nL 897 3053 \nL 409 3053 \nL 500 3500 \nL 978 3500 \nL 1172 4494 \nL 1747 4494 \nL 1556 3500 \nL 2706 3500 \nz\n\" transform=\"scale(0.015625)\"/>\n      </defs>\n      <use xlink:href=\"#DejaVuSans-307\" transform=\"translate(87.312988 30.015625)\"/>\n      <use xlink:href=\"#DejaVuSans-Oblique-57\" transform=\"translate(0 0.609375)\"/>\n      <use xlink:href=\"#DejaVuSans-Oblique-6f\" transform=\"translate(99.833984 -15.796875) scale(0.7)\"/>\n      <use xlink:href=\"#DejaVuSans-Oblique-75\" transform=\"translate(142.661133 -15.796875) scale(0.7)\"/>\n      <use xlink:href=\"#DejaVuSans-Oblique-74\" transform=\"translate(187.026367 -15.796875) scale(0.7)\"/>\n     </g>\n    </g>\n   </g>\n   <g id=\"text_5\">\n    <g clip-path=\"url(#p3d5ce5829c)\">\n     <!-- 2 -->\n     <g transform=\"translate(106.201969 216.982422) scale(0.125 -0.125)\">\n      <defs>\n       <path id=\"LiberationSans-32\" d=\"M 322 0 \nL 322 397 \nQ 481 763 711 1042 \nQ 941 1322 1194 1548 \nQ 1447 1775 1695 1969 \nQ 1944 2163 2144 2356 \nQ 2344 2550 2467 2762 \nQ 2591 2975 2591 3244 \nQ 2591 3431 2534 3573 \nQ 2478 3716 2372 3812 \nQ 2266 3909 2117 3957 \nQ 1969 4006 1788 4006 \nQ 1619 4006 1470 3959 \nQ 1322 3913 1206 3819 \nQ 1091 3725 1017 3586 \nQ 944 3447 922 3263 \nL 347 3316 \nQ 375 3553 478 3762 \nQ 581 3972 762 4130 \nQ 944 4288 1198 4378 \nQ 1453 4469 1788 4469 \nQ 2116 4469 2372 4391 \nQ 2628 4313 2804 4159 \nQ 2981 4006 3075 3781 \nQ 3169 3556 3169 3263 \nQ 3169 3041 3089 2841 \nQ 3009 2641 2876 2459 \nQ 2744 2278 2569 2109 \nQ 2394 1941 2203 1780 \nQ 2013 1619 1819 1461 \nQ 1625 1303 1454 1143 \nQ 1284 984 1150 820 \nQ 1016 656 941 478 \nL 3238 478 \nL 3238 0 \nL 322 0 \nz\n\" transform=\"scale(0.015625)\"/>\n      </defs>\n      <use xlink:href=\"#LiberationSans-32\"/>\n     </g>\n    </g>\n   </g>\n   <g id=\"text_6\">\n    <g clip-path=\"url(#p3d5ce5829c)\">\n     <!-- $\\eta_t=100\\%$ -->\n     <g transform=\"translate(171.411743 83.1225) scale(0.125 -0.125)\">\n      <defs>\n       <path id=\"DejaVuSans-Oblique-3b7\" d=\"M 3703 2113 \nL 3034 -1331 \nL 2459 -1331 \nL 3125 2094 \nQ 3222 2591 3075 2838 \nQ 2931 3084 2544 3084 \nQ 2078 3084 1750 2788 \nQ 1425 2491 1325 1978 \nL 941 0 \nL 363 0 \nL 1044 3500 \nL 1622 3500 \nL 1516 2956 \nQ 1781 3272 2094 3428 \nQ 2403 3584 2769 3584 \nQ 3372 3584 3609 3213 \nQ 3844 2838 3703 2113 \nz\n\" transform=\"scale(0.015625)\"/>\n       <path id=\"DejaVuSans-3d\" d=\"M 678 2906 \nL 4684 2906 \nL 4684 2381 \nL 678 2381 \nL 678 2906 \nz\nM 678 1631 \nL 4684 1631 \nL 4684 1100 \nL 678 1100 \nL 678 1631 \nz\n\" transform=\"scale(0.015625)\"/>\n       <path id=\"DejaVuSans-30\" d=\"M 2034 4250 \nQ 1547 4250 1301 3770 \nQ 1056 3291 1056 2328 \nQ 1056 1369 1301 889 \nQ 1547 409 2034 409 \nQ 2525 409 2770 889 \nQ 3016 1369 3016 2328 \nQ 3016 3291 2770 3770 \nQ 2525 4250 2034 4250 \nz\nM 2034 4750 \nQ 2819 4750 3233 4129 \nQ 3647 3509 3647 2328 \nQ 3647 1150 3233 529 \nQ 2819 -91 2034 -91 \nQ 1250 -91 836 529 \nQ 422 1150 422 2328 \nQ 422 3509 836 4129 \nQ 1250 4750 2034 4750 \nz\n\" transform=\"scale(0.015625)\"/>\n      </defs>\n      <use xlink:href=\"#DejaVuSans-Oblique-3b7\" transform=\"translate(0 0.78125)\"/>\n      <use xlink:href=\"#DejaVuSans-Oblique-74\" transform=\"translate(63.378906 -15.625) scale(0.7)\"/>\n      <use xlink:href=\"#DejaVuSans-3d\" transform=\"translate(113.041992 0.78125)\"/>\n      <use xlink:href=\"#DejaVuSans-31\" transform=\"translate(216.313477 0.78125)\"/>\n      <use xlink:href=\"#DejaVuSans-30\" transform=\"translate(279.936523 0.78125)\"/>\n      <use xlink:href=\"#DejaVuSans-30\" transform=\"translate(343.55957 0.78125)\"/>\n      <use xlink:href=\"#DejaVuSans-25\" transform=\"translate(407.182617 0.78125)\"/>\n     </g>\n    </g>\n   </g>\n  </g>\n </g>\n <defs>\n  <clipPath id=\"p3d5ce5829c\">\n   <rect x=\"7.2\" y=\"7.2\" width=\"236.570543\" height=\"224.145\"/>\n  </clipPath>\n </defs>\n</svg>\n",
      "text/plain": [
       "<schemdraw.backends.mpl.Figure object at 0x7f3aca1d6f70>"
      ]
     },
     "execution_count": 3,
     "metadata": {
     },
     "output_type": "execute_result"
    }
   ],
   "source": [
    "from kilojoule.templates.default import *\n",
    "from kilojoule.schemdraw import *\n",
    "with schemdraw.Drawing() as d:\n",
    "    d += elm.Gap().down(3).label('$66\\%\\ \\mathrm{N_2}$\\n$17\\%\\ \\mathrm{CO_2}$\\n$17\\%\\ \\mathrm{H_2O}$')\n",
    "    d += thermo.Pipe().down().state_label('1')\n",
    "    d += (turbine := thermo.Turbine().right().label('Turbine',loc='center',ofst=0))\n",
    "    d += thermo.Shaft().right().at(turbine.E)\n",
    "    d += elm.Arrow().right(1).label('$\\dot{W}_{out}$',halign='left')\n",
    "    d += thermo.Pipe().at(turbine.outbot).down().state_label('2')\n",
    "    d += elm.Annotate().at(turbine.NE).delta(1,1).label('$\\eta_t=100\\%$')\n",
    "    "
   ]
  },
  {
   "cell_type": "markdown",
   "metadata": {
    "collapsed": false
   },
   "source": [
    "## Solution\n",
    "\n",
    "__[Video Explanation](https://uky.yuja.com/V/Video?v=3074207&node=10465108&a=1659172912&autoplay=1)__"
   ]
  },
  {
   "cell_type": "markdown",
   "metadata": {
    "collapsed": false
   },
   "source": [
    "### Python Initialization\n",
    "We'll start by importing the libraries we will use for our analysis and initializing dictionaries to hold the properties we will be usings."
   ]
  },
  {
   "cell_type": "code",
   "execution_count": 3,
   "metadata": {
    "collapsed": false,
    "jupyter": {
    }
   },
   "outputs": [
   ],
   "source": [
    "from kilojoule.templates.default import *\n",
    "   \n",
    "N2 = idealgas.Properties('N2')\n",
    "CO2 = idealgas.Properties('CO2')\n",
    "H2O = idealgas.Properties('H2O')\n",
    "\n",
    "# Universal gas constant\n",
    "Rbar = Quantity(8.3145,'kJ/kmol/K')\n",
    "\n",
    "T.set_units('K')"
   ]
  },
  {
   "cell_type": "markdown",
   "metadata": {
    "collapsed": false
   },
   "source": [
    "### Given"
   ]
  },
  {
   "cell_type": "code",
   "execution_count": 4,
   "metadata": {
    "collapsed": false
   },
   "outputs": [
    {
     "data": {
      "text/latex": [
       "\\begin{align}{ \\overline{R} }&={ 8.3145\\ \\frac{\\mathrm{kJ}}{\\left(\\mathrm{K} \\cdot \\mathrm{kmol}\\right)} }&{ T_{room} }&={ 25\\ \\mathrm{°C} }&{ \\dot{m} }&={ 2\\ \\frac{\\mathrm{kg}}{\\mathrm{s}} }\\end{align}"
      ],
      "text/plain": [
       "<IPython.core.display.Latex object>"
      ]
     },
     "execution_count": 4,
     "metadata": {
     },
     "output_type": "execute_result"
    },
    {
     "data": {
      "text/html": [
       "<table border=\"1\" class=\"dataframe\">\n",
       "  <thead>\n",
       "    <tr style=\"text-align: right;\">\n",
       "      <th></th>\n",
       "      <th>$T$ [K]</th>\n",
       "      <th>$p$ [kPa]</th>\n",
       "      <th>$y$ []</th>\n",
       "    </tr>\n",
       "  </thead>\n",
       "  <tbody>\n",
       "    <tr>\n",
       "      <th>1</th>\n",
       "      <td>1000.0</td>\n",
       "      <td>800.0</td>\n",
       "      <td>-</td>\n",
       "    </tr>\n",
       "    <tr>\n",
       "      <th>2</th>\n",
       "      <td>-</td>\n",
       "      <td>100.0</td>\n",
       "      <td>-</td>\n",
       "    </tr>\n",
       "    <tr>\n",
       "      <th>CO2</th>\n",
       "      <td>-</td>\n",
       "      <td>-</td>\n",
       "      <td>0.17</td>\n",
       "    </tr>\n",
       "    <tr>\n",
       "      <th>H2O</th>\n",
       "      <td>-</td>\n",
       "      <td>-</td>\n",
       "      <td>0.17</td>\n",
       "    </tr>\n",
       "    <tr>\n",
       "      <th>N2</th>\n",
       "      <td>-</td>\n",
       "      <td>-</td>\n",
       "      <td>0.66</td>\n",
       "    </tr>\n",
       "    <tr>\n",
       "      <th>mix</th>\n",
       "      <td>-</td>\n",
       "      <td>-</td>\n",
       "      <td>1.0</td>\n",
       "    </tr>\n",
       "  </tbody>\n",
       "</table>"
      ],
      "text/plain": [
       "<IPython.core.display.HTML object>"
      ]
     },
     "execution_count": 4,
     "metadata": {
     },
     "output_type": "execute_result"
    }
   ],
   "source": [
    "T_room = Quantity(25,'degC')\n",
    "T[1] = Quantity(1000,'K')\n",
    "p[1] = Quantity(8,'bar')\n",
    "p[2] = Quantity(1,'bar')\n",
    "mdot = Quantity(2,'kg/s')\n",
    "y['N2'] = 0.66\n",
    "y['CO2'] = 0.17\n",
    "y['H2O'] = 0.17\n",
    "y['mix'] = y['N2'] + y['CO2'] + y['H2O']\n",
    "\n",
    "Summary();"
   ]
  },
  {
   "cell_type": "markdown",
   "metadata": {
    "collapsed": false
   },
   "source": [
    "### Mixture Properties"
   ]
  },
  {
   "cell_type": "code",
   "execution_count": 5,
   "metadata": {
    "collapsed": false
   },
   "outputs": [
    {
     "data": {
      "text/markdown": [
       "Molar Mass\n",
       "\\begin{align}\n",
       "  {M}_{ {N2} } &=  \\underset{ N2 }{ mm }  = 28.013\\ \\frac{\\mathrm{kg}}{\\mathrm{kmol}} \n",
       "\\end{align}\n",
       "\n",
       "\\begin{align}\n",
       "  {M}_{ {CO2} } &=  \\underset{ CO2 }{ mm }  = 44.01\\ \\frac{\\mathrm{kg}}{\\mathrm{kmol}} \n",
       "\\end{align}\n",
       "\n",
       "\\begin{align}\n",
       "  {M}_{ {H2O} } &=  \\underset{ H2O }{ mm }  = 18.015\\ \\frac{\\mathrm{kg}}{\\mathrm{kmol}} \n",
       "\\end{align}\n",
       "\n",
       "\\begin{align}\n",
       "  {M}_{ {mix} } &=   {y}_{ {N2} }  \\cdot  {M}_{ {N2} }  +  {y}_{ {CO2} }  \\cdot  {M}_{ {CO2} }  +  {y}_{ {H2O} }  \\cdot  {M}_{ {H2O} }  \\\\\n",
       "    &=  0.66  \\cdot  28.013\\ \\frac{\\mathrm{kg}}{\\mathrm{kmol}}  +  0.17  \\cdot  44.01\\ \\frac{\\mathrm{kg}}{\\mathrm{kmol}}  +  0.17  \\cdot  18.015\\ \\frac{\\mathrm{kg}}{\\mathrm{kmol}} \\\\\n",
       "    &= 29.033\\ \\frac{\\mathrm{kg}}{\\mathrm{kmol}}\n",
       "\\end{align}\n",
       "\n",
       "Mass fraction\n",
       "\\begin{align}\n",
       "  {mf}_{ {N2} } &=  \\frac{  {y}_{ {N2} }  \\cdot  {M}_{ {N2} }  }{ {M}_{ {mix} } } \\\\\n",
       "    &= \\frac{  0.66  \\cdot  28.013\\ \\frac{\\mathrm{kg}}{\\mathrm{kmol}}  }{ 29.033\\ \\frac{\\mathrm{kg}}{\\mathrm{kmol}} }\\\\\n",
       "    &= 0.63682\n",
       "\\end{align}\n",
       "\n",
       "\\begin{align}\n",
       "  {mf}_{ {CO2} } &=  \\frac{  {y}_{ {CO2} }  \\cdot  {M}_{ {CO2} }  }{ {M}_{ {mix} } } \\\\\n",
       "    &= \\frac{  0.17  \\cdot  44.01\\ \\frac{\\mathrm{kg}}{\\mathrm{kmol}}  }{ 29.033\\ \\frac{\\mathrm{kg}}{\\mathrm{kmol}} }\\\\\n",
       "    &= 0.25769\n",
       "\\end{align}\n",
       "\n",
       "\\begin{align}\n",
       "  {mf}_{ {H2O} } &=  \\frac{  {y}_{ {H2O} }  \\cdot  {M}_{ {H2O} }  }{ {M}_{ {mix} } } \\\\\n",
       "    &= \\frac{  0.17  \\cdot  18.015\\ \\frac{\\mathrm{kg}}{\\mathrm{kmol}}  }{ 29.033\\ \\frac{\\mathrm{kg}}{\\mathrm{kmol}} }\\\\\n",
       "    &= 0.10549\n",
       "\\end{align}\n",
       "\n",
       "\\begin{align}\n",
       "  {mf}_{ {mix} } &=  {mf}_{ {N2} } + {mf}_{ {CO2} } + {mf}_{ {H2O} } \\\\\n",
       "    &= 0.63682 + 0.25769 + 0.10549\\\\\n",
       "    &= 1.0\n",
       "\\end{align}\n",
       "\n",
       "Constant pressure specific heat\n",
       "\\begin{align}\n",
       "  {c_{p}}_{ {N2} } &=  \\mathrm{ \\underset{ N2 }{ cp } }\\left( T_{room} \\right)  = \\mathrm{ \\underset{ N2 }{ cp } }\\left( 25\\ \\mathrm{°C} \\right) = 1.0396\\ \\frac{\\mathrm{kJ}}{\\left(\\mathrm{K} \\cdot \\mathrm{kg}\\right)}\n",
       "\\end{align}\n",
       "\n",
       "\\begin{align}\n",
       "  {c_{p}}_{ {CO2} } &=  \\mathrm{ \\underset{ CO2 }{ cp } }\\left( T_{room} \\right)  = \\mathrm{ \\underset{ CO2 }{ cp } }\\left( 25\\ \\mathrm{°C} \\right) = 0.84379\\ \\frac{\\mathrm{kJ}}{\\left(\\mathrm{K} \\cdot \\mathrm{kg}\\right)}\n",
       "\\end{align}\n",
       "\n",
       "\\begin{align}\n",
       "  {c_{p}}_{ {H2O} } &=  \\mathrm{ \\underset{ H2O }{ cp } }\\left( T_{room} \\right)  = \\mathrm{ \\underset{ H2O }{ cp } }\\left( 25\\ \\mathrm{°C} \\right) = 1.8644\\ \\frac{\\mathrm{kJ}}{\\left(\\mathrm{K} \\cdot \\mathrm{kg}\\right)}\n",
       "\\end{align}\n",
       "\n",
       "\\begin{align}\n",
       "  {c_{p}}_{ {mix} } &=   {mf}_{ {N2} }  \\cdot  {c_{p}}_{ {N2} }  +  {mf}_{ {CO2} }  \\cdot  {c_{p}}_{ {CO2} }  +  {mf}_{ {H2O} }  \\cdot  {c_{p}}_{ {H2O} }  \\\\\n",
       "    &=  0.63682  \\cdot  1.0396\\ \\frac{\\mathrm{kJ}}{\\left(\\mathrm{K} \\cdot \\mathrm{kg}\\right)}  +  0.25769  \\cdot  0.84379\\ \\frac{\\mathrm{kJ}}{\\left(\\mathrm{K} \\cdot \\mathrm{kg}\\right)}  +  0.10549  \\cdot  1.8644\\ \\frac{\\mathrm{kJ}}{\\left(\\mathrm{K} \\cdot \\mathrm{kg}\\right)} \\\\\n",
       "    &= 1.0762\\ \\frac{\\mathrm{kJ}}{\\left(\\mathrm{K} \\cdot \\mathrm{kg}\\right)}\n",
       "\\end{align}\n",
       "\n",
       "Constant volume specific heat\n",
       "\\begin{align}\n",
       "  {c_{v}}_{ {N2} } &=  \\mathrm{ \\underset{ N2 }{ cv } }\\left( T_{room} \\right)  = \\mathrm{ \\underset{ N2 }{ cv } }\\left( 25\\ \\mathrm{°C} \\right) = 0.74285\\ \\frac{\\mathrm{kJ}}{\\left(\\mathrm{K} \\cdot \\mathrm{kg}\\right)}\n",
       "\\end{align}\n",
       "\n",
       "\\begin{align}\n",
       "  {c_{v}}_{ {CO2} } &=  \\mathrm{ \\underset{ CO2 }{ cv } }\\left( T_{room} \\right)  = \\mathrm{ \\underset{ CO2 }{ cv } }\\left( 25\\ \\mathrm{°C} \\right) = 0.65487\\ \\frac{\\mathrm{kJ}}{\\left(\\mathrm{K} \\cdot \\mathrm{kg}\\right)}\n",
       "\\end{align}\n",
       "\n",
       "\\begin{align}\n",
       "  {c_{v}}_{ {H2O} } &=  \\mathrm{ \\underset{ H2O }{ cv } }\\left( T_{room} \\right)  = \\mathrm{ \\underset{ H2O }{ cv } }\\left( 25\\ \\mathrm{°C} \\right) = 1.4029\\ \\frac{\\mathrm{kJ}}{\\left(\\mathrm{K} \\cdot \\mathrm{kg}\\right)}\n",
       "\\end{align}\n",
       "\n",
       "\\begin{align}\n",
       "  {c_{v}}_{ {mix} } &=   {mf}_{ {N2} }  \\cdot  {c_{v}}_{ {N2} }  +  {mf}_{ {CO2} }  \\cdot  {c_{v}}_{ {CO2} }  +  {mf}_{ {H2O} }  \\cdot  {c_{v}}_{ {H2O} }  \\\\\n",
       "    &=  0.63682  \\cdot  0.74285\\ \\frac{\\mathrm{kJ}}{\\left(\\mathrm{K} \\cdot \\mathrm{kg}\\right)}  +  0.25769  \\cdot  0.65487\\ \\frac{\\mathrm{kJ}}{\\left(\\mathrm{K} \\cdot \\mathrm{kg}\\right)}  +  0.10549  \\cdot  1.4029\\ \\frac{\\mathrm{kJ}}{\\left(\\mathrm{K} \\cdot \\mathrm{kg}\\right)} \\\\\n",
       "    &= 0.7898\\ \\frac{\\mathrm{kJ}}{\\left(\\mathrm{K} \\cdot \\mathrm{kg}\\right)}\n",
       "\\end{align}\n",
       "\n",
       "Specific heat ratio\n",
       "\\begin{align}\n",
       "  {k}_{ {mix} } &=  \\frac{ {c_{p}}_{ {mix} } }{ {c_{v}}_{ {mix} } } \\\\\n",
       "    &= \\frac{ 1.0762\\ \\frac{\\mathrm{kJ}}{\\left(\\mathrm{K} \\cdot \\mathrm{kg}\\right)} }{ 0.7898\\ \\frac{\\mathrm{kJ}}{\\left(\\mathrm{K} \\cdot \\mathrm{kg}\\right)} }\\\\\n",
       "    &= 1.3626\n",
       "\\end{align}\n",
       "\n"
      ],
      "text/plain": [
       "<IPython.core.display.Markdown object>"
      ]
     },
     "execution_count": 5,
     "metadata": {
     },
     "output_type": "execute_result"
    }
   ],
   "source": [
    "%%showcalc\n",
    "\"Molar Mass\"\n",
    "M['N2'] = N2.mm\n",
    "M['CO2'] = CO2.mm\n",
    "M['H2O'] = H2O.mm\n",
    "M['mix'] = y['N2']*M['N2'] + y['CO2']*M['CO2'] + y['H2O']*M['H2O']\n",
    "\n",
    "\"Mass fraction\"\n",
    "mf['N2'] = y['N2']*M['N2']/M['mix']\n",
    "mf['CO2'] = y['CO2']*M['CO2']/M['mix']\n",
    "mf['H2O'] = y['H2O']*M['H2O']/M['mix']\n",
    "mf['mix'] = mf['N2'] + mf['CO2'] + mf['H2O']\n",
    "\n",
    "\"Constant pressure specific heat\"\n",
    "c_p['N2'] = N2.cp(T_room)\n",
    "c_p['CO2'] = CO2.cp(T_room)\n",
    "c_p['H2O'] = H2O.cp(T_room)\n",
    "c_p['mix'] = mf['N2']*c_p['N2'] + mf['CO2']*c_p['CO2'] + mf['H2O']*c_p['H2O']\n",
    "\n",
    "\"Constant volume specific heat\"\n",
    "c_v['N2'] = N2.cv(T_room)\n",
    "c_v['CO2'] = CO2.cv(T_room)\n",
    "c_v['H2O'] = H2O.cv(T_room)\n",
    "c_v['mix'] = mf['N2']*c_v['N2'] + mf['CO2']*c_v['CO2'] + mf['H2O']*c_v['H2O']\n",
    "\n",
    "\"Specific heat ratio\"\n",
    "k['mix'] = c_p['mix']/c_v['mix']"
   ]
  },
  {
   "cell_type": "code",
   "execution_count": 6,
   "metadata": {
    "collapsed": false
   },
   "outputs": [
    {
     "data": {
      "text/latex": [
       "\\begin{align}{ \\overline{R} }&={ 8.3145\\ \\frac{\\mathrm{kJ}}{\\left(\\mathrm{K} \\cdot \\mathrm{kmol}\\right)} }&{ T_{room} }&={ 25\\ \\mathrm{°C} }&{ \\dot{m} }&={ 2\\ \\frac{\\mathrm{kg}}{\\mathrm{s}} }\\end{align}"
      ],
      "text/plain": [
       "<IPython.core.display.Latex object>"
      ]
     },
     "execution_count": 6,
     "metadata": {
     },
     "output_type": "execute_result"
    },
    {
     "data": {
      "text/html": [
       "<table border=\"1\" class=\"dataframe\">\n",
       "  <thead>\n",
       "    <tr style=\"text-align: right;\">\n",
       "      <th></th>\n",
       "      <th>$T$ [K]</th>\n",
       "      <th>$p$ [kPa]</th>\n",
       "      <th>$y$ []</th>\n",
       "      <th>$mf$ []</th>\n",
       "      <th>$M$ [kg/kmol]</th>\n",
       "      <th>$c_{v}$ [kJ/K/kg]</th>\n",
       "      <th>$c_{p}$ [kJ/K/kg]</th>\n",
       "      <th>$k$ []</th>\n",
       "    </tr>\n",
       "  </thead>\n",
       "  <tbody>\n",
       "    <tr>\n",
       "      <th>1</th>\n",
       "      <td>1000.0</td>\n",
       "      <td>800.0</td>\n",
       "      <td>-</td>\n",
       "      <td>-</td>\n",
       "      <td>-</td>\n",
       "      <td>-</td>\n",
       "      <td>-</td>\n",
       "      <td>-</td>\n",
       "    </tr>\n",
       "    <tr>\n",
       "      <th>2</th>\n",
       "      <td>-</td>\n",
       "      <td>100.0</td>\n",
       "      <td>-</td>\n",
       "      <td>-</td>\n",
       "      <td>-</td>\n",
       "      <td>-</td>\n",
       "      <td>-</td>\n",
       "      <td>-</td>\n",
       "    </tr>\n",
       "    <tr>\n",
       "      <th>CO2</th>\n",
       "      <td>-</td>\n",
       "      <td>-</td>\n",
       "      <td>0.17</td>\n",
       "      <td>0.257694</td>\n",
       "      <td>44.0098</td>\n",
       "      <td>0.65487</td>\n",
       "      <td>0.843793</td>\n",
       "      <td>-</td>\n",
       "    </tr>\n",
       "    <tr>\n",
       "      <th>H2O</th>\n",
       "      <td>-</td>\n",
       "      <td>-</td>\n",
       "      <td>0.17</td>\n",
       "      <td>0.105486</td>\n",
       "      <td>18.01528</td>\n",
       "      <td>1.402868</td>\n",
       "      <td>1.864391</td>\n",
       "      <td>-</td>\n",
       "    </tr>\n",
       "    <tr>\n",
       "      <th>N2</th>\n",
       "      <td>-</td>\n",
       "      <td>-</td>\n",
       "      <td>0.66</td>\n",
       "      <td>0.63682</td>\n",
       "      <td>28.01348</td>\n",
       "      <td>0.742847</td>\n",
       "      <td>1.039649</td>\n",
       "      <td>-</td>\n",
       "    </tr>\n",
       "    <tr>\n",
       "      <th>mix</th>\n",
       "      <td>-</td>\n",
       "      <td>-</td>\n",
       "      <td>1.0</td>\n",
       "      <td>1.0</td>\n",
       "      <td>29.03316</td>\n",
       "      <td>0.789799</td>\n",
       "      <td>1.076177</td>\n",
       "      <td>1.362596</td>\n",
       "    </tr>\n",
       "  </tbody>\n",
       "</table>"
      ],
      "text/plain": [
       "<IPython.core.display.HTML object>"
      ]
     },
     "execution_count": 6,
     "metadata": {
     },
     "output_type": "execute_result"
    }
   ],
   "source": [
    "Summary();"
   ]
  },
  {
   "cell_type": "markdown",
   "metadata": {
    "collapsed": false
   },
   "source": [
    "### First Law"
   ]
  },
  {
   "cell_type": "code",
   "execution_count": 7,
   "metadata": {
    "collapsed": false
   },
   "outputs": [
    {
     "data": {
      "text/markdown": [
       "Isentropic Expansion\n",
       "\\begin{align}\n",
       "  {T}_{ 2 } &=   {T}_{ 1 }  \\cdot  {\\left(\\frac{ {p}_{ 2 } }{ {p}_{ 1 } }\\right)}^{\\frac{  {k}_{ {mix} } - 1  }{ {k}_{ {mix} } }}  \\\\\n",
       "    &=  1000\\ \\mathrm{K}  \\cdot  {\\left(\\frac{ 100.0\\ \\mathrm{kPa} }{ 800.0\\ \\mathrm{kPa} }\\right)}^{\\frac{  1.3626 - 1  }{ 1.3626 }} \\\\\n",
       "    &= 575.02\\ \\mathrm{K}\n",
       "\\end{align}\n",
       "\n",
       "First Law\n",
       "\\begin{align}\n",
       "  \\dot{W}_{t} &=    \\dot{m}  \\cdot  {c_{p}}_{ {mix} }   \\cdot  \\left(  {T}_{ 1 } - {T}_{ 2 }  \\right)  \\\\\n",
       "    &=   2\\ \\frac{\\mathrm{kg}}{\\mathrm{s}}  \\cdot  1.0762\\ \\frac{\\mathrm{kJ}}{\\left(\\mathrm{K} \\cdot \\mathrm{kg}\\right)}   \\cdot  \\left(  1000\\ \\mathrm{K} - 575.02\\ \\mathrm{K}  \\right) \\\\\n",
       "    &= 914.71\\ \\frac{\\mathrm{kJ}}{\\mathrm{s}}\n",
       "\\end{align}\n",
       "\n"
      ],
      "text/plain": [
       "<IPython.core.display.Markdown object>"
      ]
     },
     "execution_count": 7,
     "metadata": {
     },
     "output_type": "execute_result"
    }
   ],
   "source": [
    "%%showcalc\n",
    "\"Isentropic Expansion\"\n",
    "T[2] = T[1].to('K')*(p[2]/p[1])**((k['mix']-1)/k['mix'])\n",
    "\n",
    "\"First Law\"\n",
    "Wdot_t = mdot*c_p['mix']*(T[1]-T[2])"
   ]
  },
  {
   "cell_type": "code",
   "execution_count": 9,
   "metadata": {
    "collapsed": false
   },
   "outputs": [
   ],
   "source": [
    "# Export your solution to submit to Canvas\n",
    "# 1) Ensure all cells above show your final solution\n",
    "# 2) Click the 'Save' button in the toolbar\n",
    "# 3) Uncomment (remove the #) from the last line in this cell\n",
    "# 4) Ensure the filename in the command below matches the filename of this notebook\n",
    "# 5) Execute this cell to create an HTML file showing only the output \n",
    "# 6) Submit the .html file located in the folder with this notebook\n",
    "\n",
    "# !jupyter nbconvert --to html_embed --no-input --no-prompt \"Ex13.4 Constant composition Expansion.ipynb\""
   ]
  }
 ],
 "metadata": {
  "kernelspec": {
   "argv": [
    "/usr/bin/python3",
    "-m",
    "ipykernel",
    "--HistoryManager.enabled=False",
    "--matplotlib=inline",
    "-c",
    "%config InlineBackend.figure_formats = set(['retina'])\nimport matplotlib; matplotlib.rcParams['figure.figsize'] = (12, 7)",
    "-f",
    "{connection_file}"
   ],
   "display_name": "Python 3 (system-wide)",
   "env": {
   },
   "language": "python",
   "metadata": {
    "cocalc": {
     "description": "Python 3 programming language",
     "priority": 100,
     "url": "https://www.python.org/"
    }
   },
   "name": "python3",
   "resource_dir": "/ext/jupyter/kernels/python3"
  },
  "language_info": {
   "codemirror_mode": {
    "name": "ipython",
    "version": 3
   },
   "file_extension": ".py",
   "mimetype": "text/x-python",
   "name": "python",
   "nbconvert_exporter": "python",
   "pygments_lexer": "ipython3",
   "version": "3.10.12"
  }
 },
 "nbformat": 4,
 "nbformat_minor": 4
}