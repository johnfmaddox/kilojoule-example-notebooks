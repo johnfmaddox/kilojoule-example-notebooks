{
 "cells": [
  {
   "cell_type": "markdown",
   "metadata": {
    "collapsed": false
   },
   "source": [
    "# Example 14.1: Relative Humidity\n",
    "\n",
    "*John F. Maddox, Ph.D., P.E.<br>\n",
    "University of Kentucky - Paducah Campus<br>\n",
    "ME 321: Engineering Thermodynamics II<br>*"
   ]
  },
  {
   "cell_type": "markdown",
   "metadata": {
    "collapsed": false
   },
   "source": [
    "## Problem Statement\n",
    "For air at $25^\\circ\\mathrm{C}$ and 1 atm, determine the specific humidity and relative humidity for air that has:\n",
    "\\begin{equation}\n",
    "m_a=1\\ \\mathrm{kg}\\qquad \\mathrm{and}\\qquad m_v=0.01\\ \\mathrm{kg}\n",
    "\\end{equation}"
   ]
  },
  {
   "cell_type": "markdown",
   "metadata": {
    "collapsed": false
   },
   "source": [
    "## Solution\n",
    "\n",
    "__[Video Explanation](https://uky.yuja.com/V/Video?v=3074209&node=10465110&a=951748481&autoplay=1)__"
   ]
  },
  {
   "cell_type": "markdown",
   "metadata": {
    "collapsed": false
   },
   "source": [
    "### Python Initialization\n",
    "We'll start by importing the libraries we will use for our analysis and initializing dictionaries to hold the properties we will be usings."
   ]
  },
  {
   "cell_type": "code",
   "execution_count": 3,
   "metadata": {
    "collapsed": false,
    "jupyter": {
    }
   },
   "outputs": [
   ],
   "source": [
    "from kilojoule.templates.default import *\n",
    "   \n",
    "water = realfluid.Properties('Water')\n",
    "air = realfluid.Properties('Air')"
   ]
  },
  {
   "cell_type": "markdown",
   "metadata": {
    "collapsed": false
   },
   "source": [
    "### Given"
   ]
  },
  {
   "cell_type": "code",
   "execution_count": 4,
   "metadata": {
    "collapsed": false
   },
   "outputs": [
   ],
   "source": [
    "p = Quantity(1,'atm')\n",
    "T = Quantity(25,'degC')\n",
    "m_a = Quantity(1,'kg_dry_air')\n",
    "m_v = Quantity(0.01,'kg_water')"
   ]
  },
  {
   "cell_type": "markdown",
   "metadata": {
    "collapsed": false
   },
   "source": [
    "#### Saturated Air Calculations"
   ]
  },
  {
   "cell_type": "code",
   "execution_count": 5,
   "metadata": {
    "collapsed": false
   },
   "outputs": [
    {
     "data": {
      "text/markdown": [
       "Vapor pressure for saturated conditions\n",
       "\\begin{align}\n",
       "  p_{g} &=  \\mathrm{ \\underset{ water }{ p } }\\left( \\mathrm{ T } = T, \\mathrm{ x } = 1 \\right)  = \\mathrm{ \\underset{ water }{ p } }\\left( \\mathrm{ T } = 25\\ \\mathrm{°C}, \\mathrm{ x } = 1 \\right) = 3.1699\\ \\mathrm{kPa}\n",
       "\\end{align}\n",
       "\n",
       "Maximum specific humidity (@ 100% relative humidity)\n",
       "\\begin{align}\n",
       "  \\omega_{max} &=  \\frac{  0.622  \\cdot  p_{g}  }{  p - p_{g}  } \\\\\n",
       "    &= \\frac{  0.622  \\cdot  3.1699\\ \\mathrm{kPa}  }{  1\\ \\mathrm{atm} - 3.1699\\ \\mathrm{kPa}  }\\\\\n",
       "    &= 2.0354\\ \\frac{\\mathrm{kPa}}{\\mathrm{atm}}\n",
       "\\end{align}\n",
       "\n",
       "\\begin{align}\n",
       "  \\omega_{max} &=  2.0354\\ \\frac{\\mathrm{kg\\_water}}{\\mathrm{kg\\_a}}  = 0.020088\\ \\frac{\\mathrm{kg\\_water}}{\\mathrm{kg\\_a}} \n",
       "\\end{align}\n",
       "\n",
       "Maximum mass of water vapor\n",
       "\\begin{align}\n",
       "  m_{g} &=   m_{a}  \\cdot  \\omega_{max}  \\\\\n",
       "    &=  1\\ \\mathrm{kg\\_a}  \\cdot  0.020088\\ \\frac{\\mathrm{kg\\_water}}{\\mathrm{kg\\_a}} \\\\\n",
       "    &= 0.020088\\ \\mathrm{kg\\_water}\n",
       "\\end{align}\n",
       "\n"
      ],
      "text/plain": [
       "<IPython.core.display.Markdown object>"
      ]
     },
     "execution_count": 5,
     "metadata": {
     },
     "output_type": "execute_result"
    }
   ],
   "source": [
    "%%showcalc\n",
    "\"Vapor pressure for saturated conditions\"\n",
    "p_g = water.p(T=T,x=1)\n",
    "\n",
    "\"Maximum specific humidity (@ 100% relative humidity)\"\n",
    "omega_max = (0.622*p_g)/(p-p_g)\n",
    "omega_max = Quantity(omega_max.to('').magnitude,'kg_water/kg_dry_air') # hide\n",
    "\n",
    "\"Maximum mass of water vapor\"\n",
    "m_g = m_a*omega_max"
   ]
  },
  {
   "cell_type": "markdown",
   "metadata": {
    "collapsed": false
   },
   "source": [
    "### Relative Humidity"
   ]
  },
  {
   "cell_type": "code",
   "execution_count": 6,
   "metadata": {
    "collapsed": false
   },
   "outputs": [
    {
     "data": {
      "text/markdown": [
       "\\begin{align}\n",
       "  \\phi &=  \\frac{ m_{v} }{ m_{g} } \\\\\n",
       "    &= \\frac{ 0.01\\ \\mathrm{kg\\_water} }{ 0.020088\\ \\mathrm{kg\\_water} }\\\\\n",
       "    &= 0.49782\n",
       "\\end{align}\n",
       "\n"
      ],
      "text/plain": [
       "<IPython.core.display.Markdown object>"
      ]
     },
     "execution_count": 6,
     "metadata": {
     },
     "output_type": "execute_result"
    }
   ],
   "source": [
    "%%showcalc\n",
    "phi = m_v/m_g"
   ]
  },
  {
   "cell_type": "code",
   "execution_count": 8,
   "metadata": {
    "collapsed": false
   },
   "outputs": [
   ],
   "source": [
    "# Export your solution to submit to Canvas\n",
    "# 1) Ensure all cells above show your final solution\n",
    "# 2) Click the 'Save' button in the toolbar\n",
    "# 3) Uncomment (remove the #) from the last line in this cell\n",
    "# 4) Ensure the filename in the command below matches the filename of this notebook\n",
    "# 5) Execute this cell to create an HTML file showing only the output \n",
    "# 6) Submit the .html file located in the folder with this notebook\n",
    "\n",
    "# !jupyter nbconvert --to html_embed --no-input --no-prompt \"Ex14.1 Relative Humidity.ipynb\""
   ]
  }
 ],
 "metadata": {
  "kernelspec": {
   "argv": [
    "/usr/bin/python3",
    "-m",
    "ipykernel",
    "--HistoryManager.enabled=False",
    "--matplotlib=inline",
    "-c",
    "%config InlineBackend.figure_formats = set(['retina'])\nimport matplotlib; matplotlib.rcParams['figure.figsize'] = (12, 7)",
    "-f",
    "{connection_file}"
   ],
   "display_name": "Python 3 (system-wide)",
   "env": {
   },
   "language": "python",
   "metadata": {
    "cocalc": {
     "description": "Python 3 programming language",
     "priority": 100,
     "url": "https://www.python.org/"
    }
   },
   "name": "python3",
   "resource_dir": "/ext/jupyter/kernels/python3"
  },
  "language_info": {
   "codemirror_mode": {
    "name": "ipython",
    "version": 3
   },
   "file_extension": ".py",
   "mimetype": "text/x-python",
   "name": "python",
   "nbconvert_exporter": "python",
   "pygments_lexer": "ipython3",
   "version": "3.8.10"
  }
 },
 "nbformat": 4,
 "nbformat_minor": 4
}