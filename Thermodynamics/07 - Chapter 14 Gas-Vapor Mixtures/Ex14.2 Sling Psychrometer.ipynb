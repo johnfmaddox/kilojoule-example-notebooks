{
 "cells": [
  {
   "cell_type": "markdown",
   "metadata": {
    "collapsed": false
   },
   "source": [
    "# Example 14.2: Sling Psychrometer\n",
    "\n",
    "*John F. Maddox, Ph.D., P.E.<br>\n",
    "University of Kentucky - Paducah Campus<br>\n",
    "ME 321: Engineering Thermodynamics II<br>*"
   ]
  },
  {
   "cell_type": "markdown",
   "metadata": {
    "collapsed": false
   },
   "source": [
    "## Problem Statement\n",
    "Using the equations for adiabatic saturation temperature determine the specific humidity, $\\omega$, relative humidity, $\\phi$, and specific enthalpy, $h$, for atmospheric air with $T_{db}=20^\\circ\\mathrm{C}$ and $T_{wb}=15^\\circ\\mathrm{C}$"
   ]
  },
  {
   "cell_type": "markdown",
   "metadata": {
    "collapsed": false
   },
   "source": [
    "## Solution\n",
    "\n",
    "__[Video Explanation](https://uky.yuja.com/V/Video?v=3074211&node=10465112&a=1512114253&autoplay=1)__"
   ]
  },
  {
   "cell_type": "markdown",
   "metadata": {
    "collapsed": false
   },
   "source": [
    "### Python Initialization\n",
    "We'll start by importing the libraries we will use for our analysis and initializing dictionaries to hold the properties we will be usings."
   ]
  },
  {
   "cell_type": "code",
   "execution_count": 3,
   "metadata": {
    "collapsed": false,
    "jupyter": {
    }
   },
   "outputs": [
   ],
   "source": [
    "from kilojoule.templates.default import *\n",
    "   \n",
    "water = realfluid.Properties('Water')\n",
    "air = realfluid.Properties('Air')"
   ]
  },
  {
   "cell_type": "markdown",
   "metadata": {
    "collapsed": false
   },
   "source": [
    "### Given"
   ]
  },
  {
   "cell_type": "code",
   "execution_count": 4,
   "metadata": {
    "collapsed": false
   },
   "outputs": [
   ],
   "source": [
    "p = Quantity(1,'atm')\n",
    "T_db = Quantity(24,'degC')\n",
    "T_wb = Quantity(14,'degC')"
   ]
  },
  {
   "cell_type": "markdown",
   "metadata": {
    "collapsed": false
   },
   "source": [
    "#### Properties"
   ]
  },
  {
   "cell_type": "code",
   "execution_count": 5,
   "metadata": {
    "collapsed": false
   },
   "outputs": [
    {
     "data": {
      "text/markdown": [
       "Water Properties\n",
       "Saturated vapor pressure at wet bulb temperature\n",
       "\\begin{align}\n",
       "  p_{g,wb} &=  \\mathrm{ \\underset{ water }{ p } }\\left( \\mathrm{ T } = T_{wb}, \\mathrm{ x } = 1 \\right)  = \\mathrm{ \\underset{ water }{ p } }\\left( \\mathrm{ T } = 14\\ \\mathrm{°C}, \\mathrm{ x } = 1 \\right) = 1.599\\ \\mathrm{kPa}\n",
       "\\end{align}\n",
       "\n",
       "Saturated vapor pressure at dry bulb temperature\n",
       "\\begin{align}\n",
       "  p_{g,db} &=  \\mathrm{ \\underset{ water }{ p } }\\left( \\mathrm{ T } = T_{db}, \\mathrm{ x } = 1 \\right)  = \\mathrm{ \\underset{ water }{ p } }\\left( \\mathrm{ T } = 24\\ \\mathrm{°C}, \\mathrm{ x } = 1 \\right) = 2.9858\\ \\mathrm{kPa}\n",
       "\\end{align}\n",
       "\n",
       "Enthalpy of vaporization at wet bulb temperature\n",
       "\\begin{align}\n",
       "  h_{fg,wb} &=   \\mathrm{ \\underset{ water }{ h } }\\left( \\mathrm{ T } = T_{wb}, \\mathrm{ x } = 1 \\right) - \\mathrm{ \\underset{ water }{ h } }\\left( \\mathrm{ T } = T_{wb}, \\mathrm{ x } = 0 \\right)  \\\\\n",
       "    &=  \\mathrm{ \\underset{ water }{ h } }\\left( \\mathrm{ T } = 14\\ \\mathrm{°C}, \\mathrm{ x } = 1 \\right) - \\mathrm{ \\underset{ water }{ h } }\\left( \\mathrm{ T } = 14\\ \\mathrm{°C}, \\mathrm{ x } = 0 \\right) \\\\\n",
       "    &= 2467.7\\ \\frac{\\mathrm{kJ}}{\\mathrm{kg}}\n",
       "\\end{align}\n",
       "\n",
       "Enthalpy of saturated vapor at dry bulb temperature\n",
       "\\begin{align}\n",
       "  h_{g,db} &=  \\mathrm{ \\underset{ water }{ h } }\\left( \\mathrm{ T } = T_{db}, \\mathrm{ x } = 1 \\right)  = \\mathrm{ \\underset{ water }{ h } }\\left( \\mathrm{ T } = 24\\ \\mathrm{°C}, \\mathrm{ x } = 1 \\right) = 2544.7\\ \\frac{\\mathrm{kJ}}{\\mathrm{kg}}\n",
       "\\end{align}\n",
       "\n",
       "Enthalpy of saturated liquid at wet bulb temperature\n",
       "\\begin{align}\n",
       "  h_{f,wb} &=  \\mathrm{ \\underset{ water }{ h } }\\left( \\mathrm{ T } = T_{wb}, \\mathrm{ x } = 0 \\right)  = \\mathrm{ \\underset{ water }{ h } }\\left( \\mathrm{ T } = 14\\ \\mathrm{°C}, \\mathrm{ x } = 0 \\right) = 58.792\\ \\frac{\\mathrm{kJ}}{\\mathrm{kg}}\n",
       "\\end{align}\n",
       "\n",
       "Dry Air Properties\n",
       "\\begin{align}\n",
       "  c_{p} &=  \\mathrm{ \\underset{ air }{ cp } }\\left( \\mathrm{ T } = T_{db}, \\mathrm{ p } = p \\right)  = \\mathrm{ \\underset{ air }{ cp } }\\left( \\mathrm{ T } = 24\\ \\mathrm{°C}, \\mathrm{ p } = 1\\ \\mathrm{atm} \\right) = 1.0063\\ \\frac{\\mathrm{kJ}}{\\left(\\mathrm{kg} \\cdot \\mathrm{Δ°C}\\right)}\n",
       "\\end{align}\n",
       "\n"
      ],
      "text/plain": [
       "<IPython.core.display.Markdown object>"
      ]
     },
     "execution_count": 5,
     "metadata": {
     },
     "output_type": "execute_result"
    }
   ],
   "source": [
    "%%showcalc\n",
    "\"Water Properties\"\n",
    "\"Saturated vapor pressure at wet bulb temperature\"\n",
    "p_g_wb = water.p(T=T_wb,x=1)\n",
    "\"Saturated vapor pressure at dry bulb temperature\"\n",
    "p_g_db = water.p(T=T_db,x=1)\n",
    "\n",
    "\"Enthalpy of vaporization at wet bulb temperature\"\n",
    "h_fg_wb = water.h(T=T_wb,x=1) - water.h(T=T_wb,x=0)\n",
    "\"Enthalpy of saturated vapor at dry bulb temperature\"\n",
    "h_g_db = water.h(T=T_db,x=1)\n",
    "\"Enthalpy of saturated liquid at wet bulb temperature\"\n",
    "h_f_wb = water.h(T=T_wb,x=0)\n",
    "\n",
    "\"Dry Air Properties\"\n",
    "c_p = air.cp(T=T_db,p=p)"
   ]
  },
  {
   "cell_type": "markdown",
   "metadata": {
    "collapsed": false
   },
   "source": [
    "### Wet Bulb Specific Humidity (Saturated)"
   ]
  },
  {
   "cell_type": "code",
   "execution_count": 6,
   "metadata": {
    "collapsed": false
   },
   "outputs": [
    {
     "data": {
      "text/markdown": [
       "\\begin{align}\n",
       "  \\omega_{wb} &=  \\frac{  0.622  \\cdot  p_{g,wb}  }{  p - p_{g,wb}  } \\\\\n",
       "    &= \\frac{  0.622  \\cdot  1.599\\ \\mathrm{kPa}  }{  1\\ \\mathrm{atm} - 1.599\\ \\mathrm{kPa}  }\\\\\n",
       "    &= 0.009973\n",
       "\\end{align}\n",
       "\n"
      ],
      "text/plain": [
       "<IPython.core.display.Markdown object>"
      ]
     },
     "execution_count": 6,
     "metadata": {
     },
     "output_type": "execute_result"
    }
   ],
   "source": [
    "%%showcalc\n",
    "omega_wb = ((0.622*p_g_wb)/(p-p_g_wb)).to('')"
   ]
  },
  {
   "cell_type": "markdown",
   "metadata": {
    "collapsed": false
   },
   "source": [
    "### Dry Bulb Specific Humidity"
   ]
  },
  {
   "cell_type": "code",
   "execution_count": 7,
   "metadata": {
    "collapsed": false
   },
   "outputs": [
    {
     "data": {
      "text/markdown": [
       "\\begin{align}\n",
       "  \\omega &=  \\frac{  c_{p}  \\cdot  \\left(  T_{wb} - T_{db}  \\right)  +  \\omega_{wb}  \\cdot  h_{fg,wb}  }{  h_{g,db} - h_{f,wb}  } \\\\\n",
       "    &= \\frac{  1.0063\\ \\frac{\\mathrm{kJ}}{\\left(\\mathrm{kg} \\cdot \\mathrm{Δ°C}\\right)}  \\cdot  \\left(  14\\ \\mathrm{°C} - 24\\ \\mathrm{°C}  \\right)  +  0.009973  \\cdot  2467.7\\ \\frac{\\mathrm{kJ}}{\\mathrm{kg}}  }{  2544.7\\ \\frac{\\mathrm{kJ}}{\\mathrm{kg}} - 58.792\\ \\frac{\\mathrm{kJ}}{\\mathrm{kg}}  }\\\\\n",
       "    &= 0.0058521\n",
       "\\end{align}\n",
       "\n"
      ],
      "text/plain": [
       "<IPython.core.display.Markdown object>"
      ]
     },
     "execution_count": 7,
     "metadata": {
     },
     "output_type": "execute_result"
    }
   ],
   "source": [
    "%%showcalc\n",
    "omega = ( c_p*(T_wb-T_db) + omega_wb*h_fg_wb )/( h_g_db-h_f_wb )"
   ]
  },
  {
   "cell_type": "markdown",
   "metadata": {
    "collapsed": false
   },
   "source": [
    "### Dry Bulb Relative Humidity"
   ]
  },
  {
   "cell_type": "code",
   "execution_count": 8,
   "metadata": {
    "collapsed": false
   },
   "outputs": [
    {
     "data": {
      "text/markdown": [
       "\\begin{align}\n",
       "  \\phi &=  \\frac{  \\omega  \\cdot  p  }{  \\left( 0.622 + \\omega \\right)  \\cdot  p_{g,db}  } \\\\\n",
       "    &= \\frac{  0.0058521  \\cdot  1\\ \\mathrm{atm}  }{  \\left( 0.622 + 0.0058521 \\right)  \\cdot  2.9858\\ \\mathrm{kPa}  }\\\\\n",
       "    &= 0.31631\n",
       "\\end{align}\n",
       "\n"
      ],
      "text/plain": [
       "<IPython.core.display.Markdown object>"
      ]
     },
     "execution_count": 8,
     "metadata": {
     },
     "output_type": "execute_result"
    }
   ],
   "source": [
    "%%showcalc\n",
    "phi = (omega*p/((0.622+omega)*p_g_db)).to('')"
   ]
  },
  {
   "cell_type": "markdown",
   "metadata": {
    "collapsed": false
   },
   "source": [
    "### Dry Bulb Enthalpy"
   ]
  },
  {
   "cell_type": "code",
   "execution_count": 9,
   "metadata": {
    "collapsed": false
   },
   "outputs": [
    {
     "data": {
      "text/markdown": [
       "\\begin{align}\n",
       "  T_{db,C} &=  24\\ \\mathrm{Δ°C} \n",
       "\\end{align}\n",
       "\n",
       "\\begin{align}\n",
       "  h &=   c_{p}  \\cdot  T_{db,C}  +  \\omega  \\cdot  h_{g,db}  \\\\\n",
       "    &=  1.0063\\ \\frac{\\mathrm{kJ}}{\\left(\\mathrm{kg} \\cdot \\mathrm{Δ°C}\\right)}  \\cdot  24\\ \\mathrm{Δ°C}  +  0.0058521  \\cdot  2544.7\\ \\frac{\\mathrm{kJ}}{\\mathrm{kg}} \\\\\n",
       "    &= 39.042\\ \\frac{\\mathrm{kJ}}{\\mathrm{kg}}\n",
       "\\end{align}\n",
       "\n"
      ],
      "text/plain": [
       "<IPython.core.display.Markdown object>"
      ]
     },
     "execution_count": 9,
     "metadata": {
     },
     "output_type": "execute_result"
    }
   ],
   "source": [
    "%%showcalc\n",
    "T_db_C = Quantity(T_db.magnitude,'delta_degC')\n",
    "h = c_p*T_db_C + omega*h_g_db"
   ]
  },
  {
   "cell_type": "code",
   "execution_count": 11,
   "metadata": {
    "collapsed": false
   },
   "outputs": [
   ],
   "source": [
    "# Export your solution to submit to Canvas\n",
    "# 1) Ensure all cells above show your final solution\n",
    "# 2) Click the 'Save' button in the toolbar\n",
    "# 3) Uncomment (remove the #) from the last line in this cell\n",
    "# 4) Ensure the filename in the command below matches the filename of this notebook\n",
    "# 5) Execute this cell to create an HTML file showing only the output \n",
    "# 6) Submit the .html file located in the folder with this notebook\n",
    "\n",
    "# !jupyter nbconvert --to html_embed --no-input --no-prompt \"Ex14.2 Sling Psychrometer.ipynb\""
   ]
  }
 ],
 "metadata": {
  "kernelspec": {
   "argv": [
    "/usr/bin/python3",
    "-m",
    "ipykernel",
    "--HistoryManager.enabled=False",
    "--matplotlib=inline",
    "-c",
    "%config InlineBackend.figure_formats = set(['retina'])\nimport matplotlib; matplotlib.rcParams['figure.figsize'] = (12, 7)",
    "-f",
    "{connection_file}"
   ],
   "display_name": "Python 3 (system-wide)",
   "env": {
   },
   "language": "python",
   "metadata": {
    "cocalc": {
     "description": "Python 3 programming language",
     "priority": 100,
     "url": "https://www.python.org/"
    }
   },
   "name": "python3",
   "resource_dir": "/ext/jupyter/kernels/python3"
  },
  "language_info": {
   "codemirror_mode": {
    "name": "ipython",
    "version": 3
   },
   "file_extension": ".py",
   "mimetype": "text/x-python",
   "name": "python",
   "nbconvert_exporter": "python",
   "pygments_lexer": "ipython3",
   "version": "3.8.10"
  }
 },
 "nbformat": 4,
 "nbformat_minor": 4
}