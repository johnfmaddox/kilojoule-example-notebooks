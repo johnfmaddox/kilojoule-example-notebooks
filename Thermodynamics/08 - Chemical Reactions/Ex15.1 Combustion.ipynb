{
 "cells": [
  {
   "cell_type": "markdown",
   "metadata": {
    "collapsed": false
   },
   "source": [
    "# Example 15.1: Combustion\n",
    "\n",
    "*John F. Maddox, Ph.D., P.E.<br>\n",
    "University of Kentucky - Paducah Campus<br>\n",
    "ME 321: Engineering Thermodynamics II<br>*"
   ]
  },
  {
   "cell_type": "markdown",
   "metadata": {
    "collapsed": false
   },
   "source": [
    "## Problem Statement\n",
    "$\\require{mhchem}$\n",
    "One kmol of Acetylene ($\\ce{C2H2}$) is burned with air that contains $\\ce{3 kmol}$ of $\\ce{O2}$. Assuming the products contain only $\\ce{CO2, H2O, O2}$, and $\\ce{N2}$, determine the mole number of each gas in the products and the air-fuel ratio."
   ]
  },
  {
   "cell_type": "markdown",
   "metadata": {
    "collapsed": false
   },
   "source": [
    "## Solution\n",
    "\n",
    "__[Video Explanation](https://iad.scorm.canvaslms.com/courses/sconeID/scone_prod.sha256_816ff8391dc9a744037ba229245b46f13e5a3cdcd0cbb3762d923715151c0377/0/Ex15.mp4)__"
   ]
  },
  {
   "cell_type": "markdown",
   "metadata": {
    "collapsed": false
   },
   "source": [
    "### Python Initialization\n",
    "We'll start by importing the libraries we will use for our analysis and initializing dictionaries to hold the properties we will be usings."
   ]
  },
  {
   "cell_type": "code",
   "execution_count": 3,
   "metadata": {
    "collapsed": false,
    "jupyter": {
    }
   },
   "outputs": [
   ],
   "source": [
    "from kilojoule.templates.default import *\n",
    "from kilojoule.tables import Cengel"
   ]
  },
  {
   "cell_type": "code",
   "execution_count": 4,
   "metadata": {
    "collapsed": false
   },
   "outputs": [
    {
     "data": {
      "image/png": "[encoded data removed]",
      "image/svg+xml": "<?xml version=\"1.0\" encoding=\"utf-8\" standalone=\"no\"?>\n<!DOCTYPE svg PUBLIC \"-//W3C//DTD SVG 1.1//EN\"\n  \"http://www.w3.org/Graphics/SVG/1.1/DTD/svg11.dtd\">\n<svg xmlns:xlink=\"http://www.w3.org/1999/xlink\" width=\"318.5946pt\" height=\"121.84pt\" viewBox=\"0 0 318.5946 121.84\" xmlns=\"http://www.w3.org/2000/svg\" version=\"1.1\">\n <metadata>\n  <rdf:RDF xmlns:dc=\"http://purl.org/dc/elements/1.1/\" xmlns:cc=\"http://creativecommons.org/ns#\" xmlns:rdf=\"http://www.w3.org/1999/02/22-rdf-syntax-ns#\">\n   <cc:Work>\n    <dc:type rdf:resource=\"http://purl.org/dc/dcmitype/StillImage\"/>\n    <dc:date>2023-06-21T17:07:41.766835</dc:date>\n    <dc:format>image/svg+xml</dc:format>\n    <dc:creator>\n     <cc:Agent>\n      <dc:title>Matplotlib v3.6.3, https://matplotlib.org/</dc:title>\n     </cc:Agent>\n    </dc:creator>\n   </cc:Work>\n  </rdf:RDF>\n </metadata>\n <defs>\n  <style type=\"text/css\">*{stroke-linejoin: round; stroke-linecap: butt}</style>\n </defs>\n <g id=\"figure_1\">\n  <g id=\"patch_1\">\n   <path d=\"M 0 121.84 \nL 318.5946 121.84 \nL 318.5946 0 \nL 0 0 \nz\n\" style=\"fill: #ffffff\"/>\n  </g>\n  <g id=\"axes_1\">\n   <g id=\"line2d_1\">\n    <path d=\"M 79.4568 19.78 \nL 171.2568 19.78 \nL 171.2568 111.58 \nL 79.4568 111.58 \nL 79.4568 19.78 \n\" clip-path=\"url(#pcf75e781fb)\" style=\"fill: none; stroke: #000000; stroke-width: 2; stroke-linecap: round\"/>\n   </g>\n   <g id=\"line2d_2\">\n    <path d=\"M 71.8068 35.08 \nL 56.5068 35.08 \nL 33.5568 35.08 \n\" clip-path=\"url(#pcf75e781fb)\" style=\"fill: none; stroke: #000000; stroke-width: 2; stroke-linecap: round\"/>\n   </g>\n   <g id=\"patch_2\">\n    <path d=\"M 71.8068 32.785 \nL 79.4568 35.08 \nL 71.8068 37.375 \nz\n\" clip-path=\"url(#pcf75e781fb)\"/>\n   </g>\n   <g id=\"line2d_3\">\n    <path d=\"M 71.8068 96.28 \nL 56.5068 96.28 \nL 33.5568 96.28 \n\" clip-path=\"url(#pcf75e781fb)\" style=\"fill: none; stroke: #000000; stroke-width: 2; stroke-linecap: round\"/>\n   </g>\n   <g id=\"patch_3\">\n    <path d=\"M 71.8068 93.985 \nL 79.4568 96.28 \nL 71.8068 98.575 \nz\n\" clip-path=\"url(#pcf75e781fb)\"/>\n   </g>\n   <g id=\"line2d_4\">\n    <path d=\"M 171.2568 65.68 \nL 194.2068 65.68 \nL 209.5068 65.68 \n\" clip-path=\"url(#pcf75e781fb)\" style=\"fill: none; stroke: #000000; stroke-width: 2; stroke-linecap: round\"/>\n   </g>\n   <g id=\"patch_4\">\n    <path d=\"M 209.5068 63.385 \nL 217.1568 65.68 \nL 209.5068 67.975 \nz\n\" clip-path=\"url(#pcf75e781fb)\"/>\n   </g>\n   <g id=\"text_1\">\n    <g clip-path=\"url(#pcf75e781fb)\">\n     <!-- $\\mathrm{C_2H_2}$ -->\n     <g transform=\"translate(41.3818 29.42625) scale(0.125 -0.125)\">\n      <defs>\n       <path id=\"DejaVuSans-43\" d=\"M 4122 4306 \nL 4122 3641 \nQ 3803 3938 3442 4084 \nQ 3081 4231 2675 4231 \nQ 1875 4231 1450 3742 \nQ 1025 3253 1025 2328 \nQ 1025 1406 1450 917 \nQ 1875 428 2675 428 \nQ 3081 428 3442 575 \nQ 3803 722 4122 1019 \nL 4122 359 \nQ 3791 134 3420 21 \nQ 3050 -91 2638 -91 \nQ 1578 -91 968 557 \nQ 359 1206 359 2328 \nQ 359 3453 968 4101 \nQ 1578 4750 2638 4750 \nQ 3056 4750 3426 4639 \nQ 3797 4528 4122 4306 \nz\n\" transform=\"scale(0.015625)\"/>\n       <path id=\"DejaVuSans-32\" d=\"M 1228 531 \nL 3431 531 \nL 3431 0 \nL 469 0 \nL 469 531 \nQ 828 903 1448 1529 \nQ 2069 2156 2228 2338 \nQ 2531 2678 2651 2914 \nQ 2772 3150 2772 3378 \nQ 2772 3750 2511 3984 \nQ 2250 4219 1831 4219 \nQ 1534 4219 1204 4116 \nQ 875 4013 500 3803 \nL 500 4441 \nQ 881 4594 1212 4672 \nQ 1544 4750 1819 4750 \nQ 2544 4750 2975 4387 \nQ 3406 4025 3406 3419 \nQ 3406 3131 3298 2873 \nQ 3191 2616 2906 2266 \nQ 2828 2175 2409 1742 \nQ 1991 1309 1228 531 \nz\n\" transform=\"scale(0.015625)\"/>\n       <path id=\"DejaVuSans-48\" d=\"M 628 4666 \nL 1259 4666 \nL 1259 2753 \nL 3553 2753 \nL 3553 4666 \nL 4184 4666 \nL 4184 0 \nL 3553 0 \nL 3553 2222 \nL 1259 2222 \nL 1259 0 \nL 628 0 \nL 628 4666 \nz\n\" transform=\"scale(0.015625)\"/>\n      </defs>\n      <use xlink:href=\"#DejaVuSans-43\" transform=\"translate(0 0.78125)\"/>\n      <use xlink:href=\"#DejaVuSans-32\" transform=\"translate(70.78125 -15.625) scale(0.7)\"/>\n      <use xlink:href=\"#DejaVuSans-48\" transform=\"translate(118.051758 0.78125)\"/>\n      <use xlink:href=\"#DejaVuSans-32\" transform=\"translate(194.204102 -15.625) scale(0.7)\"/>\n     </g>\n    </g>\n   </g>\n   <g id=\"text_2\">\n    <g clip-path=\"url(#pcf75e781fb)\">\n     <!-- $\\mathrm{Air}$ -->\n     <g transform=\"translate(47.8818 90.62625) scale(0.125 -0.125)\">\n      <defs>\n       <path id=\"DejaVuSans-41\" d=\"M 2188 4044 \nL 1331 1722 \nL 3047 1722 \nL 2188 4044 \nz\nM 1831 4666 \nL 2547 4666 \nL 4325 0 \nL 3669 0 \nL 3244 1197 \nL 1141 1197 \nL 716 0 \nL 50 0 \nL 1831 4666 \nz\n\" transform=\"scale(0.015625)\"/>\n       <path id=\"DejaVuSans-69\" d=\"M 603 3500 \nL 1178 3500 \nL 1178 0 \nL 603 0 \nL 603 3500 \nz\nM 603 4863 \nL 1178 4863 \nL 1178 4134 \nL 603 4134 \nL 603 4863 \nz\n\" transform=\"scale(0.015625)\"/>\n       <path id=\"DejaVuSans-72\" d=\"M 2631 2963 \nQ 2534 3019 2420 3045 \nQ 2306 3072 2169 3072 \nQ 1681 3072 1420 2755 \nQ 1159 2438 1159 1844 \nL 1159 0 \nL 581 0 \nL 581 3500 \nL 1159 3500 \nL 1159 2956 \nQ 1341 3275 1631 3429 \nQ 1922 3584 2338 3584 \nQ 2397 3584 2469 3576 \nQ 2541 3569 2628 3553 \nL 2631 2963 \nz\n\" transform=\"scale(0.015625)\"/>\n      </defs>\n      <use xlink:href=\"#DejaVuSans-41\" transform=\"translate(0 0.015625)\"/>\n      <use xlink:href=\"#DejaVuSans-69\" transform=\"translate(68.408203 0.015625)\"/>\n      <use xlink:href=\"#DejaVuSans-72\" transform=\"translate(96.191406 0.015625)\"/>\n     </g>\n    </g>\n   </g>\n   <g id=\"text_3\">\n    <g clip-path=\"url(#pcf75e781fb)\">\n     <!-- $\\mathrm{Products}$ -->\n     <g transform=\"translate(194.2068 60.02625) scale(0.125 -0.125)\">\n      <defs>\n       <path id=\"DejaVuSans-50\" d=\"M 1259 4147 \nL 1259 2394 \nL 2053 2394 \nQ 2494 2394 2734 2622 \nQ 2975 2850 2975 3272 \nQ 2975 3691 2734 3919 \nQ 2494 4147 2053 4147 \nL 1259 4147 \nz\nM 628 4666 \nL 2053 4666 \nQ 2838 4666 3239 4311 \nQ 3641 3956 3641 3272 \nQ 3641 2581 3239 2228 \nQ 2838 1875 2053 1875 \nL 1259 1875 \nL 1259 0 \nL 628 0 \nL 628 4666 \nz\n\" transform=\"scale(0.015625)\"/>\n       <path id=\"DejaVuSans-6f\" d=\"M 1959 3097 \nQ 1497 3097 1228 2736 \nQ 959 2375 959 1747 \nQ 959 1119 1226 758 \nQ 1494 397 1959 397 \nQ 2419 397 2687 759 \nQ 2956 1122 2956 1747 \nQ 2956 2369 2687 2733 \nQ 2419 3097 1959 3097 \nz\nM 1959 3584 \nQ 2709 3584 3137 3096 \nQ 3566 2609 3566 1747 \nQ 3566 888 3137 398 \nQ 2709 -91 1959 -91 \nQ 1206 -91 779 398 \nQ 353 888 353 1747 \nQ 353 2609 779 3096 \nQ 1206 3584 1959 3584 \nz\n\" transform=\"scale(0.015625)\"/>\n       <path id=\"DejaVuSans-64\" d=\"M 2906 2969 \nL 2906 4863 \nL 3481 4863 \nL 3481 0 \nL 2906 0 \nL 2906 525 \nQ 2725 213 2448 61 \nQ 2172 -91 1784 -91 \nQ 1150 -91 751 415 \nQ 353 922 353 1747 \nQ 353 2572 751 3078 \nQ 1150 3584 1784 3584 \nQ 2172 3584 2448 3432 \nQ 2725 3281 2906 2969 \nz\nM 947 1747 \nQ 947 1113 1208 752 \nQ 1469 391 1925 391 \nQ 2381 391 2643 752 \nQ 2906 1113 2906 1747 \nQ 2906 2381 2643 2742 \nQ 2381 3103 1925 3103 \nQ 1469 3103 1208 2742 \nQ 947 2381 947 1747 \nz\n\" transform=\"scale(0.015625)\"/>\n       <path id=\"DejaVuSans-75\" d=\"M 544 1381 \nL 544 3500 \nL 1119 3500 \nL 1119 1403 \nQ 1119 906 1312 657 \nQ 1506 409 1894 409 \nQ 2359 409 2629 706 \nQ 2900 1003 2900 1516 \nL 2900 3500 \nL 3475 3500 \nL 3475 0 \nL 2900 0 \nL 2900 538 \nQ 2691 219 2414 64 \nQ 2138 -91 1772 -91 \nQ 1169 -91 856 284 \nQ 544 659 544 1381 \nz\nM 1991 3584 \nL 1991 3584 \nz\n\" transform=\"scale(0.015625)\"/>\n       <path id=\"DejaVuSans-63\" d=\"M 3122 3366 \nL 3122 2828 \nQ 2878 2963 2633 3030 \nQ 2388 3097 2138 3097 \nQ 1578 3097 1268 2742 \nQ 959 2388 959 1747 \nQ 959 1106 1268 751 \nQ 1578 397 2138 397 \nQ 2388 397 2633 464 \nQ 2878 531 3122 666 \nL 3122 134 \nQ 2881 22 2623 -34 \nQ 2366 -91 2075 -91 \nQ 1284 -91 818 406 \nQ 353 903 353 1747 \nQ 353 2603 823 3093 \nQ 1294 3584 2113 3584 \nQ 2378 3584 2631 3529 \nQ 2884 3475 3122 3366 \nz\n\" transform=\"scale(0.015625)\"/>\n       <path id=\"DejaVuSans-74\" d=\"M 1172 4494 \nL 1172 3500 \nL 2356 3500 \nL 2356 3053 \nL 1172 3053 \nL 1172 1153 \nQ 1172 725 1289 603 \nQ 1406 481 1766 481 \nL 2356 481 \nL 2356 0 \nL 1766 0 \nQ 1100 0 847 248 \nQ 594 497 594 1153 \nL 594 3053 \nL 172 3053 \nL 172 3500 \nL 594 3500 \nL 594 4494 \nL 1172 4494 \nz\n\" transform=\"scale(0.015625)\"/>\n       <path id=\"DejaVuSans-73\" d=\"M 2834 3397 \nL 2834 2853 \nQ 2591 2978 2328 3040 \nQ 2066 3103 1784 3103 \nQ 1356 3103 1142 2972 \nQ 928 2841 928 2578 \nQ 928 2378 1081 2264 \nQ 1234 2150 1697 2047 \nL 1894 2003 \nQ 2506 1872 2764 1633 \nQ 3022 1394 3022 966 \nQ 3022 478 2636 193 \nQ 2250 -91 1575 -91 \nQ 1294 -91 989 -36 \nQ 684 19 347 128 \nL 347 722 \nQ 666 556 975 473 \nQ 1284 391 1588 391 \nQ 1994 391 2212 530 \nQ 2431 669 2431 922 \nQ 2431 1156 2273 1281 \nQ 2116 1406 1581 1522 \nL 1381 1569 \nQ 847 1681 609 1914 \nQ 372 2147 372 2553 \nQ 372 3047 722 3315 \nQ 1072 3584 1716 3584 \nQ 2034 3584 2315 3537 \nQ 2597 3491 2834 3397 \nz\n\" transform=\"scale(0.015625)\"/>\n      </defs>\n      <use xlink:href=\"#DejaVuSans-50\" transform=\"translate(0 0.015625)\"/>\n      <use xlink:href=\"#DejaVuSans-72\" transform=\"translate(60.302734 0.015625)\"/>\n      <use xlink:href=\"#DejaVuSans-6f\" transform=\"translate(101.416016 0.015625)\"/>\n      <use xlink:href=\"#DejaVuSans-64\" transform=\"translate(162.597656 0.015625)\"/>\n      <use xlink:href=\"#DejaVuSans-75\" transform=\"translate(226.074219 0.015625)\"/>\n      <use xlink:href=\"#DejaVuSans-63\" transform=\"translate(289.453125 0.015625)\"/>\n      <use xlink:href=\"#DejaVuSans-74\" transform=\"translate(344.433594 0.015625)\"/>\n      <use xlink:href=\"#DejaVuSans-73\" transform=\"translate(383.642578 0.015625)\"/>\n     </g>\n    </g>\n   </g>\n  </g>\n </g>\n <defs>\n  <clipPath id=\"pcf75e781fb\">\n   <rect x=\"7.2\" y=\"7.2\" width=\"304.1946\" height=\"107.44\"/>\n  </clipPath>\n </defs>\n</svg>\n",
      "text/plain": [
       "<schemdraw.backends.mpl.Figure object at 0x7f5d790cbee0>"
      ]
     },
     "execution_count": 4,
     "metadata": {
     },
     "output_type": "execute_result"
    }
   ],
   "source": [
    "from kilojoule.schemdraw import *\n",
    "with schemdraw.Drawing() as d:\n",
    "    d += (chamb := thermo.HX(passes=3,coils=False))\n",
    "    d += elm.Arrow().at(chamb.W1).left(1.5).reverse().label(r'$\\mathrm{C_2H_2}$')\n",
    "    d += elm.Arrow().at(chamb.W3).left(1.5).reverse().label(r'$\\mathrm{Air}$')\n",
    "    d += elm.Arrow().at(chamb.E).right(1.5).label(r'$\\mathrm{Products}$',halign='left')"
   ]
  },
  {
   "cell_type": "markdown",
   "metadata": {
    "collapsed": false
   },
   "source": [
    "## Chemical Balance\n",
    "\n",
    "\\begin{equation}\n",
    "\t\\ce{ C2H2 + 3(O2 + $3.76$ N2) -> a CO2 + b H2O + c O2 + d N2 }\n",
    "\\end{equation}\n",
    "\n",
    "\\begin{align}\n",
    "\t\\ce{C}:& & % Carbon Balance\n",
    "    \t2&=a &\n",
    "        &\\Rightarrow&\n",
    "        a&=2\\\\\n",
    "\t\\ce{H}:& & % Hydrogen Balance\n",
    "    \t2&=b2 &\n",
    "        &\\Rightarrow&\n",
    "        b&=1\\\\\n",
    "\t\\ce{O}:& & % Oxygen Balance\n",
    "    \t(3)(2)&=a(2)+b+c(2)  &\n",
    "        &\\Rightarrow& \n",
    "        c&= \\frac{6-2a-b}{2}=\\frac{6-2(2)-1}{2}=0.5\\\\\n",
    "\t\\ce{N2}:& & % Nitrogen Balance\n",
    "    \t3(3.76)&=d &\n",
    "        &\\Rightarrow&\n",
    "        d&=11.28\\\\\n",
    "\\end{align}\n",
    "\n",
    "\\begin{equation}\n",
    "\t\\ce{C2H2 + 3(O2 + $3.76$N2) -> 2 CO2 + H2O + $0.5$O2 + $11.28$ N2}\n",
    "\\end{equation}"
   ]
  },
  {
   "cell_type": "code",
   "execution_count": 5,
   "metadata": {
    "collapsed": false
   },
   "outputs": [
   ],
   "source": [
    "a = 2\n",
    "b = 1\n",
    "c = 0.5\n",
    "d = 11.28"
   ]
  },
  {
   "cell_type": "markdown",
   "metadata": {
    "collapsed": false
   },
   "source": [
    "### Property Tables"
   ]
  },
  {
   "cell_type": "code",
   "execution_count": 6,
   "metadata": {
    "collapsed": false
   },
   "outputs": [
   ],
   "source": [
    "A1 = Cengel.Table(\"A1\")\n",
    "N2 = A18 = Cengel.Table(\"A18\")\n",
    "O2 = A19 = Cengel.Table(\"A19\")\n",
    "CO2 = A20 = Cengel.Table(\"A20\")\n",
    "CO = A21 = Cengel.Table(\"A21\")\n",
    "H2 = A22 = Cengel.Table(\"A22\")\n",
    "H2O = A23 = Cengel.Table(\"A23\")\n",
    "O = A24 = Cengel.Table(\"A24\")\n",
    "OH = A25 = Cengel.Table(\"A25\")\n",
    "A26 = Cengel.Table(\"A26\")\n",
    "A27 = Cengel.Table(\"A27\")"
   ]
  },
  {
   "cell_type": "markdown",
   "metadata": {
    "collapsed": false
   },
   "source": [
    "## Air-to-Fuel Ratio"
   ]
  },
  {
   "cell_type": "code",
   "execution_count": 7,
   "metadata": {
    "collapsed": false
   },
   "outputs": [
    {
     "data": {
      "text/markdown": [
       "### Mass of air\n",
       "Moles of air per mole of fuel\n",
       "\\begin{align}\n",
       "  N_{air} &=   3  \\cdot  4.76\\ \\mathrm{mol}   = 14.28\\ \\mathrm{mol} \n",
       "\\end{align}\n",
       "\n",
       "Molar mass of air\n",
       "\\begin{align}\n",
       "  M_{air} &=  \\mathrm{ \\underset{ A1 }{ M } }\\left( Air \\right)  = 28.97\\ \\frac{\\mathrm{kg}}{\\mathrm{kmol}} \n",
       "\\end{align}\n",
       "\n",
       "Mass of air per per mole of fuel\n",
       "\\begin{align}\n",
       "  m_{air} &=   N_{air}  \\cdot  M_{air}  \\\\\n",
       "    &=  14.28\\ \\mathrm{mol}  \\cdot  28.97\\ \\frac{\\mathrm{kg}}{\\mathrm{kmol}} \\\\\n",
       "    &= 0.41369\\ \\mathrm{kg}\n",
       "\\end{align}\n",
       "\n",
       "### Mass of fuel\n",
       "Mole of fuel per mole of fuel (always 1)\n",
       "\\begin{align}\n",
       "  N_{fuel} &=  1\\ \\mathrm{mol} \n",
       "\\end{align}\n",
       "\n",
       "Molar mass of fuel\n",
       "\\begin{align}\n",
       "  M_{fuel} &=  \\mathrm{ \\underset{ A27 }{ M } }\\left( C2H2 \\right)  = 26.038\\ \\frac{\\mathrm{kg}}{\\mathrm{kmol}} \n",
       "\\end{align}\n",
       "\n",
       "Mass of fuel per mole of fuel (Molar Mass)\n",
       "\\begin{align}\n",
       "  m_{fuel} &=   N_{fuel}  \\cdot  M_{fuel}  \\\\\n",
       "    &=  1\\ \\mathrm{mol}  \\cdot  26.038\\ \\frac{\\mathrm{kg}}{\\mathrm{kmol}} \\\\\n",
       "    &= 0.026038\\ \\mathrm{kg}\n",
       "\\end{align}\n",
       "\n",
       "### Air-to-Fuel Ratio\n",
       "\\begin{align}\n",
       "  AF &=  \\frac{ m_{air} }{ m_{fuel} } \\\\\n",
       "    &= \\frac{ 0.41369\\ \\mathrm{kg} }{ 0.026038\\ \\mathrm{kg} }\\\\\n",
       "    &= 15.888\n",
       "\\end{align}\n",
       "\n"
      ],
      "text/plain": [
       "<IPython.core.display.Markdown object>"
      ]
     },
     "execution_count": 7,
     "metadata": {
     },
     "output_type": "execute_result"
    }
   ],
   "source": [
    "%%showcalc\n",
    "\"### Mass of air\"\n",
    "\"Moles of air per mole of fuel\"\n",
    "N_air = 3*Quantity(4.76,'mol')\n",
    "\"Molar mass of air\"\n",
    "M_air = A1.M(\"Air\")\n",
    "\"Mass of air per per mole of fuel\"\n",
    "m_air = (N_air*M_air).to('kg')\n",
    "\n",
    "\"### Mass of fuel\"\n",
    "\"Mole of fuel per mole of fuel (always 1)\"\n",
    "N_fuel = Quantity(1,'mol')\n",
    "\"Molar mass of fuel\"\n",
    "M_fuel = A27.M(\"C2H2\")\n",
    "\"Mass of fuel per mole of fuel (Molar Mass)\"\n",
    "m_fuel = (N_fuel*M_fuel).to('kg')\n",
    "\n",
    "\"### Air-to-Fuel Ratio\"\n",
    "AF = m_air/m_fuel"
   ]
  },
  {
   "cell_type": "code",
   "execution_count": 9,
   "metadata": {
    "collapsed": false,
    "jupyter": {
    }
   },
   "outputs": [
   ],
   "source": [
    "# Export your solution to submit to Canvas\n",
    "# 1) Ensure all cells above show your final solution\n",
    "# 2) Click the 'Save' button in the toolbar\n",
    "# 3) Uncomment (remove the #) from the last line in this cell\n",
    "# 4) Ensure the filename in the command below matches the filename of this notebook\n",
    "# 4) Execute this cell to create an HTML file showing only the output \n",
    "# 5) Submit the .html file located in the folder with this notebook\n",
    "\n",
    "# !jupyter nbconvert --to html_embed --no-input --no-prompt \"Ex15.1 Combustion.ipynb\""
   ]
  }
 ],
 "metadata": {
  "kernelspec": {
   "argv": [
    "/usr/bin/python3",
    "-m",
    "ipykernel",
    "--HistoryManager.enabled=False",
    "--matplotlib=inline",
    "-c",
    "%config InlineBackend.figure_formats = set(['retina'])\nimport matplotlib; matplotlib.rcParams['figure.figsize'] = (12, 7)",
    "-f",
    "{connection_file}"
   ],
   "display_name": "Python 3 (system-wide)",
   "env": {
   },
   "language": "python",
   "metadata": {
    "cocalc": {
     "description": "Python 3 programming language",
     "priority": 100,
     "url": "https://www.python.org/"
    }
   },
   "name": "python3",
   "resource_dir": "/ext/jupyter/kernels/python3"
  },
  "language_info": {
   "codemirror_mode": {
    "name": "ipython",
    "version": 3
   },
   "file_extension": ".py",
   "mimetype": "text/x-python",
   "name": "python",
   "nbconvert_exporter": "python",
   "pygments_lexer": "ipython3",
   "version": "3.8.10"
  },
  "vscode": {
   "interpreter": {
    "hash": "5ac08260a19af6e15a40ac86f761d0cfbb39d3d0196eae74a8efbd73e99cc68e"
   }
  }
 },
 "nbformat": 4,
 "nbformat_minor": 4
}