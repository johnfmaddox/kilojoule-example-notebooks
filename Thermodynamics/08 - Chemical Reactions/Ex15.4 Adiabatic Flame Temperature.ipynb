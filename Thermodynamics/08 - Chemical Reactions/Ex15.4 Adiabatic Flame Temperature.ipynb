{
 "cells": [
  {
   "cell_type": "markdown",
   "metadata": {
    "collapsed": false
   },
   "source": [
    "# Example 15.4: Adiabatic Flame Temperature\n",
    "\n",
    "*John F. Maddox, Ph.D., P.E.<br>\n",
    "University of Kentucky - Paducah Campus<br>\n",
    "ME 321: Engineering Thermodynamics II<br>*"
   ]
  },
  {
   "cell_type": "markdown",
   "metadata": {
    "collapsed": false
   },
   "source": [
    "## Problem Statement\n",
    "$\\require{mhchem}$\n",
    "Determine the adiabatic flame temperature of propane ($\\ce{C3H8}$) at $25^\\circ\\mathrm{C}$ and $1\\ \\mathrm{atm}$ when using 100% theoretical air."
   ]
  },
  {
   "cell_type": "markdown",
   "metadata": {
    "collapsed": false
   },
   "source": [
    "## Solution\n",
    "\n",
    "__[Video Explanation](https://iad.scorm.canvaslms.com/courses/sconeID/scone_prod.sha256_74886e51493266d610ebcc972e5b925133276d277252b9d3e0c56add2958487a/0/Ex15.4-Adiabatic%20Flame%20Temperature.mp4)__\n",
    "\n"
   ]
  },
  {
   "cell_type": "markdown",
   "metadata": {
    "collapsed": false
   },
   "source": [
    "### Python Initialization\n",
    "We'll start by importing the libraries we will use for our analysis and initializing dictionaries to hold the properties we will be usings."
   ]
  },
  {
   "cell_type": "code",
   "execution_count": 3,
   "metadata": {
    "collapsed": false,
    "jupyter": {
    }
   },
   "outputs": [
   ],
   "source": [
    "from kilojoule.templates.default import *\n",
    "from kilojoule.tables import Cengel"
   ]
  },
  {
   "cell_type": "code",
   "execution_count": 4,
   "metadata": {
    "collapsed": false
   },
   "outputs": [
    {
     "data": {
      "image/png": "[encoded data removed]",
      "image/svg+xml": "<?xml version=\"1.0\" encoding=\"utf-8\" standalone=\"no\"?>\n<!DOCTYPE svg PUBLIC \"-//W3C//DTD SVG 1.1//EN\"\n  \"http://www.w3.org/Graphics/SVG/1.1/DTD/svg11.dtd\">\n<svg xmlns:xlink=\"http://www.w3.org/1999/xlink\" width=\"381.498pt\" height=\"151.42pt\" viewBox=\"0 0 381.498 151.42\" xmlns=\"http://www.w3.org/2000/svg\" version=\"1.1\">\n <metadata>\n  <rdf:RDF xmlns:dc=\"http://purl.org/dc/elements/1.1/\" xmlns:cc=\"http://creativecommons.org/ns#\" xmlns:rdf=\"http://www.w3.org/1999/02/22-rdf-syntax-ns#\">\n   <cc:Work>\n    <dc:type rdf:resource=\"http://purl.org/dc/dcmitype/StillImage\"/>\n    <dc:date>2023-06-21T17:17:15.343950</dc:date>\n    <dc:format>image/svg+xml</dc:format>\n    <dc:creator>\n     <cc:Agent>\n      <dc:title>Matplotlib v3.6.3, https://matplotlib.org/</dc:title>\n     </cc:Agent>\n    </dc:creator>\n   </cc:Work>\n  </rdf:RDF>\n </metadata>\n <defs>\n  <style type=\"text/css\">*{stroke-linejoin: round; stroke-linecap: butt}</style>\n </defs>\n <g id=\"figure_1\">\n  <g id=\"patch_1\">\n   <path d=\"M 0 151.42 \nL 381.498 151.42 \nL 381.498 0 \nL 0 0 \nz\n\" style=\"fill: #ffffff\"/>\n  </g>\n  <g id=\"axes_1\">\n   <g id=\"line2d_1\">\n    <path d=\"M 142.3602 19.78 \nL 234.1602 19.78 \nL 234.1602 111.58 \nL 142.3602 111.58 \nL 142.3602 19.78 \n\" clip-path=\"url(#pe375f925da)\" style=\"fill: none; stroke: #000000; stroke-width: 2; stroke-linecap: round\"/>\n   </g>\n   <g id=\"line2d_2\">\n    <path d=\"M 134.7102 35.08 \nL 119.4102 35.08 \nL 96.4602 35.08 \n\" clip-path=\"url(#pe375f925da)\" style=\"fill: none; stroke: #000000; stroke-width: 2; stroke-linecap: round\"/>\n   </g>\n   <g id=\"patch_2\">\n    <path d=\"M 134.7102 32.785 \nL 142.3602 35.08 \nL 134.7102 37.375 \nz\n\" clip-path=\"url(#pe375f925da)\"/>\n   </g>\n   <g id=\"line2d_3\">\n    <path d=\"M 134.7102 96.28 \nL 119.4102 96.28 \nL 96.4602 96.28 \n\" clip-path=\"url(#pe375f925da)\" style=\"fill: none; stroke: #000000; stroke-width: 2; stroke-linecap: round\"/>\n   </g>\n   <g id=\"patch_3\">\n    <path d=\"M 134.7102 93.985 \nL 142.3602 96.28 \nL 134.7102 98.575 \nz\n\" clip-path=\"url(#pe375f925da)\"/>\n   </g>\n   <g id=\"line2d_4\">\n    <path d=\"M 234.1602 65.68 \nL 257.1102 65.68 \nL 272.4102 65.68 \n\" clip-path=\"url(#pe375f925da)\" style=\"fill: none; stroke: #000000; stroke-width: 2; stroke-linecap: round\"/>\n   </g>\n   <g id=\"patch_4\">\n    <path d=\"M 272.4102 63.385 \nL 280.0602 65.68 \nL 272.4102 67.975 \nz\n\" clip-path=\"url(#pe375f925da)\"/>\n   </g>\n   <g id=\"text_1\">\n    <g clip-path=\"url(#pe375f925da)\">\n     <!-- $\\mathrm{C_3H_8}$ -->\n     <g transform=\"translate(89.1602 29.42625) scale(0.125 -0.125)\">\n      <defs>\n       <path id=\"DejaVuSans-43\" d=\"M 4122 4306 \nL 4122 3641 \nQ 3803 3938 3442 4084 \nQ 3081 4231 2675 4231 \nQ 1875 4231 1450 3742 \nQ 1025 3253 1025 2328 \nQ 1025 1406 1450 917 \nQ 1875 428 2675 428 \nQ 3081 428 3442 575 \nQ 3803 722 4122 1019 \nL 4122 359 \nQ 3791 134 3420 21 \nQ 3050 -91 2638 -91 \nQ 1578 -91 968 557 \nQ 359 1206 359 2328 \nQ 359 3453 968 4101 \nQ 1578 4750 2638 4750 \nQ 3056 4750 3426 4639 \nQ 3797 4528 4122 4306 \nz\n\" transform=\"scale(0.015625)\"/>\n       <path id=\"DejaVuSans-33\" d=\"M 2597 2516 \nQ 3050 2419 3304 2112 \nQ 3559 1806 3559 1356 \nQ 3559 666 3084 287 \nQ 2609 -91 1734 -91 \nQ 1441 -91 1130 -33 \nQ 819 25 488 141 \nL 488 750 \nQ 750 597 1062 519 \nQ 1375 441 1716 441 \nQ 2309 441 2620 675 \nQ 2931 909 2931 1356 \nQ 2931 1769 2642 2001 \nQ 2353 2234 1838 2234 \nL 1294 2234 \nL 1294 2753 \nL 1863 2753 \nQ 2328 2753 2575 2939 \nQ 2822 3125 2822 3475 \nQ 2822 3834 2567 4026 \nQ 2313 4219 1838 4219 \nQ 1578 4219 1281 4162 \nQ 984 4106 628 3988 \nL 628 4550 \nQ 988 4650 1302 4700 \nQ 1616 4750 1894 4750 \nQ 2613 4750 3031 4423 \nQ 3450 4097 3450 3541 \nQ 3450 3153 3228 2886 \nQ 3006 2619 2597 2516 \nz\n\" transform=\"scale(0.015625)\"/>\n       <path id=\"DejaVuSans-48\" d=\"M 628 4666 \nL 1259 4666 \nL 1259 2753 \nL 3553 2753 \nL 3553 4666 \nL 4184 4666 \nL 4184 0 \nL 3553 0 \nL 3553 2222 \nL 1259 2222 \nL 1259 0 \nL 628 0 \nL 628 4666 \nz\n\" transform=\"scale(0.015625)\"/>\n       <path id=\"DejaVuSans-38\" d=\"M 2034 2216 \nQ 1584 2216 1326 1975 \nQ 1069 1734 1069 1313 \nQ 1069 891 1326 650 \nQ 1584 409 2034 409 \nQ 2484 409 2743 651 \nQ 3003 894 3003 1313 \nQ 3003 1734 2745 1975 \nQ 2488 2216 2034 2216 \nz\nM 1403 2484 \nQ 997 2584 770 2862 \nQ 544 3141 544 3541 \nQ 544 4100 942 4425 \nQ 1341 4750 2034 4750 \nQ 2731 4750 3128 4425 \nQ 3525 4100 3525 3541 \nQ 3525 3141 3298 2862 \nQ 3072 2584 2669 2484 \nQ 3125 2378 3379 2068 \nQ 3634 1759 3634 1313 \nQ 3634 634 3220 271 \nQ 2806 -91 2034 -91 \nQ 1263 -91 848 271 \nQ 434 634 434 1313 \nQ 434 1759 690 2068 \nQ 947 2378 1403 2484 \nz\nM 1172 3481 \nQ 1172 3119 1398 2916 \nQ 1625 2713 2034 2713 \nQ 2441 2713 2670 2916 \nQ 2900 3119 2900 3481 \nQ 2900 3844 2670 4047 \nQ 2441 4250 2034 4250 \nQ 1625 4250 1398 4047 \nQ 1172 3844 1172 3481 \nz\n\" transform=\"scale(0.015625)\"/>\n      </defs>\n      <use xlink:href=\"#DejaVuSans-43\" transform=\"translate(0 0.78125)\"/>\n      <use xlink:href=\"#DejaVuSans-33\" transform=\"translate(70.78125 -15.625) scale(0.7)\"/>\n      <use xlink:href=\"#DejaVuSans-48\" transform=\"translate(118.051758 0.78125)\"/>\n      <use xlink:href=\"#DejaVuSans-38\" transform=\"translate(194.204102 -15.625) scale(0.7)\"/>\n     </g>\n    </g>\n   </g>\n   <g id=\"text_2\">\n    <g clip-path=\"url(#pe375f925da)\">\n     <!-- $25^\\circ\\mathrm{C}$ -->\n     <g transform=\"translate(85.4102 47.198594) scale(0.125 -0.125)\">\n      <defs>\n       <path id=\"DejaVuSans-32\" d=\"M 1228 531 \nL 3431 531 \nL 3431 0 \nL 469 0 \nL 469 531 \nQ 828 903 1448 1529 \nQ 2069 2156 2228 2338 \nQ 2531 2678 2651 2914 \nQ 2772 3150 2772 3378 \nQ 2772 3750 2511 3984 \nQ 2250 4219 1831 4219 \nQ 1534 4219 1204 4116 \nQ 875 4013 500 3803 \nL 500 4441 \nQ 881 4594 1212 4672 \nQ 1544 4750 1819 4750 \nQ 2544 4750 2975 4387 \nQ 3406 4025 3406 3419 \nQ 3406 3131 3298 2873 \nQ 3191 2616 2906 2266 \nQ 2828 2175 2409 1742 \nQ 1991 1309 1228 531 \nz\n\" transform=\"scale(0.015625)\"/>\n       <path id=\"DejaVuSans-35\" d=\"M 691 4666 \nL 3169 4666 \nL 3169 4134 \nL 1269 4134 \nL 1269 2991 \nQ 1406 3038 1543 3061 \nQ 1681 3084 1819 3084 \nQ 2600 3084 3056 2656 \nQ 3513 2228 3513 1497 \nQ 3513 744 3044 326 \nQ 2575 -91 1722 -91 \nQ 1428 -91 1123 -41 \nQ 819 9 494 109 \nL 494 744 \nQ 775 591 1075 516 \nQ 1375 441 1709 441 \nQ 2250 441 2565 725 \nQ 2881 1009 2881 1497 \nQ 2881 1984 2565 2268 \nQ 2250 2553 1709 2553 \nQ 1456 2553 1204 2497 \nQ 953 2441 691 2322 \nL 691 4666 \nz\n\" transform=\"scale(0.015625)\"/>\n       <path id=\"DejaVuSans-2218\" d=\"M 2000 2619 \nQ 1750 2619 1578 2445 \nQ 1406 2272 1406 2022 \nQ 1406 1775 1578 1605 \nQ 1750 1435 2000 1435 \nQ 2250 1435 2422 1605 \nQ 2594 1775 2594 2022 \nQ 2594 2269 2420 2444 \nQ 2247 2619 2000 2619 \nz\nM 2000 3022 \nQ 2200 3022 2384 2945 \nQ 2569 2869 2703 2725 \nQ 2847 2585 2919 2406 \nQ 2991 2228 2991 2022 \nQ 2991 1610 2702 1324 \nQ 2413 1038 1994 1038 \nQ 1572 1038 1290 1319 \nQ 1009 1600 1009 2022 \nQ 1009 2441 1296 2731 \nQ 1584 3022 2000 3022 \nz\n\" transform=\"scale(0.015625)\"/>\n      </defs>\n      <use xlink:href=\"#DejaVuSans-32\" transform=\"translate(0 0.78125)\"/>\n      <use xlink:href=\"#DejaVuSans-35\" transform=\"translate(63.623047 0.78125)\"/>\n      <use xlink:href=\"#DejaVuSans-2218\" transform=\"translate(141.84082 39.0625) scale(0.7)\"/>\n      <use xlink:href=\"#DejaVuSans-43\" transform=\"translate(202.03125 0.78125)\"/>\n     </g>\n    </g>\n    <g clip-path=\"url(#pe375f925da)\">\n     <!-- $1\\ \\mathrm{atm}$ -->\n     <g transform=\"translate(82.6602 60.662656) scale(0.125 -0.125)\">\n      <defs>\n       <path id=\"DejaVuSans-31\" d=\"M 794 531 \nL 1825 531 \nL 1825 4091 \nL 703 3866 \nL 703 4441 \nL 1819 4666 \nL 2450 4666 \nL 2450 531 \nL 3481 531 \nL 3481 0 \nL 794 0 \nL 794 531 \nz\n\" transform=\"scale(0.015625)\"/>\n       <path id=\"DejaVuSans-61\" d=\"M 2194 1759 \nQ 1497 1759 1228 1600 \nQ 959 1441 959 1056 \nQ 959 750 1161 570 \nQ 1363 391 1709 391 \nQ 2188 391 2477 730 \nQ 2766 1069 2766 1631 \nL 2766 1759 \nL 2194 1759 \nz\nM 3341 1997 \nL 3341 0 \nL 2766 0 \nL 2766 531 \nQ 2569 213 2275 61 \nQ 1981 -91 1556 -91 \nQ 1019 -91 701 211 \nQ 384 513 384 1019 \nQ 384 1609 779 1909 \nQ 1175 2209 1959 2209 \nL 2766 2209 \nL 2766 2266 \nQ 2766 2663 2505 2880 \nQ 2244 3097 1772 3097 \nQ 1472 3097 1187 3025 \nQ 903 2953 641 2809 \nL 641 3341 \nQ 956 3463 1253 3523 \nQ 1550 3584 1831 3584 \nQ 2591 3584 2966 3190 \nQ 3341 2797 3341 1997 \nz\n\" transform=\"scale(0.015625)\"/>\n       <path id=\"DejaVuSans-74\" d=\"M 1172 4494 \nL 1172 3500 \nL 2356 3500 \nL 2356 3053 \nL 1172 3053 \nL 1172 1153 \nQ 1172 725 1289 603 \nQ 1406 481 1766 481 \nL 2356 481 \nL 2356 0 \nL 1766 0 \nQ 1100 0 847 248 \nQ 594 497 594 1153 \nL 594 3053 \nL 172 3053 \nL 172 3500 \nL 594 3500 \nL 594 4494 \nL 1172 4494 \nz\n\" transform=\"scale(0.015625)\"/>\n       <path id=\"DejaVuSans-6d\" d=\"M 3328 2828 \nQ 3544 3216 3844 3400 \nQ 4144 3584 4550 3584 \nQ 5097 3584 5394 3201 \nQ 5691 2819 5691 2113 \nL 5691 0 \nL 5113 0 \nL 5113 2094 \nQ 5113 2597 4934 2840 \nQ 4756 3084 4391 3084 \nQ 3944 3084 3684 2787 \nQ 3425 2491 3425 1978 \nL 3425 0 \nL 2847 0 \nL 2847 2094 \nQ 2847 2600 2669 2842 \nQ 2491 3084 2119 3084 \nQ 1678 3084 1418 2786 \nQ 1159 2488 1159 1978 \nL 1159 0 \nL 581 0 \nL 581 3500 \nL 1159 3500 \nL 1159 2956 \nQ 1356 3278 1631 3431 \nQ 1906 3584 2284 3584 \nQ 2666 3584 2933 3390 \nQ 3200 3197 3328 2828 \nz\n\" transform=\"scale(0.015625)\"/>\n      </defs>\n      <use xlink:href=\"#DejaVuSans-31\" transform=\"translate(0 0.09375)\"/>\n      <use xlink:href=\"#DejaVuSans-61\" transform=\"translate(96.093425 0.09375)\"/>\n      <use xlink:href=\"#DejaVuSans-74\" transform=\"translate(157.372722 0.09375)\"/>\n      <use xlink:href=\"#DejaVuSans-6d\" transform=\"translate(196.581707 0.09375)\"/>\n     </g>\n    </g>\n   </g>\n   <g id=\"text_3\">\n    <g clip-path=\"url(#pe375f925da)\">\n     <!-- $\\mathrm{Air}$ -->\n     <g transform=\"translate(102.1602 90.62625) scale(0.125 -0.125)\">\n      <defs>\n       <path id=\"DejaVuSans-41\" d=\"M 2188 4044 \nL 1331 1722 \nL 3047 1722 \nL 2188 4044 \nz\nM 1831 4666 \nL 2547 4666 \nL 4325 0 \nL 3669 0 \nL 3244 1197 \nL 1141 1197 \nL 716 0 \nL 50 0 \nL 1831 4666 \nz\n\" transform=\"scale(0.015625)\"/>\n       <path id=\"DejaVuSans-69\" d=\"M 603 3500 \nL 1178 3500 \nL 1178 0 \nL 603 0 \nL 603 3500 \nz\nM 603 4863 \nL 1178 4863 \nL 1178 4134 \nL 603 4134 \nL 603 4863 \nz\n\" transform=\"scale(0.015625)\"/>\n       <path id=\"DejaVuSans-72\" d=\"M 2631 2963 \nQ 2534 3019 2420 3045 \nQ 2306 3072 2169 3072 \nQ 1681 3072 1420 2755 \nQ 1159 2438 1159 1844 \nL 1159 0 \nL 581 0 \nL 581 3500 \nL 1159 3500 \nL 1159 2956 \nQ 1341 3275 1631 3429 \nQ 1922 3584 2338 3584 \nQ 2397 3584 2469 3576 \nQ 2541 3569 2628 3553 \nL 2631 2963 \nz\n\" transform=\"scale(0.015625)\"/>\n      </defs>\n      <use xlink:href=\"#DejaVuSans-41\" transform=\"translate(0 0.015625)\"/>\n      <use xlink:href=\"#DejaVuSans-69\" transform=\"translate(68.408203 0.015625)\"/>\n      <use xlink:href=\"#DejaVuSans-72\" transform=\"translate(96.191406 0.015625)\"/>\n     </g>\n    </g>\n   </g>\n   <g id=\"text_4\">\n    <g clip-path=\"url(#pe375f925da)\">\n     <!-- $25^\\circ\\mathrm{C}$ -->\n     <g transform=\"translate(85.4102 108.398594) scale(0.125 -0.125)\">\n      <use xlink:href=\"#DejaVuSans-32\" transform=\"translate(0 0.78125)\"/>\n      <use xlink:href=\"#DejaVuSans-35\" transform=\"translate(63.623047 0.78125)\"/>\n      <use xlink:href=\"#DejaVuSans-2218\" transform=\"translate(141.84082 39.0625) scale(0.7)\"/>\n      <use xlink:href=\"#DejaVuSans-43\" transform=\"translate(202.03125 0.78125)\"/>\n     </g>\n    </g>\n    <g clip-path=\"url(#pe375f925da)\">\n     <!-- $1\\ \\mathrm{atm}$ -->\n     <g transform=\"translate(82.6602 121.862656) scale(0.125 -0.125)\">\n      <use xlink:href=\"#DejaVuSans-31\" transform=\"translate(0 0.09375)\"/>\n      <use xlink:href=\"#DejaVuSans-61\" transform=\"translate(96.093425 0.09375)\"/>\n      <use xlink:href=\"#DejaVuSans-74\" transform=\"translate(157.372722 0.09375)\"/>\n      <use xlink:href=\"#DejaVuSans-6d\" transform=\"translate(196.581707 0.09375)\"/>\n     </g>\n    </g>\n    <g clip-path=\"url(#pe375f925da)\">\n     <!-- $100\\%\\ a_{th}$ -->\n     <g transform=\"translate(62.5352 135.326719) scale(0.125 -0.125)\">\n      <defs>\n       <path id=\"DejaVuSans-30\" d=\"M 2034 4250 \nQ 1547 4250 1301 3770 \nQ 1056 3291 1056 2328 \nQ 1056 1369 1301 889 \nQ 1547 409 2034 409 \nQ 2525 409 2770 889 \nQ 3016 1369 3016 2328 \nQ 3016 3291 2770 3770 \nQ 2525 4250 2034 4250 \nz\nM 2034 4750 \nQ 2819 4750 3233 4129 \nQ 3647 3509 3647 2328 \nQ 3647 1150 3233 529 \nQ 2819 -91 2034 -91 \nQ 1250 -91 836 529 \nQ 422 1150 422 2328 \nQ 422 3509 836 4129 \nQ 1250 4750 2034 4750 \nz\n\" transform=\"scale(0.015625)\"/>\n       <path id=\"DejaVuSans-25\" d=\"M 4653 2053 \nQ 4381 2053 4226 1822 \nQ 4072 1591 4072 1178 \nQ 4072 772 4226 539 \nQ 4381 306 4653 306 \nQ 4919 306 5073 539 \nQ 5228 772 5228 1178 \nQ 5228 1588 5073 1820 \nQ 4919 2053 4653 2053 \nz\nM 4653 2450 \nQ 5147 2450 5437 2106 \nQ 5728 1763 5728 1178 \nQ 5728 594 5436 251 \nQ 5144 -91 4653 -91 \nQ 4153 -91 3862 251 \nQ 3572 594 3572 1178 \nQ 3572 1766 3864 2108 \nQ 4156 2450 4653 2450 \nz\nM 1428 4353 \nQ 1159 4353 1004 4120 \nQ 850 3888 850 3481 \nQ 850 3069 1003 2837 \nQ 1156 2606 1428 2606 \nQ 1700 2606 1854 2837 \nQ 2009 3069 2009 3481 \nQ 2009 3884 1853 4118 \nQ 1697 4353 1428 4353 \nz\nM 4250 4750 \nL 4750 4750 \nL 1831 -91 \nL 1331 -91 \nL 4250 4750 \nz\nM 1428 4750 \nQ 1922 4750 2215 4408 \nQ 2509 4066 2509 3481 \nQ 2509 2891 2217 2550 \nQ 1925 2209 1428 2209 \nQ 931 2209 642 2551 \nQ 353 2894 353 3481 \nQ 353 4063 643 4406 \nQ 934 4750 1428 4750 \nz\n\" transform=\"scale(0.015625)\"/>\n       <path id=\"DejaVuSans-Oblique-61\" d=\"M 3438 1997 \nL 3047 0 \nL 2472 0 \nL 2578 531 \nQ 2325 219 2001 64 \nQ 1678 -91 1281 -91 \nQ 834 -91 548 182 \nQ 263 456 263 884 \nQ 263 1497 752 1853 \nQ 1241 2209 2100 2209 \nL 2900 2209 \nL 2931 2363 \nQ 2938 2388 2941 2417 \nQ 2944 2447 2944 2509 \nQ 2944 2788 2717 2942 \nQ 2491 3097 2081 3097 \nQ 1800 3097 1504 3025 \nQ 1209 2953 897 2809 \nL 997 3341 \nQ 1322 3463 1633 3523 \nQ 1944 3584 2234 3584 \nQ 2853 3584 3176 3315 \nQ 3500 3047 3500 2534 \nQ 3500 2431 3484 2292 \nQ 3469 2153 3438 1997 \nz\nM 2816 1759 \nL 2241 1759 \nQ 1534 1759 1195 1570 \nQ 856 1381 856 984 \nQ 856 709 1029 553 \nQ 1203 397 1509 397 \nQ 1978 397 2328 733 \nQ 2678 1069 2791 1631 \nL 2816 1759 \nz\n\" transform=\"scale(0.015625)\"/>\n       <path id=\"DejaVuSans-Oblique-74\" d=\"M 2706 3500 \nL 2619 3053 \nL 1472 3053 \nL 1100 1153 \nQ 1081 1047 1072 975 \nQ 1063 903 1063 863 \nQ 1063 663 1183 572 \nQ 1303 481 1569 481 \nL 2150 481 \nL 2053 0 \nL 1503 0 \nQ 991 0 739 200 \nQ 488 400 488 806 \nQ 488 878 497 964 \nQ 506 1050 525 1153 \nL 897 3053 \nL 409 3053 \nL 500 3500 \nL 978 3500 \nL 1172 4494 \nL 1747 4494 \nL 1556 3500 \nL 2706 3500 \nz\n\" transform=\"scale(0.015625)\"/>\n       <path id=\"DejaVuSans-Oblique-68\" d=\"M 3566 2113 \nL 3156 0 \nL 2578 0 \nL 2988 2091 \nQ 3016 2238 3031 2350 \nQ 3047 2463 3047 2528 \nQ 3047 2791 2881 2937 \nQ 2716 3084 2419 3084 \nQ 1956 3084 1617 2771 \nQ 1278 2459 1178 1941 \nL 800 0 \nL 225 0 \nL 1172 4863 \nL 1747 4863 \nL 1375 2950 \nQ 1594 3244 1934 3414 \nQ 2275 3584 2650 3584 \nQ 3113 3584 3367 3334 \nQ 3622 3084 3622 2631 \nQ 3622 2519 3608 2391 \nQ 3594 2263 3566 2113 \nz\n\" transform=\"scale(0.015625)\"/>\n      </defs>\n      <use xlink:href=\"#DejaVuSans-31\" transform=\"translate(0 0.78125)\"/>\n      <use xlink:href=\"#DejaVuSans-30\" transform=\"translate(63.623047 0.78125)\"/>\n      <use xlink:href=\"#DejaVuSans-30\" transform=\"translate(127.246094 0.78125)\"/>\n      <use xlink:href=\"#DejaVuSans-25\" transform=\"translate(190.869141 0.78125)\"/>\n      <use xlink:href=\"#DejaVuSans-Oblique-61\" transform=\"translate(318.35905 0.78125)\"/>\n      <use xlink:href=\"#DejaVuSans-Oblique-74\" transform=\"translate(379.638347 -15.625) scale(0.7)\"/>\n      <use xlink:href=\"#DejaVuSans-Oblique-68\" transform=\"translate(407.084636 -15.625) scale(0.7)\"/>\n     </g>\n    </g>\n   </g>\n   <g id=\"text_5\">\n    <g clip-path=\"url(#pe375f925da)\">\n     <!-- $\\mathrm{Products}$ -->\n     <g transform=\"translate(257.1102 60.02625) scale(0.125 -0.125)\">\n      <defs>\n       <path id=\"DejaVuSans-50\" d=\"M 1259 4147 \nL 1259 2394 \nL 2053 2394 \nQ 2494 2394 2734 2622 \nQ 2975 2850 2975 3272 \nQ 2975 3691 2734 3919 \nQ 2494 4147 2053 4147 \nL 1259 4147 \nz\nM 628 4666 \nL 2053 4666 \nQ 2838 4666 3239 4311 \nQ 3641 3956 3641 3272 \nQ 3641 2581 3239 2228 \nQ 2838 1875 2053 1875 \nL 1259 1875 \nL 1259 0 \nL 628 0 \nL 628 4666 \nz\n\" transform=\"scale(0.015625)\"/>\n       <path id=\"DejaVuSans-6f\" d=\"M 1959 3097 \nQ 1497 3097 1228 2736 \nQ 959 2375 959 1747 \nQ 959 1119 1226 758 \nQ 1494 397 1959 397 \nQ 2419 397 2687 759 \nQ 2956 1122 2956 1747 \nQ 2956 2369 2687 2733 \nQ 2419 3097 1959 3097 \nz\nM 1959 3584 \nQ 2709 3584 3137 3096 \nQ 3566 2609 3566 1747 \nQ 3566 888 3137 398 \nQ 2709 -91 1959 -91 \nQ 1206 -91 779 398 \nQ 353 888 353 1747 \nQ 353 2609 779 3096 \nQ 1206 3584 1959 3584 \nz\n\" transform=\"scale(0.015625)\"/>\n       <path id=\"DejaVuSans-64\" d=\"M 2906 2969 \nL 2906 4863 \nL 3481 4863 \nL 3481 0 \nL 2906 0 \nL 2906 525 \nQ 2725 213 2448 61 \nQ 2172 -91 1784 -91 \nQ 1150 -91 751 415 \nQ 353 922 353 1747 \nQ 353 2572 751 3078 \nQ 1150 3584 1784 3584 \nQ 2172 3584 2448 3432 \nQ 2725 3281 2906 2969 \nz\nM 947 1747 \nQ 947 1113 1208 752 \nQ 1469 391 1925 391 \nQ 2381 391 2643 752 \nQ 2906 1113 2906 1747 \nQ 2906 2381 2643 2742 \nQ 2381 3103 1925 3103 \nQ 1469 3103 1208 2742 \nQ 947 2381 947 1747 \nz\n\" transform=\"scale(0.015625)\"/>\n       <path id=\"DejaVuSans-75\" d=\"M 544 1381 \nL 544 3500 \nL 1119 3500 \nL 1119 1403 \nQ 1119 906 1312 657 \nQ 1506 409 1894 409 \nQ 2359 409 2629 706 \nQ 2900 1003 2900 1516 \nL 2900 3500 \nL 3475 3500 \nL 3475 0 \nL 2900 0 \nL 2900 538 \nQ 2691 219 2414 64 \nQ 2138 -91 1772 -91 \nQ 1169 -91 856 284 \nQ 544 659 544 1381 \nz\nM 1991 3584 \nL 1991 3584 \nz\n\" transform=\"scale(0.015625)\"/>\n       <path id=\"DejaVuSans-63\" d=\"M 3122 3366 \nL 3122 2828 \nQ 2878 2963 2633 3030 \nQ 2388 3097 2138 3097 \nQ 1578 3097 1268 2742 \nQ 959 2388 959 1747 \nQ 959 1106 1268 751 \nQ 1578 397 2138 397 \nQ 2388 397 2633 464 \nQ 2878 531 3122 666 \nL 3122 134 \nQ 2881 22 2623 -34 \nQ 2366 -91 2075 -91 \nQ 1284 -91 818 406 \nQ 353 903 353 1747 \nQ 353 2603 823 3093 \nQ 1294 3584 2113 3584 \nQ 2378 3584 2631 3529 \nQ 2884 3475 3122 3366 \nz\n\" transform=\"scale(0.015625)\"/>\n       <path id=\"DejaVuSans-73\" d=\"M 2834 3397 \nL 2834 2853 \nQ 2591 2978 2328 3040 \nQ 2066 3103 1784 3103 \nQ 1356 3103 1142 2972 \nQ 928 2841 928 2578 \nQ 928 2378 1081 2264 \nQ 1234 2150 1697 2047 \nL 1894 2003 \nQ 2506 1872 2764 1633 \nQ 3022 1394 3022 966 \nQ 3022 478 2636 193 \nQ 2250 -91 1575 -91 \nQ 1294 -91 989 -36 \nQ 684 19 347 128 \nL 347 722 \nQ 666 556 975 473 \nQ 1284 391 1588 391 \nQ 1994 391 2212 530 \nQ 2431 669 2431 922 \nQ 2431 1156 2273 1281 \nQ 2116 1406 1581 1522 \nL 1381 1569 \nQ 847 1681 609 1914 \nQ 372 2147 372 2553 \nQ 372 3047 722 3315 \nQ 1072 3584 1716 3584 \nQ 2034 3584 2315 3537 \nQ 2597 3491 2834 3397 \nz\n\" transform=\"scale(0.015625)\"/>\n      </defs>\n      <use xlink:href=\"#DejaVuSans-50\" transform=\"translate(0 0.015625)\"/>\n      <use xlink:href=\"#DejaVuSans-72\" transform=\"translate(60.302734 0.015625)\"/>\n      <use xlink:href=\"#DejaVuSans-6f\" transform=\"translate(101.416016 0.015625)\"/>\n      <use xlink:href=\"#DejaVuSans-64\" transform=\"translate(162.597656 0.015625)\"/>\n      <use xlink:href=\"#DejaVuSans-75\" transform=\"translate(226.074219 0.015625)\"/>\n      <use xlink:href=\"#DejaVuSans-63\" transform=\"translate(289.453125 0.015625)\"/>\n      <use xlink:href=\"#DejaVuSans-74\" transform=\"translate(344.433594 0.015625)\"/>\n      <use xlink:href=\"#DejaVuSans-73\" transform=\"translate(383.642578 0.015625)\"/>\n     </g>\n    </g>\n   </g>\n   <g id=\"text_6\">\n    <g clip-path=\"url(#pe375f925da)\">\n     <!-- $T_P=?$ -->\n     <g transform=\"translate(257.1102 77.798594) scale(0.125 -0.125)\">\n      <defs>\n       <path id=\"DejaVuSans-Oblique-54\" d=\"M 378 4666 \nL 4325 4666 \nL 4225 4134 \nL 2559 4134 \nL 1759 0 \nL 1125 0 \nL 1925 4134 \nL 275 4134 \nL 378 4666 \nz\n\" transform=\"scale(0.015625)\"/>\n       <path id=\"DejaVuSans-Oblique-50\" d=\"M 1081 4666 \nL 2541 4666 \nQ 3178 4666 3512 4369 \nQ 3847 4072 3847 3500 \nQ 3847 2731 3353 2303 \nQ 2859 1875 1966 1875 \nL 1172 1875 \nL 806 0 \nL 172 0 \nL 1081 4666 \nz\nM 1613 4147 \nL 1275 2394 \nL 2069 2394 \nQ 2606 2394 2893 2669 \nQ 3181 2944 3181 3456 \nQ 3181 3784 2986 3965 \nQ 2791 4147 2438 4147 \nL 1613 4147 \nz\n\" transform=\"scale(0.015625)\"/>\n       <path id=\"DejaVuSans-3d\" d=\"M 678 2906 \nL 4684 2906 \nL 4684 2381 \nL 678 2381 \nL 678 2906 \nz\nM 678 1631 \nL 4684 1631 \nL 4684 1100 \nL 678 1100 \nL 678 1631 \nz\n\" transform=\"scale(0.015625)\"/>\n       <path id=\"DejaVuSans-3f\" d=\"M 1222 794 \nL 1856 794 \nL 1856 0 \nL 1222 0 \nL 1222 794 \nz\nM 1838 1253 \nL 1241 1253 \nL 1241 1734 \nQ 1241 2050 1328 2253 \nQ 1416 2456 1697 2725 \nL 1978 3003 \nQ 2156 3169 2236 3316 \nQ 2316 3463 2316 3616 \nQ 2316 3894 2111 4066 \nQ 1906 4238 1569 4238 \nQ 1322 4238 1042 4128 \nQ 763 4019 459 3809 \nL 459 4397 \nQ 753 4575 1054 4662 \nQ 1356 4750 1678 4750 \nQ 2253 4750 2601 4447 \nQ 2950 4144 2950 3647 \nQ 2950 3409 2837 3195 \nQ 2725 2981 2444 2713 \nL 2169 2444 \nQ 2022 2297 1961 2214 \nQ 1900 2131 1875 2053 \nQ 1856 1988 1847 1894 \nQ 1838 1800 1838 1638 \nL 1838 1253 \nz\n\" transform=\"scale(0.015625)\"/>\n      </defs>\n      <use xlink:href=\"#DejaVuSans-Oblique-54\" transform=\"translate(0 0.78125)\"/>\n      <use xlink:href=\"#DejaVuSans-Oblique-50\" transform=\"translate(61.083984 -15.625) scale(0.7)\"/>\n      <use xlink:href=\"#DejaVuSans-3d\" transform=\"translate(125.512695 0.78125)\"/>\n      <use xlink:href=\"#DejaVuSans-3f\" transform=\"translate(228.78418 0.78125)\"/>\n     </g>\n    </g>\n    <g clip-path=\"url(#pe375f925da)\">\n     <!-- $1\\  \\mathrm{atm}$ -->\n     <g transform=\"translate(257.1102 91.262656) scale(0.125 -0.125)\">\n      <use xlink:href=\"#DejaVuSans-31\" transform=\"translate(0 0.09375)\"/>\n      <use xlink:href=\"#DejaVuSans-61\" transform=\"translate(96.093425 0.09375)\"/>\n      <use xlink:href=\"#DejaVuSans-74\" transform=\"translate(157.372722 0.09375)\"/>\n      <use xlink:href=\"#DejaVuSans-6d\" transform=\"translate(196.581707 0.09375)\"/>\n     </g>\n    </g>\n   </g>\n  </g>\n </g>\n <defs>\n  <clipPath id=\"pe375f925da\">\n   <rect x=\"7.2\" y=\"7.2\" width=\"367.098\" height=\"137.02\"/>\n  </clipPath>\n </defs>\n</svg>\n",
      "text/plain": [
       "<schemdraw.backends.mpl.Figure object at 0x7fcad3586700>"
      ]
     },
     "execution_count": 4,
     "metadata": {
     },
     "output_type": "execute_result"
    }
   ],
   "source": [
    "from kilojoule.schemdraw import *\n",
    "with schemdraw.Drawing() as d:\n",
    "    d += (chamb := thermo.HX(passes=3,coils=False))\n",
    "    d += elm.Arrow().at(chamb.W1).left(1.5).reverse().label(r'$\\mathrm{C_3H_8}$',halign='right').label(r'$25^\\circ\\mathrm{C}$'+'\\n'+'$1\\ \\mathrm{atm}$',loc=\"bottom\",halign='right')\n",
    "    d += elm.Arrow().at(chamb.W3).left(1.5).reverse().label(r'$\\mathrm{Air}$',halign='right').label(r'$25^\\circ\\mathrm{C}$'+'\\n'+'$1\\ \\mathrm{atm}$'+'\\n'+'$100\\%\\ a_{th}$',loc=\"bottom\",halign='right')\n",
    "    d += elm.Arrow().at(chamb.E).right(1.5).label(r'$\\mathrm{Products}$',halign='left').label(r'$T_P=?$'+'\\n'+'$1\\  \\mathrm{atm}$',loc=\"bottom\",halign='left')"
   ]
  },
  {
   "cell_type": "markdown",
   "metadata": {
    "collapsed": false
   },
   "source": [
    "## Chemical Balance\n",
    "\n",
    "\\begin{equation}\n",
    "\t\\ce{ C3H8 + a_{th}(O2 + $3.76$ N2) -> a CO2 + b H2O(g)  + c N2 }\n",
    "\\end{equation}\n",
    "\n",
    "\\begin{align}\n",
    "\t\\ce{C}:& & % Carbon Balance\n",
    "    \t3&=a &\n",
    "        &\\Rightarrow&\n",
    "        a&=3\\\\\n",
    "\t\\ce{H}:& & % Hydrogen Balance\n",
    "    \t8&=2b &\n",
    "        &\\Rightarrow&\n",
    "        b&=4\\\\\n",
    "\t\\ce{O}:& & % Oxygen Balance\n",
    "    \t(2)a_{th}&=2a+b &\n",
    "        &\\Rightarrow& \n",
    "        a_{th}&=5\\\\\n",
    "\t\\ce{N2}:& & % Nitrogen Balance\n",
    "    \t(3.76)a_{th}&=c &\n",
    "        &\\Rightarrow&\n",
    "        d&=18.8\\\\\n",
    "\\end{align}\n",
    "\n",
    "\\begin{equation}\n",
    "\t\\ce{C3H8(g) + 5(O2 + $3.76$N2) -> 3CO2 + 4 H2O(g) + $18.8$ N2}\n",
    "\\end{equation}"
   ]
  },
  {
   "cell_type": "code",
   "execution_count": 5,
   "metadata": {
    "collapsed": false
   },
   "outputs": [
   ],
   "source": [
    "a = 3\n",
    "b = 4\n",
    "a_th = 5\n",
    "c = 18.8\n",
    "\n",
    "N_fuel = 1\n",
    "N_air = a_th*4.76\n",
    "N_O2_R = a_th\n",
    "N_CO2 = a\n",
    "N_H2O = b\n",
    "N_N2 = c"
   ]
  },
  {
   "cell_type": "markdown",
   "metadata": {
    "collapsed": false
   },
   "source": [
    "### Property Tables"
   ]
  },
  {
   "cell_type": "code",
   "execution_count": 6,
   "metadata": {
    "collapsed": false
   },
   "outputs": [
   ],
   "source": [
    "A1 = Cengel.Table(\"A1\")\n",
    "N2 = A18 = Cengel.Table(\"A18\")\n",
    "O2 = A19 = Cengel.Table(\"A19\")\n",
    "CO2 = A20 = Cengel.Table(\"A20\")\n",
    "CO = A21 = Cengel.Table(\"A21\")\n",
    "H2 = A22 = Cengel.Table(\"A22\")\n",
    "H2O = A23 = Cengel.Table(\"A23\")\n",
    "O = A24 = Cengel.Table(\"A24\")\n",
    "OH = A25 = Cengel.Table(\"A25\")\n",
    "A26 = Cengel.Table(\"A26\")\n",
    "A27 = Cengel.Table(\"A27\")\n",
    "set_latex({f'ho_f_molar_{i}':r'\\overline{h}^{\\,^\\circ}_{f,\\mathrm{'+f'{j}'+r'}}' for i,j in (\n",
    "    ('CO2','CO_2'),\n",
    "    ('H2O','H_2O'),\n",
    "    ('N2','N_2'),\n",
    "    ('O2','O_2'),\n",
    "    ('C3H8','C_3H_8'),\n",
    "    )})\n",
    "set_latex({f'ho_molar_{i}':r'\\overline{h}^{\\,^\\circ}_{\\mathrm{'+f'{j}'+r'}}' for i,j in (\n",
    "    ('CO2','CO_2'),\n",
    "    ('H2O','H_2O'),\n",
    "    ('N2','N_2'),\n",
    "    ('O2','O_2'),\n",
    "    ('C3H8','C_3H_8'),\n",
    "    )})\n",
    "set_latex({f'h_molar_{i}':r'\\overline{h}_{\\mathrm{'+f'{j}'+r'}}' for i,j in (\n",
    "    ('N2_R','N_2,R'),\n",
    "    ('O2_R','O_2,R'),\n",
    "    ('C3H8_R','C_3H_8,R'),\n",
    "    )})\n",
    "set_latex({f'h_molar_{i}':r'\\overline{h}_{\\mathrm{'+f'{j}'+r'}}' for i,j in (\n",
    "    ('CO2_P','CO_2,P'),\n",
    "    ('H2O_P','H_2O,P'),\n",
    "    ('N2_P','N_2,P'),\n",
    "    ('O2_P','O_2,P')\n",
    "    )})"
   ]
  },
  {
   "cell_type": "code",
   "execution_count": 7,
   "metadata": {
    "collapsed": false
   },
   "outputs": [
    {
     "data": {
      "text/markdown": [
       "Temperatures\n",
       "\\begin{align}\n",
       "  T_{0} &=  25\\ \\mathrm{°C} \n",
       "\\end{align}\n",
       "\n",
       "\\begin{align}\n",
       "  T_{fuel} &=  25\\ \\mathrm{°C} \n",
       "\\end{align}\n",
       "\n",
       "\\begin{align}\n",
       "  T_{air} &=  25\\ \\mathrm{°C} \n",
       "\\end{align}\n",
       "\n",
       "Moles of fuel\n",
       "\\begin{align}\n",
       "  N_{fuel} &=  1\\ \\mathrm{kmol} \n",
       "\\end{align}\n",
       "\n",
       "Enthalpies of formation at reference state\n",
       "\\begin{align}\n",
       "  \\overline{h}^{\\,^\\circ}_{f,\\mathrm{CO_2}} &=  \\mathrm{ \\underset{ A26 }{ ho\\_f\\_molar } }\\left( CO2 \\right)  = -3.9352\\times 10^{5}\\ \\frac{\\mathrm{kJ}}{\\mathrm{kmol}} \n",
       "\\end{align}\n",
       "\n",
       "\\begin{align}\n",
       "  \\overline{h}^{\\,^\\circ}_{f,\\mathrm{H_2O}} &=  \\mathrm{ \\underset{ A26 }{ ho\\_f\\_molar } }\\left( H2O, g \\right)  = -2.4182\\times 10^{5}\\ \\frac{\\mathrm{kJ}}{\\mathrm{kmol}} \n",
       "\\end{align}\n",
       "\n",
       "\\begin{align}\n",
       "  \\overline{h}^{\\,^\\circ}_{f,\\mathrm{N_2}} &=  \\mathrm{ \\underset{ A26 }{ ho\\_f\\_molar } }\\left( N2 \\right)  = 0.0\\ \\frac{\\mathrm{kJ}}{\\mathrm{kmol}} \n",
       "\\end{align}\n",
       "\n",
       "\\begin{align}\n",
       "  \\overline{h}^{\\,^\\circ}_{f,\\mathrm{O_2}} &=  \\mathrm{ \\underset{ A26 }{ ho\\_f\\_molar } }\\left( O2 \\right)  = 0.0\\ \\frac{\\mathrm{kJ}}{\\mathrm{kmol}} \n",
       "\\end{align}\n",
       "\n",
       "\\begin{align}\n",
       "  \\overline{h}^{\\,^\\circ}_{f,\\mathrm{C_3H_8}} &=  \\mathrm{ \\underset{ A26 }{ ho\\_f\\_molar } }\\left( C3H8 \\right)  = -1.0385\\times 10^{5}\\ \\frac{\\mathrm{kJ}}{\\mathrm{kmol}} \n",
       "\\end{align}\n",
       "\n",
       "Enthalpies at reference state\n",
       "\\begin{align}\n",
       "  \\overline{h}^{\\,^\\circ}_{\\mathrm{CO_2}} &=  \\mathrm{ \\underset{ CO2 }{ h\\_molar } }\\left( T_{0} \\right)  = \\mathrm{ \\underset{ CO2 }{ h\\_molar } }\\left( 25\\ \\mathrm{°C} \\right) = 9369.0\\ \\frac{\\mathrm{kJ}}{\\mathrm{kmol}}\n",
       "\\end{align}\n",
       "\n",
       "\\begin{align}\n",
       "  \\overline{h}^{\\,^\\circ}_{\\mathrm{H_2O}} &=  \\mathrm{ \\underset{ H2O }{ h\\_molar } }\\left( T_{0} \\right)  = \\mathrm{ \\underset{ H2O }{ h\\_molar } }\\left( 25\\ \\mathrm{°C} \\right) = 9908.6\\ \\frac{\\mathrm{kJ}}{\\mathrm{kmol}}\n",
       "\\end{align}\n",
       "\n",
       "\\begin{align}\n",
       "  \\overline{h}^{\\,^\\circ}_{\\mathrm{N_2}} &=  \\mathrm{ \\underset{ N2 }{ h\\_molar } }\\left( T_{0} \\right)  = \\mathrm{ \\underset{ N2 }{ h\\_molar } }\\left( 25\\ \\mathrm{°C} \\right) = 8673.0\\ \\frac{\\mathrm{kJ}}{\\mathrm{kmol}}\n",
       "\\end{align}\n",
       "\n",
       "\\begin{align}\n",
       "  \\overline{h}^{\\,^\\circ}_{\\mathrm{O_2}} &=  \\mathrm{ \\underset{ O2 }{ h\\_molar } }\\left( T_{0} \\right)  = \\mathrm{ \\underset{ O2 }{ h\\_molar } }\\left( 25\\ \\mathrm{°C} \\right) = 8686.0\\ \\frac{\\mathrm{kJ}}{\\mathrm{kmol}}\n",
       "\\end{align}\n",
       "\n",
       "Reactant enthalpies\n",
       "\\begin{align}\n",
       "  \\overline{h}_{\\mathrm{O_2,R}} &=  \\mathrm{ \\underset{ O2 }{ h\\_molar } }\\left( T_{air} \\right)  = \\mathrm{ \\underset{ O2 }{ h\\_molar } }\\left( 25\\ \\mathrm{°C} \\right) = 8686.0\\ \\frac{\\mathrm{kJ}}{\\mathrm{kmol}}\n",
       "\\end{align}\n",
       "\n",
       "\\begin{align}\n",
       "  \\overline{h}_{\\mathrm{N_2,R}} &=  \\mathrm{ \\underset{ N2 }{ h\\_molar } }\\left( T_{air} \\right)  = \\mathrm{ \\underset{ N2 }{ h\\_molar } }\\left( 25\\ \\mathrm{°C} \\right) = 8673.0\\ \\frac{\\mathrm{kJ}}{\\mathrm{kmol}}\n",
       "\\end{align}\n",
       "\n"
      ],
      "text/plain": [
       "<IPython.core.display.Markdown object>"
      ]
     },
     "execution_count": 7,
     "metadata": {
     },
     "output_type": "execute_result"
    }
   ],
   "source": [
    "%%showcalc\n",
    "\"Temperatures\"\n",
    "T_0 = Quantity(25,'degC')\n",
    "T_fuel = Quantity(25,'degC')\n",
    "T_air = Quantity(25,'degC')\n",
    "# T_products = Quantity(1500,'degC')\n",
    "\"Moles of fuel\"\n",
    "N_fuel = Quantity(1,'kmol')\n",
    "\"Enthalpies of formation at reference state\"\n",
    "ho_f_molar_CO2 = A26.ho_f_molar('CO2')\n",
    "ho_f_molar_H2O = A26.ho_f_molar('H2O','g')\n",
    "ho_f_molar_N2 = A26.ho_f_molar('N2')\n",
    "ho_f_molar_O2 = A26.ho_f_molar('O2')\n",
    "ho_f_molar_C3H8 = A26.ho_f_molar('C3H8')\n",
    "\"Enthalpies at reference state\"\n",
    "ho_molar_CO2 = CO2.h_molar(T_0)\n",
    "ho_molar_H2O = H2O.h_molar(T_0)\n",
    "ho_molar_N2 = N2.h_molar(T_0)\n",
    "ho_molar_O2 = O2.h_molar(T_0)\n",
    "\"Reactant enthalpies\"\n",
    "h_molar_O2_R = O2.h_molar(T_air)\n",
    "h_molar_N2_R = N2.h_molar(T_air)"
   ]
  },
  {
   "cell_type": "markdown",
   "metadata": {
    "collapsed": false
   },
   "source": [
    "We need to determine a temperature for the products that will satisfy the first law.  With the assumptions of no work and no heat transfer, the enthalpies in the products and reactants should add up to 0.  We can set up a function to calculated the imbalance in the first law for a guess product temperature and repeated try different guessed temperatures until we find one that satisfies the first law.\n"
   ]
  },
  {
   "cell_type": "code",
   "execution_count": 8,
   "metadata": {
    "collapsed": false
   },
   "outputs": [
    {
     "data": {
      "text/latex": [
       "\\begin{align}{ T_{products} }&={ 2394.5\\ \\mathrm{K} }\\end{align}"
      ],
      "text/plain": [
       "<IPython.core.display.Latex object>"
      ]
     },
     "execution_count": 8,
     "metadata": {
     },
     "output_type": "execute_result"
    }
   ],
   "source": [
    "from scipy.optimize import brentq\n",
    "\n",
    "def F(T_guess):\n",
    "    \"\"\"Determine the imbalance in the first law using a guessed temperature for the products\"\"\"\n",
    "    T_products = Quantity(T_guess,'K')\n",
    "    \"Product enthalpies\"\n",
    "    h_molar_CO2_P = CO2.h_molar(T_products)\n",
    "    h_molar_H2O_P= H2O.h_molar(T_products)\n",
    "    h_molar_N2_P = N2.h_molar(T_products)\n",
    "    \"1st Law\"\n",
    "    result = (N_CO2*(ho_f_molar_CO2 + h_molar_CO2_P - ho_molar_CO2) \n",
    "    + N_H2O*(ho_f_molar_H2O + h_molar_H2O_P - ho_molar_H2O) \n",
    "    + N_N2*(ho_f_molar_O2 + h_molar_N2_P - ho_molar_N2) \n",
    "    - N_O2_R*(ho_f_molar_O2 + h_molar_O2_R - ho_molar_O2) \n",
    "    - N_N2*(ho_f_molar_N2 + h_molar_N2_R - ho_molar_N2) \n",
    "    - 1*(ho_f_molar_C3H8))\n",
    "    # Return the imbalance in the 1st law.  This will be zero when the guessed temperature is correct\n",
    "    return result.to('kJ/kmol').magnitude\n",
    "\n",
    "# Find a guessed value for T_products that results in zero error between the energy balance and transport calculations\n",
    "# The following `brentq` function will repeatedly call the `F` function with geussed temperature values in the given\n",
    "# range until it finds a value causes `F` to return 0\n",
    "T_products = Quantity(brentq(F,500,2500),'K')\n",
    "\n",
    "Summary(['T_products']);"
   ]
  },
  {
   "cell_type": "code",
   "execution_count": 10,
   "metadata": {
    "collapsed": false,
    "jupyter": {
    }
   },
   "outputs": [
   ],
   "source": [
    "# Export your solution to submit to Canvas\n",
    "# 1) Ensure all cells above show your final solution\n",
    "# 2) Click the 'Save' button in the toolbar\n",
    "# 3) Uncomment (remove the #) from the last line in this cell\n",
    "# 4) Ensure the filename in the command below matches the filename of this notebook\n",
    "# 5) Execute this cell to create an HTML file showing only the output \n",
    "# 6) Submit the .html file located in the folder with this notebook\n",
    "\n",
    "# !jupyter nbconvert --to html --no-input --no-prompt \"Ex15.4 Adiabatic Flame Temperature.ipynb\""
   ]
  }
 ],
 "metadata": {
  "kernelspec": {
   "argv": [
    "/usr/bin/python3",
    "-m",
    "ipykernel",
    "--HistoryManager.enabled=False",
    "--matplotlib=inline",
    "-c",
    "%config InlineBackend.figure_formats = set(['retina'])\nimport matplotlib; matplotlib.rcParams['figure.figsize'] = (12, 7)",
    "-f",
    "{connection_file}"
   ],
   "display_name": "Python 3 (system-wide)",
   "env": {
   },
   "language": "python",
   "metadata": {
    "cocalc": {
     "description": "Python 3 programming language",
     "priority": 100,
     "url": "https://www.python.org/"
    }
   },
   "name": "python3",
   "resource_dir": "/ext/jupyter/kernels/python3"
  },
  "language_info": {
   "codemirror_mode": {
    "name": "ipython",
    "version": 3
   },
   "file_extension": ".py",
   "mimetype": "text/x-python",
   "name": "python",
   "nbconvert_exporter": "python",
   "pygments_lexer": "ipython3",
   "version": "3.8.10"
  },
  "vscode": {
   "interpreter": {
    "hash": "5ac08260a19af6e15a40ac86f761d0cfbb39d3d0196eae74a8efbd73e99cc68e"
   }
  }
 },
 "nbformat": 4,
 "nbformat_minor": 4
}