{
 "cells": [
  {
   "cell_type": "markdown",
   "metadata": {
    "collapsed": false
   },
   "source": [
    "# Example 15.3: First Law for Combustion\n",
    "\n",
    "*John F. Maddox, Ph.D., P.E.<br>\n",
    "University of Kentucky - Paducah Campus<br>\n",
    "ME 321: Engineering Thermodynamics II<br>*"
   ]
  },
  {
   "cell_type": "markdown",
   "metadata": {
    "collapsed": false
   },
   "source": [
    "## Problem Statement\n",
    "$\\require{mhchem}$\n",
    "Propane fuel ($\\ce{C3H8}$) at $25^\\circ\\mathrm{C}$ and $1\\ \\mathrm{atm}$ is mixed steadily with 50 percent excess air at $500^\\circ\\mathrm{C}$ in an atmospheric pressure combustor.  The combustion products leave at $1500^\\circ\\mathrm{C}$, and the volumetric flow rate of the air is $1\\ \\mathrm{m^3/s}$.  Determine the rate of heat transfer for the process."
   ]
  },
  {
   "cell_type": "markdown",
   "metadata": {
    "collapsed": false
   },
   "source": [
    "## Solution\n",
    "\n",
    "__[Video Explanation](https://iad.scorm.canvaslms.com/courses/sconeID/scone_prod.sha256_6e78faba9f8bb423f2a76824db47b0d141a4e01616142b392eaa9f1db1db4d21/0/Ex15.mp4)__"
   ]
  },
  {
   "cell_type": "markdown",
   "metadata": {
    "collapsed": false
   },
   "source": [
    "### Python Initialization\n",
    "We'll start by importing the libraries we will use for our analysis and initializing dictionaries to hold the properties we will be usings."
   ]
  },
  {
   "cell_type": "code",
   "execution_count": 3,
   "metadata": {
    "collapsed": false,
    "jupyter": {
    }
   },
   "outputs": [
   ],
   "source": [
    "from kilojoule.templates.default import *\n",
    "from kilojoule.tables import Cengel"
   ]
  },
  {
   "cell_type": "code",
   "execution_count": 4,
   "metadata": {
    "collapsed": false
   },
   "outputs": [
    {
     "data": {
      "image/png": "[encoded data removed]",
      "image/svg+xml": "<?xml version=\"1.0\" encoding=\"utf-8\" standalone=\"no\"?>\n<!DOCTYPE svg PUBLIC \"-//W3C//DTD SVG 1.1//EN\"\n  \"http://www.w3.org/Graphics/SVG/1.1/DTD/svg11.dtd\">\n<svg xmlns:xlink=\"http://www.w3.org/1999/xlink\" width=\"402.9894pt\" height=\"151.42pt\" viewBox=\"0 0 402.9894 151.42\" xmlns=\"http://www.w3.org/2000/svg\" version=\"1.1\">\n <metadata>\n  <rdf:RDF xmlns:dc=\"http://purl.org/dc/elements/1.1/\" xmlns:cc=\"http://creativecommons.org/ns#\" xmlns:rdf=\"http://www.w3.org/1999/02/22-rdf-syntax-ns#\">\n   <cc:Work>\n    <dc:type rdf:resource=\"http://purl.org/dc/dcmitype/StillImage\"/>\n    <dc:date>2023-06-21T17:14:42.365829</dc:date>\n    <dc:format>image/svg+xml</dc:format>\n    <dc:creator>\n     <cc:Agent>\n      <dc:title>Matplotlib v3.6.3, https://matplotlib.org/</dc:title>\n     </cc:Agent>\n    </dc:creator>\n   </cc:Work>\n  </rdf:RDF>\n </metadata>\n <defs>\n  <style type=\"text/css\">*{stroke-linejoin: round; stroke-linecap: butt}</style>\n </defs>\n <g id=\"figure_1\">\n  <g id=\"patch_1\">\n   <path d=\"M 0 151.42 \nL 402.9894 151.42 \nL 402.9894 0 \nL 0 0 \nz\n\" style=\"fill: #ffffff\"/>\n  </g>\n  <g id=\"axes_1\">\n   <g id=\"line2d_1\">\n    <path d=\"M 149.1432 19.78 \nL 240.9432 19.78 \nL 240.9432 111.58 \nL 149.1432 111.58 \nL 149.1432 19.78 \n\" clip-path=\"url(#p41cebcdf2a)\" style=\"fill: none; stroke: #000000; stroke-width: 2; stroke-linecap: round\"/>\n   </g>\n   <g id=\"line2d_2\">\n    <path d=\"M 141.4932 35.08 \nL 126.1932 35.08 \nL 103.2432 35.08 \n\" clip-path=\"url(#p41cebcdf2a)\" style=\"fill: none; stroke: #000000; stroke-width: 2; stroke-linecap: round\"/>\n   </g>\n   <g id=\"patch_2\">\n    <path d=\"M 141.4932 32.785 \nL 149.1432 35.08 \nL 141.4932 37.375 \nz\n\" clip-path=\"url(#p41cebcdf2a)\"/>\n   </g>\n   <g id=\"line2d_3\">\n    <path d=\"M 141.4932 96.28 \nL 126.1932 96.28 \nL 103.2432 96.28 \n\" clip-path=\"url(#p41cebcdf2a)\" style=\"fill: none; stroke: #000000; stroke-width: 2; stroke-linecap: round\"/>\n   </g>\n   <g id=\"patch_3\">\n    <path d=\"M 141.4932 93.985 \nL 149.1432 96.28 \nL 141.4932 98.575 \nz\n\" clip-path=\"url(#p41cebcdf2a)\"/>\n   </g>\n   <g id=\"line2d_4\">\n    <path d=\"M 240.9432 65.68 \nL 263.8932 65.68 \nL 279.1932 65.68 \n\" clip-path=\"url(#p41cebcdf2a)\" style=\"fill: none; stroke: #000000; stroke-width: 2; stroke-linecap: round\"/>\n   </g>\n   <g id=\"patch_4\">\n    <path d=\"M 279.1932 63.385 \nL 286.8432 65.68 \nL 279.1932 67.975 \nz\n\" clip-path=\"url(#p41cebcdf2a)\"/>\n   </g>\n   <g id=\"text_1\">\n    <g clip-path=\"url(#p41cebcdf2a)\">\n     <!-- $\\mathrm{C_3H_8}$ -->\n     <g transform=\"translate(95.9432 29.42625) scale(0.125 -0.125)\">\n      <defs>\n       <path id=\"DejaVuSans-43\" d=\"M 4122 4306 \nL 4122 3641 \nQ 3803 3938 3442 4084 \nQ 3081 4231 2675 4231 \nQ 1875 4231 1450 3742 \nQ 1025 3253 1025 2328 \nQ 1025 1406 1450 917 \nQ 1875 428 2675 428 \nQ 3081 428 3442 575 \nQ 3803 722 4122 1019 \nL 4122 359 \nQ 3791 134 3420 21 \nQ 3050 -91 2638 -91 \nQ 1578 -91 968 557 \nQ 359 1206 359 2328 \nQ 359 3453 968 4101 \nQ 1578 4750 2638 4750 \nQ 3056 4750 3426 4639 \nQ 3797 4528 4122 4306 \nz\n\" transform=\"scale(0.015625)\"/>\n       <path id=\"DejaVuSans-33\" d=\"M 2597 2516 \nQ 3050 2419 3304 2112 \nQ 3559 1806 3559 1356 \nQ 3559 666 3084 287 \nQ 2609 -91 1734 -91 \nQ 1441 -91 1130 -33 \nQ 819 25 488 141 \nL 488 750 \nQ 750 597 1062 519 \nQ 1375 441 1716 441 \nQ 2309 441 2620 675 \nQ 2931 909 2931 1356 \nQ 2931 1769 2642 2001 \nQ 2353 2234 1838 2234 \nL 1294 2234 \nL 1294 2753 \nL 1863 2753 \nQ 2328 2753 2575 2939 \nQ 2822 3125 2822 3475 \nQ 2822 3834 2567 4026 \nQ 2313 4219 1838 4219 \nQ 1578 4219 1281 4162 \nQ 984 4106 628 3988 \nL 628 4550 \nQ 988 4650 1302 4700 \nQ 1616 4750 1894 4750 \nQ 2613 4750 3031 4423 \nQ 3450 4097 3450 3541 \nQ 3450 3153 3228 2886 \nQ 3006 2619 2597 2516 \nz\n\" transform=\"scale(0.015625)\"/>\n       <path id=\"DejaVuSans-48\" d=\"M 628 4666 \nL 1259 4666 \nL 1259 2753 \nL 3553 2753 \nL 3553 4666 \nL 4184 4666 \nL 4184 0 \nL 3553 0 \nL 3553 2222 \nL 1259 2222 \nL 1259 0 \nL 628 0 \nL 628 4666 \nz\n\" transform=\"scale(0.015625)\"/>\n       <path id=\"DejaVuSans-38\" d=\"M 2034 2216 \nQ 1584 2216 1326 1975 \nQ 1069 1734 1069 1313 \nQ 1069 891 1326 650 \nQ 1584 409 2034 409 \nQ 2484 409 2743 651 \nQ 3003 894 3003 1313 \nQ 3003 1734 2745 1975 \nQ 2488 2216 2034 2216 \nz\nM 1403 2484 \nQ 997 2584 770 2862 \nQ 544 3141 544 3541 \nQ 544 4100 942 4425 \nQ 1341 4750 2034 4750 \nQ 2731 4750 3128 4425 \nQ 3525 4100 3525 3541 \nQ 3525 3141 3298 2862 \nQ 3072 2584 2669 2484 \nQ 3125 2378 3379 2068 \nQ 3634 1759 3634 1313 \nQ 3634 634 3220 271 \nQ 2806 -91 2034 -91 \nQ 1263 -91 848 271 \nQ 434 634 434 1313 \nQ 434 1759 690 2068 \nQ 947 2378 1403 2484 \nz\nM 1172 3481 \nQ 1172 3119 1398 2916 \nQ 1625 2713 2034 2713 \nQ 2441 2713 2670 2916 \nQ 2900 3119 2900 3481 \nQ 2900 3844 2670 4047 \nQ 2441 4250 2034 4250 \nQ 1625 4250 1398 4047 \nQ 1172 3844 1172 3481 \nz\n\" transform=\"scale(0.015625)\"/>\n      </defs>\n      <use xlink:href=\"#DejaVuSans-43\" transform=\"translate(0 0.78125)\"/>\n      <use xlink:href=\"#DejaVuSans-33\" transform=\"translate(70.78125 -15.625) scale(0.7)\"/>\n      <use xlink:href=\"#DejaVuSans-48\" transform=\"translate(118.051758 0.78125)\"/>\n      <use xlink:href=\"#DejaVuSans-38\" transform=\"translate(194.204102 -15.625) scale(0.7)\"/>\n     </g>\n    </g>\n   </g>\n   <g id=\"text_2\">\n    <g clip-path=\"url(#p41cebcdf2a)\">\n     <!-- $25^\\circ\\mathrm{C}$ -->\n     <g transform=\"translate(92.1932 47.198594) scale(0.125 -0.125)\">\n      <defs>\n       <path id=\"DejaVuSans-32\" d=\"M 1228 531 \nL 3431 531 \nL 3431 0 \nL 469 0 \nL 469 531 \nQ 828 903 1448 1529 \nQ 2069 2156 2228 2338 \nQ 2531 2678 2651 2914 \nQ 2772 3150 2772 3378 \nQ 2772 3750 2511 3984 \nQ 2250 4219 1831 4219 \nQ 1534 4219 1204 4116 \nQ 875 4013 500 3803 \nL 500 4441 \nQ 881 4594 1212 4672 \nQ 1544 4750 1819 4750 \nQ 2544 4750 2975 4387 \nQ 3406 4025 3406 3419 \nQ 3406 3131 3298 2873 \nQ 3191 2616 2906 2266 \nQ 2828 2175 2409 1742 \nQ 1991 1309 1228 531 \nz\n\" transform=\"scale(0.015625)\"/>\n       <path id=\"DejaVuSans-35\" d=\"M 691 4666 \nL 3169 4666 \nL 3169 4134 \nL 1269 4134 \nL 1269 2991 \nQ 1406 3038 1543 3061 \nQ 1681 3084 1819 3084 \nQ 2600 3084 3056 2656 \nQ 3513 2228 3513 1497 \nQ 3513 744 3044 326 \nQ 2575 -91 1722 -91 \nQ 1428 -91 1123 -41 \nQ 819 9 494 109 \nL 494 744 \nQ 775 591 1075 516 \nQ 1375 441 1709 441 \nQ 2250 441 2565 725 \nQ 2881 1009 2881 1497 \nQ 2881 1984 2565 2268 \nQ 2250 2553 1709 2553 \nQ 1456 2553 1204 2497 \nQ 953 2441 691 2322 \nL 691 4666 \nz\n\" transform=\"scale(0.015625)\"/>\n       <path id=\"DejaVuSans-2218\" d=\"M 2000 2619 \nQ 1750 2619 1578 2445 \nQ 1406 2272 1406 2022 \nQ 1406 1775 1578 1605 \nQ 1750 1435 2000 1435 \nQ 2250 1435 2422 1605 \nQ 2594 1775 2594 2022 \nQ 2594 2269 2420 2444 \nQ 2247 2619 2000 2619 \nz\nM 2000 3022 \nQ 2200 3022 2384 2945 \nQ 2569 2869 2703 2725 \nQ 2847 2585 2919 2406 \nQ 2991 2228 2991 2022 \nQ 2991 1610 2702 1324 \nQ 2413 1038 1994 1038 \nQ 1572 1038 1290 1319 \nQ 1009 1600 1009 2022 \nQ 1009 2441 1296 2731 \nQ 1584 3022 2000 3022 \nz\n\" transform=\"scale(0.015625)\"/>\n      </defs>\n      <use xlink:href=\"#DejaVuSans-32\" transform=\"translate(0 0.78125)\"/>\n      <use xlink:href=\"#DejaVuSans-35\" transform=\"translate(63.623047 0.78125)\"/>\n      <use xlink:href=\"#DejaVuSans-2218\" transform=\"translate(141.84082 39.0625) scale(0.7)\"/>\n      <use xlink:href=\"#DejaVuSans-43\" transform=\"translate(202.03125 0.78125)\"/>\n     </g>\n    </g>\n    <g clip-path=\"url(#p41cebcdf2a)\">\n     <!-- $1\\ \\mathrm{atm}$ -->\n     <g transform=\"translate(89.4432 60.662656) scale(0.125 -0.125)\">\n      <defs>\n       <path id=\"DejaVuSans-31\" d=\"M 794 531 \nL 1825 531 \nL 1825 4091 \nL 703 3866 \nL 703 4441 \nL 1819 4666 \nL 2450 4666 \nL 2450 531 \nL 3481 531 \nL 3481 0 \nL 794 0 \nL 794 531 \nz\n\" transform=\"scale(0.015625)\"/>\n       <path id=\"DejaVuSans-61\" d=\"M 2194 1759 \nQ 1497 1759 1228 1600 \nQ 959 1441 959 1056 \nQ 959 750 1161 570 \nQ 1363 391 1709 391 \nQ 2188 391 2477 730 \nQ 2766 1069 2766 1631 \nL 2766 1759 \nL 2194 1759 \nz\nM 3341 1997 \nL 3341 0 \nL 2766 0 \nL 2766 531 \nQ 2569 213 2275 61 \nQ 1981 -91 1556 -91 \nQ 1019 -91 701 211 \nQ 384 513 384 1019 \nQ 384 1609 779 1909 \nQ 1175 2209 1959 2209 \nL 2766 2209 \nL 2766 2266 \nQ 2766 2663 2505 2880 \nQ 2244 3097 1772 3097 \nQ 1472 3097 1187 3025 \nQ 903 2953 641 2809 \nL 641 3341 \nQ 956 3463 1253 3523 \nQ 1550 3584 1831 3584 \nQ 2591 3584 2966 3190 \nQ 3341 2797 3341 1997 \nz\n\" transform=\"scale(0.015625)\"/>\n       <path id=\"DejaVuSans-74\" d=\"M 1172 4494 \nL 1172 3500 \nL 2356 3500 \nL 2356 3053 \nL 1172 3053 \nL 1172 1153 \nQ 1172 725 1289 603 \nQ 1406 481 1766 481 \nL 2356 481 \nL 2356 0 \nL 1766 0 \nQ 1100 0 847 248 \nQ 594 497 594 1153 \nL 594 3053 \nL 172 3053 \nL 172 3500 \nL 594 3500 \nL 594 4494 \nL 1172 4494 \nz\n\" transform=\"scale(0.015625)\"/>\n       <path id=\"DejaVuSans-6d\" d=\"M 3328 2828 \nQ 3544 3216 3844 3400 \nQ 4144 3584 4550 3584 \nQ 5097 3584 5394 3201 \nQ 5691 2819 5691 2113 \nL 5691 0 \nL 5113 0 \nL 5113 2094 \nQ 5113 2597 4934 2840 \nQ 4756 3084 4391 3084 \nQ 3944 3084 3684 2787 \nQ 3425 2491 3425 1978 \nL 3425 0 \nL 2847 0 \nL 2847 2094 \nQ 2847 2600 2669 2842 \nQ 2491 3084 2119 3084 \nQ 1678 3084 1418 2786 \nQ 1159 2488 1159 1978 \nL 1159 0 \nL 581 0 \nL 581 3500 \nL 1159 3500 \nL 1159 2956 \nQ 1356 3278 1631 3431 \nQ 1906 3584 2284 3584 \nQ 2666 3584 2933 3390 \nQ 3200 3197 3328 2828 \nz\n\" transform=\"scale(0.015625)\"/>\n      </defs>\n      <use xlink:href=\"#DejaVuSans-31\" transform=\"translate(0 0.09375)\"/>\n      <use xlink:href=\"#DejaVuSans-61\" transform=\"translate(96.093425 0.09375)\"/>\n      <use xlink:href=\"#DejaVuSans-74\" transform=\"translate(157.372722 0.09375)\"/>\n      <use xlink:href=\"#DejaVuSans-6d\" transform=\"translate(196.581707 0.09375)\"/>\n     </g>\n    </g>\n   </g>\n   <g id=\"text_3\">\n    <g clip-path=\"url(#p41cebcdf2a)\">\n     <!-- $\\mathrm{Air}$ -->\n     <g transform=\"translate(108.9432 90.62625) scale(0.125 -0.125)\">\n      <defs>\n       <path id=\"DejaVuSans-41\" d=\"M 2188 4044 \nL 1331 1722 \nL 3047 1722 \nL 2188 4044 \nz\nM 1831 4666 \nL 2547 4666 \nL 4325 0 \nL 3669 0 \nL 3244 1197 \nL 1141 1197 \nL 716 0 \nL 50 0 \nL 1831 4666 \nz\n\" transform=\"scale(0.015625)\"/>\n       <path id=\"DejaVuSans-69\" d=\"M 603 3500 \nL 1178 3500 \nL 1178 0 \nL 603 0 \nL 603 3500 \nz\nM 603 4863 \nL 1178 4863 \nL 1178 4134 \nL 603 4134 \nL 603 4863 \nz\n\" transform=\"scale(0.015625)\"/>\n       <path id=\"DejaVuSans-72\" d=\"M 2631 2963 \nQ 2534 3019 2420 3045 \nQ 2306 3072 2169 3072 \nQ 1681 3072 1420 2755 \nQ 1159 2438 1159 1844 \nL 1159 0 \nL 581 0 \nL 581 3500 \nL 1159 3500 \nL 1159 2956 \nQ 1341 3275 1631 3429 \nQ 1922 3584 2338 3584 \nQ 2397 3584 2469 3576 \nQ 2541 3569 2628 3553 \nL 2631 2963 \nz\n\" transform=\"scale(0.015625)\"/>\n      </defs>\n      <use xlink:href=\"#DejaVuSans-41\" transform=\"translate(0 0.015625)\"/>\n      <use xlink:href=\"#DejaVuSans-69\" transform=\"translate(68.408203 0.015625)\"/>\n      <use xlink:href=\"#DejaVuSans-72\" transform=\"translate(96.191406 0.015625)\"/>\n     </g>\n    </g>\n   </g>\n   <g id=\"text_4\">\n    <g clip-path=\"url(#p41cebcdf2a)\">\n     <!-- $500^\\circ\\mathrm{C}$ -->\n     <g transform=\"translate(84.1932 108.398594) scale(0.125 -0.125)\">\n      <defs>\n       <path id=\"DejaVuSans-30\" d=\"M 2034 4250 \nQ 1547 4250 1301 3770 \nQ 1056 3291 1056 2328 \nQ 1056 1369 1301 889 \nQ 1547 409 2034 409 \nQ 2525 409 2770 889 \nQ 3016 1369 3016 2328 \nQ 3016 3291 2770 3770 \nQ 2525 4250 2034 4250 \nz\nM 2034 4750 \nQ 2819 4750 3233 4129 \nQ 3647 3509 3647 2328 \nQ 3647 1150 3233 529 \nQ 2819 -91 2034 -91 \nQ 1250 -91 836 529 \nQ 422 1150 422 2328 \nQ 422 3509 836 4129 \nQ 1250 4750 2034 4750 \nz\n\" transform=\"scale(0.015625)\"/>\n      </defs>\n      <use xlink:href=\"#DejaVuSans-35\" transform=\"translate(0 0.78125)\"/>\n      <use xlink:href=\"#DejaVuSans-30\" transform=\"translate(63.623047 0.78125)\"/>\n      <use xlink:href=\"#DejaVuSans-30\" transform=\"translate(127.246094 0.78125)\"/>\n      <use xlink:href=\"#DejaVuSans-2218\" transform=\"translate(205.463867 39.0625) scale(0.7)\"/>\n      <use xlink:href=\"#DejaVuSans-43\" transform=\"translate(265.654297 0.78125)\"/>\n     </g>\n    </g>\n    <g clip-path=\"url(#p41cebcdf2a)\">\n     <!-- $1\\ \\mathrm{atm}$ -->\n     <g transform=\"translate(89.4432 121.862656) scale(0.125 -0.125)\">\n      <use xlink:href=\"#DejaVuSans-31\" transform=\"translate(0 0.09375)\"/>\n      <use xlink:href=\"#DejaVuSans-61\" transform=\"translate(96.093425 0.09375)\"/>\n      <use xlink:href=\"#DejaVuSans-74\" transform=\"translate(157.372722 0.09375)\"/>\n      <use xlink:href=\"#DejaVuSans-6d\" transform=\"translate(196.581707 0.09375)\"/>\n     </g>\n    </g>\n    <g clip-path=\"url(#p41cebcdf2a)\">\n     <!-- $50\\%$ excess -->\n     <g transform=\"translate(55.9432 135.326719) scale(0.125 -0.125)\">\n      <defs>\n       <path id=\"DejaVuSans-25\" d=\"M 4653 2053 \nQ 4381 2053 4226 1822 \nQ 4072 1591 4072 1178 \nQ 4072 772 4226 539 \nQ 4381 306 4653 306 \nQ 4919 306 5073 539 \nQ 5228 772 5228 1178 \nQ 5228 1588 5073 1820 \nQ 4919 2053 4653 2053 \nz\nM 4653 2450 \nQ 5147 2450 5437 2106 \nQ 5728 1763 5728 1178 \nQ 5728 594 5436 251 \nQ 5144 -91 4653 -91 \nQ 4153 -91 3862 251 \nQ 3572 594 3572 1178 \nQ 3572 1766 3864 2108 \nQ 4156 2450 4653 2450 \nz\nM 1428 4353 \nQ 1159 4353 1004 4120 \nQ 850 3888 850 3481 \nQ 850 3069 1003 2837 \nQ 1156 2606 1428 2606 \nQ 1700 2606 1854 2837 \nQ 2009 3069 2009 3481 \nQ 2009 3884 1853 4118 \nQ 1697 4353 1428 4353 \nz\nM 4250 4750 \nL 4750 4750 \nL 1831 -91 \nL 1331 -91 \nL 4250 4750 \nz\nM 1428 4750 \nQ 1922 4750 2215 4408 \nQ 2509 4066 2509 3481 \nQ 2509 2891 2217 2550 \nQ 1925 2209 1428 2209 \nQ 931 2209 642 2551 \nQ 353 2894 353 3481 \nQ 353 4063 643 4406 \nQ 934 4750 1428 4750 \nz\n\" transform=\"scale(0.015625)\"/>\n       <path id=\"LiberationSans-20\" transform=\"scale(0.015625)\"/>\n       <path id=\"LiberationSans-65\" d=\"M 863 1572 \nQ 863 1306 917 1082 \nQ 972 859 1086 698 \nQ 1200 538 1378 448 \nQ 1556 359 1806 359 \nQ 2172 359 2392 506 \nQ 2613 653 2691 878 \nL 3184 738 \nQ 3131 597 3036 455 \nQ 2941 313 2781 198 \nQ 2622 84 2383 10 \nQ 2144 -63 1806 -63 \nQ 1056 -63 664 384 \nQ 272 831 272 1713 \nQ 272 2188 390 2517 \nQ 509 2847 715 3053 \nQ 922 3259 1197 3351 \nQ 1472 3444 1784 3444 \nQ 2209 3444 2495 3306 \nQ 2781 3169 2954 2926 \nQ 3128 2684 3201 2356 \nQ 3275 2028 3275 1647 \nL 3275 1572 \nL 863 1572 \nz\nM 2694 2003 \nQ 2647 2538 2422 2783 \nQ 2197 3028 1775 3028 \nQ 1634 3028 1479 2983 \nQ 1325 2938 1194 2822 \nQ 1063 2706 972 2507 \nQ 881 2309 869 2003 \nL 2694 2003 \nz\n\" transform=\"scale(0.015625)\"/>\n       <path id=\"LiberationSans-78\" d=\"M 2503 0 \nL 1594 1388 \nL 678 0 \nL 72 0 \nL 1275 1738 \nL 128 3381 \nL 750 3381 \nL 1594 2066 \nL 2431 3381 \nL 3059 3381 \nL 1913 1744 \nL 3131 0 \nL 2503 0 \nz\n\" transform=\"scale(0.015625)\"/>\n       <path id=\"LiberationSans-63\" d=\"M 859 1706 \nQ 859 1416 901 1172 \nQ 944 928 1044 751 \nQ 1144 575 1308 478 \nQ 1472 381 1713 381 \nQ 2013 381 2214 543 \nQ 2416 706 2463 1044 \nL 3031 1006 \nQ 3003 797 2909 603 \nQ 2816 409 2655 262 \nQ 2494 116 2262 26 \nQ 2031 -63 1728 -63 \nQ 1331 -63 1053 71 \nQ 775 206 601 442 \nQ 428 678 350 998 \nQ 272 1319 272 1694 \nQ 272 2034 328 2295 \nQ 384 2556 486 2751 \nQ 588 2947 725 3080 \nQ 863 3213 1023 3292 \nQ 1184 3372 1362 3408 \nQ 1541 3444 1722 3444 \nQ 2006 3444 2228 3366 \nQ 2450 3288 2611 3152 \nQ 2772 3016 2872 2831 \nQ 2972 2647 3013 2434 \nL 2434 2391 \nQ 2391 2672 2212 2837 \nQ 2034 3003 1706 3003 \nQ 1466 3003 1305 2923 \nQ 1144 2844 1044 2683 \nQ 944 2522 901 2278 \nQ 859 2034 859 1706 \nz\n\" transform=\"scale(0.015625)\"/>\n       <path id=\"LiberationSans-73\" d=\"M 2969 934 \nQ 2969 697 2876 511 \nQ 2784 325 2609 198 \nQ 2434 72 2179 4 \nQ 1925 -63 1597 -63 \nQ 1303 -63 1067 -17 \nQ 831 28 653 128 \nQ 475 228 354 392 \nQ 234 556 178 794 \nL 675 891 \nQ 747 619 972 492 \nQ 1197 366 1597 366 \nQ 1778 366 1929 391 \nQ 2081 416 2190 477 \nQ 2300 538 2361 639 \nQ 2422 741 2422 891 \nQ 2422 1044 2350 1142 \nQ 2278 1241 2150 1306 \nQ 2022 1372 1839 1420 \nQ 1656 1469 1438 1528 \nQ 1234 1581 1034 1647 \nQ 834 1713 673 1820 \nQ 513 1928 413 2087 \nQ 313 2247 313 2488 \nQ 313 2950 642 3192 \nQ 972 3434 1603 3434 \nQ 2163 3434 2492 3237 \nQ 2822 3041 2909 2606 \nL 2403 2544 \nQ 2375 2675 2300 2764 \nQ 2225 2853 2119 2908 \nQ 2013 2963 1880 2986 \nQ 1747 3009 1603 3009 \nQ 1222 3009 1040 2893 \nQ 859 2778 859 2544 \nQ 859 2406 926 2317 \nQ 994 2228 1114 2167 \nQ 1234 2106 1403 2061 \nQ 1572 2016 1775 1966 \nQ 1909 1931 2050 1892 \nQ 2191 1853 2323 1798 \nQ 2456 1744 2573 1670 \nQ 2691 1597 2778 1494 \nQ 2866 1391 2917 1253 \nQ 2969 1116 2969 934 \nz\n\" transform=\"scale(0.015625)\"/>\n      </defs>\n      <use xlink:href=\"#DejaVuSans-35\" transform=\"translate(0 0.78125)\"/>\n      <use xlink:href=\"#DejaVuSans-30\" transform=\"translate(63.623047 0.78125)\"/>\n      <use xlink:href=\"#DejaVuSans-25\" transform=\"translate(127.246094 0.78125)\"/>\n      <use xlink:href=\"#LiberationSans-20\" transform=\"translate(222.265625 0.78125)\"/>\n      <use xlink:href=\"#LiberationSans-65\" transform=\"translate(250.048828 0.78125)\"/>\n      <use xlink:href=\"#LiberationSans-78\" transform=\"translate(305.664062 0.78125)\"/>\n      <use xlink:href=\"#LiberationSans-63\" transform=\"translate(355.664062 0.78125)\"/>\n      <use xlink:href=\"#LiberationSans-65\" transform=\"translate(405.664062 0.78125)\"/>\n      <use xlink:href=\"#LiberationSans-73\" transform=\"translate(461.279297 0.78125)\"/>\n      <use xlink:href=\"#LiberationSans-73\" transform=\"translate(511.279297 0.78125)\"/>\n     </g>\n    </g>\n   </g>\n   <g id=\"text_5\">\n    <g clip-path=\"url(#p41cebcdf2a)\">\n     <!-- $\\mathrm{Products}$ -->\n     <g transform=\"translate(263.8932 60.02625) scale(0.125 -0.125)\">\n      <defs>\n       <path id=\"DejaVuSans-50\" d=\"M 1259 4147 \nL 1259 2394 \nL 2053 2394 \nQ 2494 2394 2734 2622 \nQ 2975 2850 2975 3272 \nQ 2975 3691 2734 3919 \nQ 2494 4147 2053 4147 \nL 1259 4147 \nz\nM 628 4666 \nL 2053 4666 \nQ 2838 4666 3239 4311 \nQ 3641 3956 3641 3272 \nQ 3641 2581 3239 2228 \nQ 2838 1875 2053 1875 \nL 1259 1875 \nL 1259 0 \nL 628 0 \nL 628 4666 \nz\n\" transform=\"scale(0.015625)\"/>\n       <path id=\"DejaVuSans-6f\" d=\"M 1959 3097 \nQ 1497 3097 1228 2736 \nQ 959 2375 959 1747 \nQ 959 1119 1226 758 \nQ 1494 397 1959 397 \nQ 2419 397 2687 759 \nQ 2956 1122 2956 1747 \nQ 2956 2369 2687 2733 \nQ 2419 3097 1959 3097 \nz\nM 1959 3584 \nQ 2709 3584 3137 3096 \nQ 3566 2609 3566 1747 \nQ 3566 888 3137 398 \nQ 2709 -91 1959 -91 \nQ 1206 -91 779 398 \nQ 353 888 353 1747 \nQ 353 2609 779 3096 \nQ 1206 3584 1959 3584 \nz\n\" transform=\"scale(0.015625)\"/>\n       <path id=\"DejaVuSans-64\" d=\"M 2906 2969 \nL 2906 4863 \nL 3481 4863 \nL 3481 0 \nL 2906 0 \nL 2906 525 \nQ 2725 213 2448 61 \nQ 2172 -91 1784 -91 \nQ 1150 -91 751 415 \nQ 353 922 353 1747 \nQ 353 2572 751 3078 \nQ 1150 3584 1784 3584 \nQ 2172 3584 2448 3432 \nQ 2725 3281 2906 2969 \nz\nM 947 1747 \nQ 947 1113 1208 752 \nQ 1469 391 1925 391 \nQ 2381 391 2643 752 \nQ 2906 1113 2906 1747 \nQ 2906 2381 2643 2742 \nQ 2381 3103 1925 3103 \nQ 1469 3103 1208 2742 \nQ 947 2381 947 1747 \nz\n\" transform=\"scale(0.015625)\"/>\n       <path id=\"DejaVuSans-75\" d=\"M 544 1381 \nL 544 3500 \nL 1119 3500 \nL 1119 1403 \nQ 1119 906 1312 657 \nQ 1506 409 1894 409 \nQ 2359 409 2629 706 \nQ 2900 1003 2900 1516 \nL 2900 3500 \nL 3475 3500 \nL 3475 0 \nL 2900 0 \nL 2900 538 \nQ 2691 219 2414 64 \nQ 2138 -91 1772 -91 \nQ 1169 -91 856 284 \nQ 544 659 544 1381 \nz\nM 1991 3584 \nL 1991 3584 \nz\n\" transform=\"scale(0.015625)\"/>\n       <path id=\"DejaVuSans-63\" d=\"M 3122 3366 \nL 3122 2828 \nQ 2878 2963 2633 3030 \nQ 2388 3097 2138 3097 \nQ 1578 3097 1268 2742 \nQ 959 2388 959 1747 \nQ 959 1106 1268 751 \nQ 1578 397 2138 397 \nQ 2388 397 2633 464 \nQ 2878 531 3122 666 \nL 3122 134 \nQ 2881 22 2623 -34 \nQ 2366 -91 2075 -91 \nQ 1284 -91 818 406 \nQ 353 903 353 1747 \nQ 353 2603 823 3093 \nQ 1294 3584 2113 3584 \nQ 2378 3584 2631 3529 \nQ 2884 3475 3122 3366 \nz\n\" transform=\"scale(0.015625)\"/>\n       <path id=\"DejaVuSans-73\" d=\"M 2834 3397 \nL 2834 2853 \nQ 2591 2978 2328 3040 \nQ 2066 3103 1784 3103 \nQ 1356 3103 1142 2972 \nQ 928 2841 928 2578 \nQ 928 2378 1081 2264 \nQ 1234 2150 1697 2047 \nL 1894 2003 \nQ 2506 1872 2764 1633 \nQ 3022 1394 3022 966 \nQ 3022 478 2636 193 \nQ 2250 -91 1575 -91 \nQ 1294 -91 989 -36 \nQ 684 19 347 128 \nL 347 722 \nQ 666 556 975 473 \nQ 1284 391 1588 391 \nQ 1994 391 2212 530 \nQ 2431 669 2431 922 \nQ 2431 1156 2273 1281 \nQ 2116 1406 1581 1522 \nL 1381 1569 \nQ 847 1681 609 1914 \nQ 372 2147 372 2553 \nQ 372 3047 722 3315 \nQ 1072 3584 1716 3584 \nQ 2034 3584 2315 3537 \nQ 2597 3491 2834 3397 \nz\n\" transform=\"scale(0.015625)\"/>\n      </defs>\n      <use xlink:href=\"#DejaVuSans-50\" transform=\"translate(0 0.015625)\"/>\n      <use xlink:href=\"#DejaVuSans-72\" transform=\"translate(60.302734 0.015625)\"/>\n      <use xlink:href=\"#DejaVuSans-6f\" transform=\"translate(101.416016 0.015625)\"/>\n      <use xlink:href=\"#DejaVuSans-64\" transform=\"translate(162.597656 0.015625)\"/>\n      <use xlink:href=\"#DejaVuSans-75\" transform=\"translate(226.074219 0.015625)\"/>\n      <use xlink:href=\"#DejaVuSans-63\" transform=\"translate(289.453125 0.015625)\"/>\n      <use xlink:href=\"#DejaVuSans-74\" transform=\"translate(344.433594 0.015625)\"/>\n      <use xlink:href=\"#DejaVuSans-73\" transform=\"translate(383.642578 0.015625)\"/>\n     </g>\n    </g>\n   </g>\n   <g id=\"text_6\">\n    <g clip-path=\"url(#p41cebcdf2a)\">\n     <!-- $1500^\\circ\\mathrm{C}$ -->\n     <g transform=\"translate(263.8932 77.798594) scale(0.125 -0.125)\">\n      <use xlink:href=\"#DejaVuSans-31\" transform=\"translate(0 0.78125)\"/>\n      <use xlink:href=\"#DejaVuSans-35\" transform=\"translate(63.623047 0.78125)\"/>\n      <use xlink:href=\"#DejaVuSans-30\" transform=\"translate(127.246094 0.78125)\"/>\n      <use xlink:href=\"#DejaVuSans-30\" transform=\"translate(190.869141 0.78125)\"/>\n      <use xlink:href=\"#DejaVuSans-2218\" transform=\"translate(269.086914 39.0625) scale(0.7)\"/>\n      <use xlink:href=\"#DejaVuSans-43\" transform=\"translate(329.277344 0.78125)\"/>\n     </g>\n    </g>\n    <g clip-path=\"url(#p41cebcdf2a)\">\n     <!-- $1\\  \\mathrm{atm}$ -->\n     <g transform=\"translate(263.8932 91.262656) scale(0.125 -0.125)\">\n      <use xlink:href=\"#DejaVuSans-31\" transform=\"translate(0 0.09375)\"/>\n      <use xlink:href=\"#DejaVuSans-61\" transform=\"translate(96.093425 0.09375)\"/>\n      <use xlink:href=\"#DejaVuSans-74\" transform=\"translate(157.372722 0.09375)\"/>\n      <use xlink:href=\"#DejaVuSans-6d\" transform=\"translate(196.581707 0.09375)\"/>\n     </g>\n    </g>\n   </g>\n  </g>\n </g>\n <defs>\n  <clipPath id=\"p41cebcdf2a\">\n   <rect x=\"7.2\" y=\"7.2\" width=\"388.5894\" height=\"137.02\"/>\n  </clipPath>\n </defs>\n</svg>\n",
      "text/plain": [
       "<schemdraw.backends.mpl.Figure object at 0x7f56a9fa8280>"
      ]
     },
     "execution_count": 4,
     "metadata": {
     },
     "output_type": "execute_result"
    }
   ],
   "source": [
    "from kilojoule.schemdraw import *\n",
    "with schemdraw.Drawing() as d:\n",
    "    d += (chamb := thermo.HX(passes=3,coils=False))\n",
    "    d += elm.Arrow().at(chamb.W1).left(1.5).reverse().label(r'$\\mathrm{C_3H_8}$',halign='right').label(r'$25^\\circ\\mathrm{C}$'+'\\n'+'$1\\ \\mathrm{atm}$',loc=\"bottom\",halign='right')\n",
    "    d += elm.Arrow().at(chamb.W3).left(1.5).reverse().label(r'$\\mathrm{Air}$',halign='right').label(r'$500^\\circ\\mathrm{C}$'+'\\n'+'$1\\ \\mathrm{atm}$'+'\\n'+'$50\\%$ excess',loc=\"bottom\",halign='right')\n",
    "    d += elm.Arrow().at(chamb.E).right(1.5).label(r'$\\mathrm{Products}$',halign='left').label(r'$1500^\\circ\\mathrm{C}$'+'\\n'+'$1\\  \\mathrm{atm}$',loc=\"bottom\",halign='left')"
   ]
  },
  {
   "cell_type": "markdown",
   "metadata": {
    "collapsed": false
   },
   "source": [
    "## Chemical Balance\n",
    "\n",
    "\\begin{equation}\n",
    "\t\\ce{ CH4 + $1.5$a_{th}(O2 + $3.76$ N2) -> a CO2 + b H2O(\\ell) + $0.5$ a_{th}O2 + c N2 }\n",
    "\\end{equation}\n",
    "\n",
    "\\begin{align}\n",
    "\t\\ce{C}:& & % Carbon Balance\n",
    "    \t3&=a &\n",
    "        &\\Rightarrow&\n",
    "        a&=3\\\\\n",
    "\t\\ce{H}:& & % Hydrogen Balance\n",
    "    \t8&=2b &\n",
    "        &\\Rightarrow&\n",
    "        b&=4\\\\\n",
    "\t\\ce{O}:& & % Oxygen Balance\n",
    "    \t(1.5)(2)a_{th}&=2a+b+(0.5)(2)a_{th}  &\n",
    "        &\\Rightarrow& \n",
    "        a_{th}&=5\\\\\n",
    "\t\\ce{N2}:& & % Nitrogen Balance\n",
    "    \t1.5(3.76)&=c &\n",
    "        &\\Rightarrow&\n",
    "        d&=28.2\\\\\n",
    "\\end{align}\n",
    "\n",
    "\\begin{equation}\n",
    "\t\\ce{C3H8(g) + $7.5$ (O2 + $3.76$N2) -> 3CO2 + 4 H2O(g) + $2.5$O2 + $28.2$ N2}\n",
    "\\end{equation}"
   ]
  },
  {
   "cell_type": "code",
   "execution_count": 5,
   "metadata": {
    "collapsed": false
   },
   "outputs": [
   ],
   "source": [
    "a = 3\n",
    "b = 4\n",
    "a_th = 5\n",
    "c = 28.2\n",
    "\n",
    "N_fuel = 1\n",
    "N_air = 1.5*a_th*4.76\n",
    "N_O2_R = 1.5*a_th\n",
    "N_CO2 = a\n",
    "N_H2O = b\n",
    "N_O2_P = 0.5\n",
    "N_N2 = c"
   ]
  },
  {
   "cell_type": "markdown",
   "metadata": {
    "collapsed": false
   },
   "source": [
    "### Property Tables"
   ]
  },
  {
   "cell_type": "code",
   "execution_count": 6,
   "metadata": {
    "collapsed": false
   },
   "outputs": [
   ],
   "source": [
    "A1 = Cengel.Table(\"A1\")\n",
    "N2 = A18 = Cengel.Table(\"A18\")\n",
    "O2 = A19 = Cengel.Table(\"A19\")\n",
    "CO2 = A20 = Cengel.Table(\"A20\")\n",
    "CO = A21 = Cengel.Table(\"A21\")\n",
    "H2 = A22 = Cengel.Table(\"A22\")\n",
    "H2O = A23 = Cengel.Table(\"A23\")\n",
    "O = A24 = Cengel.Table(\"A24\")\n",
    "OH = A25 = Cengel.Table(\"A25\")\n",
    "A26 = Cengel.Table(\"A26\")\n",
    "A27 = Cengel.Table(\"A27\")\n",
    "set_latex({f'ho_f_molar_{i}':r'\\overline{h}^{\\,^\\circ}_{f,\\mathrm{'+f'{j}'+r'}}' for i,j in (\n",
    "    ('CO2','CO_2'),\n",
    "    ('H2O','H_2O'),\n",
    "    ('N2','N_2'),\n",
    "    ('O2','O_2'),\n",
    "    ('C3H8','C_3H_8'),\n",
    "    )})\n",
    "set_latex({f'ho_molar_{i}':r'\\overline{h}^{\\,^\\circ}_{\\mathrm{'+f'{j}'+r'}}' for i,j in (\n",
    "    ('CO2','CO_2'),\n",
    "    ('H2O','H_2O'),\n",
    "    ('N2','N_2'),\n",
    "    ('O2','O_2'),\n",
    "    ('C3H8','C_3H_8'),\n",
    "    )})\n",
    "set_latex({f'h_molar_{i}':r'\\overline{h}_{\\mathrm{'+f'{j}'+r'}}' for i,j in (\n",
    "    ('N2_R','N_2,R'),\n",
    "    ('O2_R','O_2,R'),\n",
    "    ('C3H8_R','C_3H_8,R'),\n",
    "    )})\n",
    "set_latex({f'h_molar_{i}':r'\\overline{h}_{\\mathrm{'+f'{j}'+r'}}' for i,j in (\n",
    "    ('CO2_P','CO_2,P'),\n",
    "    ('H2O_P','H_2O,P'),\n",
    "    ('N2_P','N_2,P'),\n",
    "    ('O2_P','O_2,P')\n",
    "    )})"
   ]
  },
  {
   "cell_type": "code",
   "execution_count": 7,
   "metadata": {
    "collapsed": false
   },
   "outputs": [
    {
     "data": {
      "text/markdown": [
       "Temperatures\n",
       "\\begin{align}\n",
       "  T_{0} &=  25\\ \\mathrm{°C} \n",
       "\\end{align}\n",
       "\n",
       "\\begin{align}\n",
       "  T_{fuel} &=  25\\ \\mathrm{°C} \n",
       "\\end{align}\n",
       "\n",
       "\\begin{align}\n",
       "  T_{air} &=  500\\ \\mathrm{°C} \n",
       "\\end{align}\n",
       "\n",
       "\\begin{align}\n",
       "  T_{products} &=  1500\\ \\mathrm{°C} \n",
       "\\end{align}\n",
       "\n",
       "Moles of fuel\n",
       "\\begin{align}\n",
       "  N_{fuel} &=  1\\ \\mathrm{kmol} \n",
       "\\end{align}\n",
       "\n",
       "Enthalpies of formation at reference state\n",
       "\\begin{align}\n",
       "  \\overline{h}^{\\,^\\circ}_{f,\\mathrm{CO_2}} &=  \\mathrm{ \\underset{ A26 }{ ho\\_f\\_molar } }\\left( CO2 \\right)  = -3.9352\\times 10^{5}\\ \\frac{\\mathrm{kJ}}{\\mathrm{kmol}} \n",
       "\\end{align}\n",
       "\n",
       "\\begin{align}\n",
       "  \\overline{h}^{\\,^\\circ}_{f,\\mathrm{H_2O}} &=  \\mathrm{ \\underset{ A26 }{ ho\\_f\\_molar } }\\left( H2O, g \\right)  = -2.4182\\times 10^{5}\\ \\frac{\\mathrm{kJ}}{\\mathrm{kmol}} \n",
       "\\end{align}\n",
       "\n",
       "\\begin{align}\n",
       "  \\overline{h}^{\\,^\\circ}_{f,\\mathrm{N_2}} &=  \\mathrm{ \\underset{ A26 }{ ho\\_f\\_molar } }\\left( N2 \\right)  = 0.0\\ \\frac{\\mathrm{kJ}}{\\mathrm{kmol}} \n",
       "\\end{align}\n",
       "\n",
       "\\begin{align}\n",
       "  \\overline{h}^{\\,^\\circ}_{f,\\mathrm{O_2}} &=  \\mathrm{ \\underset{ A26 }{ ho\\_f\\_molar } }\\left( O2 \\right)  = 0.0\\ \\frac{\\mathrm{kJ}}{\\mathrm{kmol}} \n",
       "\\end{align}\n",
       "\n",
       "\\begin{align}\n",
       "  \\overline{h}^{\\,^\\circ}_{f,\\mathrm{C_3H_8}} &=  \\mathrm{ \\underset{ A26 }{ ho\\_f\\_molar } }\\left( C3H8 \\right)  = -1.0385\\times 10^{5}\\ \\frac{\\mathrm{kJ}}{\\mathrm{kmol}} \n",
       "\\end{align}\n",
       "\n",
       "Enthalpies at reference state\n",
       "\\begin{align}\n",
       "  \\overline{h}^{\\,^\\circ}_{\\mathrm{CO_2}} &=  \\mathrm{ \\underset{ CO2 }{ h\\_molar } }\\left( T_{0} \\right)  = \\mathrm{ \\underset{ CO2 }{ h\\_molar } }\\left( 25\\ \\mathrm{°C} \\right) = 9369.0\\ \\frac{\\mathrm{kJ}}{\\mathrm{kmol}}\n",
       "\\end{align}\n",
       "\n",
       "\\begin{align}\n",
       "  \\overline{h}^{\\,^\\circ}_{\\mathrm{H_2O}} &=  \\mathrm{ \\underset{ H2O }{ h\\_molar } }\\left( T_{0} \\right)  = \\mathrm{ \\underset{ H2O }{ h\\_molar } }\\left( 25\\ \\mathrm{°C} \\right) = 9908.6\\ \\frac{\\mathrm{kJ}}{\\mathrm{kmol}}\n",
       "\\end{align}\n",
       "\n",
       "\\begin{align}\n",
       "  \\overline{h}^{\\,^\\circ}_{\\mathrm{N_2}} &=  \\mathrm{ \\underset{ N2 }{ h\\_molar } }\\left( T_{0} \\right)  = \\mathrm{ \\underset{ N2 }{ h\\_molar } }\\left( 25\\ \\mathrm{°C} \\right) = 8673.0\\ \\frac{\\mathrm{kJ}}{\\mathrm{kmol}}\n",
       "\\end{align}\n",
       "\n",
       "\\begin{align}\n",
       "  \\overline{h}^{\\,^\\circ}_{\\mathrm{O_2}} &=  \\mathrm{ \\underset{ O2 }{ h\\_molar } }\\left( T_{0} \\right)  = \\mathrm{ \\underset{ O2 }{ h\\_molar } }\\left( 25\\ \\mathrm{°C} \\right) = 8686.0\\ \\frac{\\mathrm{kJ}}{\\mathrm{kmol}}\n",
       "\\end{align}\n",
       "\n",
       "Reactant enthalpies\n",
       "\\begin{align}\n",
       "  \\overline{h}_{\\mathrm{O_2,R}} &=  \\mathrm{ \\underset{ O2 }{ h\\_molar } }\\left( T_{air} \\right)  = \\mathrm{ \\underset{ O2 }{ h\\_molar } }\\left( 500\\ \\mathrm{°C} \\right) = 2.3619\\times 10^{4}\\ \\frac{\\mathrm{kJ}}{\\mathrm{kmol}}\n",
       "\\end{align}\n",
       "\n",
       "\\begin{align}\n",
       "  \\overline{h}_{\\mathrm{N_2,R}} &=  \\mathrm{ \\underset{ N2 }{ h\\_molar } }\\left( T_{air} \\right)  = \\mathrm{ \\underset{ N2 }{ h\\_molar } }\\left( 500\\ \\mathrm{°C} \\right) = 2.2871\\times 10^{4}\\ \\frac{\\mathrm{kJ}}{\\mathrm{kmol}}\n",
       "\\end{align}\n",
       "\n",
       "Product enthalpies\n",
       "\\begin{align}\n",
       "  \\overline{h}_{\\mathrm{CO_2,P}} &=  \\mathrm{ \\underset{ CO2 }{ h\\_molar } }\\left( T_{products} \\right)  = \\mathrm{ \\underset{ CO2 }{ h\\_molar } }\\left( 1500\\ \\mathrm{°C} \\right) = 8.7204\\times 10^{4}\\ \\frac{\\mathrm{kJ}}{\\mathrm{kmol}}\n",
       "\\end{align}\n",
       "\n",
       "\\begin{align}\n",
       "  \\overline{h}_{\\mathrm{H_2O,P}} &=  \\mathrm{ \\underset{ H2O }{ h\\_molar } }\\left( T_{products} \\right)  = \\mathrm{ \\underset{ H2O }{ h\\_molar } }\\left( 1500\\ \\mathrm{°C} \\right) = 7.1185\\times 10^{4}\\ \\frac{\\mathrm{kJ}}{\\mathrm{kmol}}\n",
       "\\end{align}\n",
       "\n",
       "\\begin{align}\n",
       "  \\overline{h}_{\\mathrm{O_2,P}} &=  \\mathrm{ \\underset{ O2 }{ h\\_molar } }\\left( T_{products} \\right)  = \\mathrm{ \\underset{ O2 }{ h\\_molar } }\\left( 1500\\ \\mathrm{°C} \\right) = 5.9369\\times 10^{4}\\ \\frac{\\mathrm{kJ}}{\\mathrm{kmol}}\n",
       "\\end{align}\n",
       "\n",
       "\\begin{align}\n",
       "  \\overline{h}_{\\mathrm{N_2,P}} &=  \\mathrm{ \\underset{ N2 }{ h\\_molar } }\\left( T_{products} \\right)  = \\mathrm{ \\underset{ N2 }{ h\\_molar } }\\left( 1500\\ \\mathrm{°C} \\right) = 5.6694\\times 10^{4}\\ \\frac{\\mathrm{kJ}}{\\mathrm{kmol}}\n",
       "\\end{align}\n",
       "\n",
       "First Law\n",
       "\\begin{align}\n",
       "  \\overline{q} &=      N_{CO2}  \\cdot  \\left(  \\overline{h}^{\\,^\\circ}_{f,\\mathrm{CO_2}} + \\overline{h}_{\\mathrm{CO_2,P}} - \\overline{h}^{\\,^\\circ}_{\\mathrm{CO_2}}  \\right)  +  N_{H2O}  \\cdot  \\left(  \\overline{h}^{\\,^\\circ}_{f,\\mathrm{H_2O}} + \\overline{h}_{\\mathrm{H_2O,P}} - \\overline{h}^{\\,^\\circ}_{\\mathrm{H_2O}}  \\right)  +  N_{O2,P}  \\cdot  \\left(  \\overline{h}^{\\,^\\circ}_{f,\\mathrm{O_2}} + \\overline{h}_{\\mathrm{O_2,P}} - \\overline{h}^{\\,^\\circ}_{\\mathrm{O_2}}  \\right)  +  N_{N2}  \\cdot  \\left(  \\overline{h}^{\\,^\\circ}_{f,\\mathrm{O_2}} + \\overline{h}_{\\mathrm{N_2,P}} - \\overline{h}^{\\,^\\circ}_{\\mathrm{N_2}}  \\right)  -  N_{O2,R}  \\cdot  \\left(  \\overline{h}^{\\,^\\circ}_{f,\\mathrm{O_2}} + \\overline{h}_{\\mathrm{O_2,R}} - \\overline{h}^{\\,^\\circ}_{\\mathrm{O_2}}  \\right)   -  N_{N2}  \\cdot  \\left(  \\overline{h}^{\\,^\\circ}_{f,\\mathrm{N_2}} + \\overline{h}_{\\mathrm{N_2,R}} - \\overline{h}^{\\,^\\circ}_{\\mathrm{N_2}}  \\right)   -  1  \\cdot  \\overline{h}^{\\,^\\circ}_{f,\\mathrm{C_3H_8}}   \\\\\n",
       "    &=      3   \\cdot  \\left(  -3.9352\\times 10^{5}\\ \\frac{\\mathrm{kJ}}{\\mathrm{kmol}} + 8.7204\\times 10^{4}\\ \\frac{\\mathrm{kJ}}{\\mathrm{kmol}} - 9369.0\\ \\frac{\\mathrm{kJ}}{\\mathrm{kmol}}  \\right)  +   4   \\cdot  \\left(  -2.4182\\times 10^{5}\\ \\frac{\\mathrm{kJ}}{\\mathrm{kmol}} + 7.1185\\times 10^{4}\\ \\frac{\\mathrm{kJ}}{\\mathrm{kmol}} - 9908.6\\ \\frac{\\mathrm{kJ}}{\\mathrm{kmol}}  \\right)  +   0.5   \\cdot  \\left(  0.0\\ \\frac{\\mathrm{kJ}}{\\mathrm{kmol}} + 5.9369\\times 10^{4}\\ \\frac{\\mathrm{kJ}}{\\mathrm{kmol}} - 8686.0\\ \\frac{\\mathrm{kJ}}{\\mathrm{kmol}}  \\right)  +   28.2   \\cdot  \\left(  0.0\\ \\frac{\\mathrm{kJ}}{\\mathrm{kmol}} + 5.6694\\times 10^{4}\\ \\frac{\\mathrm{kJ}}{\\mathrm{kmol}} - 8673.0\\ \\frac{\\mathrm{kJ}}{\\mathrm{kmol}}  \\right)  -   7.5   \\cdot  \\left(  0.0\\ \\frac{\\mathrm{kJ}}{\\mathrm{kmol}} + 2.3619\\times 10^{4}\\ \\frac{\\mathrm{kJ}}{\\mathrm{kmol}} - 8686.0\\ \\frac{\\mathrm{kJ}}{\\mathrm{kmol}}  \\right)   -   28.2   \\cdot  \\left(  0.0\\ \\frac{\\mathrm{kJ}}{\\mathrm{kmol}} + 2.2871\\times 10^{4}\\ \\frac{\\mathrm{kJ}}{\\mathrm{kmol}} - 8673.0\\ \\frac{\\mathrm{kJ}}{\\mathrm{kmol}}  \\right)   -  1  \\cdot  -1.0385\\times 10^{5}\\ \\frac{\\mathrm{kJ}}{\\mathrm{kmol}}  \\\\\n",
       "    &= -6.9821\\times 10^{5}\\ \\frac{\\mathrm{kJ}}{\\mathrm{kmol}}\n",
       "\\end{align}\n",
       "\n"
      ],
      "text/plain": [
       "<IPython.core.display.Markdown object>"
      ]
     },
     "execution_count": 7,
     "metadata": {
     },
     "output_type": "execute_result"
    }
   ],
   "source": [
    "%%showcalc\n",
    "\"Temperatures\"\n",
    "T_0 = Quantity(25,'degC')\n",
    "T_fuel = Quantity(25,'degC')\n",
    "T_air = Quantity(500,'degC')\n",
    "T_products = Quantity(1500,'degC')\n",
    "\"Moles of fuel\"\n",
    "N_fuel = Quantity(1,'kmol')\n",
    "\"Enthalpies of formation at reference state\"\n",
    "ho_f_molar_CO2 = A26.ho_f_molar('CO2')\n",
    "ho_f_molar_H2O = A26.ho_f_molar('H2O','g')\n",
    "ho_f_molar_N2 = A26.ho_f_molar('N2')\n",
    "ho_f_molar_O2 = A26.ho_f_molar('O2')\n",
    "ho_f_molar_C3H8 = A26.ho_f_molar('C3H8')\n",
    "\"Enthalpies at reference state\"\n",
    "ho_molar_CO2 = CO2.h_molar(T_0)\n",
    "ho_molar_H2O = H2O.h_molar(T_0)\n",
    "ho_molar_N2 = N2.h_molar(T_0)\n",
    "ho_molar_O2 = O2.h_molar(T_0)\n",
    "\"Reactant enthalpies\"\n",
    "h_molar_O2_R = O2.h_molar(T_air)\n",
    "h_molar_N2_R = N2.h_molar(T_air)\n",
    "\"Product enthalpies\"\n",
    "h_molar_CO2_P = CO2.h_molar(T_products)\n",
    "h_molar_H2O_P= H2O.h_molar(T_products)\n",
    "h_molar_O2_P = O2.h_molar(T_products)\n",
    "h_molar_N2_P = N2.h_molar(T_products)\n",
    "\n",
    "\"First Law\"\n",
    "qbar = N_CO2*(ho_f_molar_CO2 + h_molar_CO2_P - ho_molar_CO2) + N_H2O*(ho_f_molar_H2O + h_molar_H2O_P - ho_molar_H2O) + N_O2_P*(ho_f_molar_O2 + h_molar_O2_P - ho_molar_O2)+ N_N2*(ho_f_molar_O2 + h_molar_N2_P - ho_molar_N2) - N_O2_R*(ho_f_molar_O2 + h_molar_O2_R - ho_molar_O2) - N_N2*(ho_f_molar_N2 + h_molar_N2_R - ho_molar_N2) -1*(ho_f_molar_C3H8)"
   ]
  },
  {
   "cell_type": "code",
   "execution_count": 8,
   "metadata": {
    "collapsed": false
   },
   "outputs": [
    {
     "data": {
      "text/markdown": [
       "Air Flow Rate\n",
       "\\begin{align}\n",
       "  R_{air} &=  \\mathrm{ \\underset{ A1 }{ R } }\\left( Air \\right)  = 0.287\\ \\frac{\\mathrm{kJ}}{\\left(\\mathrm{K} \\cdot \\mathrm{kg}\\right)} \n",
       "\\end{align}\n",
       "\n",
       "\\begin{align}\n",
       "  M_{air} &=  \\mathrm{ \\underset{ A1 }{ M } }\\left( Air \\right)  = 28.97\\ \\frac{\\mathrm{kg}}{\\mathrm{kmol}} \n",
       "\\end{align}\n",
       "\n",
       "\\begin{align}\n",
       "  p &=  1\\ \\mathrm{atm} \n",
       "\\end{align}\n",
       "\n",
       "\\begin{align}\n",
       "  \\dot{V}_{air} &=  1\\ \\frac{\\mathrm{m}^{3}}{\\mathrm{s}} \n",
       "\\end{align}\n",
       "\n",
       "\\begin{align}\n",
       "  \\dot{N}_{air} &=   \\frac{ 1 }{ M_{air} }  \\cdot  \\frac{  p  \\cdot  \\dot{V}_{air}  }{  R_{air}  \\cdot  T_{air}  }  \\\\\n",
       "    &=  \\frac{ 1 }{ 28.97\\ \\frac{\\mathrm{kg}}{\\mathrm{kmol}} }  \\cdot  \\frac{  1\\ \\mathrm{atm}  \\cdot  1\\ \\frac{\\mathrm{m}^{3}}{\\mathrm{s}}  }{  0.287\\ \\frac{\\mathrm{kJ}}{\\left(\\mathrm{K} \\cdot \\mathrm{kg}\\right)}  \\cdot  500\\ \\mathrm{°C}  } \\\\\n",
       "    &= 0.015762\\ \\frac{\\mathrm{kmol}}{\\mathrm{s}}\n",
       "\\end{align}\n",
       "\n",
       "Fuel Flow Rate\n",
       "\\begin{align}\n",
       "  N_{fuel} &=  1 \n",
       "\\end{align}\n",
       "\n",
       "\\begin{align}\n",
       "  \\dot{N}_{fuel} &=  \\frac{  \\dot{N}_{air}  \\cdot  N_{fuel}  }{ N_{air} } \\\\\n",
       "    &= \\frac{  0.015762\\ \\frac{\\mathrm{kmol}}{\\mathrm{s}}  \\cdot   1   }{  35.7  }\\\\\n",
       "    &= 0.00044152\\ \\frac{\\mathrm{kmol}}{\\mathrm{s}}\n",
       "\\end{align}\n",
       "\n",
       "Total heat output\n",
       "\\begin{align}\n",
       "  \\dot{Q}_{out} &=   \\dot{N}_{fuel}  \\cdot  -\\overline{q}  \\\\\n",
       "    &=  0.00044152\\ \\frac{\\mathrm{kmol}}{\\mathrm{s}}  \\cdot  -\\left( -6.9821\\times 10^{5}\\ \\frac{\\mathrm{kJ}}{\\mathrm{kmol}} \\right) \\\\\n",
       "    &= 308.27\\ \\frac{\\mathrm{kJ}}{\\mathrm{s}}\n",
       "\\end{align}\n",
       "\n"
      ],
      "text/plain": [
       "<IPython.core.display.Markdown object>"
      ]
     },
     "execution_count": 8,
     "metadata": {
     },
     "output_type": "execute_result"
    }
   ],
   "source": [
    "%%showcalc\n",
    "\"Air Flow Rate\"\n",
    "R_air = A1.R(\"Air\")\n",
    "M_air = A1.M(\"Air\")\n",
    "p = Quantity(1,'atm')\n",
    "Vdot_air = Quantity(1,'m^3/s')\n",
    "Ndot_air = (1/M_air*(p*Vdot_air/(R_air*T_air.to('K')))).to('kmol/s')\n",
    "\n",
    "\"Fuel Flow Rate\"\n",
    "N_fuel = 1\n",
    "Ndot_fuel = Ndot_air*N_fuel/N_air\n",
    "\n",
    "\"Total heat output\"\n",
    "Qdot_out = Ndot_fuel*(-qbar)\n"
   ]
  },
  {
   "cell_type": "code",
   "execution_count": 10,
   "metadata": {
    "collapsed": false,
    "jupyter": {
    }
   },
   "outputs": [
   ],
   "source": [
    "# Export your solution to submit to Canvas\n",
    "# 1) Ensure all cells above show your final solution\n",
    "# 2) Click the 'Save' button in the toolbar\n",
    "# 3) Uncomment (remove the #) from the last line in this cell\n",
    "# 4) Ensure the filename in the command below matches the filename of this notebook\n",
    "# 5) Execute this cell to create an HTML file showing only the output \n",
    "# 6) Submit the .html file located in the folder with this notebook\n",
    "\n",
    "# !jupyter nbconvert --to html --no-input --no-prompt \"Ex15.3 First Law for Combustion.ipynb\""
   ]
  }
 ],
 "metadata": {
  "kernelspec": {
   "argv": [
    "/usr/bin/python3",
    "-m",
    "ipykernel",
    "--HistoryManager.enabled=False",
    "--matplotlib=inline",
    "-c",
    "%config InlineBackend.figure_formats = set(['retina'])\nimport matplotlib; matplotlib.rcParams['figure.figsize'] = (12, 7)",
    "-f",
    "{connection_file}"
   ],
   "display_name": "Python 3 (system-wide)",
   "env": {
   },
   "language": "python",
   "metadata": {
    "cocalc": {
     "description": "Python 3 programming language",
     "priority": 100,
     "url": "https://www.python.org/"
    }
   },
   "name": "python3",
   "resource_dir": "/ext/jupyter/kernels/python3"
  },
  "language_info": {
   "codemirror_mode": {
    "name": "ipython",
    "version": 3
   },
   "file_extension": ".py",
   "mimetype": "text/x-python",
   "name": "python",
   "nbconvert_exporter": "python",
   "pygments_lexer": "ipython3",
   "version": "3.8.10"
  },
  "vscode": {
   "interpreter": {
    "hash": "5ac08260a19af6e15a40ac86f761d0cfbb39d3d0196eae74a8efbd73e99cc68e"
   }
  }
 },
 "nbformat": 4,
 "nbformat_minor": 4
}