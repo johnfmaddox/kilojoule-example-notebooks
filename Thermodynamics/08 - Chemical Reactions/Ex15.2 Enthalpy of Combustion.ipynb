{
 "cells": [
  {
   "cell_type": "markdown",
   "metadata": {
    "collapsed": false
   },
   "source": [
    "# Example 15.2: Enthalpy of Combustion\n",
    "\n",
    "*John F. Maddox, Ph.D., P.E.<br>\n",
    "University of Kentucky - Paducah Campus<br>\n",
    "ME 321: Engineering Thermodynamics II<br>*"
   ]
  },
  {
   "cell_type": "markdown",
   "metadata": {
    "collapsed": false
   },
   "source": [
    "## Problem Statement\n",
    "$\\require{mhchem}$\n",
    "Determine the enthalpy of combustion of methane ($\\ce{CH4}$) at $25^\\circ\\mathrm{C}$ and $1\\ \\mathrm{atm}$, using the enthalpy of formation data from Table A-26.  Compare your result to the value listed in Table A-27."
   ]
  },
  {
   "cell_type": "markdown",
   "metadata": {
    "collapsed": false
   },
   "source": [
    "## Solution\n",
    "\n",
    "__[Video Explanation](https://iad.scorm.canvaslms.com/courses/sconeID/scone_prod.sha256_87aa054297c413ebf991a31433d563864e6b11c9e1d6ae0f61d482cb84ed7d2d/0/Ex15.mp4)__"
   ]
  },
  {
   "cell_type": "markdown",
   "metadata": {
    "collapsed": false
   },
   "source": [
    "### Python Initialization\n",
    "We'll start by importing the libraries we will use for our analysis and initializing dictionaries to hold the properties we will be usings."
   ]
  },
  {
   "cell_type": "code",
   "execution_count": 3,
   "metadata": {
    "collapsed": false,
    "jupyter": {
    }
   },
   "outputs": [
   ],
   "source": [
    "from kilojoule.templates.default import *\n",
    "from kilojoule.tables import Cengel"
   ]
  },
  {
   "cell_type": "code",
   "execution_count": 4,
   "metadata": {
    "collapsed": false
   },
   "outputs": [
    {
     "data": {
      "image/png": "[encoded data removed]",
      "image/svg+xml": "<?xml version=\"1.0\" encoding=\"utf-8\" standalone=\"no\"?>\n<!DOCTYPE svg PUBLIC \"-//W3C//DTD SVG 1.1//EN\"\n  \"http://www.w3.org/Graphics/SVG/1.1/DTD/svg11.dtd\">\n<svg xmlns:xlink=\"http://www.w3.org/1999/xlink\" width=\"261.5pt\" height=\"131.316406pt\" viewBox=\"0 0 261.5 131.316406\" xmlns=\"http://www.w3.org/2000/svg\" version=\"1.1\">\n <metadata>\n  <rdf:RDF xmlns:dc=\"http://purl.org/dc/elements/1.1/\" xmlns:cc=\"http://creativecommons.org/ns#\" xmlns:rdf=\"http://www.w3.org/1999/02/22-rdf-syntax-ns#\">\n   <cc:Work>\n    <dc:type rdf:resource=\"http://purl.org/dc/dcmitype/StillImage\"/>\n    <dc:date>2023-11-29T02:50:12.433409</dc:date>\n    <dc:format>image/svg+xml</dc:format>\n    <dc:creator>\n     <cc:Agent>\n      <dc:title>Matplotlib v3.7.2, https://matplotlib.org/</dc:title>\n     </cc:Agent>\n    </dc:creator>\n   </cc:Work>\n  </rdf:RDF>\n </metadata>\n <defs>\n  <style type=\"text/css\">*{stroke-linejoin: round; stroke-linecap: butt}</style>\n </defs>\n <g id=\"figure_1\">\n  <g id=\"patch_1\">\n   <path d=\"M 0 131.316406 \nL 261.5 131.316406 \nL 261.5 0 \nL 0 0 \nz\n\" style=\"fill: #ffffff\"/>\n  </g>\n  <g id=\"axes_1\">\n   <g id=\"line2d_1\">\n    <path d=\"M 68.4 9 \nL 176.4 9 \nL 176.4 117 \nL 68.4 117 \nL 68.4 9 \n\" clip-path=\"url(#pa55a736523)\" style=\"fill: none; stroke: #000000; stroke-width: 2; stroke-linecap: round\"/>\n   </g>\n   <g id=\"line2d_2\">\n    <path d=\"M 59.4 27 \nL 41.4 27 \nL 14.4 27 \n\" clip-path=\"url(#pa55a736523)\" style=\"fill: none; stroke: #000000; stroke-width: 2; stroke-linecap: round\"/>\n   </g>\n   <g id=\"patch_2\">\n    <path d=\"M 59.4 24.3 \nL 68.4 27 \nL 59.4 29.7 \nz\n\" clip-path=\"url(#pa55a736523)\"/>\n   </g>\n   <g id=\"line2d_3\">\n    <path d=\"M 59.4 99 \nL 41.4 99 \nL 14.4 99 \n\" clip-path=\"url(#pa55a736523)\" style=\"fill: none; stroke: #000000; stroke-width: 2; stroke-linecap: round\"/>\n   </g>\n   <g id=\"patch_3\">\n    <path d=\"M 59.4 96.3 \nL 68.4 99 \nL 59.4 101.7 \nz\n\" clip-path=\"url(#pa55a736523)\"/>\n   </g>\n   <g id=\"line2d_4\">\n    <path d=\"M 176.4 63 \nL 203.4 63 \nL 221.4 63 \n\" clip-path=\"url(#pa55a736523)\" style=\"fill: none; stroke: #000000; stroke-width: 2; stroke-linecap: round\"/>\n   </g>\n   <g id=\"patch_4\">\n    <path d=\"M 221.4 60.3 \nL 230.4 63 \nL 221.4 65.7 \nz\n\" clip-path=\"url(#pa55a736523)\"/>\n   </g>\n   <g id=\"text_1\">\n    <!-- $\\mathrm{CH_4}$ -->\n    <g transform=\"translate(17.15 20.80625) scale(0.125 -0.125)\">\n     <defs>\n      <path id=\"DejaVuSans-43\" d=\"M 4122 4306 \nL 4122 3641 \nQ 3803 3938 3442 4084 \nQ 3081 4231 2675 4231 \nQ 1875 4231 1450 3742 \nQ 1025 3253 1025 2328 \nQ 1025 1406 1450 917 \nQ 1875 428 2675 428 \nQ 3081 428 3442 575 \nQ 3803 722 4122 1019 \nL 4122 359 \nQ 3791 134 3420 21 \nQ 3050 -91 2638 -91 \nQ 1578 -91 968 557 \nQ 359 1206 359 2328 \nQ 359 3453 968 4101 \nQ 1578 4750 2638 4750 \nQ 3056 4750 3426 4639 \nQ 3797 4528 4122 4306 \nz\n\" transform=\"scale(0.015625)\"/>\n      <path id=\"DejaVuSans-48\" d=\"M 628 4666 \nL 1259 4666 \nL 1259 2753 \nL 3553 2753 \nL 3553 4666 \nL 4184 4666 \nL 4184 0 \nL 3553 0 \nL 3553 2222 \nL 1259 2222 \nL 1259 0 \nL 628 0 \nL 628 4666 \nz\n\" transform=\"scale(0.015625)\"/>\n      <path id=\"DejaVuSans-34\" d=\"M 2419 4116 \nL 825 1625 \nL 2419 1625 \nL 2419 4116 \nz\nM 2253 4666 \nL 3047 4666 \nL 3047 1625 \nL 3713 1625 \nL 3713 1100 \nL 3047 1100 \nL 3047 0 \nL 2419 0 \nL 2419 1100 \nL 313 1100 \nL 313 1709 \nL 2253 4666 \nz\n\" transform=\"scale(0.015625)\"/>\n     </defs>\n     <use xlink:href=\"#DejaVuSans-43\" transform=\"translate(0 0.78125)\"/>\n     <use xlink:href=\"#DejaVuSans-48\" transform=\"translate(69.824219 0.78125)\"/>\n     <use xlink:href=\"#DejaVuSans-34\" transform=\"translate(145.976562 -15.625) scale(0.7)\"/>\n    </g>\n   </g>\n   <g id=\"text_2\">\n    <!-- $25^\\circ\\mathrm{C}$ -->\n    <g transform=\"translate(7.4 39.658594) scale(0.125 -0.125)\">\n     <defs>\n      <path id=\"DejaVuSans-32\" d=\"M 1228 531 \nL 3431 531 \nL 3431 0 \nL 469 0 \nL 469 531 \nQ 828 903 1448 1529 \nQ 2069 2156 2228 2338 \nQ 2531 2678 2651 2914 \nQ 2772 3150 2772 3378 \nQ 2772 3750 2511 3984 \nQ 2250 4219 1831 4219 \nQ 1534 4219 1204 4116 \nQ 875 4013 500 3803 \nL 500 4441 \nQ 881 4594 1212 4672 \nQ 1544 4750 1819 4750 \nQ 2544 4750 2975 4387 \nQ 3406 4025 3406 3419 \nQ 3406 3131 3298 2873 \nQ 3191 2616 2906 2266 \nQ 2828 2175 2409 1742 \nQ 1991 1309 1228 531 \nz\n\" transform=\"scale(0.015625)\"/>\n      <path id=\"DejaVuSans-35\" d=\"M 691 4666 \nL 3169 4666 \nL 3169 4134 \nL 1269 4134 \nL 1269 2991 \nQ 1406 3038 1543 3061 \nQ 1681 3084 1819 3084 \nQ 2600 3084 3056 2656 \nQ 3513 2228 3513 1497 \nQ 3513 744 3044 326 \nQ 2575 -91 1722 -91 \nQ 1428 -91 1123 -41 \nQ 819 9 494 109 \nL 494 744 \nQ 775 591 1075 516 \nQ 1375 441 1709 441 \nQ 2250 441 2565 725 \nQ 2881 1009 2881 1497 \nQ 2881 1984 2565 2268 \nQ 2250 2553 1709 2553 \nQ 1456 2553 1204 2497 \nQ 953 2441 691 2322 \nL 691 4666 \nz\n\" transform=\"scale(0.015625)\"/>\n      <path id=\"DejaVuSans-2218\" d=\"M 2000 2619 \nQ 1750 2619 1578 2445 \nQ 1406 2272 1406 2022 \nQ 1406 1775 1578 1605 \nQ 1750 1435 2000 1435 \nQ 2250 1435 2422 1605 \nQ 2594 1775 2594 2022 \nQ 2594 2269 2420 2444 \nQ 2247 2619 2000 2619 \nz\nM 2000 3022 \nQ 2200 3022 2384 2945 \nQ 2569 2869 2703 2725 \nQ 2847 2585 2919 2406 \nQ 2991 2228 2991 2022 \nQ 2991 1610 2702 1324 \nQ 2413 1038 1994 1038 \nQ 1572 1038 1290 1319 \nQ 1009 1600 1009 2022 \nQ 1009 2441 1296 2731 \nQ 1584 3022 2000 3022 \nz\n\" transform=\"scale(0.015625)\"/>\n     </defs>\n     <use xlink:href=\"#DejaVuSans-32\" transform=\"translate(0 0.78125)\"/>\n     <use xlink:href=\"#DejaVuSans-35\" transform=\"translate(63.623047 0.78125)\"/>\n     <use xlink:href=\"#DejaVuSans-2218\" transform=\"translate(141.84082 39.0625) scale(0.7)\"/>\n     <use xlink:href=\"#DejaVuSans-43\" transform=\"translate(202.03125 0.78125)\"/>\n    </g>\n    <!-- $1\\ \\mathrm{atm}$ -->\n    <g transform=\"translate(4.65 53.122656) scale(0.125 -0.125)\">\n     <defs>\n      <path id=\"DejaVuSans-31\" d=\"M 794 531 \nL 1825 531 \nL 1825 4091 \nL 703 3866 \nL 703 4441 \nL 1819 4666 \nL 2450 4666 \nL 2450 531 \nL 3481 531 \nL 3481 0 \nL 794 0 \nL 794 531 \nz\n\" transform=\"scale(0.015625)\"/>\n      <path id=\"DejaVuSans-61\" d=\"M 2194 1759 \nQ 1497 1759 1228 1600 \nQ 959 1441 959 1056 \nQ 959 750 1161 570 \nQ 1363 391 1709 391 \nQ 2188 391 2477 730 \nQ 2766 1069 2766 1631 \nL 2766 1759 \nL 2194 1759 \nz\nM 3341 1997 \nL 3341 0 \nL 2766 0 \nL 2766 531 \nQ 2569 213 2275 61 \nQ 1981 -91 1556 -91 \nQ 1019 -91 701 211 \nQ 384 513 384 1019 \nQ 384 1609 779 1909 \nQ 1175 2209 1959 2209 \nL 2766 2209 \nL 2766 2266 \nQ 2766 2663 2505 2880 \nQ 2244 3097 1772 3097 \nQ 1472 3097 1187 3025 \nQ 903 2953 641 2809 \nL 641 3341 \nQ 956 3463 1253 3523 \nQ 1550 3584 1831 3584 \nQ 2591 3584 2966 3190 \nQ 3341 2797 3341 1997 \nz\n\" transform=\"scale(0.015625)\"/>\n      <path id=\"DejaVuSans-74\" d=\"M 1172 4494 \nL 1172 3500 \nL 2356 3500 \nL 2356 3053 \nL 1172 3053 \nL 1172 1153 \nQ 1172 725 1289 603 \nQ 1406 481 1766 481 \nL 2356 481 \nL 2356 0 \nL 1766 0 \nQ 1100 0 847 248 \nQ 594 497 594 1153 \nL 594 3053 \nL 172 3053 \nL 172 3500 \nL 594 3500 \nL 594 4494 \nL 1172 4494 \nz\n\" transform=\"scale(0.015625)\"/>\n      <path id=\"DejaVuSans-6d\" d=\"M 3328 2828 \nQ 3544 3216 3844 3400 \nQ 4144 3584 4550 3584 \nQ 5097 3584 5394 3201 \nQ 5691 2819 5691 2113 \nL 5691 0 \nL 5113 0 \nL 5113 2094 \nQ 5113 2597 4934 2840 \nQ 4756 3084 4391 3084 \nQ 3944 3084 3684 2787 \nQ 3425 2491 3425 1978 \nL 3425 0 \nL 2847 0 \nL 2847 2094 \nQ 2847 2600 2669 2842 \nQ 2491 3084 2119 3084 \nQ 1678 3084 1418 2786 \nQ 1159 2488 1159 1978 \nL 1159 0 \nL 581 0 \nL 581 3500 \nL 1159 3500 \nL 1159 2956 \nQ 1356 3278 1631 3431 \nQ 1906 3584 2284 3584 \nQ 2666 3584 2933 3390 \nQ 3200 3197 3328 2828 \nz\n\" transform=\"scale(0.015625)\"/>\n     </defs>\n     <use xlink:href=\"#DejaVuSans-31\" transform=\"translate(0 0.09375)\"/>\n     <use xlink:href=\"#DejaVuSans-61\" transform=\"translate(96.093425 0.09375)\"/>\n     <use xlink:href=\"#DejaVuSans-74\" transform=\"translate(157.372722 0.09375)\"/>\n     <use xlink:href=\"#DejaVuSans-6d\" transform=\"translate(196.581707 0.09375)\"/>\n    </g>\n   </g>\n   <g id=\"text_3\">\n    <!-- $\\mathrm{Air}$ -->\n    <g transform=\"translate(24.15 92.80625) scale(0.125 -0.125)\">\n     <defs>\n      <path id=\"DejaVuSans-41\" d=\"M 2188 4044 \nL 1331 1722 \nL 3047 1722 \nL 2188 4044 \nz\nM 1831 4666 \nL 2547 4666 \nL 4325 0 \nL 3669 0 \nL 3244 1197 \nL 1141 1197 \nL 716 0 \nL 50 0 \nL 1831 4666 \nz\n\" transform=\"scale(0.015625)\"/>\n      <path id=\"DejaVuSans-69\" d=\"M 603 3500 \nL 1178 3500 \nL 1178 0 \nL 603 0 \nL 603 3500 \nz\nM 603 4863 \nL 1178 4863 \nL 1178 4134 \nL 603 4134 \nL 603 4863 \nz\n\" transform=\"scale(0.015625)\"/>\n      <path id=\"DejaVuSans-72\" d=\"M 2631 2963 \nQ 2534 3019 2420 3045 \nQ 2306 3072 2169 3072 \nQ 1681 3072 1420 2755 \nQ 1159 2438 1159 1844 \nL 1159 0 \nL 581 0 \nL 581 3500 \nL 1159 3500 \nL 1159 2956 \nQ 1341 3275 1631 3429 \nQ 1922 3584 2338 3584 \nQ 2397 3584 2469 3576 \nQ 2541 3569 2628 3553 \nL 2631 2963 \nz\n\" transform=\"scale(0.015625)\"/>\n     </defs>\n     <use xlink:href=\"#DejaVuSans-41\" transform=\"translate(0 0.015625)\"/>\n     <use xlink:href=\"#DejaVuSans-69\" transform=\"translate(68.408203 0.015625)\"/>\n     <use xlink:href=\"#DejaVuSans-72\" transform=\"translate(96.191406 0.015625)\"/>\n    </g>\n   </g>\n   <g id=\"text_4\">\n    <!-- $25^\\circ\\mathrm{C}$ -->\n    <g transform=\"translate(7.4 111.658594) scale(0.125 -0.125)\">\n     <use xlink:href=\"#DejaVuSans-32\" transform=\"translate(0 0.78125)\"/>\n     <use xlink:href=\"#DejaVuSans-35\" transform=\"translate(63.623047 0.78125)\"/>\n     <use xlink:href=\"#DejaVuSans-2218\" transform=\"translate(141.84082 39.0625) scale(0.7)\"/>\n     <use xlink:href=\"#DejaVuSans-43\" transform=\"translate(202.03125 0.78125)\"/>\n    </g>\n    <!-- $1\\ \\mathrm{atm}$ -->\n    <g transform=\"translate(4.65 125.122656) scale(0.125 -0.125)\">\n     <use xlink:href=\"#DejaVuSans-31\" transform=\"translate(0 0.09375)\"/>\n     <use xlink:href=\"#DejaVuSans-61\" transform=\"translate(96.093425 0.09375)\"/>\n     <use xlink:href=\"#DejaVuSans-74\" transform=\"translate(157.372722 0.09375)\"/>\n     <use xlink:href=\"#DejaVuSans-6d\" transform=\"translate(196.581707 0.09375)\"/>\n    </g>\n   </g>\n   <g id=\"text_5\">\n    <!-- $\\mathrm{Products}$ -->\n    <g transform=\"translate(203.4 56.80625) scale(0.125 -0.125)\">\n     <defs>\n      <path id=\"DejaVuSans-50\" d=\"M 1259 4147 \nL 1259 2394 \nL 2053 2394 \nQ 2494 2394 2734 2622 \nQ 2975 2850 2975 3272 \nQ 2975 3691 2734 3919 \nQ 2494 4147 2053 4147 \nL 1259 4147 \nz\nM 628 4666 \nL 2053 4666 \nQ 2838 4666 3239 4311 \nQ 3641 3956 3641 3272 \nQ 3641 2581 3239 2228 \nQ 2838 1875 2053 1875 \nL 1259 1875 \nL 1259 0 \nL 628 0 \nL 628 4666 \nz\n\" transform=\"scale(0.015625)\"/>\n      <path id=\"DejaVuSans-6f\" d=\"M 1959 3097 \nQ 1497 3097 1228 2736 \nQ 959 2375 959 1747 \nQ 959 1119 1226 758 \nQ 1494 397 1959 397 \nQ 2419 397 2687 759 \nQ 2956 1122 2956 1747 \nQ 2956 2369 2687 2733 \nQ 2419 3097 1959 3097 \nz\nM 1959 3584 \nQ 2709 3584 3137 3096 \nQ 3566 2609 3566 1747 \nQ 3566 888 3137 398 \nQ 2709 -91 1959 -91 \nQ 1206 -91 779 398 \nQ 353 888 353 1747 \nQ 353 2609 779 3096 \nQ 1206 3584 1959 3584 \nz\n\" transform=\"scale(0.015625)\"/>\n      <path id=\"DejaVuSans-64\" d=\"M 2906 2969 \nL 2906 4863 \nL 3481 4863 \nL 3481 0 \nL 2906 0 \nL 2906 525 \nQ 2725 213 2448 61 \nQ 2172 -91 1784 -91 \nQ 1150 -91 751 415 \nQ 353 922 353 1747 \nQ 353 2572 751 3078 \nQ 1150 3584 1784 3584 \nQ 2172 3584 2448 3432 \nQ 2725 3281 2906 2969 \nz\nM 947 1747 \nQ 947 1113 1208 752 \nQ 1469 391 1925 391 \nQ 2381 391 2643 752 \nQ 2906 1113 2906 1747 \nQ 2906 2381 2643 2742 \nQ 2381 3103 1925 3103 \nQ 1469 3103 1208 2742 \nQ 947 2381 947 1747 \nz\n\" transform=\"scale(0.015625)\"/>\n      <path id=\"DejaVuSans-75\" d=\"M 544 1381 \nL 544 3500 \nL 1119 3500 \nL 1119 1403 \nQ 1119 906 1312 657 \nQ 1506 409 1894 409 \nQ 2359 409 2629 706 \nQ 2900 1003 2900 1516 \nL 2900 3500 \nL 3475 3500 \nL 3475 0 \nL 2900 0 \nL 2900 538 \nQ 2691 219 2414 64 \nQ 2138 -91 1772 -91 \nQ 1169 -91 856 284 \nQ 544 659 544 1381 \nz\nM 1991 3584 \nL 1991 3584 \nz\n\" transform=\"scale(0.015625)\"/>\n      <path id=\"DejaVuSans-63\" d=\"M 3122 3366 \nL 3122 2828 \nQ 2878 2963 2633 3030 \nQ 2388 3097 2138 3097 \nQ 1578 3097 1268 2742 \nQ 959 2388 959 1747 \nQ 959 1106 1268 751 \nQ 1578 397 2138 397 \nQ 2388 397 2633 464 \nQ 2878 531 3122 666 \nL 3122 134 \nQ 2881 22 2623 -34 \nQ 2366 -91 2075 -91 \nQ 1284 -91 818 406 \nQ 353 903 353 1747 \nQ 353 2603 823 3093 \nQ 1294 3584 2113 3584 \nQ 2378 3584 2631 3529 \nQ 2884 3475 3122 3366 \nz\n\" transform=\"scale(0.015625)\"/>\n      <path id=\"DejaVuSans-73\" d=\"M 2834 3397 \nL 2834 2853 \nQ 2591 2978 2328 3040 \nQ 2066 3103 1784 3103 \nQ 1356 3103 1142 2972 \nQ 928 2841 928 2578 \nQ 928 2378 1081 2264 \nQ 1234 2150 1697 2047 \nL 1894 2003 \nQ 2506 1872 2764 1633 \nQ 3022 1394 3022 966 \nQ 3022 478 2636 193 \nQ 2250 -91 1575 -91 \nQ 1294 -91 989 -36 \nQ 684 19 347 128 \nL 347 722 \nQ 666 556 975 473 \nQ 1284 391 1588 391 \nQ 1994 391 2212 530 \nQ 2431 669 2431 922 \nQ 2431 1156 2273 1281 \nQ 2116 1406 1581 1522 \nL 1381 1569 \nQ 847 1681 609 1914 \nQ 372 2147 372 2553 \nQ 372 3047 722 3315 \nQ 1072 3584 1716 3584 \nQ 2034 3584 2315 3537 \nQ 2597 3491 2834 3397 \nz\n\" transform=\"scale(0.015625)\"/>\n     </defs>\n     <use xlink:href=\"#DejaVuSans-50\" transform=\"translate(0 0.015625)\"/>\n     <use xlink:href=\"#DejaVuSans-72\" transform=\"translate(60.302734 0.015625)\"/>\n     <use xlink:href=\"#DejaVuSans-6f\" transform=\"translate(101.416016 0.015625)\"/>\n     <use xlink:href=\"#DejaVuSans-64\" transform=\"translate(162.597656 0.015625)\"/>\n     <use xlink:href=\"#DejaVuSans-75\" transform=\"translate(226.074219 0.015625)\"/>\n     <use xlink:href=\"#DejaVuSans-63\" transform=\"translate(289.453125 0.015625)\"/>\n     <use xlink:href=\"#DejaVuSans-74\" transform=\"translate(344.433594 0.015625)\"/>\n     <use xlink:href=\"#DejaVuSans-73\" transform=\"translate(383.642578 0.015625)\"/>\n    </g>\n   </g>\n   <g id=\"text_6\">\n    <!-- $25^\\circ\\mathrm{C}$ -->\n    <g transform=\"translate(203.4 75.658594) scale(0.125 -0.125)\">\n     <use xlink:href=\"#DejaVuSans-32\" transform=\"translate(0 0.78125)\"/>\n     <use xlink:href=\"#DejaVuSans-35\" transform=\"translate(63.623047 0.78125)\"/>\n     <use xlink:href=\"#DejaVuSans-2218\" transform=\"translate(141.84082 39.0625) scale(0.7)\"/>\n     <use xlink:href=\"#DejaVuSans-43\" transform=\"translate(202.03125 0.78125)\"/>\n    </g>\n    <!-- $1\\  \\mathrm{atm}$ -->\n    <g transform=\"translate(203.4 89.122656) scale(0.125 -0.125)\">\n     <use xlink:href=\"#DejaVuSans-31\" transform=\"translate(0 0.09375)\"/>\n     <use xlink:href=\"#DejaVuSans-61\" transform=\"translate(96.093425 0.09375)\"/>\n     <use xlink:href=\"#DejaVuSans-74\" transform=\"translate(157.372722 0.09375)\"/>\n     <use xlink:href=\"#DejaVuSans-6d\" transform=\"translate(196.581707 0.09375)\"/>\n    </g>\n   </g>\n  </g>\n </g>\n <defs>\n  <clipPath id=\"pa55a736523\">\n   <rect x=\"3.6\" y=\"3.6\" width=\"237.6\" height=\"118.8\"/>\n  </clipPath>\n </defs>\n</svg>\n",
      "text/plain": [
       "<schemdraw.backends.mpl.Figure object at 0x7f33cf105cc0>"
      ]
     },
     "execution_count": 4,
     "metadata": {
     },
     "output_type": "execute_result"
    }
   ],
   "source": [
    "from kilojoule.schemdraw import *\n",
    "with schemdraw.Drawing() as d:\n",
    "    d += (chamb := thermo.HX(passes=3,coils=False))\n",
    "    d += elm.Arrow().at(chamb.W1).left(1.5).reverse().label(r'$\\mathrm{CH_4}$',halign='right').label(r'$25^\\circ\\mathrm{C}$'+'\\n'+'$1\\ \\mathrm{atm}$',loc=\"bottom\",halign='right')\n",
    "    d += elm.Arrow().at(chamb.W3).left(1.5).reverse().label(r'$\\mathrm{Air}$',halign='right').label(r'$25^\\circ\\mathrm{C}$'+'\\n'+'$1\\ \\mathrm{atm}$',loc=\"bottom\",halign='right')\n",
    "    d += elm.Arrow().at(chamb.E).right(1.5).label(r'$\\mathrm{Products}$',halign='left').label(r'$25^\\circ\\mathrm{C}$'+'\\n'+'$1\\  \\mathrm{atm}$',loc=\"bottom\",halign='left')"
   ]
  },
  {
   "cell_type": "markdown",
   "metadata": {
    "collapsed": false
   },
   "source": [
    "## Chemical Balance\n",
    "\n",
    "\\begin{equation}\n",
    "\t\\ce{ CH4 + a_{th}(O2 + $3.76$ N2) -> a CO2 + b H2O(\\ell)  + c N2 }\n",
    "\\end{equation}\n",
    "\n",
    "\\begin{align}\n",
    "\t\\ce{C}:& & % Carbon Balance\n",
    "    \t1&=a &\n",
    "        &\\Rightarrow&\n",
    "        a&=1\\\\\n",
    "\t\\ce{H}:& & % Hydrogen Balance\n",
    "    \t4&=2b &\n",
    "        &\\Rightarrow&\n",
    "        b&=2\\\\\n",
    "\t\\ce{O}:& & % Oxygen Balance\n",
    "    \t2 a_{th}&=2a+b  &\n",
    "        &\\Rightarrow& \n",
    "        a_{th}&= \\frac{2a+b}{2}=\\frac{2(1)+2}{2}=2\\\\\n",
    "\t\\ce{N2}:& & % Nitrogen Balance\n",
    "    \t3(3.76)&=c &\n",
    "        &\\Rightarrow&\n",
    "        d&=7.52\\\\\n",
    "\\end{align}\n",
    "\n",
    "\\begin{equation}\n",
    "\t\\ce{CH4 + 2(O2 + $3.76$N2) -> CO2 + 2 H2O(\\ell) + $7.52$ N2}\n",
    "\\end{equation}"
   ]
  },
  {
   "cell_type": "code",
   "execution_count": 5,
   "metadata": {
    "collapsed": false
   },
   "outputs": [
   ],
   "source": [
    "a = 1\n",
    "b = 2\n",
    "a_th = (2*a+b)/2\n",
    "c = 3.76*a_th\n"
   ]
  },
  {
   "cell_type": "markdown",
   "metadata": {
    "collapsed": false
   },
   "source": [
    "### Property Tables\n",
    "\n"
   ]
  },
  {
   "cell_type": "code",
   "execution_count": 6,
   "metadata": {
    "collapsed": false
   },
   "outputs": [
   ],
   "source": [
    "A26 = Cengel.Table(\"A26\")\n",
    "set_latex({f'ho_f_molar_{i}':r'\\overline{h}^{\\,^\\circ}_{f,\\mathrm{'+f'{j}'+r'}}' for i,j in (\n",
    "    ('CO2','CO_2'),\n",
    "    ('H2O','H_2O'),\n",
    "    ('N2','N_2'),\n",
    "    ('CH4','CH_4'),\n",
    "    ('O2','O_2')\n",
    "    )})"
   ]
  },
  {
   "cell_type": "code",
   "execution_count": 9,
   "metadata": {
    "collapsed": false
   },
   "outputs": [
    {
     "data": {
      "text/markdown": [
       "### Using Table A26\n",
       "Moles of fuel\n",
       "\\begin{align}\n",
       "  N_{fuel} &=  1\\ \\mathrm{kmol} \n",
       "\\end{align}\n",
       "\n",
       "Enthalpies of formation at reference state\n",
       "\\begin{align}\n",
       "  \\overline{h}^{\\,^\\circ}_{f,\\mathrm{CO_2}} &=  \\mathrm{ \\underset{ A26 }{ ho\\_f\\_molar } }\\left( CO2 \\right)  = -3.9352\\times 10^{5}\\ \\frac{\\mathrm{kJ}}{\\mathrm{kmol}} \n",
       "\\end{align}\n",
       "\n",
       "\\begin{align}\n",
       "  \\overline{h}^{\\,^\\circ}_{f,\\mathrm{H_2O}} &=  \\mathrm{ \\underset{ A26 }{ ho\\_f\\_molar } }\\left( H2O, l \\right)  = -2.8583\\times 10^{5}\\ \\frac{\\mathrm{kJ}}{\\mathrm{kmol}} \n",
       "\\end{align}\n",
       "\n",
       "\\begin{align}\n",
       "  \\overline{h}^{\\,^\\circ}_{f,\\mathrm{N_2}} &=  \\mathrm{ \\underset{ A26 }{ ho\\_f\\_molar } }\\left( N2 \\right)  = 0.0\\ \\frac{\\mathrm{kJ}}{\\mathrm{kmol}} \n",
       "\\end{align}\n",
       "\n",
       "\\begin{align}\n",
       "  \\overline{h}^{\\,^\\circ}_{f,\\mathrm{CH_4}} &=  \\mathrm{ \\underset{ A26 }{ ho\\_f\\_molar } }\\left( CH4 \\right)  = -7.485\\times 10^{4}\\ \\frac{\\mathrm{kJ}}{\\mathrm{kmol}} \n",
       "\\end{align}\n",
       "\n",
       "\\begin{align}\n",
       "  \\overline{h}^{\\,^\\circ}_{f,\\mathrm{O_2}} &=  \\mathrm{ \\underset{ A26 }{ ho\\_f\\_molar } }\\left( O2 \\right)  = 0.0\\ \\frac{\\mathrm{kJ}}{\\mathrm{kmol}} \n",
       "\\end{align}\n",
       "\n",
       "Products\n",
       "\\begin{align}\n",
       "  h_{products} &=   a  \\cdot  \\overline{h}^{\\,^\\circ}_{f,\\mathrm{CO_2}}  +  b  \\cdot  \\overline{h}^{\\,^\\circ}_{f,\\mathrm{H_2O}}  +  c  \\cdot  \\overline{h}^{\\,^\\circ}_{f,\\mathrm{N_2}}  \\\\\n",
       "    &=   1   \\cdot  -3.9352\\times 10^{5}\\ \\frac{\\mathrm{kJ}}{\\mathrm{kmol}}  +   2   \\cdot  -2.8583\\times 10^{5}\\ \\frac{\\mathrm{kJ}}{\\mathrm{kmol}}  +   7.52   \\cdot  0.0\\ \\frac{\\mathrm{kJ}}{\\mathrm{kmol}} \\\\\n",
       "    &= -9.6518\\times 10^{5}\\ \\frac{\\mathrm{kJ}}{\\mathrm{kmol}}\n",
       "\\end{align}\n",
       "\n",
       "Reactants\n",
       "\\begin{align}\n",
       "  h_{reactants} &=  \\overline{h}^{\\,^\\circ}_{f,\\mathrm{CH_4}} +  a_{th}  \\cdot  \\left( \\overline{h}^{\\,^\\circ}_{f,\\mathrm{O_2}} +  3.76  \\cdot  \\overline{h}^{\\,^\\circ}_{f,\\mathrm{N_2}}  \\right)  \\\\\n",
       "    &= -7.485\\times 10^{4}\\ \\frac{\\mathrm{kJ}}{\\mathrm{kmol}} +   2.0   \\cdot  \\left( 0.0\\ \\frac{\\mathrm{kJ}}{\\mathrm{kmol}} +  3.76  \\cdot  0.0\\ \\frac{\\mathrm{kJ}}{\\mathrm{kmol}}  \\right) \\\\\n",
       "    &= -7.485\\times 10^{4}\\ \\frac{\\mathrm{kJ}}{\\mathrm{kmol}}\n",
       "\\end{align}\n",
       "\n",
       "Enthalpy of combustion\n",
       "\\begin{align}\n",
       "  h_{c} &=   h_{reactants} - h_{products}  \\\\\n",
       "    &=  -7.485\\times 10^{4}\\ \\frac{\\mathrm{kJ}}{\\mathrm{kmol}} - \\left( -9.6518\\times 10^{5}\\ \\frac{\\mathrm{kJ}}{\\mathrm{kmol}} \\right) \\\\\n",
       "    &= 8.9033\\times 10^{5}\\ \\frac{\\mathrm{kJ}}{\\mathrm{kmol}}\n",
       "\\end{align}\n",
       "\n"
      ],
      "text/plain": [
       "<IPython.core.display.Markdown object>"
      ]
     },
     "execution_count": 9,
     "metadata": {
     },
     "output_type": "execute_result"
    }
   ],
   "source": [
    "%%showcalc\n",
    "\"### Using Table A26\"\n",
    "\"Moles of fuel\"\n",
    "N_fuel = Quantity(1,'kmol')\n",
    "\"Enthalpies of formation at reference state\"\n",
    "ho_f_molar_CO2 = (A26.ho_f_molar('CO2')).to('kJ/kmol')\n",
    "ho_f_molar_H2O = A26.ho_f_molar('H2O','l')\n",
    "ho_f_molar_N2 = A26.ho_f_molar('N2')\n",
    "ho_f_molar_CH4 = A26.ho_f_molar('CH4')\n",
    "ho_f_molar_O2 = A26.ho_f_molar('O2')\n",
    "\"Products\"\n",
    "h_products = a*ho_f_molar_CO2 + b*ho_f_molar_H2O + c*ho_f_molar_N2\n",
    "\"Reactants\"\n",
    "h_reactants = ho_f_molar_CH4 + a_th*(ho_f_molar_O2 + 3.76*ho_f_molar_N2)\n",
    "\"Enthalpy of combustion\"\n",
    "h_c = h_reactants - h_products"
   ]
  },
  {
   "cell_type": "code",
   "execution_count": 11,
   "metadata": {
    "collapsed": false
   },
   "outputs": [
   ],
   "source": [
    "A27 = Cengel.Table('A27')"
   ]
  },
  {
   "cell_type": "code",
   "execution_count": 12,
   "metadata": {
    "collapsed": false
   },
   "outputs": [
    {
     "data": {
      "text/markdown": [
       "### Using Table A.27\n",
       "Molar Mass of $\\mathrm{CH_4}$\n",
       "\\begin{align}\n",
       "  M_{CH4} &=  \\mathrm{ \\underset{ A27 }{ M } }\\left( CH4 \\right)  = 16.043\\ \\frac{\\mathrm{kg}}{\\mathrm{kmol}} \n",
       "\\end{align}\n",
       "\n",
       "Higher Heating Value\n",
       "\\begin{align}\n",
       "  HHV_{CH4} &=  \\mathrm{ \\underset{ A27 }{ HHV } }\\left( CH4 \\right)  = 5.553\\times 10^{4}\\ \\frac{\\mathrm{kJ}}{\\mathrm{kg}} \n",
       "\\end{align}\n",
       "\n",
       "Convert to molar\n",
       "\\begin{align}\n",
       "  h_{c,A27} &=   M_{CH4}  \\cdot  HHV_{CH4}  \\\\\n",
       "    &=  16.043\\ \\frac{\\mathrm{kg}}{\\mathrm{kmol}}  \\cdot  5.553\\times 10^{4}\\ \\frac{\\mathrm{kJ}}{\\mathrm{kg}} \\\\\n",
       "    &= 8.9087\\times 10^{5}\\ \\frac{\\mathrm{kJ}}{\\mathrm{kmol}}\n",
       "\\end{align}\n",
       "\n"
      ],
      "text/plain": [
       "<IPython.core.display.Markdown object>"
      ]
     },
     "execution_count": 12,
     "metadata": {
     },
     "output_type": "execute_result"
    }
   ],
   "source": [
    "%%showcalc\n",
    "\"### Using Table A.27\"\n",
    "\"Molar Mass of $\\mathrm{CH_4}$\"\n",
    "M_CH4 = A27.M(\"CH4\")\n",
    "\"Higher Heating Value\"\n",
    "HHV_CH4 = A27.HHV(\"CH4\")\n",
    "\"Convert to molar\"\n",
    "h_c_A27 = M_CH4*HHV_CH4"
   ]
  },
  {
   "cell_type": "code",
   "execution_count": 10,
   "metadata": {
    "collapsed": false,
    "jupyter": {
    }
   },
   "outputs": [
   ],
   "source": [
    "# Export your solution to submit to Canvas\n",
    "# 1) Ensure all cells above show your final solution\n",
    "# 2) Click the 'Save' button in the toolbar\n",
    "# 3) Uncomment (remove the #) from the last line in this cell\n",
    "# 4) Ensure the filename in the command below matches the filename of this notebook\n",
    "# 5) Execute this cell to create an HTML file showing only the output \n",
    "# 6) Submit the .html file located in the folder with this notebook\n",
    "\n",
    "# !jupyter nbconvert --to html --no-input --no-prompt \"Ex15.2 Enthalpy of Combustion.ipynb\""
   ]
  }
 ],
 "metadata": {
  "kernelspec": {
   "argv": [
    "/usr/bin/python3",
    "-m",
    "ipykernel",
    "--HistoryManager.enabled=False",
    "--matplotlib=inline",
    "-c",
    "%config InlineBackend.figure_formats = set(['retina'])\nimport matplotlib; matplotlib.rcParams['figure.figsize'] = (12, 7)",
    "-f",
    "{connection_file}"
   ],
   "display_name": "Python 3 (system-wide)",
   "env": {
   },
   "language": "python",
   "metadata": {
    "cocalc": {
     "description": "Python 3 programming language",
     "priority": 100,
     "url": "https://www.python.org/"
    }
   },
   "name": "python3",
   "resource_dir": "/ext/jupyter/kernels/python3"
  },
  "language_info": {
   "codemirror_mode": {
    "name": "ipython",
    "version": 3
   },
   "file_extension": ".py",
   "mimetype": "text/x-python",
   "name": "python",
   "nbconvert_exporter": "python",
   "pygments_lexer": "ipython3",
   "version": "3.8.10"
  },
  "vscode": {
   "interpreter": {
    "hash": "5ac08260a19af6e15a40ac86f761d0cfbb39d3d0196eae74a8efbd73e99cc68e"
   }
  }
 },
 "nbformat": 4,
 "nbformat_minor": 4
}