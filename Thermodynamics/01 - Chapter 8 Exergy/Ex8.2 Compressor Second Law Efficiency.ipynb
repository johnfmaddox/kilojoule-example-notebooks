{
 "cells": [
  {
   "cell_type": "markdown",
   "metadata": {
    "collapsed": false
   },
   "source": [
    "# Example 8.2: Compressor Second Law Efficiency\n",
    "\n",
    "*John F. Maddox, Ph.D., P.E.<br>\n",
    "University of Kentucky - Paducah Campus<br>\n",
    "ME 321: Engineering Thermodynamics II<br>*"
   ]
  },
  {
   "cell_type": "markdown",
   "metadata": {
    "collapsed": false
   },
   "source": [
    "## Problem Statement\n",
    "An air compressor has an isentropic efficiency of 80% and operates in a SSSF configuration with negligible changes in kinetic and potential energy.  It receives a volumetric flow rate of 3000 CFM with an inlet pressure of $p_1=14.7\\,\\text{psia}$ and inlet temperature of $T_1=70^\\circ\\text{F}$.  It compresses the air by a factor of 10.  The ambient temperature is $T_0=70^\\circ\\text{F}$.\n",
    "* (a) Rate of compressor work, Hp\n",
    "* (b) Rate of entropy generation, $\\mathrm{Btu/min^\\circ\\text{R}}$\n",
    "* (c) The reversible work, Hp\n",
    "* (d) The second law efficiency"
   ]
  },
  {
   "cell_type": "markdown",
   "metadata": {
    "collapsed": false
   },
   "source": [
    "## Solution\n",
    "\n",
    "__[Video Explanation](https://uky.yuja.com/V/Video?v=3071313&node=10458708&a=433290350&autoplay=1)__"
   ]
  },
  {
   "cell_type": "markdown",
   "metadata": {
    "collapsed": false
   },
   "source": [
    "### Python Initialization\n",
    "We'll start by importing the libraries we will use for our analysis and initializing dictionaries to hold the properties we will be usings."
   ]
  },
  {
   "cell_type": "code",
   "execution_count": 4,
   "metadata": {
    "collapsed": false,
    "jupyter": {
    }
   },
   "outputs": [
   ],
   "source": [
    "from kilojoule.templates.USCS_R import *\n",
    "air = idealgas.Properties('Air',unit_system=\"USCS_R\")"
   ]
  },
  {
   "cell_type": "markdown",
   "metadata": {
    "collapsed": false
   },
   "source": [
    "### Given Parameters\n",
    "We now define variables to hold our known values."
   ]
  },
  {
   "cell_type": "code",
   "execution_count": 5,
   "metadata": {
    "collapsed": false,
    "jupyter": {
    }
   },
   "outputs": [
    {
     "data": {
      "text/latex": [
       "\\begin{align}{ \\eta_{c} }&={ 0.8 }&{  }\\end{align}"
      ],
      "text/plain": [
       "<IPython.core.display.Latex object>"
      ]
     },
     "execution_count": 5,
     "metadata": {
     },
     "output_type": "execute_result"
    },
    {
     "data": {
      "text/html": [
       "<table border=\"1\" class=\"dataframe\">\n",
       "  <thead>\n",
       "    <tr style=\"text-align: right;\">\n",
       "      <th></th>\n",
       "      <th>$T$ [°R]</th>\n",
       "      <th>$p$ [psi]</th>\n",
       "      <th>$\\dot{V}$ [m³/s]</th>\n",
       "    </tr>\n",
       "  </thead>\n",
       "  <tbody>\n",
       "    <tr>\n",
       "      <th>0</th>\n",
       "      <td>529.67</td>\n",
       "      <td>14.695949</td>\n",
       "      <td>-</td>\n",
       "    </tr>\n",
       "    <tr>\n",
       "      <th>1</th>\n",
       "      <td>529.67</td>\n",
       "      <td>14.700000</td>\n",
       "      <td>1.415842</td>\n",
       "    </tr>\n",
       "    <tr>\n",
       "      <th>2</th>\n",
       "      <td>-</td>\n",
       "      <td>147.000000</td>\n",
       "      <td>-</td>\n",
       "    </tr>\n",
       "  </tbody>\n",
       "</table>"
      ],
      "text/plain": [
       "<IPython.core.display.HTML object>"
      ]
     },
     "execution_count": 5,
     "metadata": {
     },
     "output_type": "execute_result"
    }
   ],
   "source": [
    "T[0] = Quantity(70,'degF')     # ambient temperature\n",
    "p[0] = Quantity(1,'atm')       # assumed atmospheric pressure\n",
    "Vdot[1] = Quantity(3000,'cfm') # volumetric flow rate\n",
    "p[1] = Quantity(14.7,'psi')    # inlet pressure\n",
    "T[1] = Quantity(70,'degF')     # inlet temperature\n",
    "p[2] = 10*p[1]                 # exit pressure\n",
    "eta_c = Quantity(.8,'')        # isentropic efficiency\n",
    "Summary();"
   ]
  },
  {
   "cell_type": "markdown",
   "metadata": {
    "collapsed": false
   },
   "source": [
    "### Assumptions\n",
    "  - Negligible changes in kinetic energy\n",
    "  - Negligible changes in potential energy\n",
    "  - Ideal gas\n",
    "  - Constant specific heat"
   ]
  },
  {
   "cell_type": "code",
   "execution_count": 6,
   "metadata": {
    "collapsed": false,
    "jupyter": {
    }
   },
   "outputs": [
    {
     "data": {
      "text/markdown": [
       "Ideal Gas\n",
       "\\begin{align}\n",
       "  R &=  \\underset{ air }{ R }  = 0.068561\\ \\frac{\\mathrm{Btu}}{\\left(\\mathrm{lb} \\cdot \\mathrm{°R}\\right)} \n",
       "\\end{align}\n",
       "\n",
       "Constant thermal properties at room temperature\n",
       "\\begin{align}\n",
       "  T_{room} &=  25\\ \\mathrm{°C} \n",
       "\\end{align}\n",
       "\n",
       "\\begin{align}\n",
       "  c_{p} &=  \\mathrm{ \\underset{ air }{ cp } }\\left( T_{room} \\right)  = \\mathrm{ \\underset{ air }{ cp } }\\left( 25\\ \\mathrm{°C} \\right) = 0.23998\\ \\frac{\\mathrm{Btu}}{\\left(\\mathrm{lb} \\cdot \\mathrm{°R}\\right)}\n",
       "\\end{align}\n",
       "\n",
       "\\begin{align}\n",
       "  k &=  \\mathrm{ \\underset{ air }{ k } }\\left( T_{room} \\right)  = \\mathrm{ \\underset{ air }{ k } }\\left( 25\\ \\mathrm{°C} \\right) = 1.4\n",
       "\\end{align}\n",
       "\n"
      ],
      "text/plain": [
       "<IPython.core.display.Markdown object>"
      ]
     },
     "execution_count": 6,
     "metadata": {
     },
     "output_type": "execute_result"
    }
   ],
   "source": [
    "%%showcalc\n",
    "\"Ideal Gas\"\n",
    "R = air.R   # specific gas constant\n",
    "\n",
    "\"Constant thermal properties at room temperature\"\n",
    "T_room = Quantity(25,'degC') # room temperature\n",
    "c_p = air.cp(T_room)   # constant pressure specific heat at room temperature\n",
    "k = air.k(T_room)      # specific heat ratio at room temperature"
   ]
  },
  {
   "cell_type": "markdown",
   "metadata": {
    "collapsed": false
   },
   "source": [
    "### (a) Rate of Compressor work, HP"
   ]
  },
  {
   "cell_type": "code",
   "execution_count": 19,
   "metadata": {
    "collapsed": false,
    "jupyter": {
    }
   },
   "outputs": [
    {
     "data": {
      "text/markdown": [
       "Ideal gas law to get mass flow rate\n",
       "\\begin{align}\n",
       "  \\dot{m} &=  \\frac{  {p}_{ 1 }  \\cdot  {\\dot{V}}_{ 1 }  }{  R  \\cdot  {T}_{ 1 }  } \\\\\n",
       "    &= \\frac{  14.7\\ \\mathrm{psi}  \\cdot  1.4158\\ \\frac{\\mathrm{m}^{3}}{\\mathrm{s}}  }{  0.068561\\ \\frac{\\mathrm{Btu}}{\\left(\\mathrm{lb} \\cdot \\mathrm{°R}\\right)}  \\cdot  529.67\\ \\mathrm{°R}  }\\\\\n",
       "    &= 224.72\\ \\frac{\\mathrm{lb}}{\\mathrm{min}}\n",
       "\\end{align}\n",
       "\n",
       "#### Isentropic Exit State\n",
       "The isentropic exit state is a theoretical reference state that we use to predict the real performance of the device (even though the fluid never actually goes through the isentropic exit state). The isentropic exit state is the state that would exist if we were to replace the real device with an isentropic device that recieves the same inlet state (temperature and pressure) as the real device and exhausts to the same exit pressure (pressure only) as the real device. The insentropic exit state is fixed by two independent, intensive properties: the inlet entropy and the exit pressure.\n",
       "\\begin{align}\n",
       "  {p}_{ {2s} } &=  {p}_{ 2 }  = 147.0\\ \\mathrm{psi} \n",
       "\\end{align}\n",
       "\n",
       "\\begin{align}\n",
       "  {T}_{ {2s} } &=   {T}_{ 1 }  \\cdot  {\\left(\\frac{ {p}_{ 2 } }{ {p}_{ 1 } }\\right)}^{\\frac{  k - 1  }{ k }}  \\\\\n",
       "    &=  529.67\\ \\mathrm{°R}  \\cdot  {\\left(\\frac{ 147.0\\ \\mathrm{psi} }{ 14.7\\ \\mathrm{psi} }\\right)}^{\\frac{  1.4 - 1  }{ 1.4 }} \\\\\n",
       "    &= 1022.6\\ \\mathrm{°R}\n",
       "\\end{align}\n",
       "\n",
       "The isentropic work would be the amount of work required by the isentropic device described above.\n",
       "\\begin{align}\n",
       "  \\dot{W}_{c,s} &=    \\dot{m}  \\cdot  c_{p}   \\cdot  \\left(  {T}_{ {2s} } - {T}_{ 1 }  \\right)  \\\\\n",
       "    &=   224.72\\ \\frac{\\mathrm{lb}}{\\mathrm{min}}  \\cdot  0.23998\\ \\frac{\\mathrm{Btu}}{\\left(\\mathrm{lb} \\cdot \\mathrm{°R}\\right)}   \\cdot  \\left(  1022.6\\ \\mathrm{°R} - 529.67\\ \\mathrm{°R}  \\right) \\\\\n",
       "    &= 626.84\\ \\mathrm{hp}\n",
       "\\end{align}\n",
       "\n",
       "Compressors ar work consuming devices, so a real compressor will require more work, $W_{c}$, than an ideal compresser, $W_{c,s}$, to achieve the same pressure change. The ratio of the actual work to the isentropic work is the isentropic efficiency $$\\eta_c = \\frac{\\text{Ideal Work}}{\\text{Actual Work}} = \\frac{\\dot{W}_{c,s}}{\\dot{W}_{c}}$$ $$\\dot{W}_c=\\frac{\\dot{W}_{c,s}}{\\eta_c}$$\n",
       "Compressor work\n",
       "\\begin{align}\n",
       "  \\dot{W}_{c} &=  \\frac{ \\dot{W}_{c,s} }{ \\eta_{c} } \\\\\n",
       "    &= \\frac{ 626.84\\ \\mathrm{hp} }{ 0.8 }\\\\\n",
       "    &= 783.55\\ \\mathrm{hp}\n",
       "\\end{align}\n",
       "\n"
      ],
      "text/plain": [
       "<IPython.core.display.Markdown object>"
      ]
     },
     "execution_count": 19,
     "metadata": {
     },
     "output_type": "execute_result"
    }
   ],
   "source": [
    "%%showcalc\n",
    "\"Ideal gas law to get mass flow rate\"\n",
    "mdot=   (p[1]*Vdot[1]/(R*T[1].to('degR'))).to('lb/min')\n",
    "\n",
    "\"#### Isentropic Exit State\"\n",
    "\"The isentropic exit state is a theoretical reference state that we use to predict the real performance of the device (even though the fluid never actually goes through the isentropic exit state). The isentropic exit state is the state that would exist if we were to replace the real device with an isentropic device that recieves the same inlet state (temperature and pressure) as the real device and exhausts to the same exit pressure (pressure only) as the real device. The insentropic exit state is fixed by two independent, intensive properties: the inlet entropy and the exit pressure.\" \n",
    "p['2s'] = p[2]\n",
    "T['2s'] = T[1].to('degR')*(p[2]/p[1])**((k-1)/k)\n",
    "\n",
    "\"The isentropic work would be the amount of work required by the isentropic device described above.\"\n",
    "Wdot_c_s = (mdot*c_p*(T['2s']-T[1])).to('hp')\n",
    "\n",
    "r\"Compressors ar work consuming devices, so a real compressor will require more work, $W_{c}$, than an ideal compresser, $W_{c,s}$, to achieve the same pressure change. The ratio of the actual work to the isentropic work is the isentropic efficiency $$\\eta_c = \\frac{\\text{Ideal Work}}{\\text{Actual Work}} = \\frac{\\dot{W}_{c,s}}{\\dot{W}_{c}}$$ $$\\dot{W}_c=\\frac{\\dot{W}_{c,s}}{\\eta_c}$$\"\n",
    "\n",
    "\"Compressor work\"\n",
    "Wdot_c = (Wdot_c_s/eta_c).to('hp')\n",
    "#Wdot_c = (mdot*c_p*(T['2s']-T[1])/eta_c).to('hp')"
   ]
  },
  {
   "cell_type": "markdown",
   "metadata": {
    "collapsed": false
   },
   "source": [
    "### (b) Rate of entropy generation"
   ]
  },
  {
   "cell_type": "code",
   "execution_count": 21,
   "metadata": {
    "collapsed": false,
    "jupyter": {
    }
   },
   "outputs": [
    {
     "data": {
      "text/markdown": [
       "#### Exit temperature\n",
       "The exit state of the real device is fixed by two independent, intensive properties: the exit pressure and the exit enthalpy (or the exit temperature in this case because we are assuming constant specific heat). Applying a first law to the device with the work we calculated above lets us find the exit temperature of the real device.\n",
       "\\begin{align}\n",
       "  {T}_{ 2 } &=  {T}_{ 1 } + \\frac{ \\dot{W}_{c} }{  \\dot{m}  \\cdot  c_{p}  } \\\\\n",
       "    &= 529.67\\ \\mathrm{°R} + \\frac{ 783.55\\ \\mathrm{hp} }{  224.72\\ \\frac{\\mathrm{lb}}{\\mathrm{min}}  \\cdot  0.23998\\ \\frac{\\mathrm{Btu}}{\\left(\\mathrm{lb} \\cdot \\mathrm{°R}\\right)}  }\\\\\n",
       "    &= 1145.8\\ \\mathrm{°R}\n",
       "\\end{align}\n",
       "\n",
       "#### 2nd Law\n",
       "Use the 2nd Law to solve for the entropy generation.\n",
       "\\begin{align}\n",
       "  \\dot{S}_{gen} &=   \\dot{m}  \\cdot  \\left(   c_{p}  \\cdot  \\mathrm{ log }\\left( \\frac{ {T}_{ 2 } }{ {T}_{ 1 } } \\right)  -  R  \\cdot  \\mathrm{ log }\\left( \\frac{ {p}_{ 2 } }{ {p}_{ 1 } } \\right)   \\right)  \\\\\n",
       "    &=  224.72\\ \\frac{\\mathrm{lb}}{\\mathrm{min}}  \\cdot  \\left(   0.23998\\ \\frac{\\mathrm{Btu}}{\\left(\\mathrm{lb} \\cdot \\mathrm{°R}\\right)}  \\cdot  \\mathrm{ log }\\left( \\frac{ 1145.8\\ \\mathrm{°R} }{ 529.67\\ \\mathrm{°R} } \\right)  -  0.068561\\ \\frac{\\mathrm{Btu}}{\\left(\\mathrm{lb} \\cdot \\mathrm{°R}\\right)}  \\cdot  \\mathrm{ log }\\left( \\frac{ 147.0\\ \\mathrm{psi} }{ 14.7\\ \\mathrm{psi} } \\right)   \\right) \\\\\n",
       "    &= 6.136\\ \\frac{\\mathrm{Btu}}{\\left(\\mathrm{min} \\cdot \\mathrm{°R}\\right)}\n",
       "\\end{align}\n",
       "\n"
      ],
      "text/plain": [
       "<IPython.core.display.Markdown object>"
      ]
     },
     "execution_count": 21,
     "metadata": {
     },
     "output_type": "execute_result"
    }
   ],
   "source": [
    "%%showcalc\n",
    "\"#### Exit temperature\"\n",
    "\"The exit state of the real device is fixed by two independent, intensive properties: the exit pressure and the exit enthalpy (or the exit temperature in this case because we are assuming constant specific heat). Applying a first law to the device with the work we calculated above lets us find the exit temperature of the real device.\"\n",
    "T[2] = T[1].to('degR') + Wdot_c/(mdot*c_p)\n",
    "\n",
    "\"#### 2nd Law\"\n",
    "\"Use the 2nd Law to solve for the entropy generation.\"\n",
    "Sdot_gen = (mdot*(c_p*log(T[2]/T[1]) - R*log(p[2]/p[1]))).to('Btu/min/degR')"
   ]
  },
  {
   "cell_type": "code",
   "execution_count": 0,
   "metadata": {
    "collapsed": false
   },
   "outputs": [
   ],
   "source": [
   ]
  },
  {
   "cell_type": "markdown",
   "metadata": {
    "collapsed": false
   },
   "source": [
    "### (c) Reversible work"
   ]
  },
  {
   "cell_type": "code",
   "execution_count": 30,
   "metadata": {
    "collapsed": false,
    "jupyter": {
    }
   },
   "outputs": [
    {
     "data": {
      "text/markdown": [
       "The reversible work is the amount of work required (or produced) for the same changes in state with no entropy generation. In this case, we are analyzing a work consuming device, so it would take less work to achieve the same result with a perfect device than with a real device. There are multiple ways to find the reversible work for a process. Here we will take the actual work, $\\dot{W_c}$, and subtract off the *Lost Work* or *Exergy Destruction* to find the minimum amount of work needed to achieve the desired result.\n",
       "\\begin{align}\n",
       "  \\dot{W}_{Rev} &=   \\dot{W}_{c} -  {T}_{ 0 }  \\cdot  \\dot{S}_{gen}   \\\\\n",
       "    &=  783.55\\ \\mathrm{hp} -  529.67\\ \\mathrm{°R}  \\cdot  6.136\\ \\frac{\\mathrm{Btu}}{\\left(\\mathrm{min} \\cdot \\mathrm{°R}\\right)}  \\\\\n",
       "    &= 706.91\\ \\mathrm{hp}\n",
       "\\end{align}\n",
       "\n",
       "**Note: this is not the same as the isentropic work we calculated earlier because this is for a device exhausting to the actual exit state, not the theoretical isentropic exit state we used in parts (a) and (b)**\n"
      ],
      "text/plain": [
       "<IPython.core.display.Markdown object>"
      ]
     },
     "execution_count": 30,
     "metadata": {
     },
     "output_type": "execute_result"
    }
   ],
   "source": [
    "%%showcalc\n",
    "\"The reversible work is the amount of work required (or produced) for the same changes in state with no entropy generation. In this case, we are analyzing a work consuming device, so it would take less work to achieve the same result with a perfect device than with a real device. There are multiple ways to find the reversible work for a process. Here we will take the actual work, $\\dot{W_c}$, and subtract off the *Lost Work* or *Exergy Destruction* to find the minimum amount of work needed to achieve the desired result.\"\n",
    "Wdot_Rev = Wdot_c - T[0].to('degR')*Sdot_gen\n",
    "\"**Note: this is not the same as the isentropic work we calculated earlier because this is for a device exhausting to the actual exit state, not the theoretical isentropic exit state we used in parts (a) and (b)**\""
   ]
  },
  {
   "cell_type": "markdown",
   "metadata": {
    "collapsed": false
   },
   "source": [
    "### (d) Second Law Efficiency"
   ]
  },
  {
   "cell_type": "code",
   "execution_count": 33,
   "metadata": {
    "collapsed": false,
    "jupyter": {
    }
   },
   "outputs": [
    {
     "data": {
      "text/markdown": [
       "#### Flow exergies\n",
       "The working fluid some amount of stored potential to do work at the inlet, $\\psi_1$, and a different amount at the exit, $\\psi_2$\n",
       "\\begin{align}\n",
       "  {\\psi}_{ 1 } &=    c_{p}  \\cdot  \\left(  {T}_{ 1 } - {T}_{ 0 }  \\right)  -  {T}_{ 0 }  \\cdot  \\left(   c_{p}  \\cdot  \\mathrm{ log }\\left( \\frac{ {T}_{ 1 } }{ {T}_{ 0 } } \\right)  -  R  \\cdot  \\mathrm{ log }\\left( \\frac{ {p}_{ 1 } }{ {p}_{ 0 } } \\right)   \\right)   \\\\\n",
       "    &=   0.23998\\ \\frac{\\mathrm{Btu}}{\\left(\\mathrm{lb} \\cdot \\mathrm{°R}\\right)}  \\cdot  \\left(  529.67\\ \\mathrm{°R} - 529.67\\ \\mathrm{°R}  \\right)  -  529.67\\ \\mathrm{°R}  \\cdot  \\left(   0.23998\\ \\frac{\\mathrm{Btu}}{\\left(\\mathrm{lb} \\cdot \\mathrm{°R}\\right)}  \\cdot  \\mathrm{ log }\\left( \\frac{ 529.67\\ \\mathrm{°R} }{ 529.67\\ \\mathrm{°R} } \\right)  -  0.068561\\ \\frac{\\mathrm{Btu}}{\\left(\\mathrm{lb} \\cdot \\mathrm{°R}\\right)}  \\cdot  \\mathrm{ log }\\left( \\frac{ 14.7\\ \\mathrm{psi} }{ 14.696\\ \\mathrm{psi} } \\right)   \\right)  \\\\\n",
       "    &= 0.01001\\ \\frac{\\mathrm{Btu}}{\\mathrm{lb}}\n",
       "\\end{align}\n",
       "\n",
       "\\begin{align}\n",
       "  {\\psi}_{ 2 } &=    c_{p}  \\cdot  \\left(  {T}_{ 2 } - {T}_{ 0 }  \\right)  -  {T}_{ 0 }  \\cdot  \\left(   c_{p}  \\cdot  \\mathrm{ log }\\left( \\frac{ {T}_{ 2 } }{ {T}_{ 0 } } \\right)  -  R  \\cdot  \\mathrm{ log }\\left( \\frac{ {p}_{ 2 } }{ {p}_{ 0 } } \\right)   \\right)   \\\\\n",
       "    &=   0.23998\\ \\frac{\\mathrm{Btu}}{\\left(\\mathrm{lb} \\cdot \\mathrm{°R}\\right)}  \\cdot  \\left(  1145.8\\ \\mathrm{°R} - 529.67\\ \\mathrm{°R}  \\right)  -  529.67\\ \\mathrm{°R}  \\cdot  \\left(   0.23998\\ \\frac{\\mathrm{Btu}}{\\left(\\mathrm{lb} \\cdot \\mathrm{°R}\\right)}  \\cdot  \\mathrm{ log }\\left( \\frac{ 1145.8\\ \\mathrm{°R} }{ 529.67\\ \\mathrm{°R} } \\right)  -  0.068561\\ \\frac{\\mathrm{Btu}}{\\left(\\mathrm{lb} \\cdot \\mathrm{°R}\\right)}  \\cdot  \\mathrm{ log }\\left( \\frac{ 147.0\\ \\mathrm{psi} }{ 14.696\\ \\mathrm{psi} } \\right)   \\right)  \\\\\n",
       "    &= 133.41\\ \\frac{\\mathrm{Btu}}{\\mathrm{lb}}\n",
       "\\end{align}\n",
       "\n",
       "#### Exergy recovered\n",
       "In this case, the fluid has more potential to do work at the exit than at the inlet, so the fluid increased in exergy and we will call that increase the *Exergy Recovered*\n",
       "\\begin{align}\n",
       "  \\dot{X}_{Recovered} &=   \\dot{m}  \\cdot  \\left(  {\\psi}_{ 2 } - {\\psi}_{ 1 }  \\right)  \\\\\n",
       "    &=  224.72\\ \\frac{\\mathrm{lb}}{\\mathrm{min}}  \\cdot  \\left(  133.41\\ \\frac{\\mathrm{Btu}}{\\mathrm{lb}} - 0.01001\\ \\frac{\\mathrm{Btu}}{\\mathrm{lb}}  \\right) \\\\\n",
       "    &= 706.91\\ \\mathrm{hp}\n",
       "\\end{align}\n",
       "\n",
       "**Note: for this work consuming device, the *Exergy Recovered* is equal to the *Reversible Work* **\n",
       "#### Exergy expended\n",
       "The *Exergy Expended* is the potential that we gave up to drive the process. In this case, we used work to run the compressor (rather than using that work for some other purpose). Therefore the *Exergy Expended* is the compressor work.\n",
       "\\begin{align}\n",
       "  \\dot{X}_{Expended} &=  \\dot{W}_{c}  = 783.55\\ \\mathrm{hp} \n",
       "\\end{align}\n",
       "\n",
       "#### 2nd Law efficiency\n",
       "The second law efficency is defined as the *Exergy Recovered* divided by the *Exergy Expended*\n",
       "\\begin{align}\n",
       "  \\eta_{II} &=  \\frac{ \\dot{X}_{Recovered} }{ \\dot{X}_{Expended} } \\\\\n",
       "    &= \\frac{ 706.91\\ \\mathrm{hp} }{ 783.55\\ \\mathrm{hp} }\\\\\n",
       "    &= 0.90219\n",
       "\\end{align}\n",
       "\n"
      ],
      "text/plain": [
       "<IPython.core.display.Markdown object>"
      ]
     },
     "execution_count": 33,
     "metadata": {
     },
     "output_type": "execute_result"
    }
   ],
   "source": [
    "%%showcalc\n",
    "\"#### Flow exergies\"\n",
    "\"The working fluid some amount of stored potential to do work at the inlet, $\\psi_1$, and a different amount at the exit, $\\psi_2$\"\n",
    "psi[1] = c_p*(T[1]-T[0]) - T[0]*(c_p*log(T[1]/T[0]) - R*log(p[1]/p[0]))\n",
    "psi[2] = c_p*(T[2]-T[0]) - T[0]*(c_p*log(T[2]/T[0]) - R*log(p[2]/p[0]))\n",
    "\n",
    "\"#### Exergy recovered\"\n",
    "\"In this case, the fluid has more potential to do work at the exit than at the inlet, so the fluid increased in exergy and we will call that increase the *Exergy Recovered*\"\n",
    "Xdot_Recovered =  (mdot*(psi[2]-psi[1])).to('hp')\n",
    "\"**Note: for this work consuming device, the *Exergy Recovered* is equal to the *Reversible Work* **\"\n",
    "\n",
    "\"#### Exergy expended\"\n",
    "\"The *Exergy Expended* is the potential that we gave up to drive the process. In this case, we used work to run the compressor (rather than using that work for some other purpose). Therefore the *Exergy Expended* is the compressor work.\"\n",
    "Xdot_Expended = Wdot_c\n",
    "\n",
    "\"#### 2nd Law efficiency\"\n",
    "\"The second law efficency is defined as the *Exergy Recovered* divided by the *Exergy Expended*\"\n",
    "eta_II = Xdot_Recovered/Xdot_Expended"
   ]
  },
  {
   "cell_type": "code",
   "execution_count": 29,
   "metadata": {
    "collapsed": false,
    "jupyter": {
    }
   },
   "outputs": [
    {
     "data": {
      "text/markdown": [
       "#### 2nd Law efficiency: Alternate Method\n",
       "We can also rearrange the second law efficiency equation to obtain the alternate form shown below: $$\\dot{X}_{Expended}=\\dot{X}_{Recovered}+\\dot{X}_{Destroyed}$$ $$\\eta_{II}=\\frac{\\dot{X}_{Expended}-\\dot{X}_{Destroyed}}{\\dot{X}_{Expended}}=1-\\frac{\\dot{X}_{Destroyed}}{\\dot{X}_{Expended}}$$\n",
       "\\begin{align}\n",
       "  \\eta_{II,Alt} &=   1 - \\frac{  {T}_{ 0 }  \\cdot  \\dot{S}_{gen}  }{ \\dot{X}_{Expended} }  \\\\\n",
       "    &=  1 - \\frac{  529.67\\ \\mathrm{°R}  \\cdot  6.136\\ \\frac{\\mathrm{Btu}}{\\left(\\mathrm{min} \\cdot \\mathrm{°R}\\right)}  }{ 783.55\\ \\mathrm{hp} } \\\\\n",
       "    &= 0.90219\n",
       "\\end{align}\n",
       "\n"
      ],
      "text/plain": [
       "<IPython.core.display.Markdown object>"
      ]
     },
     "execution_count": 29,
     "metadata": {
     },
     "output_type": "execute_result"
    }
   ],
   "source": [
    "%%showcalc\n",
    "\"#### 2nd Law efficiency: Alternate Method\"\n",
    "r\"We can also rearrange the second law efficiency equation to obtain the alternate form shown below: $$\\dot{X}_{Expended}=\\dot{X}_{Recovered}+\\dot{X}_{Destroyed}$$ $$\\eta_{II}=\\frac{\\dot{X}_{Expended}-\\dot{X}_{Destroyed}}{\\dot{X}_{Expended}}=1-\\frac{\\dot{X}_{Destroyed}}{\\dot{X}_{Expended}}$$\"\n",
    "eta_II_Alt = 1 - T[0]*Sdot_gen/Xdot_Expended"
   ]
  },
  {
   "cell_type": "code",
   "execution_count": 31,
   "metadata": {
    "collapsed": false,
    "jupyter": {
    }
   },
   "outputs": [
    {
     "data": {
      "text/latex": [
       "\\begin{align}{ R }&={ 0.068561\\ \\frac{\\mathrm{Btu}}{\\left(\\mathrm{lb} \\cdot \\mathrm{°R}\\right)} }&{ \\dot{S}_{gen} }&={ 6.136\\ \\frac{\\mathrm{Btu}}{\\left(\\mathrm{min} \\cdot \\mathrm{°R}\\right)} }&{ T_{room} }&={ 25\\ \\mathrm{°C} }\\\\{ \\dot{W}_{Rev} }&={ 706.91\\ \\mathrm{hp} }&{ \\dot{W}_{c} }&={ 783.55\\ \\mathrm{hp} }&{ \\dot{W}_{c,s} }&={ 626.84\\ \\mathrm{hp} }\\\\{ \\dot{X}_{Expended} }&={ 783.55\\ \\mathrm{hp} }&{ \\dot{X}_{Recovered} }&={ 706.91\\ \\mathrm{hp} }&{ c_{p} }&={ 0.23998\\ \\frac{\\mathrm{Btu}}{\\left(\\mathrm{lb} \\cdot \\mathrm{°R}\\right)} }\\\\{ \\eta_{II} }&={ 0.90219 }&{ \\eta_{II,Alt} }&={ 0.90219 }&{ \\eta_{c} }&={ 0.8 }\\\\{ k }&={ 1.4 }&{ \\dot{m} }&={ 224.72\\ \\frac{\\mathrm{lb}}{\\mathrm{min}} }&{  }\\end{align}"
      ],
      "text/plain": [
       "<IPython.core.display.Latex object>"
      ]
     },
     "execution_count": 31,
     "metadata": {
     },
     "output_type": "execute_result"
    },
    {
     "data": {
      "text/html": [
       "<table border=\"1\" class=\"dataframe\">\n",
       "  <thead>\n",
       "    <tr style=\"text-align: right;\">\n",
       "      <th></th>\n",
       "      <th>$T$ [°R]</th>\n",
       "      <th>$p$ [psi]</th>\n",
       "      <th>$\\dot{V}$ [m³/s]</th>\n",
       "      <th>$\\psi$ [Btu/lb]</th>\n",
       "    </tr>\n",
       "  </thead>\n",
       "  <tbody>\n",
       "    <tr>\n",
       "      <th>0</th>\n",
       "      <td>529.670000</td>\n",
       "      <td>14.695949</td>\n",
       "      <td>-</td>\n",
       "      <td>-</td>\n",
       "    </tr>\n",
       "    <tr>\n",
       "      <th>1</th>\n",
       "      <td>529.670000</td>\n",
       "      <td>14.700000</td>\n",
       "      <td>1.415842</td>\n",
       "      <td>0.01001</td>\n",
       "    </tr>\n",
       "    <tr>\n",
       "      <th>2</th>\n",
       "      <td>1145.834991</td>\n",
       "      <td>147.000000</td>\n",
       "      <td>-</td>\n",
       "      <td>133.411841</td>\n",
       "    </tr>\n",
       "    <tr>\n",
       "      <th>2s</th>\n",
       "      <td>1022.601993</td>\n",
       "      <td>147.000000</td>\n",
       "      <td>-</td>\n",
       "      <td>-</td>\n",
       "    </tr>\n",
       "  </tbody>\n",
       "</table>"
      ],
      "text/plain": [
       "<IPython.core.display.HTML object>"
      ]
     },
     "execution_count": 31,
     "metadata": {
     },
     "output_type": "execute_result"
    },
    {
     "data": {
      "text/latex": [
       "\\begin{align}{ \\dot{W}_{c} }&={ 783.55\\ \\mathrm{hp} }\\\\{ \\dot{S}_{gen} }&={ 6.136\\ \\frac{\\mathrm{Btu}}{\\left(\\mathrm{min} \\cdot \\mathrm{°R}\\right)} }\\\\{ \\dot{W}_{Rev} }&={ 706.91\\ \\mathrm{hp} }\\\\{ \\eta_{II} }&={ 0.90219 }\\end{align}"
      ],
      "text/plain": [
       "<IPython.core.display.Latex object>"
      ]
     },
     "execution_count": 31,
     "metadata": {
     },
     "output_type": "execute_result"
    }
   ],
   "source": [
    "Summary();\n",
    "Summary(['Wdot_c','Sdot_gen','Wdot_Rev','eta_II']);"
   ]
  },
  {
   "cell_type": "code",
   "execution_count": 36,
   "metadata": {
    "collapsed": false
   },
   "outputs": [
    {
     "name": "stdout",
     "output_type": "stream",
     "text": [
      "[NbConvertApp] Converting notebook Ex8.2 Compressor Second Law Efficiency.ipynb to html_embed\r\n"
     ]
    },
    {
     "name": "stdout",
     "output_type": "stream",
     "text": [
      "[NbConvertApp] Writing 597621 bytes to Ex8.2 Compressor Second Law Efficiency.html\r\n"
     ]
    }
   ],
   "source": [
    "# Export your solution to submit to Canvas\n",
    "# 1) Ensure all cells above show your final solution\n",
    "# 2) Click the 'Save' button in the toolbar\n",
    "# 3) Uncomment (remove the #) from the last line in this cell\n",
    "# 4) Ensure the filename in the command below matches the filename of this notebook\n",
    "# 4) Execute this cell to create an HTML file showing only the output \n",
    "# 5) Submit the .html file located in the folder with this notebook\n",
    "\n",
    "!jupyter nbconvert --to html_embed --no-input --no-prompt \"Ex8.2 Compressor Second Law Efficiency.ipynb\""
   ]
  }
 ],
 "metadata": {
  "kernelspec": {
   "argv": [
    "/usr/bin/python3",
    "-m",
    "ipykernel",
    "--HistoryManager.enabled=False",
    "--matplotlib=inline",
    "-c",
    "%config InlineBackend.figure_formats = set(['retina'])\nimport matplotlib; matplotlib.rcParams['figure.figsize'] = (12, 7)",
    "-f",
    "{connection_file}"
   ],
   "display_name": "Python 3 (system-wide)",
   "env": {
   },
   "language": "python",
   "metadata": {
    "cocalc": {
     "description": "Python 3 programming language",
     "priority": 100,
     "url": "https://www.python.org/"
    }
   },
   "name": "python3",
   "resource_dir": "/ext/jupyter/kernels/python3"
  },
  "language_info": {
   "codemirror_mode": {
    "name": "ipython",
    "version": 3
   },
   "file_extension": ".py",
   "mimetype": "text/x-python",
   "name": "python",
   "nbconvert_exporter": "python",
   "pygments_lexer": "ipython3",
   "version": "3.10.12"
  }
 },
 "nbformat": 4,
 "nbformat_minor": 4
}