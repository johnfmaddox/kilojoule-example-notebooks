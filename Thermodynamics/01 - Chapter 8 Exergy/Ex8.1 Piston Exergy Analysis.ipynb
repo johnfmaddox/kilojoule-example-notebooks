{
 "cells": [
  {
   "cell_type": "markdown",
   "metadata": {
    "collapsed": false
   },
   "source": [
    "# Example 8.1: Piston Exergy Analysis\n",
    "\n",
    "_John F. Maddox, Ph.D., P.E.<br>\n",
    "University of Kentucky - Paducah Campus<br>\n",
    "ME 321: Engineering Thermodynamics II<br>_"
   ]
  },
  {
   "cell_type": "markdown",
   "metadata": {
    "collapsed": false
   },
   "source": [
    "## Problem Statement\n",
    "\n",
    "The piston cylinder shown below is initially at a state of $T_1=60^\\circ\\text{C}$, $P_1=200\\,\\text{kPa}$. Heat is added to the system from a $500^\\circ\\text{C}$ reservoir until the final pressure is $400\\,\\text{kPa}$. The mass of the air is $2\\,\\text{kg}$, the spring constant is $1000\\,\\text{kN/m}$, and the cross sectional area of the piston is $A_p=0.1\\,\\mathrm{m^2}$. The piston moves $0.1\\,\\text{m}$ before contacting the linear spring.\n",
    "\n",
    "- (a) How much work is done by the air in the cylinder?\n",
    "- (b) How much heat transfer took place?\n",
    "- (c) What is the entropy generation, $S_{gen}$?\n",
    "- (d) Sketch and label a $T$-$s$ diagram of the air.\n",
    "- (e) How much exergy is stored in the system at the and at the end of the process\n",
    "- (f) What is the change in exergy for the process?\n",
    "- (g) How much exergy was destroyed during the process?\n",
    "- (f) What is the second law efficiency of the process, $\\eta_{II}$?"
   ]
  },
  {
   "cell_type": "markdown",
   "metadata": {
    "collapsed": false
   },
   "source": [
    "## Solution\n",
    "\n",
    "**[Video Explanation](https://uky.yuja.com/V/Video?v=3071305&node=10458695&a=1201605425&autoplay=1)**"
   ]
  },
  {
   "cell_type": "markdown",
   "metadata": {
    "collapsed": false
   },
   "source": [
    "### Python Initialization\n",
    "\n",
    "We'll start by importing the libraries we will use for our analysis and initializing dictionaries to hold the properties we will be usings."
   ]
  },
  {
   "cell_type": "code",
   "execution_count": 1,
   "metadata": {
    "collapsed": false,
    "jupyter": {
    }
   },
   "outputs": [
   ],
   "source": [
    "from kilojoule.templates.kSI_C import *\n",
    "\n",
    "air = idealgas.Properties('Air')"
   ]
  },
  {
   "cell_type": "markdown",
   "metadata": {
    "collapsed": false
   },
   "source": [
    "### Given Parameters\n",
    "\n",
    "We now define variables to hold our known values."
   ]
  },
  {
   "cell_type": "code",
   "execution_count": 2,
   "metadata": {
    "collapsed": false,
    "jupyter": {
    }
   },
   "outputs": [
    {
     "data": {
      "text/latex": [
       "\\begin{align}{ A_{p} }&={ 0.1\\ \\mathrm{m}^{2} }&{ \\Delta{}x }&={ 0.1\\ \\mathrm{m} }&{ T_{R} }&={ 500\\ \\mathrm{°C} }\\\\{ k }&={ 1000\\ \\frac{\\mathrm{kN}}{\\mathrm{m}} }&{ m }&={ 2\\ \\mathrm{kg} }&{ p_{final} }&={ 400\\ \\mathrm{kPa} }\\end{align}"
      ],
      "text/plain": [
       "<IPython.core.display.Latex object>"
      ]
     },
     "execution_count": 2,
     "metadata": {
     },
     "output_type": "execute_result"
    },
    {
     "data": {
      "text/html": [
       "<table border=\"1\" class=\"dataframe\">\n",
       "  <thead>\n",
       "    <tr style=\"text-align: right;\">\n",
       "      <th></th>\n",
       "      <th>$T$ [°C]</th>\n",
       "      <th>$p$ [kPa]</th>\n",
       "    </tr>\n",
       "  </thead>\n",
       "  <tbody>\n",
       "    <tr>\n",
       "      <th>0</th>\n",
       "      <td>20</td>\n",
       "      <td>100.0</td>\n",
       "    </tr>\n",
       "    <tr>\n",
       "      <th>1</th>\n",
       "      <td>60</td>\n",
       "      <td>200.0</td>\n",
       "    </tr>\n",
       "  </tbody>\n",
       "</table>"
      ],
      "text/plain": [
       "<IPython.core.display.HTML object>"
      ]
     },
     "execution_count": 2,
     "metadata": {
     },
     "output_type": "execute_result"
    }
   ],
   "source": [
    "T[0] = Quantity(20, 'degC')  # dead state temperature\n",
    "p[0] = Quantity(1, 'bar')  # dead state pressure\n",
    "T[1] = Quantity(60, 'degC')  # initial temperature\n",
    "p[1] = Quantity(200, 'kPa')  # initial pressure\n",
    "p_final = Quantity(400, 'kPa')  # final pressure\n",
    "A_p = Quantity(0.1, 'm^2')  # piston area\n",
    "Delta_x = Quantity(0.1, 'm')  # distance between initial state and spring\n",
    "m = Quantity(2, 'kg')  # mass\n",
    "T_R = Quantity(500, 'degC')  # temperature of heat reservoir\n",
    "k = Quantity(1000, 'kN/m')  # spring constant\n",
    "\n",
    "Summary();"
   ]
  },
  {
   "cell_type": "markdown",
   "metadata": {
    "collapsed": false
   },
   "source": [
    "### Assumptions\n",
    "\n",
    "- Negligible changes in kinetic energy\n",
    "- Negligible changes in potential energy\n",
    "- Isobaric from $1\\to2$\n",
    "- Spring restrained from $2\\to3$\n",
    "- Treat air as ideal gas"
   ]
  },
  {
   "cell_type": "code",
   "execution_count": 3,
   "metadata": {
    "collapsed": false,
    "jupyter": {
    }
   },
   "outputs": [
    {
     "data": {
      "text/latex": [
       "\\begin{align}\n",
       "  {p}_{  2  } &=  {p}_{  1  }  = 200\\ \\mathrm{kPa} \n",
       "\\end{align}\n"
      ],
      "text/plain": [
       "<IPython.core.display.Latex object>"
      ]
     },
     "execution_count": 3,
     "metadata": {
     },
     "output_type": "execute_result"
    },
    {
     "data": {
      "text/latex": [
       "\\begin{align}\n",
       "  {p}_{  3  } &=  p_{final}  = 400\\ \\mathrm{kPa} \n",
       "\\end{align}\n"
      ],
      "text/plain": [
       "<IPython.core.display.Latex object>"
      ]
     },
     "execution_count": 3,
     "metadata": {
     },
     "output_type": "execute_result"
    },
    {
     "data": {
      "text/latex": [
       "\\begin{align}\n",
       "  R &=  \\underset{ air }{ R }  = 0.28705\\ \\frac{\\mathrm{kJ}}{\\left(\\mathrm{K} \\cdot \\mathrm{kg}\\right)} \n",
       "\\end{align}\n"
      ],
      "text/plain": [
       "<IPython.core.display.Latex object>"
      ]
     },
     "execution_count": 3,
     "metadata": {
     },
     "output_type": "execute_result"
    }
   ],
   "source": [
    "%%showcalc\n",
    "p[2] = p[1]\n",
    "p[3] = p_final\n",
    "R = air.R"
   ]
  },
  {
   "cell_type": "markdown",
   "metadata": {
    "collapsed": false
   },
   "source": [
    "### (a) How much work is done by the air in the cylinder?\n",
    "\n",
    "Since we are treating air as in ideal gas and we know both the temperature and the pressure at state 1, we can determine the specific volume at state 1. To do this we can either solve the ideal gas law for $v$ or we can use the `air` property tables we imported above."
   ]
  },
  {
   "cell_type": "code",
   "execution_count": 5,
   "metadata": {
    "collapsed": false,
    "jupyter": {
    }
   },
   "outputs": [
    {
     "data": {
      "text/latex": [
       "\\begin{align}\n",
       "  v_{tables} &=  \\mathrm{ \\underset{ air }{ v } }\\left( {T}_{  1  }, {p}_{  1  } \\right)  = \\mathrm{ \\underset{ air }{ v } }\\left( 60\\ \\mathrm{°C}, 200\\ \\mathrm{kPa} \\right) = 0.47816\\ \\frac{\\mathrm{m}^{3}}{\\mathrm{kg}}\n",
       "\\end{align}\n"
      ],
      "text/plain": [
       "<IPython.core.display.Latex object>"
      ]
     },
     "execution_count": 5,
     "metadata": {
     },
     "output_type": "execute_result"
    },
    {
     "data": {
      "text/latex": [
       "\\begin{align}\n",
       "  v_{ig} &=  \\frac{  R  \\cdot  {T}_{  1  }  }{ {p}_{  1  } } \\\\\n",
       "    &= \\frac{  0.28705\\ \\frac{\\mathrm{kJ}}{\\left(\\mathrm{K} \\cdot \\mathrm{kg}\\right)}  \\cdot  60\\ \\mathrm{°C}  }{ 200\\ \\mathrm{kPa} }\\\\\n",
       "    &= 0.47816\\ \\frac{\\mathrm{m}^{3}}{\\mathrm{kg}}\n",
       "\\end{align}\n"
      ],
      "text/plain": [
       "<IPython.core.display.Latex object>"
      ]
     },
     "execution_count": 5,
     "metadata": {
     },
     "output_type": "execute_result"
    },
    {
     "data": {
      "text/latex": [
       "\\begin{align}\n",
       "  {v}_{  1  } &=  v_{ig}  = 0.47816\\ \\frac{\\mathrm{m}^{3}}{\\mathrm{kg}} \n",
       "\\end{align}\n"
      ],
      "text/plain": [
       "<IPython.core.display.Latex object>"
      ]
     },
     "execution_count": 5,
     "metadata": {
     },
     "output_type": "execute_result"
    }
   ],
   "source": [
    "%%showcalc\n",
    "v_tables = air.v(T[1], p[1])\n",
    "v_ig = (R * T[1].to('K') / p[1]).to('m^3/kg')\n",
    "v[1] = v_ig"
   ]
  },
  {
   "cell_type": "markdown",
   "metadata": {
    "collapsed": false
   },
   "source": [
    "The initial volume can then be found with the mass and the specific volume"
   ]
  },
  {
   "cell_type": "code",
   "execution_count": 6,
   "metadata": {
    "collapsed": false,
    "jupyter": {
    }
   },
   "outputs": [
    {
     "data": {
      "text/latex": [
       "\\begin{align}\n",
       "  {Vol}_{  1  } &=   m  \\cdot  {v}_{  1  }  \\\\\n",
       "    &=  2\\ \\mathrm{kg}  \\cdot  0.47816\\ \\frac{\\mathrm{m}^{3}}{\\mathrm{kg}} \\\\\n",
       "    &= 0.95632\\ \\mathrm{m}^{3}\n",
       "\\end{align}\n"
      ],
      "text/plain": [
       "<IPython.core.display.Latex object>"
      ]
     },
     "execution_count": 6,
     "metadata": {
     },
     "output_type": "execute_result"
    }
   ],
   "source": [
    "%%showcalc\n",
    "Vol[1] = m * v[1]"
   ]
  },
  {
   "cell_type": "markdown",
   "metadata": {
    "collapsed": false
   },
   "source": [
    "The change in volume for 1 to 2 due to the expansion of the fluid can be calculated with the cross-sectional area of the piston and the space between the piston and the spring"
   ]
  },
  {
   "cell_type": "code",
   "execution_count": 7,
   "metadata": {
    "collapsed": false,
    "jupyter": {
    }
   },
   "outputs": [
    {
     "data": {
      "text/latex": [
       "\\begin{align}\n",
       "  {Vol}_{  2  } &=  {Vol}_{  1  } +  \\Delta{}x  \\cdot  A_{p}  \\\\\n",
       "    &= 0.95632\\ \\mathrm{m}^{3} +  0.1\\ \\mathrm{m}  \\cdot  0.1\\ \\mathrm{m}^{2} \\\\\n",
       "    &= 0.96632\\ \\mathrm{m}^{3}\n",
       "\\end{align}\n"
      ],
      "text/plain": [
       "<IPython.core.display.Latex object>"
      ]
     },
     "execution_count": 7,
     "metadata": {
     },
     "output_type": "execute_result"
    }
   ],
   "source": [
    "%%showcalc\n",
    "Vol[2] = Vol[1] + Delta_x * A_p"
   ]
  },
  {
   "cell_type": "markdown",
   "metadata": {
    "collapsed": false
   },
   "source": [
    "The process from 1 to 2 is isobaric so the boundary work, $W_{1\\to2}=\\int_1^2p\\ dv$, can be evaluated by pulling the pressure (constant) out of the integral"
   ]
  },
  {
   "cell_type": "code",
   "execution_count": 8,
   "metadata": {
    "collapsed": false,
    "jupyter": {
    }
   },
   "outputs": [
    {
     "data": {
      "text/latex": [
       "\\begin{align}\n",
       "  W_{1\\to{}2} &=   {p}_{  1  }  \\cdot  \\left(  {Vol}_{  2  } - {Vol}_{  1  }  \\right)  \\\\\n",
       "    &=  200\\ \\mathrm{kPa}  \\cdot  \\left(  0.96632\\ \\mathrm{m}^{3} - 0.95632\\ \\mathrm{m}^{3}  \\right) \\\\\n",
       "    &= 2.0\\ \\mathrm{kJ}\n",
       "\\end{align}\n"
      ],
      "text/plain": [
       "<IPython.core.display.Latex object>"
      ]
     },
     "execution_count": 8,
     "metadata": {
     },
     "output_type": "execute_result"
    }
   ],
   "source": [
    "%%showcalc\n",
    "W_1_to_2 = (p[1] * (Vol[2] - Vol[1])).to('kJ')"
   ]
  },
  {
   "cell_type": "markdown",
   "metadata": {
    "collapsed": false
   },
   "source": [
    "The spring must provide enough force to support the change in pressure. So the spring relations can be used to determine the necessary change in volume by solving the following equation for $\\Delta V$\n",
    "$$\\Delta p=\\frac{k}{A^2}\\Delta V$$"
   ]
  },
  {
   "cell_type": "code",
   "execution_count": 9,
   "metadata": {
    "collapsed": false,
    "jupyter": {
    }
   },
   "outputs": [
    {
     "data": {
      "text/latex": [
       "\\begin{align}\n",
       "  {Vol}_{  3  } &=  {Vol}_{  2  } + \\frac{  \\left(  {p}_{  3  } - {p}_{  2  }  \\right)  \\cdot  {A_{p}}^{2}  }{ k } \\\\\n",
       "    &= 0.96632\\ \\mathrm{m}^{3} + \\frac{  \\left(  400\\ \\mathrm{kPa} - 200\\ \\mathrm{kPa}  \\right)  \\cdot  {\\left(0.1\\ \\mathrm{m}^{2} \\right)}^{2}  }{ 1000\\ \\frac{\\mathrm{kN}}{\\mathrm{m}} }\\\\\n",
       "    &= 0.96832\\ \\mathrm{m}^{3}\n",
       "\\end{align}\n"
      ],
      "text/plain": [
       "<IPython.core.display.Latex object>"
      ]
     },
     "execution_count": 9,
     "metadata": {
     },
     "output_type": "execute_result"
    }
   ],
   "source": [
    "%%showcalc\n",
    "Vol[3] = Vol[2] + (p[3] - p[2]) * A_p**2 / k"
   ]
  },
  {
   "cell_type": "markdown",
   "metadata": {
    "collapsed": false
   },
   "source": [
    "The work from 2 to 3 is most easily calculated by looking at the area under the curve on the $p$-$V$ diagram. Recall that the pressure varies linearly with the change in volume for a piston in contact with an ideal spring"
   ]
  },
  {
   "cell_type": "code",
   "execution_count": 10,
   "metadata": {
    "collapsed": false,
    "jupyter": {
    }
   },
   "outputs": [
    {
     "data": {
      "text/latex": [
       "\\begin{align}\n",
       "  W_{2\\to{}3} &=   \\frac{ {p}_{  3  } + {p}_{  2  } }{ 2 }  \\cdot  \\left(  {Vol}_{  3  } - {Vol}_{  2  }  \\right)  \\\\\n",
       "    &=  \\frac{ 400\\ \\mathrm{kPa} + 200\\ \\mathrm{kPa} }{ 2 }  \\cdot  \\left(  0.96832\\ \\mathrm{m}^{3} - 0.96632\\ \\mathrm{m}^{3}  \\right) \\\\\n",
       "    &= 0.6\\ \\mathrm{kJ}\n",
       "\\end{align}\n"
      ],
      "text/plain": [
       "<IPython.core.display.Latex object>"
      ]
     },
     "execution_count": 10,
     "metadata": {
     },
     "output_type": "execute_result"
    }
   ],
   "source": [
    "%%showcalc\n",
    "W_2_to_3 = ((p[3] + p[2]) / 2 * (Vol[3] - Vol[2])).to('kJ')"
   ]
  },
  {
   "cell_type": "markdown",
   "metadata": {
    "collapsed": false
   },
   "source": [
    "The total work is then the summation the two processes"
   ]
  },
  {
   "cell_type": "code",
   "execution_count": 11,
   "metadata": {
    "collapsed": false,
    "jupyter": {
    }
   },
   "outputs": [
    {
     "data": {
      "text/markdown": [
       "Work from 1 $\to$ 3"
      ],
      "text/plain": [
       "<IPython.core.display.Markdown object>"
      ]
     },
     "execution_count": 11,
     "metadata": {
     },
     "output_type": "execute_result"
    },
    {
     "data": {
      "text/latex": [
       "\\begin{align}\n",
       "  W_{1\\to{}3} &=  W_{1\\to{}2} + W_{2\\to{}3} \\\\\n",
       "    &= 2.0\\ \\mathrm{kJ} + 0.6\\ \\mathrm{kJ}\\\\\n",
       "    &= 2.6\\ \\mathrm{kJ}\n",
       "\\end{align}\n"
      ],
      "text/plain": [
       "<IPython.core.display.Latex object>"
      ]
     },
     "execution_count": 11,
     "metadata": {
     },
     "output_type": "execute_result"
    },
    {
     "data": {
      "text/latex": [
       "\\begin{align}\n",
       "  W_{tot} &=  W_{1\\to{}3}  = 2.6\\ \\mathrm{kJ} \n",
       "\\end{align}\n"
      ],
      "text/plain": [
       "<IPython.core.display.Latex object>"
      ]
     },
     "execution_count": 11,
     "metadata": {
     },
     "output_type": "execute_result"
    }
   ],
   "source": [
    "%%showcalc\n",
    "\"Work from 1 $\\to$ 3\"\n",
    "W_1_to_3 = W_1_to_2 + W_2_to_3\n",
    "W_tot = W_1_to_3"
   ]
  },
  {
   "cell_type": "markdown",
   "metadata": {
    "collapsed": false
   },
   "source": [
    "#### (b) How much heat transfer took place?\n",
    "\n",
    "We need two independent properties at state 3. We know the pressure and we can find the specific volume from the mass and total volume"
   ]
  },
  {
   "cell_type": "code",
   "execution_count": 13,
   "metadata": {
    "collapsed": false,
    "jupyter": {
    }
   },
   "outputs": [
    {
     "data": {
      "text/latex": [
       "\\begin{align}\n",
       "  {v}_{  3  } &=  \\frac{ {Vol}_{  3  } }{ m } \\\\\n",
       "    &= \\frac{ 0.96832\\ \\mathrm{m}^{3} }{ 2\\ \\mathrm{kg} }\\\\\n",
       "    &= 0.48416\\ \\frac{\\mathrm{m}^{3}}{\\mathrm{kg}}\n",
       "\\end{align}\n"
      ],
      "text/plain": [
       "<IPython.core.display.Latex object>"
      ]
     },
     "execution_count": 13,
     "metadata": {
     },
     "output_type": "execute_result"
    }
   ],
   "source": [
    "%%showcalc\n",
    "v[3] = Vol[3] / m"
   ]
  },
  {
   "cell_type": "markdown",
   "metadata": {
    "collapsed": false
   },
   "source": [
    "We now have enough information to look up the final temperature and the internal energy at the beginning and the end"
   ]
  },
  {
   "cell_type": "code",
   "execution_count": 16,
   "metadata": {
    "collapsed": false,
    "jupyter": {
    }
   },
   "outputs": [
    {
     "data": {
      "text/latex": [
       "\\begin{align}\n",
       "  {T}_{  3  } &=  \\mathrm{ \\underset{ air }{ T } }\\left( {p}_{  3  }, {v}_{  3  } \\right)  = \\mathrm{ \\underset{ air }{ T } }\\left( 400\\ \\mathrm{kPa}, 0.48416\\ \\frac{\\mathrm{m}^{3}}{\\mathrm{kg}} \\right) = 401.51\\ \\mathrm{°C}\n",
       "\\end{align}\n"
      ],
      "text/plain": [
       "<IPython.core.display.Latex object>"
      ]
     },
     "execution_count": 16,
     "metadata": {
     },
     "output_type": "execute_result"
    },
    {
     "data": {
      "text/latex": [
       "\\begin{align}\n",
       "  {u}_{  1  } &=  \\mathrm{ \\underset{ air }{ u } }\\left( {T}_{  1  }, {p}_{  1  } \\right)  = \\mathrm{ \\underset{ air }{ u } }\\left( 60\\ \\mathrm{°C}, 200\\ \\mathrm{kPa} \\right) = -64.692\\ \\frac{\\mathrm{kJ}}{\\mathrm{kg}}\n",
       "\\end{align}\n"
      ],
      "text/plain": [
       "<IPython.core.display.Latex object>"
      ]
     },
     "execution_count": 16,
     "metadata": {
     },
     "output_type": "execute_result"
    },
    {
     "data": {
      "text/latex": [
       "\\begin{align}\n",
       "  {u}_{  3  } &=  \\mathrm{ \\underset{ air }{ u } }\\left( {T}_{  3  }, {p}_{  3  } \\right)  = \\mathrm{ \\underset{ air }{ u } }\\left( 401.51\\ \\mathrm{°C}, 400\\ \\mathrm{kPa} \\right) = 190.04\\ \\frac{\\mathrm{kJ}}{\\mathrm{kg}}\n",
       "\\end{align}\n"
      ],
      "text/plain": [
       "<IPython.core.display.Latex object>"
      ]
     },
     "execution_count": 16,
     "metadata": {
     },
     "output_type": "execute_result"
    }
   ],
   "source": [
    "%%showcalc\n",
    "T[3] = air.T(p[3], v[3])\n",
    "u[1] = air.u(T[1], p[1])\n",
    "u[3] = air.u(T[3], p[3])"
   ]
  },
  {
   "cell_type": "markdown",
   "metadata": {
    "collapsed": false
   },
   "source": [
    "The first law can be applied from state 1 to state 3 to determine the total heat transfer for the process"
   ]
  },
  {
   "cell_type": "code",
   "execution_count": 19,
   "metadata": {
    "collapsed": false,
    "jupyter": {
    }
   },
   "outputs": [
    {
     "data": {
      "text/markdown": [
       "1st Law"
      ],
      "text/plain": [
       "<IPython.core.display.Markdown object>"
      ]
     },
     "execution_count": 19,
     "metadata": {
     },
     "output_type": "execute_result"
    },
    {
     "data": {
      "text/latex": [
       "\\begin{align}\n",
       "  Q_{1\\to{}3} &=   m  \\cdot  \\left(  {u}_{  3  } - {u}_{  1  }  \\right)  + W_{1\\to{}3} \\\\\n",
       "    &=  2\\ \\mathrm{kg}  \\cdot  \\left(  190.04\\ \\frac{\\mathrm{kJ}}{\\mathrm{kg}} - \\left( -64.692\\ \\frac{\\mathrm{kJ}}{\\mathrm{kg}} \\right)  \\right)  + 2.6\\ \\mathrm{kJ}\\\\\n",
       "    &= 512.06\\ \\mathrm{kJ}\n",
       "\\end{align}\n"
      ],
      "text/plain": [
       "<IPython.core.display.Latex object>"
      ]
     },
     "execution_count": 19,
     "metadata": {
     },
     "output_type": "execute_result"
    }
   ],
   "source": [
    "%%showcalc\n",
    "\"1st Law\"\n",
    "Q_1_to_3 = m * (u[3] - u[1]) + W_1_to_3"
   ]
  },
  {
   "cell_type": "markdown",
   "metadata": {
    "collapsed": false
   },
   "source": [
    "#### (c) What is the entropy generation, $S_{gen}$?\n",
    "\n",
    "To apply the 2nd law from 1 to 3, we will need the specific entropies, which we can look up with the same two independent intensive properties as the other properties"
   ]
  },
  {
   "cell_type": "code",
   "execution_count": 17,
   "metadata": {
    "collapsed": false,
    "jupyter": {
    }
   },
   "outputs": [
    {
     "data": {
      "text/markdown": [
       "Entropies from property tables"
      ],
      "text/plain": [
       "<IPython.core.display.Markdown object>"
      ]
     },
     "execution_count": 17,
     "metadata": {
     },
     "output_type": "execute_result"
    },
    {
     "data": {
      "text/latex": [
       "\\begin{align}\n",
       "  {s}_{  1  } &=  \\mathrm{ \\underset{ air }{ s } }\\left( {T}_{  1  }, {p}_{  1  } \\right)  = \\mathrm{ \\underset{ air }{ s } }\\left( 60\\ \\mathrm{°C}, 200\\ \\mathrm{kPa} \\right) = 6.6142\\ \\frac{\\mathrm{kJ}}{\\left(\\mathrm{K} \\cdot \\mathrm{kg}\\right)}\n",
       "\\end{align}\n"
      ],
      "text/plain": [
       "<IPython.core.display.Latex object>"
      ]
     },
     "execution_count": 17,
     "metadata": {
     },
     "output_type": "execute_result"
    },
    {
     "data": {
      "text/latex": [
       "\\begin{align}\n",
       "  {s}_{  3  } &=  \\mathrm{ \\underset{ air }{ s } }\\left( {T}_{  3  }, {p}_{  3  } \\right)  = \\mathrm{ \\underset{ air }{ s } }\\left( 401.51\\ \\mathrm{°C}, 400\\ \\mathrm{kPa} \\right) = 7.1416\\ \\frac{\\mathrm{kJ}}{\\left(\\mathrm{K} \\cdot \\mathrm{kg}\\right)}\n",
       "\\end{align}\n"
      ],
      "text/plain": [
       "<IPython.core.display.Latex object>"
      ]
     },
     "execution_count": 17,
     "metadata": {
     },
     "output_type": "execute_result"
    }
   ],
   "source": [
    "%%showcalc\n",
    "\"Entropies from property tables\"\n",
    "s[1] = air.s(T[1], p[1])\n",
    "s[3] = air.s(T[3], p[3])"
   ]
  },
  {
   "cell_type": "markdown",
   "metadata": {
    "collapsed": false
   },
   "source": [
    "The 2nd law can then be solved for the entropy generation."
   ]
  },
  {
   "cell_type": "code",
   "execution_count": 22,
   "metadata": {
    "collapsed": false,
    "jupyter": {
    }
   },
   "outputs": [
    {
     "data": {
      "text/markdown": [
       "2nd Law"
      ],
      "text/plain": [
       "<IPython.core.display.Markdown object>"
      ]
     },
     "execution_count": 22,
     "metadata": {
     },
     "output_type": "execute_result"
    },
    {
     "data": {
      "text/latex": [
       "\\begin{align}\n",
       "  S_{gen} &=    m  \\cdot  \\left(  {s}_{  3  } - {s}_{  1  }  \\right)  - \\frac{ Q_{1\\to{}3} }{ T_{R} }  \\\\\n",
       "    &=   2\\ \\mathrm{kg}  \\cdot  \\left(  7.1416\\ \\frac{\\mathrm{kJ}}{\\left(\\mathrm{K} \\cdot \\mathrm{kg}\\right)} - 6.6142\\ \\frac{\\mathrm{kJ}}{\\left(\\mathrm{K} \\cdot \\mathrm{kg}\\right)}  \\right)  - \\frac{ 512.06\\ \\mathrm{kJ} }{ 500\\ \\mathrm{°C} } \\\\\n",
       "    &= 0.3925\\ \\frac{\\mathrm{kJ}}{\\mathrm{K}}\n",
       "\\end{align}\n"
      ],
      "text/plain": [
       "<IPython.core.display.Latex object>"
      ]
     },
     "execution_count": 22,
     "metadata": {
     },
     "output_type": "execute_result"
    }
   ],
   "source": [
    "%%showcalc\n",
    "\"2nd Law\"\n",
    "S_gen = m * (s[3] - s[1]) - Q_1_to_3 / T_R.to('K')"
   ]
  },
  {
   "cell_type": "markdown",
   "metadata": {
    "collapsed": false
   },
   "source": [
    "#### (d) Sketch a $T$-$s$ diagram of the air"
   ]
  },
  {
   "cell_type": "code",
   "execution_count": 25,
   "metadata": {
    "collapsed": false,
    "jupyter": {
    }
   },
   "outputs": [
    {
     "data": {
      "image/png": "[encoded data removed]",
      "text/plain": [
       "<Figure size 1200x800 with 1 Axes>"
      ]
     },
     "execution_count": 25,
     "metadata": {
      "image/png": {
       "height": 662,
       "width": 999
      }
     },
     "output_type": "execute_result"
    }
   ],
   "source": [
    "# Still need to find T[2] and s[2]\n",
    "v[2] = Vol[2] / m\n",
    "T[2] = air.T(p[2], v[2])\n",
    "s[2] = air.s(p[2], v[2])\n",
    "\n",
    "# Plot T-s diagram\n",
    "Ts = air.Ts_diagram(unit_system='SI_K')\n",
    "Ts.plot_state(states[1])\n",
    "Ts.plot_state(states[2])\n",
    "Ts.plot_state(states[3])\n",
    "Ts.plot_process(states[1], states[2], path='isobaric')\n",
    "Ts.plot_process(states[2], states[3], path='unknown');"
   ]
  },
  {
   "cell_type": "markdown",
   "metadata": {
    "collapsed": false
   },
   "source": [
    "We can also visualize the process on a $p$-$v$ diagram"
   ]
  },
  {
   "cell_type": "code",
   "execution_count": 26,
   "metadata": {
    "collapsed": false,
    "jupyter": {
    }
   },
   "outputs": [
    {
     "data": {
      "image/png": "[encoded data removed]",
      "text/plain": [
       "<Figure size 1200x800 with 1 Axes>"
      ]
     },
     "execution_count": 26,
     "metadata": {
      "image/png": {
       "height": 662,
       "width": 1022
      }
     },
     "output_type": "execute_result"
    }
   ],
   "source": [
    "# Plot p-v diagram\n",
    "pv = air.pv_diagram(unit_system='SI_K')\n",
    "pv.plot_state(states[1])\n",
    "pv.plot_state(states[2], label_loc='north west')\n",
    "pv.plot_state(states[3])\n",
    "pv.plot_process(states[1], states[2], path='isobaric')\n",
    "pv.plot_process(states[2], states[3], path='straight');"
   ]
  },
  {
   "cell_type": "markdown",
   "metadata": {
    "collapsed": false
   },
   "source": [
    "#### (e) How much exergy is stored in the system at the end of the process?\n",
    "\n",
    "The dead state properties are the properties the fluid would have if it were allowed to reach equilibrium with the surroundings, i.e. $T_0$ and $p_0$"
   ]
  },
  {
   "cell_type": "code",
   "execution_count": 22,
   "metadata": {
    "collapsed": false,
    "jupyter": {
    }
   },
   "outputs": [
    {
     "data": {
      "text/latex": [
       "\\begin{align}\n",
       "  {v}_{  0  } &=  \\mathrm{ \\underset{ air }{ v } }\\left( {T}_{  0  }, {p}_{  0  } \\right)  = \\mathrm{ \\underset{ air }{ v } }\\left( 20\\ \\mathrm{°C}, 100.0\\ \\mathrm{kPa} \\right) = 0.84149\\ \\frac{\\mathrm{m}^{3}}{\\mathrm{kg}}\n",
       "\\end{align}\n"
      ],
      "text/plain": [
       "<IPython.core.display.Latex object>"
      ]
     },
     "execution_count": 22,
     "metadata": {
     },
     "output_type": "execute_result"
    },
    {
     "data": {
      "text/latex": [
       "\\begin{align}\n",
       "  {Vol}_{  0  } &=   m  \\cdot  {v}_{  0  }  \\\\\n",
       "    &=  2\\ \\mathrm{kg}  \\cdot  0.84149\\ \\frac{\\mathrm{m}^{3}}{\\mathrm{kg}} \\\\\n",
       "    &= 1.683\\ \\mathrm{m}^{3}\n",
       "\\end{align}\n"
      ],
      "text/plain": [
       "<IPython.core.display.Latex object>"
      ]
     },
     "execution_count": 22,
     "metadata": {
     },
     "output_type": "execute_result"
    },
    {
     "data": {
      "text/latex": [
       "\\begin{align}\n",
       "  {u}_{  0  } &=  \\mathrm{ \\underset{ air }{ u } }\\left( {T}_{  0  }, {p}_{  0  } \\right)  = \\mathrm{ \\underset{ air }{ u } }\\left( 20\\ \\mathrm{°C}, 100.0\\ \\mathrm{kPa} \\right) = -93.438\\ \\frac{\\mathrm{kJ}}{\\mathrm{kg}}\n",
       "\\end{align}\n"
      ],
      "text/plain": [
       "<IPython.core.display.Latex object>"
      ]
     },
     "execution_count": 22,
     "metadata": {
     },
     "output_type": "execute_result"
    },
    {
     "data": {
      "text/latex": [
       "\\begin{align}\n",
       "  {s}_{  0  } &=  \\mathrm{ \\underset{ air }{ s } }\\left( {T}_{  0  }, {p}_{  0  } \\right)  = \\mathrm{ \\underset{ air }{ s } }\\left( 20\\ \\mathrm{°C}, 100.0\\ \\mathrm{kPa} \\right) = 6.6845\\ \\frac{\\mathrm{kJ}}{\\left(\\mathrm{K} \\cdot \\mathrm{kg}\\right)}\n",
       "\\end{align}\n"
      ],
      "text/plain": [
       "<IPython.core.display.Latex object>"
      ]
     },
     "execution_count": 22,
     "metadata": {
     },
     "output_type": "execute_result"
    }
   ],
   "source": [
    "%%showcalc\n",
    "v[0] = air.v(T[0], p[0])\n",
    "Vol[0] = m * v[0]\n",
    "u[0] = air.u(T[0], p[0])\n",
    "s[0] = air.s(T[0], p[0])"
   ]
  },
  {
   "cell_type": "markdown",
   "metadata": {
    "collapsed": false
   },
   "source": [
    "The exergy at state 3 is then defined as the potential for the fluid to do work relative to the dead state"
   ]
  },
  {
   "cell_type": "code",
   "execution_count": 23,
   "metadata": {
    "collapsed": false,
    "jupyter": {
    }
   },
   "outputs": [
    {
     "data": {
      "text/markdown": [
       " Exergy at 3"
      ],
      "text/plain": [
       "<IPython.core.display.Markdown object>"
      ]
     },
     "execution_count": 23,
     "metadata": {
     },
     "output_type": "execute_result"
    },
    {
     "data": {
      "text/latex": [
       "\\begin{align}\n",
       "  {X}_{  3  } &=    m  \\cdot  \\left(  {u}_{  3  } - {u}_{  0  }  \\right)  +  {p}_{  0  }  \\cdot  \\left(  {Vol}_{  3  } - {Vol}_{  0  }  \\right)  -   {T}_{  0  }  \\cdot  m   \\cdot  \\left(  {s}_{  3  } - {s}_{  0  }  \\right)   \\\\\n",
       "    &=   2\\ \\mathrm{kg}  \\cdot  \\left(  190.04\\ \\frac{\\mathrm{kJ}}{\\mathrm{kg}} - \\left( -93.438\\ \\frac{\\mathrm{kJ}}{\\mathrm{kg}} \\right)  \\right)  +  100.0\\ \\mathrm{kPa}  \\cdot  \\left(  0.96832\\ \\mathrm{m}^{3} - 1.683\\ \\mathrm{m}^{3}  \\right)  -   20\\ \\mathrm{°C}  \\cdot  2\\ \\mathrm{kg}   \\cdot  \\left(  7.1416\\ \\frac{\\mathrm{kJ}}{\\left(\\mathrm{K} \\cdot \\mathrm{kg}\\right)} - 6.6845\\ \\frac{\\mathrm{kJ}}{\\left(\\mathrm{K} \\cdot \\mathrm{kg}\\right)}  \\right)  \\\\\n",
       "    &= 227.51\\ \\mathrm{kJ}\n",
       "\\end{align}\n"
      ],
      "text/plain": [
       "<IPython.core.display.Latex object>"
      ]
     },
     "execution_count": 23,
     "metadata": {
     },
     "output_type": "execute_result"
    }
   ],
   "source": [
    "%%showcalc\n",
    "\"Exergy at 3\"\n",
    "X[3] = m * (u[3] - u[0]) + p[0] * (Vol[3] - Vol[0]) - T[0].to('K') * m * (s[3] - s[0])"
   ]
  },
  {
   "cell_type": "markdown",
   "metadata": {
    "collapsed": false
   },
   "source": [
    "#### (f) What is the change in exergy for the process\n",
    "\n",
    "We can use the same method to caluclate the exergy at the beginning of the process"
   ]
  },
  {
   "cell_type": "code",
   "execution_count": 25,
   "metadata": {
    "collapsed": false,
    "jupyter": {
    }
   },
   "outputs": [
    {
     "data": {
      "text/markdown": [
       " Exergy at 1"
      ],
      "text/plain": [
       "<IPython.core.display.Markdown object>"
      ]
     },
     "execution_count": 25,
     "metadata": {
     },
     "output_type": "execute_result"
    },
    {
     "data": {
      "text/latex": [
       "\\begin{align}\n",
       "  {X}_{  1  } &=    m  \\cdot  \\left(  {u}_{  1  } - {u}_{  0  }  \\right)  +  {p}_{  0  }  \\cdot  \\left(  {Vol}_{  1  } - {Vol}_{  0  }  \\right)  -   {T}_{  0  }  \\cdot  m   \\cdot  \\left(  {s}_{  1  } - {s}_{  0  }  \\right)   \\\\\n",
       "    &=   2\\ \\mathrm{kg}  \\cdot  \\left(  -64.692\\ \\frac{\\mathrm{kJ}}{\\mathrm{kg}} - \\left( -93.438\\ \\frac{\\mathrm{kJ}}{\\mathrm{kg}} \\right)  \\right)  +  100.0\\ \\mathrm{kPa}  \\cdot  \\left(  0.95632\\ \\mathrm{m}^{3} - 1.683\\ \\mathrm{m}^{3}  \\right)  -   20\\ \\mathrm{°C}  \\cdot  2\\ \\mathrm{kg}   \\cdot  \\left(  6.6142\\ \\frac{\\mathrm{kJ}}{\\left(\\mathrm{K} \\cdot \\mathrm{kg}\\right)} - 6.6845\\ \\frac{\\mathrm{kJ}}{\\left(\\mathrm{K} \\cdot \\mathrm{kg}\\right)}  \\right)  \\\\\n",
       "    &= 26.062\\ \\mathrm{kJ}\n",
       "\\end{align}\n"
      ],
      "text/plain": [
       "<IPython.core.display.Latex object>"
      ]
     },
     "execution_count": 25,
     "metadata": {
     },
     "output_type": "execute_result"
    }
   ],
   "source": [
    "%%showcalc\n",
    "\"Exergy at 1\"\n",
    "X[1] = m * (u[1] - u[0]) + p[0] * (Vol[1] - Vol[0]) - T[0].to('K') * m * (s[1] - s[0])"
   ]
  },
  {
   "cell_type": "markdown",
   "metadata": {
    "collapsed": false
   },
   "source": [
    "Then the change in exergy of the process is simply the difference between the two states"
   ]
  },
  {
   "cell_type": "code",
   "execution_count": 27,
   "metadata": {
    "collapsed": false,
    "jupyter": {
    }
   },
   "outputs": [
    {
     "data": {
      "text/markdown": [
       " Change in Exergy"
      ],
      "text/plain": [
       "<IPython.core.display.Markdown object>"
      ]
     },
     "execution_count": 27,
     "metadata": {
     },
     "output_type": "execute_result"
    },
    {
     "data": {
      "text/latex": [
       "\\begin{align}\n",
       "  \\Delta{}X_{1\\to{}3} &=   {X}_{  3  } - {X}_{  1  }  \\\\\n",
       "    &=  227.51\\ \\mathrm{kJ} - 26.062\\ \\mathrm{kJ} \\\\\n",
       "    &= 201.45\\ \\mathrm{kJ}\n",
       "\\end{align}\n"
      ],
      "text/plain": [
       "<IPython.core.display.Latex object>"
      ]
     },
     "execution_count": 27,
     "metadata": {
     },
     "output_type": "execute_result"
    }
   ],
   "source": [
    "%%showcalc\n",
    "\"Change in Exergy\"\n",
    "Delta_X_1_to_3 = X[3] - X[1]"
   ]
  },
  {
   "cell_type": "markdown",
   "metadata": {
    "collapsed": false
   },
   "source": [
    "#### (g) How much exergy was destroyed during the process?\n",
    "\n",
    "The exergy destruction can always be calculated as $T_0\\cdot S_{gen}$"
   ]
  },
  {
   "cell_type": "code",
   "execution_count": 28,
   "metadata": {
    "collapsed": false,
    "jupyter": {
    }
   },
   "outputs": [
    {
     "data": {
      "text/markdown": [
       " Exergy destruction"
      ],
      "text/plain": [
       "<IPython.core.display.Markdown object>"
      ]
     },
     "execution_count": 28,
     "metadata": {
     },
     "output_type": "execute_result"
    },
    {
     "data": {
      "text/latex": [
       "\\begin{align}\n",
       "  X_{d} &=   {T}_{  0  }  \\cdot  S_{gen}  \\\\\n",
       "    &=  20\\ \\mathrm{°C}  \\cdot  0.3925\\ \\frac{\\mathrm{kJ}}{\\mathrm{K}} \\\\\n",
       "    &= 115.06\\ \\mathrm{kJ}\n",
       "\\end{align}\n"
      ],
      "text/plain": [
       "<IPython.core.display.Latex object>"
      ]
     },
     "execution_count": 28,
     "metadata": {
     },
     "output_type": "execute_result"
    }
   ],
   "source": [
    "%%showcalc\n",
    "\"Exergy destruction\"\n",
    "X_d = T[0].to('K') * S_gen"
   ]
  },
  {
   "cell_type": "markdown",
   "metadata": {
    "collapsed": false
   },
   "source": [
    "#### (f) Second Law Efficiency\n",
    "\n",
    "The second law efficiency is defined as the ratio of the recovered exergy to the expended exergy,\n",
    "\\[\\eta*{II} = \\frac{X*{recovered}}{X*{expended}}=1-\\frac{X*{destroyed}}{X\\_{expended}}\\]\n",
    "We already know the exergy destruction, so we just need to find the expended exergy.\n",
    "\n",
    "In this case, the heat that was transferred to the system from the hot reservoir could have been used for some other purpose, such as to power a heat engine. So the expended exergy for this process is the decrease in potential of the reservoir. Since we are treating the reservoir as being constant temperature, we can't calculate a change in property of the reservoir, but we can calculate the amount of exergy the left the reservior through heat transfer."
   ]
  },
  {
   "cell_type": "code",
   "execution_count": 29,
   "metadata": {
    "collapsed": false,
    "jupyter": {
    }
   },
   "outputs": [
    {
     "data": {
      "text/markdown": [
       " Exergy expended is due to heat transfer from the high temperature reservoir"
      ],
      "text/plain": [
       "<IPython.core.display.Markdown object>"
      ]
     },
     "execution_count": 29,
     "metadata": {
     },
     "output_type": "execute_result"
    },
    {
     "data": {
      "text/latex": [
       "\\begin{align}\n",
       "  X_{exp} &=   \\left(  1 - \\frac{ {T}_{  0  } }{ T_{R} }  \\right)  \\cdot  Q_{1\\to{}3}  \\\\\n",
       "    &=  \\left(  1 - \\frac{ 20\\ \\mathrm{°C} }{ 500\\ \\mathrm{°C} }  \\right)  \\cdot  512.06\\ \\mathrm{kJ} \\\\\n",
       "    &= 317.91\\ \\mathrm{kJ}\n",
       "\\end{align}\n"
      ],
      "text/plain": [
       "<IPython.core.display.Latex object>"
      ]
     },
     "execution_count": 29,
     "metadata": {
     },
     "output_type": "execute_result"
    }
   ],
   "source": [
    "%%showcalc\n",
    "\"Exergy expended is due to heat transfer from the high temperature reservoir\"\n",
    "X_exp = (1 - T[0].to('K') / T_R.to('K')) * Q_1_to_3"
   ]
  },
  {
   "cell_type": "markdown",
   "metadata": {
    "collapsed": false
   },
   "source": [
    "Finally then second law efficiency can be calculated"
   ]
  },
  {
   "cell_type": "code",
   "execution_count": 30,
   "metadata": {
    "collapsed": false,
    "jupyter": {
    },
    "scrolled": true
   },
   "outputs": [
    {
     "data": {
      "text/markdown": [
       " Second Law Efficiency"
      ],
      "text/plain": [
       "<IPython.core.display.Markdown object>"
      ]
     },
     "execution_count": 30,
     "metadata": {
     },
     "output_type": "execute_result"
    },
    {
     "data": {
      "text/latex": [
       "\\begin{align}\n",
       "  \\eta_{II} &=   1 - \\frac{ X_{d} }{ X_{exp} }  \\\\\n",
       "    &=  1 - \\frac{ 115.06\\ \\mathrm{kJ} }{ 317.91\\ \\mathrm{kJ} } \\\\\n",
       "    &= 0.63807\n",
       "\\end{align}\n"
      ],
      "text/plain": [
       "<IPython.core.display.Latex object>"
      ]
     },
     "execution_count": 30,
     "metadata": {
     },
     "output_type": "execute_result"
    }
   ],
   "source": [
    "%%showcalc\n",
    "\"Second Law Efficiency\"\n",
    "eta_II = 1 - X_d / X_exp"
   ]
  },
  {
   "cell_type": "markdown",
   "metadata": {
    "collapsed": false
   },
   "source": [
    "#### Summary of Results"
   ]
  },
  {
   "cell_type": "code",
   "execution_count": 31,
   "metadata": {
    "collapsed": false,
    "jupyter": {
    }
   },
   "outputs": [
    {
     "data": {
      "text/latex": [
       "\\begin{align}{ A_{p} }&={ 0.1\\ \\mathrm{m}^{2} }&{ \\Delta{}X_{1\\to{}3} }&={ 201.45\\ \\mathrm{kJ} }&{ \\Delta{}x }&={ 0.1\\ \\mathrm{m} }\\\\{ Q_{1\\to{}3} }&={ 512.06\\ \\mathrm{kJ} }&{ R }&={ 0.28705\\ \\frac{\\mathrm{kJ}}{\\left(\\mathrm{K} \\cdot \\mathrm{kg}\\right)} }&{ S_{gen} }&={ 0.3925\\ \\frac{\\mathrm{kJ}}{\\mathrm{K}} }\\\\{ T_{R} }&={ 500\\ \\mathrm{°C} }&{ W_{1\\to{}2} }&={ 2.0\\ \\mathrm{kJ} }&{ W_{1\\to{}3} }&={ 2.6\\ \\mathrm{kJ} }\\\\{ W_{2\\to{}3} }&={ 0.6\\ \\mathrm{kJ} }&{ W_{tot} }&={ 2.6\\ \\mathrm{kJ} }&{ X_{d} }&={ 115.06\\ \\mathrm{kJ} }\\\\{ X_{exp} }&={ 317.91\\ \\mathrm{kJ} }&{ \\eta_{II} }&={ 0.63807 }&{ k }&={ 1000\\ \\frac{\\mathrm{kN}}{\\mathrm{m}} }\\\\{ m }&={ 2\\ \\mathrm{kg} }&{ p_{final} }&={ 400\\ \\mathrm{kPa} }&{ v_{ig} }&={ 0.47816\\ \\frac{\\mathrm{kJ}}{\\left(\\mathrm{kPa} \\cdot \\mathrm{kg}\\right)} }\\\\{ v_{tables} }&={ 0.47816\\ \\frac{\\mathrm{m}^{3}}{\\mathrm{kg}} }&{  }\\end{align}"
      ],
      "text/plain": [
       "<IPython.core.display.Latex object>"
      ]
     },
     "execution_count": 31,
     "metadata": {
     },
     "output_type": "execute_result"
    },
    {
     "data": {
      "text/html": [
       "<table border=\"1\" class=\"dataframe\">\n",
       "  <thead>\n",
       "    <tr style=\"text-align: right;\">\n",
       "      <th></th>\n",
       "      <th>$T$ [°C]</th>\n",
       "      <th>$p$ [kPa]</th>\n",
       "      <th>$v$ [m³/kg]</th>\n",
       "      <th>$u$ [kJ/kg]</th>\n",
       "      <th>$s$ [kJ/K/kg]</th>\n",
       "      <th>$Vol$ [m³]</th>\n",
       "      <th>$X$ [kJ]</th>\n",
       "    </tr>\n",
       "  </thead>\n",
       "  <tbody>\n",
       "    <tr>\n",
       "      <th>0</th>\n",
       "      <td>20.000000</td>\n",
       "      <td>100.0</td>\n",
       "      <td>0.841495</td>\n",
       "      <td>-93.438436</td>\n",
       "      <td>6.684497</td>\n",
       "      <td>1.682990</td>\n",
       "      <td>-</td>\n",
       "    </tr>\n",
       "    <tr>\n",
       "      <th>1</th>\n",
       "      <td>60.000000</td>\n",
       "      <td>200.0</td>\n",
       "      <td>0.478158</td>\n",
       "      <td>-64.692359</td>\n",
       "      <td>6.614162</td>\n",
       "      <td>0.956316</td>\n",
       "      <td>26.062372</td>\n",
       "    </tr>\n",
       "    <tr>\n",
       "      <th>2</th>\n",
       "      <td>63.483681</td>\n",
       "      <td>200.0</td>\n",
       "      <td>0.483158</td>\n",
       "      <td>-</td>\n",
       "      <td>6.624640</td>\n",
       "      <td>0.966316</td>\n",
       "      <td>-</td>\n",
       "    </tr>\n",
       "    <tr>\n",
       "      <th>3</th>\n",
       "      <td>401.510835</td>\n",
       "      <td>400.0</td>\n",
       "      <td>0.484158</td>\n",
       "      <td>190.039042</td>\n",
       "      <td>7.141566</td>\n",
       "      <td>0.968316</td>\n",
       "      <td>227.508477</td>\n",
       "    </tr>\n",
       "  </tbody>\n",
       "</table>"
      ],
      "text/plain": [
       "<IPython.core.display.HTML object>"
      ]
     },
     "execution_count": 31,
     "metadata": {
     },
     "output_type": "execute_result"
    }
   ],
   "source": [
    "Summary();"
   ]
  },
  {
   "cell_type": "code",
   "execution_count": 0,
   "metadata": {
    "collapsed": false
   },
   "outputs": [
   ],
   "source": [
    "# Export your solution to submit to Canvas\n",
    "# 1) Ensure all cells above show your final solution\n",
    "# 2) Click the 'Save' button in the toolbar\n",
    "# 3) Uncomment (remove the #) from the last line in this cell\n",
    "# 4) Ensure the filename in the command below matches the filename of this notebook\n",
    "# 4) Execute this cell to create an HTML file showing only the output \n",
    "# 5) Submit the .html file located in the folder with this notebook\n",
    "\n",
    "!jupyter nbconvert --to html_embed --no-prompt --no-input 'Ex8.1 Piston Exergy Analysis.ipynb' "
   ]
  }
 ],
 "metadata": {
  "kernelspec": {
   "argv": [
    "/usr/bin/python3",
    "-m",
    "ipykernel",
    "--HistoryManager.enabled=False",
    "--matplotlib=inline",
    "-c",
    "%config InlineBackend.figure_formats = set(['retina'])\nimport matplotlib; matplotlib.rcParams['figure.figsize'] = (12, 7)",
    "-f",
    "{connection_file}"
   ],
   "display_name": "Python 3 (system-wide)",
   "env": {
   },
   "language": "python",
   "metadata": {
    "cocalc": {
     "description": "Python 3 programming language",
     "priority": 100,
     "url": "https://www.python.org/"
    }
   },
   "name": "python3",
   "resource_dir": "/ext/jupyter/kernels/python3"
  },
  "language_info": {
   "codemirror_mode": {
    "name": "ipython",
    "version": 3
   },
   "file_extension": ".py",
   "mimetype": "text/x-python",
   "name": "python",
   "nbconvert_exporter": "python",
   "pygments_lexer": "ipython3",
   "version": "3.8.10"
  }
 },
 "nbformat": 4,
 "nbformat_minor": 4
}