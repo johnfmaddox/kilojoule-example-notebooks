{
 "cells": [
  {
   "cell_type": "markdown",
   "metadata": {
    "collapsed": false
   },
   "source": [
    "# Example 8.3: Heat Exchanger Exergy Analysis\n",
    "\n",
    "*John F. Maddox, Ph.D., P.E.<br>\n",
    "University of Kentucky - Paducah Campus<br>\n",
    "ME 321: Engineering Thermodynamics II<br>*\n",
    "\n",
    "\n"
   ]
  },
  {
   "cell_type": "markdown",
   "metadata": {
    "collapsed": false
   },
   "source": [
    "## Problem Statement\n",
    "A non-mixing heat exchanger is used to cool 20 kg/s of hot air from 500 K to 300 K using a supply of liquid water at $10^\\circ\\text{C}$.  The exit temperature of the water is $5^\\circ\\text{C}$ hotter than its inlet temperature.  The ambient temperature and pressure are $T_0=20^\\circ\\text{C}$ and $p_0=1\\,\\text{bar}$.\n",
    "\n",
    "Determine:\n",
    "* (a) The mass flow rate of the water, $\\text{kg/s}$\n",
    "* (b) The rate of heat transfer, $\\text{kW}$\n",
    "* (c) The entropy generation, $\\text{kW/K}$\n",
    "* (d) The exergy destruction, $\\text{kW}$\n",
    "* (e) The second law efficiency\n",
    "* (f) The second law efficiency if the cooling water entered at $20^\\circ\\text{C}$ instead of $10^\\circ\\text{C}$\n"
   ]
  },
  {
   "cell_type": "markdown",
   "metadata": {
    "collapsed": false
   },
   "source": [
    "## Solution\n",
    "\n",
    "__[Video Explanation](https://uky.yuja.com/V/Video?v=3074237&node=10465153&a=70764744&autoplay=1)__"
   ]
  },
  {
   "cell_type": "markdown",
   "metadata": {
    "collapsed": false
   },
   "source": [
    "### Python Initialization\n",
    "We'll start by importing the libraries we will use for our analysis and initializing dictionaries to hold the properties we will be usings."
   ]
  },
  {
   "cell_type": "code",
   "execution_count": 2,
   "metadata": {
    "collapsed": false,
    "jupyter": {
    }
   },
   "outputs": [
   ],
   "source": [
    "from kilojoule.templates.kSI_C import *\n",
    "air = idealgas.Properties('Air')\n",
    "water = realfluid.Properties('Water')"
   ]
  },
  {
   "cell_type": "markdown",
   "metadata": {
    "collapsed": false
   },
   "source": [
    "### Given Parameters\n",
    "We now define variables to hold our known values."
   ]
  },
  {
   "cell_type": "code",
   "execution_count": 3,
   "metadata": {
    "collapsed": false,
    "jupyter": {
    }
   },
   "outputs": [
    {
     "data": {
      "text/latex": [
       "\\begin{align}{  }\\end{align}"
      ],
      "text/plain": [
       "<IPython.core.display.Latex object>"
      ]
     },
     "execution_count": 3,
     "metadata": {
     },
     "output_type": "execute_result"
    },
    {
     "data": {
      "text/html": [
       "<table border=\"1\" class=\"dataframe\">\n",
       "  <thead>\n",
       "    <tr style=\"text-align: right;\">\n",
       "      <th></th>\n",
       "      <th>$T$ [°C]</th>\n",
       "      <th>$p$ [kPa]</th>\n",
       "      <th>$\\dot{m}$ [kg/s]</th>\n",
       "    </tr>\n",
       "  </thead>\n",
       "  <tbody>\n",
       "    <tr>\n",
       "      <th>0</th>\n",
       "      <td>20.00</td>\n",
       "      <td>100.0</td>\n",
       "      <td>-</td>\n",
       "    </tr>\n",
       "    <tr>\n",
       "      <th>1</th>\n",
       "      <td>226.85</td>\n",
       "      <td>100.0</td>\n",
       "      <td>20.0</td>\n",
       "    </tr>\n",
       "    <tr>\n",
       "      <th>2</th>\n",
       "      <td>26.85</td>\n",
       "      <td>100.0</td>\n",
       "      <td>20.0</td>\n",
       "    </tr>\n",
       "    <tr>\n",
       "      <th>3</th>\n",
       "      <td>10.00</td>\n",
       "      <td>100.0</td>\n",
       "      <td>-</td>\n",
       "    </tr>\n",
       "    <tr>\n",
       "      <th>4</th>\n",
       "      <td>15.00</td>\n",
       "      <td>100.0</td>\n",
       "      <td>-</td>\n",
       "    </tr>\n",
       "  </tbody>\n",
       "</table>"
      ],
      "text/plain": [
       "<IPython.core.display.HTML object>"
      ]
     },
     "execution_count": 3,
     "metadata": {
     },
     "output_type": "execute_result"
    }
   ],
   "source": [
    "T[0] = Quantity(20,'degC')\n",
    "p[0] = Quantity(1,'bar')\n",
    "T[1] = Quantity(500,'K')\n",
    "T[2] = Quantity(300,'K')\n",
    "T[3] = Quantity(10,'degC')\n",
    "T[4] = Quantity(15,'degC')\n",
    "mdot[1] = Quantity(20,'kg/s')\n",
    "mdot[2] = mdot[1]\n",
    "p[1] = p[0]\n",
    "p[2] = p[1]\n",
    "p[3] = p[0]\n",
    "p[4] = p[3]\n",
    "Summary();"
   ]
  },
  {
   "cell_type": "markdown",
   "metadata": {
    "collapsed": false
   },
   "source": [
    "### Assumptions\n",
    "  - Negligible changes in kinetic energy\n",
    "  - Negligible changes in potential energy"
   ]
  },
  {
   "cell_type": "markdown",
   "metadata": {
    "collapsed": false
   },
   "source": [
    "#### (a) mass flow rate of water"
   ]
  },
  {
   "cell_type": "code",
   "execution_count": 4,
   "metadata": {
    "collapsed": false,
    "jupyter": {
    }
   },
   "outputs": [
    {
     "data": {
      "text/markdown": [
       "Evaluate the enthalpies at each state"
      ],
      "text/plain": [
       "<IPython.core.display.Markdown object>"
      ]
     },
     "execution_count": 4,
     "metadata": {
     },
     "output_type": "execute_result"
    },
    {
     "data": {
      "text/latex": [
       "\\begin{align}\n",
       "  {h}_{  1  } &=  \\mathrm{ \\underset{ air }{ h } }\\left( {T}_{  1  }, {p}_{  1  } \\right)  = \\mathrm{ \\underset{ air }{ h } }\\left( 226.85\\ \\mathrm{°C}, 100.0\\ \\mathrm{kPa} \\right) = 200.64\\ \\frac{\\mathrm{kJ}}{\\mathrm{kg}}\n",
       "\\end{align}\n"
      ],
      "text/plain": [
       "<IPython.core.display.Latex object>"
      ]
     },
     "execution_count": 4,
     "metadata": {
     },
     "output_type": "execute_result"
    },
    {
     "data": {
      "text/latex": [
       "\\begin{align}\n",
       "  {h}_{  2  } &=  \\mathrm{ \\underset{ air }{ h } }\\left( {T}_{  2  }, {p}_{  2  } \\right)  = \\mathrm{ \\underset{ air }{ h } }\\left( 26.85\\ \\mathrm{°C}, 100.0\\ \\mathrm{kPa} \\right) = -2.4071\\ \\frac{\\mathrm{kJ}}{\\mathrm{kg}}\n",
       "\\end{align}\n"
      ],
      "text/plain": [
       "<IPython.core.display.Latex object>"
      ]
     },
     "execution_count": 4,
     "metadata": {
     },
     "output_type": "execute_result"
    },
    {
     "data": {
      "text/latex": [
       "\\begin{align}\n",
       "  {h}_{  3  } &=  \\mathrm{ \\underset{ water }{ h } }\\left( {T}_{  3  }, {p}_{  3  } \\right)  = \\mathrm{ \\underset{ water }{ h } }\\left( 10\\ \\mathrm{°C}, 100.0\\ \\mathrm{kPa} \\right) = 42.118\\ \\frac{\\mathrm{kJ}}{\\mathrm{kg}}\n",
       "\\end{align}\n"
      ],
      "text/plain": [
       "<IPython.core.display.Latex object>"
      ]
     },
     "execution_count": 4,
     "metadata": {
     },
     "output_type": "execute_result"
    },
    {
     "data": {
      "text/latex": [
       "\\begin{align}\n",
       "  {h}_{  4  } &=  \\mathrm{ \\underset{ water }{ h } }\\left( {T}_{  4  }, {p}_{  4  } \\right)  = \\mathrm{ \\underset{ water }{ h } }\\left( 15\\ \\mathrm{°C}, 100.0\\ \\mathrm{kPa} \\right) = 63.076\\ \\frac{\\mathrm{kJ}}{\\mathrm{kg}}\n",
       "\\end{align}\n"
      ],
      "text/plain": [
       "<IPython.core.display.Latex object>"
      ]
     },
     "execution_count": 4,
     "metadata": {
     },
     "output_type": "execute_result"
    },
    {
     "data": {
      "text/markdown": [
       "The First Law can be used can be used to determine the mass flow rate"
      ],
      "text/plain": [
       "<IPython.core.display.Markdown object>"
      ]
     },
     "execution_count": 4,
     "metadata": {
     },
     "output_type": "execute_result"
    },
    {
     "data": {
      "text/latex": [
       "\\begin{align}\n",
       "  {\\dot{m}}_{  3  } &=  \\frac{  {\\dot{m}}_{  1  }  \\cdot  \\left(  {h}_{  2  } - {h}_{  1  }  \\right)  }{  {h}_{  3  } - {h}_{  4  }  } \\\\\n",
       "    &= \\frac{  20\\ \\frac{\\mathrm{kg}}{\\mathrm{s}}  \\cdot  \\left(  -2.4071\\ \\frac{\\mathrm{kJ}}{\\mathrm{kg}} - 200.64\\ \\frac{\\mathrm{kJ}}{\\mathrm{kg}}  \\right)  }{  42.118\\ \\frac{\\mathrm{kJ}}{\\mathrm{kg}} - 63.076\\ \\frac{\\mathrm{kJ}}{\\mathrm{kg}}  }\\\\\n",
       "    &= 193.77\\ \\frac{\\mathrm{kg}}{\\mathrm{s}}\n",
       "\\end{align}\n"
      ],
      "text/plain": [
       "<IPython.core.display.Latex object>"
      ]
     },
     "execution_count": 4,
     "metadata": {
     },
     "output_type": "execute_result"
    },
    {
     "data": {
      "text/latex": [
       "\\begin{align}\n",
       "  {\\dot{m}}_{  4  } &=  {\\dot{m}}_{  1  }  = 20\\ \\frac{\\mathrm{kg}}{\\mathrm{s}} \n",
       "\\end{align}\n"
      ],
      "text/plain": [
       "<IPython.core.display.Latex object>"
      ]
     },
     "execution_count": 4,
     "metadata": {
     },
     "output_type": "execute_result"
    },
    {
     "data": {
      "text/latex": [
       "\\begin{align}\n",
       "  \\dot{m}_{water} &=  {\\dot{m}}_{  3  }  = 193.77\\ \\frac{\\mathrm{kg}}{\\mathrm{s}} \n",
       "\\end{align}\n"
      ],
      "text/plain": [
       "<IPython.core.display.Latex object>"
      ]
     },
     "execution_count": 4,
     "metadata": {
     },
     "output_type": "execute_result"
    }
   ],
   "source": [
    "%%showcalc\n",
    "\"Evaluate the enthalpies at each state\"\n",
    "h[1] = air.h(T[1],p[1])\n",
    "h[2] = air.h(T[2],p[2])\n",
    "h[3] = water.h(T[3],p[3])\n",
    "h[4] = water.h(T[4],p[4])\n",
    "\n",
    "\"The First Law can be used can be used to determine the mass flow rate\"\n",
    "mdot[3] = mdot[1]*(h[2]-h[1])/(h[3]-h[4])\n",
    "mdot[4] = mdot[1]\n",
    "mdot_water = mdot[3]"
   ]
  },
  {
   "cell_type": "markdown",
   "metadata": {
    "collapsed": false
   },
   "source": [
    "#### (b) rate of heat transfer"
   ]
  },
  {
   "cell_type": "code",
   "execution_count": 6,
   "metadata": {
    "collapsed": false,
    "jupyter": {
    }
   },
   "outputs": [
    {
     "data": {
      "text/markdown": [
       "In order to determine the amount of heat transfered between the streams, we can do a first law analysis for a control volume containing just one of the streams.  Here we do this for the air stream."
      ],
      "text/plain": [
       "<IPython.core.display.Markdown object>"
      ]
     },
     "execution_count": 6,
     "metadata": {
     },
     "output_type": "execute_result"
    },
    {
     "data": {
      "text/latex": [
       "\\begin{align}\n",
       "  \\dot{Q}_{1\\to{}2} &=    {\\dot{m}}_{  2  }  \\cdot  {h}_{  2  }  -  {\\dot{m}}_{  1  }  \\cdot  {h}_{  1  }   \\\\\n",
       "    &=   20\\ \\frac{\\mathrm{kg}}{\\mathrm{s}}  \\cdot  -2.4071\\ \\frac{\\mathrm{kJ}}{\\mathrm{kg}}  -  20\\ \\frac{\\mathrm{kg}}{\\mathrm{s}}  \\cdot  200.64\\ \\frac{\\mathrm{kJ}}{\\mathrm{kg}}  \\\\\n",
       "    &= -4061.0\\ \\frac{\\mathrm{kJ}}{\\mathrm{s}}\n",
       "\\end{align}\n"
      ],
      "text/plain": [
       "<IPython.core.display.Latex object>"
      ]
     },
     "execution_count": 6,
     "metadata": {
     },
     "output_type": "execute_result"
    },
    {
     "data": {
      "text/latex": [
       "\\begin{align}\n",
       "  \\dot{Q} &=   \\left| \\dot{Q}_{1\\to{}2} \\right|  =  \\left| -4061.0\\ \\frac{\\mathrm{kJ}}{\\mathrm{s}} \\right| = 4061.0\\ \\mathrm{kW}\n",
       "\\end{align}\n"
      ],
      "text/plain": [
       "<IPython.core.display.Latex object>"
      ]
     },
     "execution_count": 6,
     "metadata": {
     },
     "output_type": "execute_result"
    }
   ],
   "source": [
    "%%showcalc\n",
    "\"In order to determine the amount of heat transfered between the streams, we can do a first law analysis for a control volume containing just one of the streams.  Here we do this for the air stream.\"\n",
    "Qdot_1_to_2 = mdot[2]*h[2]- mdot[1]*h[1]\n",
    "Qdot = (abs(Qdot_1_to_2)).to('kW')"
   ]
  },
  {
   "cell_type": "markdown",
   "metadata": {
    "collapsed": false
   },
   "source": [
    "#### (c) entropy generation"
   ]
  },
  {
   "cell_type": "code",
   "execution_count": 8,
   "metadata": {
    "collapsed": false,
    "jupyter": {
    }
   },
   "outputs": [
    {
     "data": {
      "text/markdown": [
       "The specific entropies can also be evaluate using the known temperatures and pressures"
      ],
      "text/plain": [
       "<IPython.core.display.Markdown object>"
      ]
     },
     "execution_count": 8,
     "metadata": {
     },
     "output_type": "execute_result"
    },
    {
     "data": {
      "text/latex": [
       "\\begin{align}\n",
       "  {s}_{  1  } &=  \\mathrm{ \\underset{ air }{ s } }\\left( {T}_{  1  }, {p}_{  1  } \\right)  = \\mathrm{ \\underset{ air }{ s } }\\left( 226.85\\ \\mathrm{°C}, 100.0\\ \\mathrm{kPa} \\right) = 7.2258\\ \\frac{\\mathrm{kJ}}{\\left(\\mathrm{K} \\cdot \\mathrm{kg}\\right)}\n",
       "\\end{align}\n"
      ],
      "text/plain": [
       "<IPython.core.display.Latex object>"
      ]
     },
     "execution_count": 8,
     "metadata": {
     },
     "output_type": "execute_result"
    },
    {
     "data": {
      "text/latex": [
       "\\begin{align}\n",
       "  {s}_{  2  } &=  \\mathrm{ \\underset{ air }{ s } }\\left( {T}_{  2  }, {p}_{  2  } \\right)  = \\mathrm{ \\underset{ air }{ s } }\\left( 26.85\\ \\mathrm{°C}, 100.0\\ \\mathrm{kPa} \\right) = 6.7077\\ \\frac{\\mathrm{kJ}}{\\left(\\mathrm{K} \\cdot \\mathrm{kg}\\right)}\n",
       "\\end{align}\n"
      ],
      "text/plain": [
       "<IPython.core.display.Latex object>"
      ]
     },
     "execution_count": 8,
     "metadata": {
     },
     "output_type": "execute_result"
    },
    {
     "data": {
      "text/latex": [
       "\\begin{align}\n",
       "  {s}_{  3  } &=  \\mathrm{ \\underset{ water }{ s } }\\left( {T}_{  3  }, {p}_{  3  } \\right)  = \\mathrm{ \\underset{ water }{ s } }\\left( 10\\ \\mathrm{°C}, 100.0\\ \\mathrm{kPa} \\right) = 0.15108\\ \\frac{\\mathrm{kJ}}{\\left(\\mathrm{K} \\cdot \\mathrm{kg}\\right)}\n",
       "\\end{align}\n"
      ],
      "text/plain": [
       "<IPython.core.display.Latex object>"
      ]
     },
     "execution_count": 8,
     "metadata": {
     },
     "output_type": "execute_result"
    },
    {
     "data": {
      "text/latex": [
       "\\begin{align}\n",
       "  {s}_{  4  } &=  \\mathrm{ \\underset{ water }{ s } }\\left( {T}_{  4  }, {p}_{  4  } \\right)  = \\mathrm{ \\underset{ water }{ s } }\\left( 15\\ \\mathrm{°C}, 100.0\\ \\mathrm{kPa} \\right) = 0.22445\\ \\frac{\\mathrm{kJ}}{\\left(\\mathrm{K} \\cdot \\mathrm{kg}\\right)}\n",
       "\\end{align}\n"
      ],
      "text/plain": [
       "<IPython.core.display.Latex object>"
      ]
     },
     "execution_count": 8,
     "metadata": {
     },
     "output_type": "execute_result"
    },
    {
     "data": {
      "text/markdown": [
       "The Second Law can be used to solve for the entropy generation"
      ],
      "text/plain": [
       "<IPython.core.display.Markdown object>"
      ]
     },
     "execution_count": 8,
     "metadata": {
     },
     "output_type": "execute_result"
    },
    {
     "data": {
      "text/latex": [
       "\\begin{align}\n",
       "  \\dot{S}_{gen} &=   {\\dot{m}}_{  1  }  \\cdot  \\left(  {s}_{  2  } - {s}_{  1  }  \\right)  +  {\\dot{m}}_{  3  }  \\cdot  \\left(  {s}_{  4  } - {s}_{  3  }  \\right)  \\\\\n",
       "    &=  20\\ \\frac{\\mathrm{kg}}{\\mathrm{s}}  \\cdot  \\left(  6.7077\\ \\frac{\\mathrm{kJ}}{\\left(\\mathrm{K} \\cdot \\mathrm{kg}\\right)} - 7.2258\\ \\frac{\\mathrm{kJ}}{\\left(\\mathrm{K} \\cdot \\mathrm{kg}\\right)}  \\right)  +  193.77\\ \\frac{\\mathrm{kg}}{\\mathrm{s}}  \\cdot  \\left(  0.22445\\ \\frac{\\mathrm{kJ}}{\\left(\\mathrm{K} \\cdot \\mathrm{kg}\\right)} - 0.15108\\ \\frac{\\mathrm{kJ}}{\\left(\\mathrm{K} \\cdot \\mathrm{kg}\\right)}  \\right) \\\\\n",
       "    &= 3.8555\\ \\frac{\\mathrm{kW}}{\\mathrm{K}}\n",
       "\\end{align}\n"
      ],
      "text/plain": [
       "<IPython.core.display.Latex object>"
      ]
     },
     "execution_count": 8,
     "metadata": {
     },
     "output_type": "execute_result"
    }
   ],
   "source": [
    "%%showcalc\n",
    "\"The specific entropies can also be evaluate using the known temperatures and pressures\"\n",
    "s[1] = air.s(T[1],p[1])\n",
    "s[2] = air.s(T[2],p[2])\n",
    "s[3] = water.s(T[3],p[3])\n",
    "s[4] = water.s(T[4],p[4])\n",
    "\n",
    "\"The Second Law can be used to solve for the entropy generation\"\n",
    "Sdot_gen = (mdot[1]*(s[2]-s[1]) + mdot[3]*(s[4]-s[3])).to('kW/K')"
   ]
  },
  {
   "cell_type": "markdown",
   "metadata": {
    "collapsed": false
   },
   "source": [
    "#### (d) exergy destruction"
   ]
  },
  {
   "cell_type": "code",
   "execution_count": 10,
   "metadata": {
    "collapsed": false,
    "jupyter": {
    }
   },
   "outputs": [
    {
     "data": {
      "text/markdown": [
       "The exergy destruction is always $T_0\\dot{S}_{gen}$"
      ],
      "text/plain": [
       "<IPython.core.display.Markdown object>"
      ]
     },
     "execution_count": 10,
     "metadata": {
     },
     "output_type": "execute_result"
    },
    {
     "data": {
      "text/latex": [
       "\\begin{align}\n",
       "  \\dot{X}_{dest} &=   {T}_{  0  }  \\cdot  \\dot{S}_{gen}  \\\\\n",
       "    &=  20\\ \\mathrm{°C}  \\cdot  3.8555\\ \\frac{\\mathrm{kW}}{\\mathrm{K}} \\\\\n",
       "    &= 1130.3\\ \\mathrm{kW}\n",
       "\\end{align}\n"
      ],
      "text/plain": [
       "<IPython.core.display.Latex object>"
      ]
     },
     "execution_count": 10,
     "metadata": {
     },
     "output_type": "execute_result"
    }
   ],
   "source": [
    "%%showcalc\n",
    "\"The exergy destruction is always $T_0\\dot{S}_{gen}$\"\n",
    "Xdot_dest = T[0].to('K')*Sdot_gen"
   ]
  },
  {
   "cell_type": "markdown",
   "metadata": {
    "collapsed": false
   },
   "source": [
    "#### (e) Second Law Efficiency"
   ]
  },
  {
   "cell_type": "code",
   "execution_count": 12,
   "metadata": {
    "collapsed": false,
    "jupyter": {
    }
   },
   "outputs": [
    {
     "data": {
      "text/markdown": [
       "In this case, both streams are approaching the ambient temperature, so both streams are decreasing in exergy.  Therefore, there is no recovered exergy for this system"
      ],
      "text/plain": [
       "<IPython.core.display.Markdown object>"
      ]
     },
     "execution_count": 12,
     "metadata": {
     },
     "output_type": "execute_result"
    },
    {
     "data": {
      "text/latex": [
       "\\begin{align}\n",
       "  \\dot{X}_{Rec} &=  0\\ \\mathrm{kW} \n",
       "\\end{align}\n"
      ],
      "text/plain": [
       "<IPython.core.display.Latex object>"
      ]
     },
     "execution_count": 12,
     "metadata": {
     },
     "output_type": "execute_result"
    },
    {
     "data": {
      "text/latex": [
       "\\begin{align}\n",
       "  \\eta_{II} &=  0 \n",
       "\\end{align}\n"
      ],
      "text/plain": [
       "<IPython.core.display.Latex object>"
      ]
     },
     "execution_count": 12,
     "metadata": {
     },
     "output_type": "execute_result"
    }
   ],
   "source": [
    "%%showcalc\n",
    "\"In this case, both streams are approaching the ambient temperature, so both streams are decreasing in exergy.  Therefore, there is no recovered exergy for this system\"\n",
    "Xdot_Rec = Quantity(0,'kW')\n",
    "eta_II = Quantity(0,'')"
   ]
  },
  {
   "cell_type": "markdown",
   "metadata": {
    "collapsed": false
   },
   "source": [
    "#### (f) Second Law Efficiency: Alternate Inlet Temperature"
   ]
  },
  {
   "cell_type": "code",
   "execution_count": 13,
   "metadata": {
    "collapsed": false,
    "jupyter": {
    }
   },
   "outputs": [
    {
     "data": {
      "text/markdown": [
       "We need to recalculate properties to account for the alternate inlet temperature"
      ],
      "text/plain": [
       "<IPython.core.display.Markdown object>"
      ]
     },
     "execution_count": 13,
     "metadata": {
     },
     "output_type": "execute_result"
    },
    {
     "data": {
      "text/latex": [
       "\\begin{align}\n",
       "  {T}_{  5  } &=  20\\ \\mathrm{°C} \n",
       "\\end{align}\n"
      ],
      "text/plain": [
       "<IPython.core.display.Latex object>"
      ]
     },
     "execution_count": 13,
     "metadata": {
     },
     "output_type": "execute_result"
    },
    {
     "data": {
      "text/latex": [
       "\\begin{align}\n",
       "  {p}_{  5  } &=  {p}_{  4  }  = 100.0\\ \\mathrm{kPa} \n",
       "\\end{align}\n"
      ],
      "text/plain": [
       "<IPython.core.display.Latex object>"
      ]
     },
     "execution_count": 13,
     "metadata": {
     },
     "output_type": "execute_result"
    },
    {
     "data": {
      "text/latex": [
       "\\begin{align}\n",
       "  {T}_{  6  } &=  {T}_{  5  } + 5\\ \\mathrm{Δ°C} \\\\\n",
       "    &= 20\\ \\mathrm{°C} + 5\\ \\mathrm{Δ°C}\\\\\n",
       "    &= 25\\ \\mathrm{°C}\n",
       "\\end{align}\n"
      ],
      "text/plain": [
       "<IPython.core.display.Latex object>"
      ]
     },
     "execution_count": 13,
     "metadata": {
     },
     "output_type": "execute_result"
    },
    {
     "data": {
      "text/latex": [
       "\\begin{align}\n",
       "  {p}_{  6  } &=  {p}_{  5  }  = 100.0\\ \\mathrm{kPa} \n",
       "\\end{align}\n"
      ],
      "text/plain": [
       "<IPython.core.display.Latex object>"
      ]
     },
     "execution_count": 13,
     "metadata": {
     },
     "output_type": "execute_result"
    },
    {
     "data": {
      "text/latex": [
       "\\begin{align}\n",
       "  {h}_{  5  } &=  \\mathrm{ \\underset{ water }{ h } }\\left( {T}_{  5  }, {p}_{  5  } \\right)  = \\mathrm{ \\underset{ water }{ h } }\\left( 20\\ \\mathrm{°C}, 100.0\\ \\mathrm{kPa} \\right) = 84.006\\ \\frac{\\mathrm{kJ}}{\\mathrm{kg}}\n",
       "\\end{align}\n"
      ],
      "text/plain": [
       "<IPython.core.display.Latex object>"
      ]
     },
     "execution_count": 13,
     "metadata": {
     },
     "output_type": "execute_result"
    },
    {
     "data": {
      "text/latex": [
       "\\begin{align}\n",
       "  {h}_{  6  } &=  \\mathrm{ \\underset{ water }{ h } }\\left( {T}_{  6  }, {p}_{  6  } \\right)  = \\mathrm{ \\underset{ water }{ h } }\\left( 25\\ \\mathrm{°C}, 100.0\\ \\mathrm{kPa} \\right) = 104.92\\ \\frac{\\mathrm{kJ}}{\\mathrm{kg}}\n",
       "\\end{align}\n"
      ],
      "text/plain": [
       "<IPython.core.display.Latex object>"
      ]
     },
     "execution_count": 13,
     "metadata": {
     },
     "output_type": "execute_result"
    },
    {
     "data": {
      "text/latex": [
       "\\begin{align}\n",
       "  {s}_{  5  } &=  \\mathrm{ \\underset{ water }{ s } }\\left( {T}_{  5  }, {p}_{  5  } \\right)  = \\mathrm{ \\underset{ water }{ s } }\\left( 20\\ \\mathrm{°C}, 100.0\\ \\mathrm{kPa} \\right) = 0.29646\\ \\frac{\\mathrm{kJ}}{\\left(\\mathrm{K} \\cdot \\mathrm{kg}\\right)}\n",
       "\\end{align}\n"
      ],
      "text/plain": [
       "<IPython.core.display.Latex object>"
      ]
     },
     "execution_count": 13,
     "metadata": {
     },
     "output_type": "execute_result"
    },
    {
     "data": {
      "text/latex": [
       "\\begin{align}\n",
       "  {s}_{  6  } &=  \\mathrm{ \\underset{ water }{ s } }\\left( {T}_{  6  }, {p}_{  6  } \\right)  = \\mathrm{ \\underset{ water }{ s } }\\left( 25\\ \\mathrm{°C}, 100.0\\ \\mathrm{kPa} \\right) = 0.3672\\ \\frac{\\mathrm{kJ}}{\\left(\\mathrm{K} \\cdot \\mathrm{kg}\\right)}\n",
       "\\end{align}\n"
      ],
      "text/plain": [
       "<IPython.core.display.Latex object>"
      ]
     },
     "execution_count": 13,
     "metadata": {
     },
     "output_type": "execute_result"
    },
    {
     "data": {
      "text/markdown": [
       "For this case, the water stream in increaseing in exergy while the air stream is decreasing in exergy.  So we will need the changes in flow exergy for each stream"
      ],
      "text/plain": [
       "<IPython.core.display.Markdown object>"
      ]
     },
     "execution_count": 13,
     "metadata": {
     },
     "output_type": "execute_result"
    },
    {
     "data": {
      "text/latex": [
       "\\begin{align}\n",
       "  \\Delta{}\\psi_{5,6} &=    {h}_{  6  } - {h}_{  5  }  -  {T}_{  0  }  \\cdot  \\left(  {s}_{  6  } - {s}_{  5  }  \\right)   \\\\\n",
       "    &=   104.92\\ \\frac{\\mathrm{kJ}}{\\mathrm{kg}} - 84.006\\ \\frac{\\mathrm{kJ}}{\\mathrm{kg}}  -  20\\ \\mathrm{°C}  \\cdot  \\left(  0.3672\\ \\frac{\\mathrm{kJ}}{\\left(\\mathrm{K} \\cdot \\mathrm{kg}\\right)} - 0.29646\\ \\frac{\\mathrm{kJ}}{\\left(\\mathrm{K} \\cdot \\mathrm{kg}\\right)}  \\right)  \\\\\n",
       "    &= 0.17632\\ \\frac{\\mathrm{kJ}}{\\mathrm{kg}}\n",
       "\\end{align}\n"
      ],
      "text/plain": [
       "<IPython.core.display.Latex object>"
      ]
     },
     "execution_count": 13,
     "metadata": {
     },
     "output_type": "execute_result"
    },
    {
     "data": {
      "text/latex": [
       "\\begin{align}\n",
       "  \\Delta{}\\psi_{1,2} &=    {h}_{  2  } - {h}_{  1  }  -  {T}_{  0  }  \\cdot  \\left(  {s}_{  2  } - {s}_{  1  }  \\right)   \\\\\n",
       "    &=   -2.4071\\ \\frac{\\mathrm{kJ}}{\\mathrm{kg}} - 200.64\\ \\frac{\\mathrm{kJ}}{\\mathrm{kg}}  -  20\\ \\mathrm{°C}  \\cdot  \\left(  6.7077\\ \\frac{\\mathrm{kJ}}{\\left(\\mathrm{K} \\cdot \\mathrm{kg}\\right)} - 7.2258\\ \\frac{\\mathrm{kJ}}{\\left(\\mathrm{K} \\cdot \\mathrm{kg}\\right)}  \\right)  \\\\\n",
       "    &= -51.175\\ \\frac{\\mathrm{kJ}}{\\mathrm{kg}}\n",
       "\\end{align}\n"
      ],
      "text/plain": [
       "<IPython.core.display.Latex object>"
      ]
     },
     "execution_count": 13,
     "metadata": {
     },
     "output_type": "execute_result"
    },
    {
     "data": {
      "text/markdown": [
       "A first law analysis can be used to update the water mass flow rate for the new inlet temperature"
      ],
      "text/plain": [
       "<IPython.core.display.Markdown object>"
      ]
     },
     "execution_count": 13,
     "metadata": {
     },
     "output_type": "execute_result"
    },
    {
     "data": {
      "text/latex": [
       "\\begin{align}\n",
       "  {\\dot{m}}_{  5  } &=  \\frac{  {\\dot{m}}_{  1  }  \\cdot  \\left(  {h}_{  2  } - {h}_{  1  }  \\right)  }{  {h}_{  5  } - {h}_{  6  }  } \\\\\n",
       "    &= \\frac{  20\\ \\frac{\\mathrm{kg}}{\\mathrm{s}}  \\cdot  \\left(  -2.4071\\ \\frac{\\mathrm{kJ}}{\\mathrm{kg}} - 200.64\\ \\frac{\\mathrm{kJ}}{\\mathrm{kg}}  \\right)  }{  84.006\\ \\frac{\\mathrm{kJ}}{\\mathrm{kg}} - 104.92\\ \\frac{\\mathrm{kJ}}{\\mathrm{kg}}  }\\\\\n",
       "    &= 194.19\\ \\frac{\\mathrm{kg}}{\\mathrm{s}}\n",
       "\\end{align}\n"
      ],
      "text/plain": [
       "<IPython.core.display.Latex object>"
      ]
     },
     "execution_count": 13,
     "metadata": {
     },
     "output_type": "execute_result"
    },
    {
     "data": {
      "text/latex": [
       "\\begin{align}\n",
       "  {\\dot{m}}_{  6  } &=  {\\dot{m}}_{  5  }  = 194.19\\ \\frac{\\mathrm{kg}}{\\mathrm{s}} \n",
       "\\end{align}\n"
      ],
      "text/plain": [
       "<IPython.core.display.Latex object>"
      ]
     },
     "execution_count": 13,
     "metadata": {
     },
     "output_type": "execute_result"
    },
    {
     "data": {
      "text/markdown": [
       "The second law gives the new entropy generation"
      ],
      "text/plain": [
       "<IPython.core.display.Markdown object>"
      ]
     },
     "execution_count": 13,
     "metadata": {
     },
     "output_type": "execute_result"
    },
    {
     "data": {
      "text/latex": [
       "\\begin{align}\n",
       "  \\dot{S}_{gen,Alt} &=   {\\dot{m}}_{  1  }  \\cdot  \\left(  {s}_{  2  } - {s}_{  1  }  \\right)  +  {\\dot{m}}_{  5  }  \\cdot  \\left(  {s}_{  6  } - {s}_{  5  }  \\right)  \\\\\n",
       "    &=  20\\ \\frac{\\mathrm{kg}}{\\mathrm{s}}  \\cdot  \\left(  6.7077\\ \\frac{\\mathrm{kJ}}{\\left(\\mathrm{K} \\cdot \\mathrm{kg}\\right)} - 7.2258\\ \\frac{\\mathrm{kJ}}{\\left(\\mathrm{K} \\cdot \\mathrm{kg}\\right)}  \\right)  +  194.19\\ \\frac{\\mathrm{kg}}{\\mathrm{s}}  \\cdot  \\left(  0.3672\\ \\frac{\\mathrm{kJ}}{\\left(\\mathrm{K} \\cdot \\mathrm{kg}\\right)} - 0.29646\\ \\frac{\\mathrm{kJ}}{\\left(\\mathrm{K} \\cdot \\mathrm{kg}\\right)}  \\right) \\\\\n",
       "    &= 3.3746\\ \\frac{\\mathrm{kJ}}{\\left(\\mathrm{K} \\cdot \\mathrm{s}\\right)}\n",
       "\\end{align}\n"
      ],
      "text/plain": [
       "<IPython.core.display.Latex object>"
      ]
     },
     "execution_count": 13,
     "metadata": {
     },
     "output_type": "execute_result"
    },
    {
     "data": {
      "text/markdown": [
       "We also have a new exergy destruction"
      ],
      "text/plain": [
       "<IPython.core.display.Markdown object>"
      ]
     },
     "execution_count": 13,
     "metadata": {
     },
     "output_type": "execute_result"
    },
    {
     "data": {
      "text/latex": [
       "\\begin{align}\n",
       "  \\dot{X}_{dest,Alt} &=   {T}_{  0  }  \\cdot  \\dot{S}_{gen,Alt}  \\\\\n",
       "    &=  20\\ \\mathrm{°C}  \\cdot  3.3746\\ \\frac{\\mathrm{kJ}}{\\left(\\mathrm{K} \\cdot \\mathrm{s}\\right)} \\\\\n",
       "    &= 989.27\\ \\frac{\\mathrm{kJ}}{\\mathrm{s}}\n",
       "\\end{align}\n"
      ],
      "text/plain": [
       "<IPython.core.display.Latex object>"
      ]
     },
     "execution_count": 13,
     "metadata": {
     },
     "output_type": "execute_result"
    },
    {
     "data": {
      "text/markdown": [
       "The recovered exergy for this case in the increase in exergy of the water stream because it is moving away from the surrounding temperature"
      ],
      "text/plain": [
       "<IPython.core.display.Markdown object>"
      ]
     },
     "execution_count": 13,
     "metadata": {
     },
     "output_type": "execute_result"
    },
    {
     "data": {
      "text/latex": [
       "\\begin{align}\n",
       "  \\dot{X}_{Rec} &=   {\\dot{m}}_{  5  }  \\cdot  \\Delta{}\\psi_{5,6}  \\\\\n",
       "    &=  194.19\\ \\frac{\\mathrm{kg}}{\\mathrm{s}}  \\cdot  0.17632\\ \\frac{\\mathrm{kJ}}{\\mathrm{kg}} \\\\\n",
       "    &= 34.24\\ \\frac{\\mathrm{kJ}}{\\mathrm{s}}\n",
       "\\end{align}\n"
      ],
      "text/plain": [
       "<IPython.core.display.Latex object>"
      ]
     },
     "execution_count": 13,
     "metadata": {
     },
     "output_type": "execute_result"
    },
    {
     "data": {
      "text/markdown": [
       "The expended exergy for this case is the decrease in exergy of the air stream becuase it is moving toward the surrounding temperature"
      ],
      "text/plain": [
       "<IPython.core.display.Markdown object>"
      ]
     },
     "execution_count": 13,
     "metadata": {
     },
     "output_type": "execute_result"
    },
    {
     "data": {
      "text/latex": [
       "\\begin{align}\n",
       "  \\dot{X}_{Exp} &=   -{\\dot{m}}_{  1  }  \\cdot  \\Delta{}\\psi_{1,2}  \\\\\n",
       "    &=  -\\left( 20\\ \\frac{\\mathrm{kg}}{\\mathrm{s}} \\right)  \\cdot  -51.175\\ \\frac{\\mathrm{kJ}}{\\mathrm{kg}} \\\\\n",
       "    &= 1023.5\\ \\frac{\\mathrm{kJ}}{\\mathrm{s}}\n",
       "\\end{align}\n"
      ],
      "text/plain": [
       "<IPython.core.display.Latex object>"
      ]
     },
     "execution_count": 13,
     "metadata": {
     },
     "output_type": "execute_result"
    },
    {
     "data": {
      "text/markdown": [
       "Second law efficiency"
      ],
      "text/plain": [
       "<IPython.core.display.Markdown object>"
      ]
     },
     "execution_count": 13,
     "metadata": {
     },
     "output_type": "execute_result"
    },
    {
     "data": {
      "text/latex": [
       "\\begin{align}\n",
       "  \\eta_{II,Alt} &=  \\frac{ \\dot{X}_{Rec} }{ \\dot{X}_{Exp} } \\\\\n",
       "    &= \\frac{ 34.24\\ \\frac{\\mathrm{kJ}}{\\mathrm{s}} }{ 1023.5\\ \\frac{\\mathrm{kJ}}{\\mathrm{s}} }\\\\\n",
       "    &= 0.033454\n",
       "\\end{align}\n"
      ],
      "text/plain": [
       "<IPython.core.display.Latex object>"
      ]
     },
     "execution_count": 13,
     "metadata": {
     },
     "output_type": "execute_result"
    }
   ],
   "source": [
    "%%showcalc\n",
    "\"We need to recalculate properties to account for the alternate inlet temperature\"\n",
    "T[5] = Quantity(20,'degC')\n",
    "p[5] = p[4]\n",
    "T[6] = T[5] + Quantity(5,'delta_degC')\n",
    "p[6] = p[5]\n",
    "h[5] = water.h(T[5],p[5])\n",
    "h[6] = water.h(T[6],p[6])\n",
    "s[5] = water.s(T[5],p[5])\n",
    "s[6] = water.s(T[6],p[6])\n",
    "\n",
    "\"For this case, the water stream in increaseing in exergy while the air stream is decreasing in exergy.  So we will need the changes in flow exergy for each stream\"\n",
    "Delta_psi_5_6 = h[6]-h[5] - T[0].to('K')*(s[6]-s[5])\n",
    "Delta_psi_1_2 = h[2]-h[1] - T[0].to('K')*(s[2]-s[1])\n",
    "\n",
    "\"A first law analysis can be used to update the water mass flow rate for the new inlet temperature\"\n",
    "mdot[5] = mdot[1]*(h[2]-h[1])/(h[5]-h[6])\n",
    "mdot[6] = mdot[5]\n",
    "\n",
    "\"The second law gives the new entropy generation\"\n",
    "Sdot_gen_Alt = mdot[1]*(s[2]-s[1]) + mdot[5]*(s[6]-s[5])\n",
    "\n",
    "\"We also have a new exergy destruction\"\n",
    "Xdot_dest_Alt = T[0].to('K')*Sdot_gen_Alt\n",
    "\n",
    "\"The recovered exergy for this case in the increase in exergy of the water stream because it is moving away from the surrounding temperature\"\n",
    "Xdot_Rec = mdot[5]*Delta_psi_5_6\n",
    "\n",
    "\"The expended exergy for this case is the decrease in exergy of the air stream becuase it is moving toward the surrounding temperature\"\n",
    "Xdot_Exp = -mdot[1]*Delta_psi_1_2\n",
    "\n",
    "\"Second law efficiency\"\n",
    "eta_II_Alt = Xdot_Rec/Xdot_Exp"
   ]
  },
  {
   "cell_type": "code",
   "execution_count": 14,
   "metadata": {
    "collapsed": false,
    "jupyter": {
    }
   },
   "outputs": [
    {
     "data": {
      "text/latex": [
       "\\begin{align}{ \\Delta{}\\psi_{1,2} }&={ -51.175\\ \\frac{\\mathrm{kJ}}{\\mathrm{kg}} }&{ \\Delta{}\\psi_{5,6} }&={ 0.17632\\ \\frac{\\mathrm{kJ}}{\\mathrm{kg}} }&{ \\dot{Q} }&={ 4061.0\\ \\mathrm{kW} }\\\\{ \\dot{Q}_{1\\to{}2} }&={ -4061.0\\ \\frac{\\mathrm{kJ}}{\\mathrm{s}} }&{ \\dot{S}_{gen} }&={ 3.8555\\ \\frac{\\mathrm{kW}}{\\mathrm{K}} }&{ \\dot{S}_{gen,Alt} }&={ 3.3746\\ \\frac{\\mathrm{kJ}}{\\left(\\mathrm{K} \\cdot \\mathrm{s}\\right)} }\\\\{ \\dot{X}_{Exp} }&={ 1023.5\\ \\frac{\\mathrm{kJ}}{\\mathrm{s}} }&{ \\dot{X}_{Rec} }&={ 34.24\\ \\frac{\\mathrm{kJ}}{\\mathrm{s}} }&{ \\dot{X}_{dest} }&={ 1130.3\\ \\mathrm{kW} }\\\\{ \\dot{X}_{dest,Alt} }&={ 989.27\\ \\frac{\\mathrm{kJ}}{\\mathrm{s}} }&{ \\eta_{II} }&={ 0 }&{ \\eta_{II,Alt} }&={ 0.033454 }\\\\{ \\dot{m}_{water} }&={ 193.77\\ \\frac{\\mathrm{kg}}{\\mathrm{s}} }&{  }\\end{align}"
      ],
      "text/plain": [
       "<IPython.core.display.Latex object>"
      ]
     },
     "execution_count": 14,
     "metadata": {
     },
     "output_type": "execute_result"
    },
    {
     "data": {
      "text/html": [
       "<table border=\"1\" class=\"dataframe\">\n",
       "  <thead>\n",
       "    <tr style=\"text-align: right;\">\n",
       "      <th></th>\n",
       "      <th>$T$ [°C]</th>\n",
       "      <th>$p$ [kPa]</th>\n",
       "      <th>$h$ [kJ/kg]</th>\n",
       "      <th>$s$ [kJ/K/kg]</th>\n",
       "      <th>$\\dot{m}$ [kg/s]</th>\n",
       "    </tr>\n",
       "  </thead>\n",
       "  <tbody>\n",
       "    <tr>\n",
       "      <th>0</th>\n",
       "      <td>20.00</td>\n",
       "      <td>100.0</td>\n",
       "      <td>-</td>\n",
       "      <td>-</td>\n",
       "      <td>-</td>\n",
       "    </tr>\n",
       "    <tr>\n",
       "      <th>1</th>\n",
       "      <td>226.85</td>\n",
       "      <td>100.0</td>\n",
       "      <td>200.643247</td>\n",
       "      <td>7.225782</td>\n",
       "      <td>20.0</td>\n",
       "    </tr>\n",
       "    <tr>\n",
       "      <th>2</th>\n",
       "      <td>26.85</td>\n",
       "      <td>100.0</td>\n",
       "      <td>-2.407134</td>\n",
       "      <td>6.707703</td>\n",
       "      <td>20.0</td>\n",
       "    </tr>\n",
       "    <tr>\n",
       "      <th>3</th>\n",
       "      <td>10.00</td>\n",
       "      <td>100.0</td>\n",
       "      <td>42.117603</td>\n",
       "      <td>0.151077</td>\n",
       "      <td>193.769228</td>\n",
       "    </tr>\n",
       "    <tr>\n",
       "      <th>4</th>\n",
       "      <td>15.00</td>\n",
       "      <td>100.0</td>\n",
       "      <td>63.075562</td>\n",
       "      <td>0.224449</td>\n",
       "      <td>20.0</td>\n",
       "    </tr>\n",
       "    <tr>\n",
       "      <th>5</th>\n",
       "      <td>20.00</td>\n",
       "      <td>100.0</td>\n",
       "      <td>84.006054</td>\n",
       "      <td>0.296463</td>\n",
       "      <td>194.187295</td>\n",
       "    </tr>\n",
       "    <tr>\n",
       "      <th>6</th>\n",
       "      <td>25.00</td>\n",
       "      <td>100.0</td>\n",
       "      <td>104.918893</td>\n",
       "      <td>0.3672</td>\n",
       "      <td>194.187295</td>\n",
       "    </tr>\n",
       "  </tbody>\n",
       "</table>"
      ],
      "text/plain": [
       "<IPython.core.display.HTML object>"
      ]
     },
     "execution_count": 14,
     "metadata": {
     },
     "output_type": "execute_result"
    }
   ],
   "source": [
    "Summary();"
   ]
  },
  {
   "cell_type": "code",
   "execution_count": 15,
   "metadata": {
    "collapsed": false
   },
   "outputs": [
    {
     "name": "stdout",
     "output_type": "stream",
     "text": [
      "[NbConvertApp] Converting notebook Ex8.3 Heat Exchanger Analysis.ipynb to html_embed\r\n"
     ]
    },
    {
     "name": "stdout",
     "output_type": "stream",
     "text": [
      "[NbConvertApp] Writing 604766 bytes to Ex8.3 Heat Exchanger Analysis.html\r\n"
     ]
    }
   ],
   "source": [
    "# Export your solution to submit to Canvas\n",
    "# 1) Ensure all cells above show your final solution\n",
    "# 2) Click the 'Save' button in the toolbar\n",
    "# 3) Uncomment (remove the #) from the last line in this cell\n",
    "# 4) Ensure the filename in the command below matches the filename of this notebook\n",
    "# 4) Execute this cell to create an HTML file showing only the output \n",
    "# 5) Submit the .html file located in the folder with this notebook\n",
    "\n",
    "!jupyter nbconvert --to html_embed --no-input --no-prompt \"Ex8.3 Heat Exchanger Analysis.ipynb\""
   ]
  }
 ],
 "metadata": {
  "kernelspec": {
   "argv": [
    "/usr/bin/python3",
    "-m",
    "ipykernel",
    "--HistoryManager.enabled=False",
    "--matplotlib=inline",
    "-c",
    "%config InlineBackend.figure_formats = set(['retina'])\nimport matplotlib; matplotlib.rcParams['figure.figsize'] = (12, 7)",
    "-f",
    "{connection_file}"
   ],
   "display_name": "Python 3 (system-wide)",
   "env": {
   },
   "language": "python",
   "metadata": {
    "cocalc": {
     "description": "Python 3 programming language",
     "priority": 100,
     "url": "https://www.python.org/"
    }
   },
   "name": "python3",
   "resource_dir": "/ext/jupyter/kernels/python3"
  },
  "language_info": {
   "codemirror_mode": {
    "name": "ipython",
    "version": 3
   },
   "file_extension": ".py",
   "mimetype": "text/x-python",
   "name": "python",
   "nbconvert_exporter": "python",
   "pygments_lexer": "ipython3",
   "version": "3.8.10"
  }
 },
 "nbformat": 4,
 "nbformat_minor": 4
}