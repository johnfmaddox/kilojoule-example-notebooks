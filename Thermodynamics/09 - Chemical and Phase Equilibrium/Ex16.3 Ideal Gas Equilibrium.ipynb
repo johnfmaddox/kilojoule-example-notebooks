{
 "cells": [
  {
   "cell_type": "markdown",
   "metadata": {
    "collapsed": false
   },
   "source": [
    "# Example 16.3: Ideal Gas Chemical Equilibrium\n",
    "\n",
    "*John F. Maddox, Ph.D., P.E.<br>\n",
    "University of Kentucky - Paducah Campus<br>\n",
    "ME 321: Engineering Thermodynamics II<br>*"
   ]
  },
  {
   "cell_type": "markdown",
   "metadata": {
    "collapsed": false
   },
   "source": [
    "## Problem Statement\n",
    "$\\require{mhchem}$\n",
    "A piston-cylinder filled with oxygen, $\\ce{O2}$, is heated. Determine the number of moles that will dissociate into monatomic oxygen, $\\ce{O}$, by findin the minimum Gibbs function for the system when heated to $3000\\ \\mathrm{K}$, $3200\\ \\mathrm{K}$, and $4000\\ \\mathrm{K}$.\n"
   ]
  },
  {
   "cell_type": "markdown",
   "metadata": {
    "collapsed": false
   },
   "source": [
    "## Solution\n",
    "\n",
    "__[Video Explanation](https://iad.scorm.canvaslms.com/courses/sconeID/scone_prod.sha256_07fb33bfe6977b92eadf91c44d49f46cc61a094d10e7056c8c0ec838bbe13fad/0/Ex16.mp4)__"
   ]
  },
  {
   "cell_type": "markdown",
   "metadata": {
    "collapsed": false
   },
   "source": [
    "## Chemical Balance\n",
    "\n",
    "The complete stoichiometric dissociation of $\\ce{O2}$ into $\\ce{O}$ would have a chemical balance of \n",
    "\\begin{equation}\n",
    "\t\\ce{ O2 ->  2O}\n",
    "\\end{equation}\n",
    "with stoichiometric coefficients of\n",
    "\\begin{gather}\n",
    "\t\\nu_{\\ce{O2}}=1 & \\nu_{\\ce{O}}=2\n",
    "\\end{gather}\n",
    "\n",
    "Following the same logic as the previous example, the actual chemical balance will be\n",
    "\\begin{equation}\n",
    "\t\\ce{ O2 -> \\underbrace{x O2}_{\\mathrm{leftover\\\\reactants}} + \\underbrace{2(1-x) O}_{\\mathrm{products}} }\n",
    "\\end{equation}\n",
    "\n",
    "Number of moles:\n",
    "\\begin{equation}\n",
    "\tN_{tot} = x+2-2x = 2-x\n",
    "\\end{equation}\n",
    "Mole fractions:\n",
    "\\begin{gather}\n",
    "\ty_{\\ce{O2}} = \\frac{x}{2-x} \\qquad \n",
    "\ty_{\\ce{O}} = \\frac{2-2x}{2-x}\n",
    "\\end{gather}\n",
    "\n",
    "The equilibrium constant, $K_p$, is defined as\n",
    "\\begin{gather}\n",
    "\tK_p = \\frac{N_c^{\\nu_C} N_D^{\\nu_D}}{N_A^{\\nu_A} N_B^{\\nu_B}}\\left(\\frac{p}{N_{tot}}\\right)^{\\Delta \\nu}\\\\\n",
    "\t\\Delta \\nu = \\nu_C+\\nu_D - \\nu_A-\\nu_B\n",
    "\\end{gather}\n",
    "where $A$ and $B$ are reactants and $C$ and $D$ are products.\n",
    "\n",
    "For this case, $\\ce{O2}$ is the only reactant and $\\ce{O}$ is the only product\n",
    "\\begin{align}\n",
    "\tK_p &=  \\frac{ N_{\\ce{O}}^{\\nu_{\\ce{O}}}}{N_{\\ce{O2}}^{\\nu_{\\ce{O2}}}} \\left(\\right)^{\\nu_{\\ce{O}}-\\nu_{\\ce{O2}}}\\\\\n",
    "\t&= \\frac{(2-2x)^2}{x}\\)\\left(\\frac{1}{2-x}\\right)^(2-1)\\\\\n",
    "\t&= \\frac{(2-2x)^2}{x}\\)\\left(\\frac{1}{2-x}\\right)\\\\\n",
    "\\end{align}\n",
    "\n"
   ]
  },
  {
   "cell_type": "markdown",
   "metadata": {
    "collapsed": false
   },
   "source": [
    "### Python Initialization\n",
    "We'll start by importing the libraries we will use for our analysis.  "
   ]
  },
  {
   "cell_type": "code",
   "execution_count": 3,
   "metadata": {
    "collapsed": false,
    "jupyter": {
    }
   },
   "outputs": [
    {
     "data": {
      "text/latex": [
       "\\begin{align}{  }\\end{align}"
      ],
      "text/plain": [
       "<IPython.core.display.Latex object>"
      ]
     },
     "execution_count": 3,
     "metadata": {
     },
     "output_type": "execute_result"
    },
    {
     "data": {
      "text/html": [
       "<table border=\"1\" class=\"dataframe\">\n",
       "  <thead>\n",
       "    <tr style=\"text-align: right;\">\n",
       "      <th></th>\n",
       "    </tr>\n",
       "  </thead>\n",
       "  <tbody>\n",
       "  </tbody>\n",
       "</table>"
      ],
      "text/plain": [
       "<IPython.core.display.HTML object>"
      ]
     },
     "execution_count": 3,
     "metadata": {
     },
     "output_type": "execute_result"
    }
   ],
   "source": [
    "from kilojoule.templates.default import *\n",
    "from kilojoule.tables import Cengel\n",
    "from scipy.optimize import brentq\n",
    "\n",
    "A28 = Cengel.Table(\"A28\")\n",
    "\n",
    "Summary();"
   ]
  },
  {
   "cell_type": "code",
   "execution_count": 4,
   "metadata": {
    "collapsed": false
   },
   "outputs": [
    {
     "data": {
      "text/markdown": [
       "## @ $T=3000\\ \\mathrm{K}$\n",
       "\\begin{align}\n",
       "  T_{1} &=  3000\\ \\mathrm{K} \n",
       "\\end{align}\n",
       "\n",
       "\\begin{align}\n",
       "  lnK_{p,1} &=  \\mathrm{ \\underset{ A28 }{ ln\\_Kp } }\\left( O2<->2O, \\mathrm{ T } = T_{1} \\right)  = \\mathrm{ \\underset{ A28 }{ ln\\_Kp } }\\left( O2<->2O, \\mathrm{ T } = 3000\\ \\mathrm{K} \\right) = -4.357\n",
       "\\end{align}\n",
       "\n",
       "\\begin{align}\n",
       "  K_{p,1} &=  \\mathrm{ \\underset{ A28 }{ Kp } }\\left( O2<->2O, \\mathrm{ T } = T_{1} \\right)  = \\mathrm{ \\underset{ A28 }{ Kp } }\\left( O2<->2O, \\mathrm{ T } = 3000\\ \\mathrm{K} \\right) = 0.012817\n",
       "\\end{align}\n",
       "\n",
       "$$0.012817=\\frac{(2-2x)^2}{x}\\left(\\frac{1}{2-x}\\right)$$\n",
       "Solve for $x$.\n"
      ],
      "text/plain": [
       "<IPython.core.display.Markdown object>"
      ]
     },
     "execution_count": 4,
     "metadata": {
     },
     "output_type": "execute_result"
    }
   ],
   "source": [
    "%%showcalc\n",
    "\"## @ $T=3000\\ \\mathrm{K}$\"\n",
    "T_1 = Quantity(3000,'K')\n",
    "lnK_p_1 = A28.ln_Kp('O2<->2O',T=T_1)\n",
    "K_p_1 = A28.Kp('O2<->2O',T=T_1)\n",
    "f\"$${K_p_1}=\"+r\"\\frac{(2-2x)^2}{x}\\left(\\frac{1}{2-x}\\right)$$\"\n",
    "\"Solve for $x$.\"\n"
   ]
  },
  {
   "cell_type": "code",
   "execution_count": 5,
   "metadata": {
    "collapsed": false
   },
   "outputs": [
    {
     "data": {
      "text/latex": [
       "\\begin{align}{ x_{1} }&={  0.94348  }\\end{align}"
      ],
      "text/plain": [
       "<IPython.core.display.Latex object>"
      ]
     },
     "execution_count": 5,
     "metadata": {
     },
     "output_type": "execute_result"
    }
   ],
   "source": [
    "x_1 = brentq(lambda x: ((2-2*x)**2)/x*(1/(2-x)) - K_p_1,0.001,0.999) \n",
    "Summary(['x_1']);\n"
   ]
  },
  {
   "cell_type": "code",
   "execution_count": 7,
   "metadata": {
    "collapsed": false
   },
   "outputs": [
    {
     "data": {
      "text/markdown": [
       "## @ $T=3200\\ \\mathrm{K}$\n",
       "\\begin{align}\n",
       "  T_{2} &=  3200\\ \\mathrm{K} \n",
       "\\end{align}\n",
       "\n",
       "\\begin{align}\n",
       "  lnK_{p,2} &=  \\mathrm{ \\underset{ A28 }{ ln\\_Kp } }\\left( O2<->2O, \\mathrm{ T } = T_{2} \\right)  = \\mathrm{ \\underset{ A28 }{ ln\\_Kp } }\\left( O2<->2O, \\mathrm{ T } = 3200\\ \\mathrm{K} \\right) = -3.072\n",
       "\\end{align}\n",
       "\n",
       "\\begin{align}\n",
       "  K_{p,2} &=  \\mathrm{ \\underset{ A28 }{ Kp } }\\left( O2<->2O, \\mathrm{ T } = T_{2} \\right)  = \\mathrm{ \\underset{ A28 }{ Kp } }\\left( O2<->2O, \\mathrm{ T } = 3200\\ \\mathrm{K} \\right) = 0.046328\n",
       "\\end{align}\n",
       "\n",
       "$$0.046328=\\frac{(2-2x)^2}{x}\\left(\\frac{1}{2-x}\\right)$$\n",
       "Solve for $x$\n"
      ],
      "text/plain": [
       "<IPython.core.display.Markdown object>"
      ]
     },
     "execution_count": 7,
     "metadata": {
     },
     "output_type": "execute_result"
    }
   ],
   "source": [
    "%%showcalc\n",
    "\"## @ $T=3200\\ \\mathrm{K}$\"\n",
    "T_2 = Quantity(3200,'K')\n",
    "lnK_p_2 = A28.ln_Kp('O2<->2O',T=T_2)\n",
    "K_p_2 = A28.Kp('O2<->2O',T=T_2)\n",
    "f\"$${K_p_2}=\"+r\"\\frac{(2-2x)^2}{x}\\left(\\frac{1}{2-x}\\right)$$\"\n",
    "\"Solve for $x$\""
   ]
  },
  {
   "cell_type": "code",
   "execution_count": 8,
   "metadata": {
    "collapsed": false
   },
   "outputs": [
    {
     "data": {
      "text/latex": [
       "\\begin{align}{ x_{2} }&={  0.893  }\\end{align}"
      ],
      "text/plain": [
       "<IPython.core.display.Latex object>"
      ]
     },
     "execution_count": 8,
     "metadata": {
     },
     "output_type": "execute_result"
    }
   ],
   "source": [
    "x_2 = brentq(lambda x: ((2-2*x)**2)/x*(1/(2-x)) - K_p_2,0.001,0.999) \n",
    "Summary(['x_2']);\n"
   ]
  },
  {
   "cell_type": "code",
   "execution_count": 16,
   "metadata": {
    "collapsed": false
   },
   "outputs": [
    {
     "data": {
      "text/markdown": [
       "## @ $T=4000\\ \\mathrm{K}$\n",
       "\\begin{align}\n",
       "  T_{3} &=  4000\\ \\mathrm{K} \n",
       "\\end{align}\n",
       "\n",
       "\\begin{align}\n",
       "  lnK_{p,3} &=  \\mathrm{ \\underset{ A28 }{ ln\\_Kp } }\\left( O2<->2O, \\mathrm{ T } = T_{3} \\right)  = \\mathrm{ \\underset{ A28 }{ ln\\_Kp } }\\left( O2<->2O, \\mathrm{ T } = 4000\\ \\mathrm{K} \\right) = 0.796\n",
       "\\end{align}\n",
       "\n",
       "\\begin{align}\n",
       "  K_{p,3} &=  \\mathrm{ \\underset{ A28 }{ Kp } }\\left( O2<->2O, \\mathrm{ T } = T_{3} \\right)  = \\mathrm{ \\underset{ A28 }{ Kp } }\\left( O2<->2O, \\mathrm{ T } = 4000\\ \\mathrm{K} \\right) = 2.2167\n",
       "\\end{align}\n",
       "\n",
       "$$2.2167=\\frac{(2-2x)^2}{x}\\left(\\frac{1}{2-x}\\right)$$\n",
       "Solve for $x$\n"
      ],
      "text/plain": [
       "<IPython.core.display.Markdown object>"
      ]
     },
     "execution_count": 16,
     "metadata": {
     },
     "output_type": "execute_result"
    }
   ],
   "source": [
    "%%showcalc\n",
    "\"## @ $T=4000\\ \\mathrm{K}$\"\n",
    "T_3 = Quantity(4000,'K')\n",
    "lnK_p_3 = A28.ln_Kp('O2<->2O',T=T_3)\n",
    "K_p_3 = A28.Kp('O2<->2O',T=T_3)\n",
    "f\"$${K_p_3}=\"+r\"\\frac{(2-2x)^2}{x}\\left(\\frac{1}{2-x}\\right)$$\"\n",
    "\"Solve for $x$\""
   ]
  },
  {
   "cell_type": "code",
   "execution_count": 17,
   "metadata": {
    "collapsed": false
   },
   "outputs": [
    {
     "data": {
      "text/latex": [
       "\\begin{align}{ x_{3} }&={  0.40287  }\\end{align}"
      ],
      "text/plain": [
       "<IPython.core.display.Latex object>"
      ]
     },
     "execution_count": 17,
     "metadata": {
     },
     "output_type": "execute_result"
    }
   ],
   "source": [
    "x_3 = brentq(lambda x: ((2-2*x)**2)/x*(1/(2-x)) - K_p_3,0.001,0.999) \n",
    "Summary(['x_3']);"
   ]
  },
  {
   "cell_type": "code",
   "execution_count": 18,
   "metadata": {
    "collapsed": false
   },
   "outputs": [
    {
     "data": {
      "text/markdown": [
       "From this we see that the dissociation of $\\ce{O2}\\to\\ce{O}$ increases with temperature.\n",
       "* @ $T=3000\\ \\mathrm{K}\\Rightarrow$ $5.65\\%$ dissociation\n",
       "* @ $T=3200\\ \\mathrm{K}\\Rightarrow$ $10.70\\%$ dissociation\n",
       "* @ $T=4000\\ \\mathrm{K}\\Rightarrow$ $59.71\\%$ dissociation\n"
      ],
      "text/plain": [
       "<IPython.core.display.Markdown object>"
      ]
     },
     "execution_count": 18,
     "metadata": {
     },
     "output_type": "execute_result"
    }
   ],
   "source": [
    "%%showcalc\n",
    "\"From this we see that the dissociation of $\\ce{O2}\\\\to\\ce{O}$ increases with temperature.\"\n",
    "r\"* @ $T=3000\\ \\mathrm{K}\\Rightarrow$ \" + f\"${100*(1-x_1):0.2f}\\%$ dissociation\"\n",
    "r\"* @ $T=3200\\ \\mathrm{K}\\Rightarrow$ \" + f\"${100*(1-x_2):0.2f}\\%$ dissociation\"\n",
    "r\"* @ $T=4000\\ \\mathrm{K}\\Rightarrow$ \" + f\"${100*(1-x_3):0.2f}\\%$ dissociation\""
   ]
  },
  {
   "cell_type": "code",
   "execution_count": 20,
   "metadata": {
    "collapsed": false,
    "jupyter": {
    }
   },
   "outputs": [
   ],
   "source": [
    "# Export your solution to submit to Canvas\n",
    "# 1) Ensure all cells above show your final solution\n",
    "# 2) Click the 'Save' button in the toolbar\n",
    "# 3) Uncomment (remove the #) from the last line in this cell\n",
    "# 4) Ensure the filename in the command below matches the filename of this notebook\n",
    "# 5) Execute this cell to create an HTML file showing only the output \n",
    "# 6) Submit the .html file located in the folder with this notebook\n",
    "\n",
    "# !jupyter nbconvert --to html_embed --no-input --no-prompt \"Ex16.3 Ideal Gas Equilibrium.ipynb\""
   ]
  }
 ],
 "metadata": {
  "kernelspec": {
   "argv": [
    "/usr/bin/python3",
    "-m",
    "ipykernel",
    "--HistoryManager.enabled=False",
    "--matplotlib=inline",
    "-c",
    "%config InlineBackend.figure_formats = set(['retina'])\nimport matplotlib; matplotlib.rcParams['figure.figsize'] = (12, 7)",
    "-f",
    "{connection_file}"
   ],
   "display_name": "Python 3 (system-wide)",
   "env": {
   },
   "language": "python",
   "metadata": {
    "cocalc": {
     "description": "Python 3 programming language",
     "priority": 100,
     "url": "https://www.python.org/"
    }
   },
   "name": "python3",
   "resource_dir": "/ext/jupyter/kernels/python3"
  },
  "language_info": {
   "codemirror_mode": {
    "name": "ipython",
    "version": 3
   },
   "file_extension": ".py",
   "mimetype": "text/x-python",
   "name": "python",
   "nbconvert_exporter": "python",
   "pygments_lexer": "ipython3",
   "version": "3.8.13"
  },
  "vscode": {
   "interpreter": {
    "hash": "5ac08260a19af6e15a40ac86f761d0cfbb39d3d0196eae74a8efbd73e99cc68e"
   }
  }
 },
 "nbformat": 4,
 "nbformat_minor": 4
}