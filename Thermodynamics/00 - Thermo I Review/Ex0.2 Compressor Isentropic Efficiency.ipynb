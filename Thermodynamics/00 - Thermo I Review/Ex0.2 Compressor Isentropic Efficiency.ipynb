{
 "cells": [
  {
   "cell_type": "markdown",
   "metadata": {
    "collapsed": false
   },
   "source": [
    "## Problem Statement\n",
    "An air compressor has an isentropic efficiency of 80% and operates in a steady-state, steady-flow (SSSF) configuration with negligible changes in kinetic and potential energy.  It receives a volumetric flow rate of 3000 CFM with an inlet pressure of $p_1=14.7\\,\\text{psia}$ and inlet temperature of $T_1=70^\\circ\\text{F}$.  It compresses the air by a factor of 10. Determine<br>\n",
    "(a) Rate of compressor work, $\\mathrm{HP}$<br>\n",
    "(b) Rate of entropy generation, $\\mathrm{Btu/min^\\circ R}$"
   ]
  },
  {
   "cell_type": "markdown",
   "metadata": {
    "collapsed": false
   },
   "source": [
    "## Solution\n",
    "\n",
    "__[Video Explanation](https://uky.yuja.com/V/Video?v=3071282&node=10458660&a=1537564096&autoplay=1)__\n",
    "\n",
    "In the previous example (Ex 0.1), we wrote two separate python scripts to illustrate the difference between using only the standard python library and using third-party modules.  Those two scripts were placed in two self-contained code blocks to help show the separation between the two.  In this example we will jump straight to using the third-party libraries to make things easier, and we will spread the python code out across multiple cells with explanatory text (markdown) cells to describe the code rather than using python comments.  To execute this code you will need to execute each code block in order, or select the `Run All` option from the `Cell` menu above."
   ]
  },
  {
   "cell_type": "markdown",
   "metadata": {
    "collapsed": false
   },
   "source": [
    "### Python Initialization\n",
    "We'll start by importing the libraries we will use for our analysis.  "
   ]
  },
  {
   "cell_type": "code",
   "execution_count": 3,
   "metadata": {
    "collapsed": false,
    "jupyter": {
    }
   },
   "outputs": [
   ],
   "source": [
    "from kilojoule.templates.USCS_R import *"
   ]
  },
  {
   "cell_type": "markdown",
   "metadata": {
    "collapsed": false
   },
   "source": [
    "In the first version of the previous example we defined a new variable for each property at each state, but in this example (and future examples) we will instead store the values in a custom python data structure from `kilojoule`.  This is a different approach to variable naming and organization that will allow us to do some interesting things later on."
   ]
  },
  {
   "cell_type": "markdown",
   "metadata": {
    "collapsed": false
   },
   "source": [
    "We can use the `kilojoule` library to look up property values for real fluid using the `realfluid.Properties()` class or for ideal gasses using the `idealgas.Properties()`.  For each of these functions you initialize (instantiate) the class by passing it the name of the fluid and an optional preferred unit system to use when returning values (default: SI in $\\mathrm{^\\circ C}$).  For this case, we will treat the air as an ideal gas, so we will use the `idealgas.Properties()` class."
   ]
  },
  {
   "cell_type": "code",
   "execution_count": 4,
   "metadata": {
    "collapsed": false,
    "jupyter": {
    }
   },
   "outputs": [
   ],
   "source": [
    "air = idealgas.Properties('Air')"
   ]
  },
  {
   "cell_type": "markdown",
   "metadata": {
    "collapsed": false
   },
   "source": [
    "### Given Parameters\n",
    "We now define variables to hold our known values."
   ]
  },
  {
   "cell_type": "code",
   "execution_count": 5,
   "metadata": {
    "collapsed": false,
    "jupyter": {
    }
   },
   "outputs": [
    {
     "data": {
      "text/markdown": [
       "\\begin{align}\n",
       "  {T}_{ 1 } &=  70.0\\ \\mathrm{°F}  = 529.67\\ \\mathrm{°R} \n",
       "\\end{align}\n",
       "\n",
       "\\begin{align}\n",
       "  {p}_{ 1 } &=   14.7  \\cdot  \\underset{ ureg }{ psi }  \\\\\n",
       "    &=  14.7  \\cdot   pound_force_per_square_inch  \\\\\n",
       "    &= 14.7\\ \\mathrm{psi}\n",
       "\\end{align}\n",
       "\n",
       "\\begin{align}\n",
       "  {\\dot{V}}_{ 1 } &=   3000.0  \\cdot  \\mathrm{ ureg }\\left( ft^3/min \\right)   = 1.4158\\ \\frac{\\mathrm{m}^{3}}{\\mathrm{s}} \n",
       "\\end{align}\n",
       "\n",
       "\\begin{align}\n",
       "  {p}_{ 2 } &=   10  \\cdot  {p}_{ 1 }  \\\\\n",
       "    &=  10  \\cdot  14.7\\ \\mathrm{psi} \\\\\n",
       "    &= 147.0\\ \\mathrm{psi}\n",
       "\\end{align}\n",
       "\n",
       "\\begin{align}\n",
       "  \\eta_{c} &=  0.8 \n",
       "\\end{align}\n",
       "\n",
       "\n",
       "\\begin{align}{ \\eta_{c} }&={ 0.8 }&{  }\\end{align}\n",
       "<table border=\"1\" class=\"dataframe\">\n",
       "  <thead>\n",
       "    <tr style=\"text-align: right;\">\n",
       "      <th></th>\n",
       "      <th>$T$ [°R]</th>\n",
       "      <th>$p$ [psi]</th>\n",
       "      <th>$\\dot{V}$ [m³/s]</th>\n",
       "    </tr>\n",
       "  </thead>\n",
       "  <tbody>\n",
       "    <tr>\n",
       "      <th>1</th>\n",
       "      <td>529.67</td>\n",
       "      <td>14.7</td>\n",
       "      <td>1.415842</td>\n",
       "    </tr>\n",
       "    <tr>\n",
       "      <th>2</th>\n",
       "      <td>-</td>\n",
       "      <td>147.0</td>\n",
       "      <td>-</td>\n",
       "    </tr>\n",
       "  </tbody>\n",
       "</table>\n"
      ],
      "text/plain": [
       "<IPython.core.display.Markdown object>"
      ]
     },
     "execution_count": 5,
     "metadata": {
     },
     "output_type": "execute_result"
    }
   ],
   "source": [
    "%%showcalc\n",
    "# the next three lines show different ways to create a dimensional quantity, but the Quantity(magnitude,\"units\") syntax is the preferred method.\n",
    "T[1] = Quantity(70.,'degF')        # inlet temperature\n",
    "p[1] = 14.7*ureg.psi               # inlet pressure\n",
    "Vdot[1] = 3000.0*ureg('ft^3/min')  # volumetric flow rate at inlet\n",
    "p[2] = 10*p[1]                     # exit pressure\n",
    "eta_c = Quantity(0.8,'')           # isentropic efficiency\n",
    "\n",
    "Summary();"
   ]
  },
  {
   "cell_type": "markdown",
   "metadata": {
    "collapsed": false
   },
   "source": [
    "\n",
    "### Assumptions\n",
    "  - Negligible changes in kinetic energy \n",
    "  - Negligible changes in potential energy \n",
    "  - Adiabatic (no heat transfer)\n",
    "  - Constant specific heat (cold-air-standard)\n",
    "  - Ideal gas (cold-air-standard)\n",
    "\n",
    "We could pull properties for air from the tables in the back of the book since we are assuming constant specific heat and ideal gas behavior, or we can look them up using the `air` reference we created earlier\n"
   ]
  },
  {
   "cell_type": "code",
   "execution_count": 6,
   "metadata": {
    "collapsed": false,
    "jupyter": {
    }
   },
   "outputs": [
    {
     "data": {
      "text/markdown": [
       "Ideal Gas\n",
       "\\begin{align}\n",
       "  R &=  \\underset{ air }{ R }  = 0.28705\\ \\frac{\\mathrm{kJ}}{\\left(\\mathrm{K} \\cdot \\mathrm{kg}\\right)} \n",
       "\\end{align}\n",
       "\n",
       "Constant thermal properties at room temperature\n",
       "\\begin{align}\n",
       "  T_{room} &=  25\\ \\mathrm{°C} \n",
       "\\end{align}\n",
       "\n",
       "\\begin{align}\n",
       "  c_{p} &=  \\mathrm{ \\underset{ air }{ cp } }\\left( T_{room} \\right)  = \\mathrm{ \\underset{ air }{ cp } }\\left( 25\\ \\mathrm{°C} \\right) = 1.0047\\ \\frac{\\mathrm{kJ}}{\\left(\\mathrm{K} \\cdot \\mathrm{kg}\\right)}\n",
       "\\end{align}\n",
       "\n",
       "\\begin{align}\n",
       "  k &=  \\mathrm{ \\underset{ air }{ k } }\\left( T_{room} \\right)  = \\mathrm{ \\underset{ air }{ k } }\\left( 25\\ \\mathrm{°C} \\right) = 1.4\n",
       "\\end{align}\n",
       "\n"
      ],
      "text/plain": [
       "<IPython.core.display.Markdown object>"
      ]
     },
     "execution_count": 6,
     "metadata": {
     },
     "output_type": "execute_result"
    }
   ],
   "source": [
    "%%showcalc \n",
    "\"Ideal Gas\"\n",
    "R = air.R   # specific gas constant\n",
    "\n",
    "\"Constant thermal properties at room temperature\"\n",
    "T_room = Quantity(25,'degC') # room temperature\n",
    "c_p = air.cp(T_room)         # constant pressure specific heat at room temperature\n",
    "k = air.k(T_room)            # specific heat ratio at room temperature"
   ]
  },
  {
   "cell_type": "markdown",
   "metadata": {
    "collapsed": false
   },
   "source": [
    "### Isentropic Efficiency\n",
    "The isentropic efficiency of a compressor is defined as the ratio of the work that would be required if the compressor were ideal (isentropic) and operating between the same inlet state and exit pressure as the real device to the actual work.\n",
    "$$\\eta_c=\\frac{\\dot{W}_s}{\\dot{W}_c}$$\n",
    "where $\\dot{W}_s$ is the rate of isentropic work and $\\dot{W}_c$ is the rate of actual compressor work.  From a first law analysis, we can rewrite the work terms as changes in enthalpy between the inlet and exit states.\n",
    "$$\\require{cancel}\n",
    "\\eta_c = \\frac{\\cancel{\\dot{m}}(h_{2s}-h_1)}{\\cancel{\\dot{m}}(h_2-h_1)}$$\n",
    "Applying the constant specific heat assumption allows us to rewrite the changes in enthalpy as $\\Delta h=c_p\\Delta T$\n",
    "$$\\require{cancel}\n",
    "\\eta_c = \\frac{\\cancel{c_p}(T_{2s}-T_1)}{\\cancel{c_p}(T_2-T_1)}$$\n",
    "Our first goal is to find the exit temperature, so we solve for $T_2$\n",
    "$$T_2 = T_1 + \\frac{T_{2s}-T_1}{\\eta_c}$$\n",
    "However, in order to use this equation, we first need to find the temperature of the isentropic exit state, $T_{2s}$.  We can find this using ideal gas polytropic relations with $n=k$\n",
    "$$T_{2s}=T_1\\left(\\frac{p_2}{p_1}\\right)^{\\frac{k-1}{k}}$$\n",
    "Note that in order to apply the polytropic relation above, we must convert the temperatures to absolute units, i.e. $^\\circ\\text{R}$"
   ]
  },
  {
   "cell_type": "code",
   "execution_count": 7,
   "metadata": {
    "collapsed": false,
    "jupyter": {
    }
   },
   "outputs": [
    {
     "data": {
      "text/markdown": [
       "\\begin{align}\n",
       "  {T}_{ {2s} } &=   {T}_{ 1 }  \\cdot  {\\left(\\frac{ {p}_{ 2 } }{ {p}_{ 1 } }\\right)}^{\\frac{  k - 1  }{ k }}  \\\\\n",
       "    &=  529.67\\ \\mathrm{°R}  \\cdot  {\\left(\\frac{ 147.0\\ \\mathrm{psi} }{ 14.7\\ \\mathrm{psi} }\\right)}^{\\frac{  1.4 - 1  }{ 1.4 }} \\\\\n",
       "    &= 1022.6\\ \\mathrm{°R}\n",
       "\\end{align}\n",
       "\n",
       "\\begin{align}\n",
       "  {T}_{ 2 } &=  {T}_{ 1 } + \\frac{  {T}_{ {2s} } - {T}_{ 1 }  }{ \\eta_{c} } \\\\\n",
       "    &= 529.67\\ \\mathrm{°R} + \\frac{  1022.6\\ \\mathrm{°R} - 529.67\\ \\mathrm{°R}  }{ 0.8 }\\\\\n",
       "    &= 1145.8\\ \\mathrm{°R}\n",
       "\\end{align}\n",
       "\n"
      ],
      "text/plain": [
       "<IPython.core.display.Markdown object>"
      ]
     },
     "execution_count": 7,
     "metadata": {
     },
     "output_type": "execute_result"
    }
   ],
   "source": [
    "%%showcalc\n",
    "T['2s'] = T[1]*(p[2]/p[1])**((k-1)/k)\n",
    "T[2] = T[1] + (T['2s']-T[1])/eta_c"
   ]
  },
  {
   "cell_type": "markdown",
   "metadata": {
    "collapsed": false
   },
   "source": [
    "Now that we know the actual exit temperature, we can find the actual rate of work using the 1st Law.\n",
    "$$\\dot{W}_c = \\dot{m}c_p(T_2-T_1)$$\n",
    "However, we will also need to use the ideal gas law to find the mass flow rate before applying this equation.\n",
    "$$\\dot{m}_1 = \\frac{p_1\\dot{V}_1}{RT_1}$$"
   ]
  },
  {
   "cell_type": "code",
   "execution_count": 8,
   "metadata": {
    "collapsed": false,
    "jupyter": {
    }
   },
   "outputs": [
    {
     "data": {
      "text/markdown": [
       "\\begin{align}\n",
       "  \\dot{m} &=  \\frac{  {p}_{ 1 }  \\cdot  {\\dot{V}}_{ 1 }  }{  R  \\cdot  {T}_{ 1 }  } \\\\\n",
       "    &= \\frac{  14.7\\ \\mathrm{psi}  \\cdot  1.4158\\ \\frac{\\mathrm{m}^{3}}{\\mathrm{s}}  }{  0.28705\\ \\frac{\\mathrm{kJ}}{\\left(\\mathrm{K} \\cdot \\mathrm{kg}\\right)}  \\cdot  529.67\\ \\mathrm{°R}  }\\\\\n",
       "    &= 224.72\\ \\frac{\\mathrm{lb}}{\\mathrm{min}}\n",
       "\\end{align}\n",
       "\n",
       "\\begin{align}\n",
       "  \\dot{W}_{c} &=    \\dot{m}  \\cdot  c_{p}   \\cdot  \\left(  {T}_{ 2 } - {T}_{ 1 }  \\right)  \\\\\n",
       "    &=   224.72\\ \\frac{\\mathrm{lb}}{\\mathrm{min}}  \\cdot  1.0047\\ \\frac{\\mathrm{kJ}}{\\left(\\mathrm{K} \\cdot \\mathrm{kg}\\right)}   \\cdot  \\left(  1145.8\\ \\mathrm{°R} - 529.67\\ \\mathrm{°R}  \\right) \\\\\n",
       "    &= 783.55\\ \\mathrm{hp}\n",
       "\\end{align}\n",
       "\n"
      ],
      "text/plain": [
       "<IPython.core.display.Markdown object>"
      ]
     },
     "execution_count": 8,
     "metadata": {
     },
     "output_type": "execute_result"
    }
   ],
   "source": [
    "%%showcalc\n",
    "mdot = ((p[1]*Vdot[1])/(R*T[1].to('degR'))).to('lb/min')\n",
    "\n",
    "Wdot_c = (mdot*c_p*(T[2]-T[1])).to('hp')\n"
   ]
  },
  {
   "cell_type": "markdown",
   "metadata": {
    "collapsed": false
   },
   "source": [
    "### Second Law Analysis\n",
    "To determine the entropy generation, we need to do a 2nd Law analysis\n",
    "\n",
    "$$\\require{cancel}\n",
    "\\cancelto{0}{\\frac{dS_{CV}}{dt}}= \\sum_j\\frac{\\cancelto{0}{\\dot{Q}_j}}{T_j}+\\sum_i\\dot{m}_is_i-\\sum_e\\dot{m}_es_e+\\dot{S}_{gen}$$\n",
    "$$\\dot{S}_{gen} = \\dot{m}(s_e-s_i)$$\n",
    "which can be rewritten using the constant specific heat assumption as\n",
    "$$\\dot{S}_{gen} = \\dot{m}\\left[ c_p\\ln\\left(\\frac{T_2}{T_1}\\right)-R\\ln\\left(\\frac{p_2}{p_1}\\right)\\right]$$\n",
    "where the temperatures and pressures must be in absolute units for this equation to be valid.\n"
   ]
  },
  {
   "cell_type": "code",
   "execution_count": 9,
   "metadata": {
    "collapsed": false,
    "jupyter": {
    }
   },
   "outputs": [
    {
     "data": {
      "text/markdown": [
       "\\begin{align}\n",
       "  \\dot{S}_{gen} &=   \\dot{m}  \\cdot  \\left(   c_{p}  \\cdot  \\mathrm{ ln }\\left( \\frac{ {T}_{ 2 } }{ {T}_{ 1 } } \\right)  -  R  \\cdot  \\mathrm{ ln }\\left( \\frac{ {p}_{ 2 } }{ {p}_{ 1 } } \\right)   \\right)  \\\\\n",
       "    &=  224.72\\ \\frac{\\mathrm{lb}}{\\mathrm{min}}  \\cdot  \\left(   1.0047\\ \\frac{\\mathrm{kJ}}{\\left(\\mathrm{K} \\cdot \\mathrm{kg}\\right)}  \\cdot  \\mathrm{ ln }\\left( \\frac{ 1145.8\\ \\mathrm{°R} }{ 529.67\\ \\mathrm{°R} } \\right)  -  0.28705\\ \\frac{\\mathrm{kJ}}{\\left(\\mathrm{K} \\cdot \\mathrm{kg}\\right)}  \\cdot  \\mathrm{ ln }\\left( \\frac{ 147.0\\ \\mathrm{psi} }{ 14.7\\ \\mathrm{psi} } \\right)   \\right) \\\\\n",
       "    &= 25.69\\ \\frac{\\mathrm{kJ} \\cdot \\mathrm{lb}}{\\left(\\mathrm{K} \\cdot \\mathrm{kg} \\cdot \\mathrm{min}\\right)}\n",
       "\\end{align}\n",
       "\n"
      ],
      "text/plain": [
       "<IPython.core.display.Markdown object>"
      ]
     },
     "execution_count": 9,
     "metadata": {
     },
     "output_type": "execute_result"
    }
   ],
   "source": [
    "%%showcalc\n",
    "Sdot_gen = mdot*( c_p*ln(T[2]/T[1]) - R*ln(p[2]/p[1])) "
   ]
  },
  {
   "cell_type": "code",
   "execution_count": 10,
   "metadata": {
    "collapsed": false
   },
   "outputs": [
    {
     "name": "stdout",
     "output_type": "stream",
     "text": [
      "[NbConvertApp] Converting notebook Ex0.2 Compressor Isentropic Efficiency.ipynb to html_embed\r\n"
     ]
    },
    {
     "name": "stdout",
     "output_type": "stream",
     "text": [
      "[NbConvertApp] Writing 595031 bytes to Ex0.2 Compressor Isentropic Efficiency.html\r\n"
     ]
    }
   ],
   "source": [
    "# Export your solution to submit to Canvas\n",
    "# 1) Ensure all cells above show your final solution\n",
    "# 2) Click the 'Save' button in the toolbar\n",
    "# 3) Uncomment (remove the #) from the last line in this cell\n",
    "# 4) Ensure the filename in the command below matches the filename of this notebook\n",
    "# 4) Execute this cell to create an HTML file showing only the output \n",
    "# 5) Submit the .html file located in the folder with this notebook\n",
    "\n",
    "!jupyter nbconvert --to html_embed --no-prompt 'Ex0.2 Compressor Isentropic Efficiency.ipynb'"
   ]
  }
 ],
 "metadata": {
  "kernelspec": {
   "argv": [
    "/usr/bin/python3",
    "-m",
    "ipykernel",
    "--HistoryManager.enabled=False",
    "--matplotlib=inline",
    "-c",
    "%config InlineBackend.figure_formats = set(['retina'])\nimport matplotlib; matplotlib.rcParams['figure.figsize'] = (12, 7)",
    "-f",
    "{connection_file}"
   ],
   "display_name": "Python 3 (system-wide)",
   "env": {
   },
   "language": "python",
   "metadata": {
    "cocalc": {
     "description": "Python 3 programming language",
     "priority": 100,
     "url": "https://www.python.org/"
    }
   },
   "name": "python3",
   "resource_dir": "/ext/jupyter/kernels/python3"
  },
  "language_info": {
   "codemirror_mode": {
    "name": "ipython",
    "version": 3
   },
   "file_extension": ".py",
   "mimetype": "text/x-python",
   "name": "python",
   "nbconvert_exporter": "python",
   "pygments_lexer": "ipython3",
   "version": "3.10.6"
  }
 },
 "nbformat": 4,
 "nbformat_minor": 4
}